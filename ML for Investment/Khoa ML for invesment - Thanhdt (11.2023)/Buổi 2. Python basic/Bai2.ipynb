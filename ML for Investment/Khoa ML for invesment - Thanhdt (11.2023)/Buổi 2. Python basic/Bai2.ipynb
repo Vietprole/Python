{
 "cells": [
  {
   "cell_type": "markdown",
   "metadata": {},
   "source": [
    "# Bai hoc thu 2"
   ]
  },
  {
   "cell_type": "code",
   "execution_count": 15,
   "metadata": {},
   "outputs": [
    {
     "name": "stdout",
     "output_type": "stream",
     "text": [
      "Hello World\n"
     ]
    }
   ],
   "source": [
    "print(\"Hello World\")"
   ]
  },
  {
   "cell_type": "markdown",
   "metadata": {},
   "source": [
    "# Lam cai gi do"
   ]
  },
  {
   "cell_type": "code",
   "execution_count": 16,
   "metadata": {},
   "outputs": [
    {
     "name": "stdout",
     "output_type": "stream",
     "text": [
      "Chao ban\n"
     ]
    }
   ],
   "source": [
    "print(\"Chao ban\")"
   ]
  },
  {
   "cell_type": "markdown",
   "metadata": {},
   "source": [
    "# Kieu du lieu"
   ]
  },
  {
   "cell_type": "code",
   "execution_count": 17,
   "metadata": {},
   "outputs": [
    {
     "name": "stdout",
     "output_type": "stream",
     "text": [
      "<class 'bool'>\n"
     ]
    }
   ],
   "source": [
    "x = True\n",
    "\n",
    "# Ghi chu: Xoa x\n",
    "\"\"\" Ghi chu 1\n",
    "Ghi chu 2\n",
    "Ghi chu 3 \"\"\"\n",
    "\n",
    "# Ghi chu 4 (Bam ctrl /)\n",
    "# Ghi chu 5\n",
    "\n",
    "# del x\n",
    "# print(x)\n",
    "\n",
    "print(type(x))"
   ]
  },
  {
   "cell_type": "code",
   "execution_count": 18,
   "metadata": {},
   "outputs": [
    {
     "name": "stdout",
     "output_type": "stream",
     "text": [
      "True\n"
     ]
    }
   ],
   "source": [
    "print(5<=5 or 5<5)"
   ]
  },
  {
   "cell_type": "markdown",
   "metadata": {},
   "source": [
    "# Chu thich: Code ben duoi la code de giai phuong trinh bac 2:\n",
    "- Yeu cau nhap...\n",
    "...."
   ]
  },
  {
   "cell_type": "code",
   "execution_count": 19,
   "metadata": {},
   "outputs": [],
   "source": [
    "# Giai phuong trinh bac 2"
   ]
  },
  {
   "cell_type": "markdown",
   "metadata": {},
   "source": [
    "# Demo so nguyen"
   ]
  },
  {
   "cell_type": "code",
   "execution_count": 20,
   "metadata": {},
   "outputs": [
    {
     "name": "stdout",
     "output_type": "stream",
     "text": [
      "<class 'int'>\n"
     ]
    }
   ],
   "source": [
    "i = 0\n",
    "print(type(i))"
   ]
  },
  {
   "cell_type": "code",
   "execution_count": 21,
   "metadata": {},
   "outputs": [
    {
     "name": "stdout",
     "output_type": "stream",
     "text": [
      "<class 'float'>\n"
     ]
    }
   ],
   "source": [
    "f = 0.0\n",
    "print(type(f))"
   ]
  },
  {
   "cell_type": "markdown",
   "metadata": {},
   "source": [
    "# Demo kieu chuoi"
   ]
  },
  {
   "cell_type": "code",
   "execution_count": 22,
   "metadata": {},
   "outputs": [
    {
     "name": "stdout",
     "output_type": "stream",
     "text": [
      "<class 'str'>\n"
     ]
    }
   ],
   "source": [
    "s = \"Obama\"\n",
    "print(type(s))"
   ]
  },
  {
   "cell_type": "code",
   "execution_count": 23,
   "metadata": {},
   "outputs": [
    {
     "name": "stdout",
     "output_type": "stream",
     "text": [
      "<class 'str'>\n"
     ]
    }
   ],
   "source": [
    "s1 = 'Obama'\n",
    "print(type(s1))"
   ]
  },
  {
   "cell_type": "markdown",
   "metadata": {},
   "source": [
    "# Demo xoa bien"
   ]
  },
  {
   "cell_type": "code",
   "execution_count": 24,
   "metadata": {},
   "outputs": [
    {
     "name": "stdout",
     "output_type": "stream",
     "text": [
      "<class 'str'>\n"
     ]
    }
   ],
   "source": [
    "s2 = 'Obama'\n",
    "print(type(s2))\n",
    "del s2\n",
    "# print(type(s2))"
   ]
  },
  {
   "cell_type": "markdown",
   "metadata": {},
   "source": [
    "# Demo ghi chu"
   ]
  },
  {
   "cell_type": "code",
   "execution_count": 25,
   "metadata": {},
   "outputs": [
    {
     "name": "stdout",
     "output_type": "stream",
     "text": [
      "<class 'str'>\n"
     ]
    }
   ],
   "source": [
    "# Khai bao bien s3 la kieu string voi gia tri la Obama\n",
    "s3 = \"Obama\"\n",
    "print(type(s3))"
   ]
  },
  {
   "cell_type": "markdown",
   "metadata": {},
   "source": [
    "# Demo ghi chu nhieu dong"
   ]
  },
  {
   "cell_type": "code",
   "execution_count": 26,
   "metadata": {},
   "outputs": [
    {
     "name": "stdout",
     "output_type": "stream",
     "text": [
      "<class 'str'>\n"
     ]
    }
   ],
   "source": [
    "'''\n",
    "Ghi chu nhieu dong\n",
    "Ghi chu dong 1\n",
    "Ghi chu dong 2\n",
    "'''\n",
    "s4 = \"Obama\"\n",
    "print(type(s4))"
   ]
  },
  {
   "cell_type": "markdown",
   "metadata": {},
   "source": [
    "# Demo phep chia (toan tu chia)"
   ]
  },
  {
   "cell_type": "code",
   "execution_count": 27,
   "metadata": {},
   "outputs": [
    {
     "name": "stdout",
     "output_type": "stream",
     "text": [
      "4\n",
      "1\n"
     ]
    }
   ],
   "source": [
    "phannguyen = 9//2\n",
    "phandu = 9%2\n",
    "print(phannguyen)\n",
    "print(phandu)"
   ]
  },
  {
   "cell_type": "markdown",
   "metadata": {},
   "source": [
    "# Demo luy thua"
   ]
  },
  {
   "cell_type": "code",
   "execution_count": 28,
   "metadata": {},
   "outputs": [
    {
     "name": "stdout",
     "output_type": "stream",
     "text": [
      "81\n"
     ]
    }
   ],
   "source": [
    "luythua = 3 ** 4\n",
    "print(luythua)"
   ]
  },
  {
   "cell_type": "markdown",
   "metadata": {},
   "source": [
    "# Demo toan tu so sanh"
   ]
  },
  {
   "cell_type": "code",
   "execution_count": 29,
   "metadata": {},
   "outputs": [
    {
     "name": "stdout",
     "output_type": "stream",
     "text": [
      "False\n"
     ]
    }
   ],
   "source": [
    "print(5!=5)"
   ]
  },
  {
   "cell_type": "markdown",
   "metadata": {},
   "source": [
    "# Demo nhap tu ban phim"
   ]
  },
  {
   "cell_type": "code",
   "execution_count": 30,
   "metadata": {},
   "outputs": [
    {
     "name": "stdout",
     "output_type": "stream",
     "text": [
      "Moi ban nhap vao cai gi do: \n",
      "Gia tri ban nhap la:  fd\n",
      "Kieu du lieu la:  <class 'str'>\n"
     ]
    }
   ],
   "source": [
    "print(\"Moi ban nhap vao cai gi do: \")\n",
    "s = input()\n",
    "print(\"Gia tri ban nhap la: \", s)\n",
    "print(\"Kieu du lieu la: \", type(s))"
   ]
  },
  {
   "cell_type": "code",
   "execution_count": 31,
   "metadata": {},
   "outputs": [
    {
     "name": "stdout",
     "output_type": "stream",
     "text": [
      "Moi ban nhap vao cai gi do: \n",
      "Gia tri ban nhap la:  12\n",
      "Kieu du lieu la:  <class 'int'>\n"
     ]
    }
   ],
   "source": [
    "print(\"Moi ban nhap vao cai gi do: \")\n",
    "s = int(input())\n",
    "print(\"Gia tri ban nhap la: \", s)\n",
    "print(\"Kieu du lieu la: \", type(s))"
   ]
  },
  {
   "cell_type": "markdown",
   "metadata": {},
   "source": [
    "# Demo output"
   ]
  },
  {
   "cell_type": "code",
   "execution_count": 32,
   "metadata": {},
   "outputs": [
    {
     "name": "stdout",
     "output_type": "stream",
     "text": [
      "******************************************************************************************************************************************************\n"
     ]
    }
   ],
   "source": [
    "print(\"*\"*150)"
   ]
  },
  {
   "cell_type": "markdown",
   "metadata": {},
   "source": [
    "# Demo code output format"
   ]
  },
  {
   "cell_type": "code",
   "execution_count": 33,
   "metadata": {},
   "outputs": [
    {
     "name": "stdout",
     "output_type": "stream",
     "text": [
      "a x by cd\n"
     ]
    }
   ],
   "source": [
    "print('a {0} b{1} cd'.format('x', 'y'))"
   ]
  },
  {
   "cell_type": "code",
   "execution_count": 34,
   "metadata": {},
   "outputs": [
    {
     "name": "stdout",
     "output_type": "stream",
     "text": [
      "Doi tuong dau tien: 7, doi tuong 1: 10000000, doi tuong thu 3 10000000000\n"
     ]
    }
   ],
   "source": [
    "print('Doi tuong dau tien: {0}, doi tuong 1: {1}, doi tuong thu 3 {2}'.format(7, 10**7, 10**10))"
   ]
  },
  {
   "cell_type": "code",
   "execution_count": 35,
   "metadata": {},
   "outputs": [
    {
     "ename": "SyntaxError",
     "evalue": "cannot assign to expression here. Maybe you meant '==' instead of '='? (4286613626.py, line 1)",
     "output_type": "error",
     "traceback": [
      "\u001b[1;36m  Cell \u001b[1;32mIn[35], line 1\u001b[1;36m\u001b[0m\n\u001b[1;33m    x + 2 = 1\u001b[0m\n\u001b[1;37m    ^\u001b[0m\n\u001b[1;31mSyntaxError\u001b[0m\u001b[1;31m:\u001b[0m cannot assign to expression here. Maybe you meant '==' instead of '='?\n"
     ]
    }
   ],
   "source": [
    "x + 2 = 1"
   ]
  },
  {
   "cell_type": "markdown",
   "metadata": {},
   "source": [
    "# Demo try except"
   ]
  },
  {
   "cell_type": "code",
   "execution_count": null,
   "metadata": {},
   "outputs": [
    {
     "ename": "ZeroDivisionError",
     "evalue": "division by zero",
     "output_type": "error",
     "traceback": [
      "\u001b[1;31m---------------------------------------------------------------------------\u001b[0m",
      "\u001b[1;31mZeroDivisionError\u001b[0m                         Traceback (most recent call last)",
      "Cell \u001b[1;32mIn[35], line 3\u001b[0m\n\u001b[0;32m      1\u001b[0m x \u001b[38;5;241m=\u001b[39m \u001b[38;5;241m5\u001b[39m\n\u001b[0;32m      2\u001b[0m y \u001b[38;5;241m=\u001b[39m \u001b[38;5;241m0\u001b[39m\n\u001b[1;32m----> 3\u001b[0m z \u001b[38;5;241m=\u001b[39m \u001b[43mx\u001b[49m\u001b[43m \u001b[49m\u001b[38;5;241;43m/\u001b[39;49m\u001b[43my\u001b[49m\n\u001b[0;32m      5\u001b[0m \u001b[38;5;28mprint\u001b[39m(\u001b[38;5;124m'\u001b[39m\u001b[38;5;124mChao\u001b[39m\u001b[38;5;124m'\u001b[39m)\n",
      "\u001b[1;31mZeroDivisionError\u001b[0m: division by zero"
     ]
    }
   ],
   "source": [
    "x = 5\n",
    "y = 0\n",
    "z = x /y\n",
    "\n",
    "print('Chao')"
   ]
  },
  {
   "cell_type": "code",
   "execution_count": 36,
   "metadata": {},
   "outputs": [
    {
     "name": "stdout",
     "output_type": "stream",
     "text": [
      "Loi chia so 0\n",
      "Chao\n"
     ]
    }
   ],
   "source": [
    "try: # Cac lenh thuc thi\n",
    "    x = 5\n",
    "    y = 0\n",
    "    z = x /y\n",
    "    print(z)\n",
    "except:\n",
    "    print(\"Loi chia so 0\")\n",
    "\n",
    "print('Chao')"
   ]
  },
  {
   "cell_type": "code",
   "execution_count": null,
   "metadata": {},
   "outputs": [
    {
     "name": "stdout",
     "output_type": "stream",
     "text": [
      "division by zero\n"
     ]
    }
   ],
   "source": [
    "try:\n",
    "    x = 5\n",
    "    y = 0\n",
    "    z = x /y\n",
    "    print(z)\n",
    "except Exception as e:\n",
    "    print(e)"
   ]
  },
  {
   "cell_type": "code",
   "execution_count": null,
   "metadata": {},
   "outputs": [
    {
     "ename": "ZeroDivisionError",
     "evalue": "division by zero",
     "output_type": "error",
     "traceback": [
      "\u001b[1;31m---------------------------------------------------------------------------\u001b[0m",
      "\u001b[1;31mZeroDivisionError\u001b[0m                         Traceback (most recent call last)",
      "\u001b[1;32mg:\\My Drive\\0. Day ben ngoai (___)\\Day R2S\\Bai giang\\Bai2.ipynb Cell 33\u001b[0m line \u001b[0;36m3\n\u001b[0;32m      <a href='vscode-notebook-cell:/g%3A/My%20Drive/0.%20Day%20ben%20ngoai%20%28___%29/Day%20R2S/Bai%20giang/Bai2.ipynb#X44sZmlsZQ%3D%3D?line=0'>1</a>\u001b[0m x \u001b[39m=\u001b[39m \u001b[39m5\u001b[39m\n\u001b[0;32m      <a href='vscode-notebook-cell:/g%3A/My%20Drive/0.%20Day%20ben%20ngoai%20%28___%29/Day%20R2S/Bai%20giang/Bai2.ipynb#X44sZmlsZQ%3D%3D?line=1'>2</a>\u001b[0m y \u001b[39m=\u001b[39m \u001b[39m0\u001b[39m\n\u001b[1;32m----> <a href='vscode-notebook-cell:/g%3A/My%20Drive/0.%20Day%20ben%20ngoai%20%28___%29/Day%20R2S/Bai%20giang/Bai2.ipynb#X44sZmlsZQ%3D%3D?line=2'>3</a>\u001b[0m z \u001b[39m=\u001b[39m x \u001b[39m/\u001b[39;49my\n\u001b[0;32m      <a href='vscode-notebook-cell:/g%3A/My%20Drive/0.%20Day%20ben%20ngoai%20%28___%29/Day%20R2S/Bai%20giang/Bai2.ipynb#X44sZmlsZQ%3D%3D?line=3'>4</a>\u001b[0m \u001b[39mprint\u001b[39m(z)\n",
      "\u001b[1;31mZeroDivisionError\u001b[0m: division by zero"
     ]
    }
   ],
   "source": [
    "x = 5\n",
    "y = 0\n",
    "z = x /y\n",
    "print(z)"
   ]
  },
  {
   "cell_type": "code",
   "execution_count": null,
   "metadata": {},
   "outputs": [
    {
     "name": "stdout",
     "output_type": "stream",
     "text": [
      "Đây là 'ví' dụ lồng\n"
     ]
    }
   ],
   "source": [
    "s = \"Đây là 'ví' dụ lồng\"\n",
    "print(s)"
   ]
  },
  {
   "cell_type": "code",
   "execution_count": null,
   "metadata": {},
   "outputs": [
    {
     "name": "stdout",
     "output_type": "stream",
     "text": [
      "Đây là \"ví\" dụ lồng\n"
     ]
    }
   ],
   "source": [
    "s = 'Đây là \"ví\" dụ lồng'\n",
    "print(s)"
   ]
  },
  {
   "cell_type": "markdown",
   "metadata": {},
   "source": [
    "# Tinh chu vi va dien tich"
   ]
  },
  {
   "cell_type": "code",
   "execution_count": null,
   "metadata": {},
   "outputs": [
    {
     "name": "stdout",
     "output_type": "stream",
     "text": [
      "3.141592653589793\n",
      "Chu vi của đường tròn là: 6.283185307179586\n",
      "Diện tích của đường tròn là: 3.141592653589793\n"
     ]
    }
   ],
   "source": [
    "import math\n",
    "\n",
    "# Nhập bán kính của đường tròn từ người dùng\n",
    "r = float(input(\"Nhập bán kính của đường tròn: \"))\n",
    "\n",
    "print(math.pi) # 15 so thap phan\n",
    "\n",
    "# Tính chu vi và diện tích\n",
    "chu_vi = 2 * math.pi * r\n",
    "dien_tich = math.pi * r**2\n",
    "\n",
    "# Xuất kết quả\n",
    "print(f\"Chu vi của đường tròn là: {chu_vi}\")\n",
    "print(f\"Diện tích của đường tròn là: {dien_tich}\")\n"
   ]
  },
  {
   "cell_type": "code",
   "execution_count": null,
   "metadata": {},
   "outputs": [],
   "source": [
    "import math\n",
    "def chuvi(r):\n",
    "    return 2 * math.pi * r\n",
    "\n",
    "def dientich(r):\n",
    "    return math.pi * r * r"
   ]
  },
  {
   "cell_type": "code",
   "execution_count": null,
   "metadata": {},
   "outputs": [
    {
     "name": "stdout",
     "output_type": "stream",
     "text": [
      "Chu vi của đường tròn là: 6.283185307179586\n",
      "Diện tích của đường tròn là: 3.141592653589793\n"
     ]
    }
   ],
   "source": [
    "import math\n",
    "\n",
    "def dientichExt(r):\n",
    "    return math.pi * r**2\n",
    "\n",
    "# Nhập bán kính của đường tròn từ người dùng\n",
    "try:\n",
    "    r = float(input(\"Nhập bán kính của đường tròn: \"))\n",
    "    \n",
    "    if r <= 0:\n",
    "        raise ValueError(\"Bán kính phải là một số dương khác không.\")\n",
    "except ValueError as e:\n",
    "    print(f\"Lỗi: {e}\")\n",
    "    exit()\n",
    "\n",
    "# Tính chu vi và diện tích\n",
    "# chu_vi = 2 * math.pi * r\n",
    "chu_vi = chuvi(r)\n",
    "# dien_tich = math.pi * r**2\n",
    "dien_tich = dientichExt(r)\n",
    "\n",
    "# Xuất kết quả\n",
    "print(f\"Chu vi của đường tròn là: {chu_vi}\")\n",
    "print(f\"Diện tích của đường tròn là: {dien_tich}\")"
   ]
  },
  {
   "cell_type": "markdown",
   "metadata": {},
   "source": [
    "# Numpy"
   ]
  },
  {
   "cell_type": "code",
   "execution_count": null,
   "metadata": {},
   "outputs": [
    {
     "name": "stdout",
     "output_type": "stream",
     "text": [
      "[10  2  3]\n"
     ]
    }
   ],
   "source": [
    "import numpy as np\n",
    "a = np.array([1, 2, 3])\n",
    "\n",
    "a[0] = 10 # Thay doi gia tri o vi tri 0\n",
    "\n",
    "print(a)"
   ]
  }
 ],
 "metadata": {
  "kernelspec": {
   "display_name": "Python 3",
   "language": "python",
   "name": "python3"
  },
  "language_info": {
   "codemirror_mode": {
    "name": "ipython",
    "version": 3
   },
   "file_extension": ".py",
   "mimetype": "text/x-python",
   "name": "python",
   "nbconvert_exporter": "python",
   "pygments_lexer": "ipython3",
   "version": "3.11.1"
  }
 },
 "nbformat": 4,
 "nbformat_minor": 2
}
