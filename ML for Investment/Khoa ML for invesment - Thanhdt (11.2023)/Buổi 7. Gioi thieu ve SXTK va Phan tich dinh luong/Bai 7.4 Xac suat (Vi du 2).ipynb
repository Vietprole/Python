{
 "cells": [
  {
   "cell_type": "markdown",
   "metadata": {},
   "source": [
    "##### Để mô phỏng việc gieo một đồng xu bất cân đối 10,000 lần, bạn cần xác định xác suất cho mỗi mặt của đồng xu. Ví dụ, giả sử xác suất để đồng xu xuất hiện mặt Sấp là 0.6 và Ngửa là 0.4. Bạn có thể sử dụng thư viện random trong Python để mô phỏng điều này."
   ]
  },
  {
   "cell_type": "code",
   "execution_count": 49,
   "metadata": {},
   "outputs": [
    {
     "name": "stdout",
     "output_type": "stream",
     "text": [
      "Số lần Sấp: 5942\n",
      "Số lần Ngửa: 4058\n"
     ]
    }
   ],
   "source": [
    "import random\n",
    "\n",
    "# Định nghĩa số lần gieo đồng xu\n",
    "num_throws = 10000\n",
    "\n",
    "# Xác suất xuất hiện mặt Sấp\n",
    "prob_s = 0.6\n",
    "\n",
    "# Tạo một list để lưu trữ kết quả của mỗi lần gieo\n",
    "outcomes = []\n",
    "\n",
    "# Gieo đồng xu và lưu kết quả vào list\n",
    "for _ in range(num_throws):\n",
    "    # random.random() trả về một số ngẫu nhiên trong khoảng [0.0, 1.0)\n",
    "    if random.random() <= prob_s:\n",
    "        outcomes.append('S')  # Mặt Sấp\n",
    "    else:\n",
    "        outcomes.append('N')  # Mặt Ngửa\n",
    "\n",
    "# Đếm số lần xuất hiện của mỗi kết quả\n",
    "s_count = outcomes.count('S')\n",
    "n_count = outcomes.count('N')\n",
    "\n",
    "# In kết quả\n",
    "print(f\"Số lần Sấp: {s_count}\")\n",
    "print(f\"Số lần Ngửa: {n_count}\")\n"
   ]
  }
 ],
 "metadata": {
  "kernelspec": {
   "display_name": "Python 3",
   "language": "python",
   "name": "python3"
  },
  "language_info": {
   "codemirror_mode": {
    "name": "ipython",
    "version": 3
   },
   "file_extension": ".py",
   "mimetype": "text/x-python",
   "name": "python",
   "nbconvert_exporter": "python",
   "pygments_lexer": "ipython3",
   "version": "3.11.6"
  }
 },
 "nbformat": 4,
 "nbformat_minor": 2
}
