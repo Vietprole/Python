{
 "cells": [
  {
   "cell_type": "markdown",
   "metadata": {},
   "source": [
    "# Xac suat: Kiem tra cac dinh nghia"
   ]
  },
  {
   "cell_type": "code",
   "execution_count": 5,
   "metadata": {},
   "outputs": [
    {
     "name": "stdout",
     "output_type": "stream",
     "text": [
      "P(S) =  0.3333333333333333\n",
      "P(N) =  0.3333333333333333\n",
      "P(TG) =  0.3333333333333333\n",
      "P(Ω) =  1.0\n",
      "Các tiên đề được thỏa mãn: True\n"
     ]
    }
   ],
   "source": [
    "class ProbabilitySpace:\n",
    "    def __init__(self, sample_space):\n",
    "        self.sample_space = sample_space\n",
    "        self.probability = {}\n",
    "        for event in self.sample_space:\n",
    "            self.probability[event] = 1 / len(sample_space) # probability['S'] = 1/2 ; probability['N'] = 1/2 \n",
    "    \n",
    "    def P(self, event):\n",
    "        # Tiên đề 1: Xác suất luôn lớn hơn hoặc bằng 0\n",
    "        # Đây là một ví dụ đơn giản nên chúng ta giả định mỗi sự kiện có cùng xác suất xảy ra\n",
    "        return self.probability.get(event, 0)\n",
    "    \n",
    "    def check_axioms(self): # Kiểm tra tiên đề\n",
    "        # Kiểm tra tiên đề 2: Tổng xác suất của không gian mẫu phải bằng 1\n",
    "        total_probability = sum(self.probability.values())\n",
    "        if not total_probability == 1:\n",
    "            return False\n",
    "        \n",
    "        # Kiểm tra tiên đề 3: Xác suất của sự kiện không gian các sự kiện xung khắc là tổng xác suất của từng sự kiện\n",
    "        # Đây là một phần mở rộng, nơi bạn có thể kiểm tra tiên đề này cho một tập hợp cụ thể của sự kiện xung khắc\n",
    "        # Ví dụ, bạn cần đưa vào một tập hợp các sự kiện và kiểm tra nếu chúng xung khắc\n",
    "        return True\n",
    "\n",
    "# Ví dụ sử dụng\n",
    "sample_space = {'S', 'N', 'TG'}  # Sấp và Ngửa co xac suat bang nhau 50% ; 50%\n",
    "prob_space = ProbabilitySpace(sample_space)\n",
    "\n",
    "# Kiểm tra xác suất của sự kiện S\n",
    "print(\"P(S) = \", prob_space.P('S'))\n",
    "print(\"P(N) = \", prob_space.P('N'))\n",
    "print(\"P(TG) = \", prob_space.P('TG'))\n",
    "\n",
    "# Kiểm tra xác suất của không gian mẫu\n",
    "print(\"P(Ω) = \", prob_space.P('S') + prob_space.P('N') + prob_space.P('TG'))\n",
    "\n",
    "# Kiểm tra các tiên đề xác suất\n",
    "print(\"Các tiên đề được thỏa mãn:\", prob_space.check_axioms())\n"
   ]
  }
 ],
 "metadata": {
  "kernelspec": {
   "display_name": "Python 3",
   "language": "python",
   "name": "python3"
  },
  "language_info": {
   "codemirror_mode": {
    "name": "ipython",
    "version": 3
   },
   "file_extension": ".py",
   "mimetype": "text/x-python",
   "name": "python",
   "nbconvert_exporter": "python",
   "pygments_lexer": "ipython3",
   "version": "3.11.6"
  }
 },
 "nbformat": 4,
 "nbformat_minor": 2
}
