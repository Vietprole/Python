{
 "cells": [
  {
   "cell_type": "markdown",
   "metadata": {},
   "source": [
    "# Xac suat: Kiem tra cac dinh nghia"
   ]
  },
  {
   "cell_type": "code",
   "execution_count": 2,
   "metadata": {},
   "outputs": [
    {
     "name": "stdout",
     "output_type": "stream",
     "text": [
      "Sự kiện A (Sấp): {'S'}\n",
      "Sự kiện B (Ngửa): {'N'}\n",
      "Sự kiện C (Không Sấp): {'N'}\n",
      "Sự kiện D (Không Ngửa): {'S'}\n",
      "Sự kiện E (Sấp hoặc Ngửa): {'N', 'S'}\n",
      "Giao của A và B (chứng minh xung khắc): set()\n",
      "A và B xung khắc: True\n",
      "E đầy đủ: True\n",
      "Không gian các sự kiện A và B vừa xung khắc, vừa đầy đủ: True\n"
     ]
    }
   ],
   "source": [
    "# Định nghĩa không gian mẫu S\n",
    "S = {'S', 'N'}  # Sấp và Ngửa\n",
    "\n",
    "# Định nghĩa các tập hợp cho các sự kiện\n",
    "A = {'S'}  # Sự kiện xuất hiện \"Sấp\"\n",
    "B = {'N'}  # Sự kiện xuất hiện \"Ngửa\"\n",
    "\n",
    "# Tính phần bù của các sự kiện\n",
    "C = S.difference(A)  # Sự kiện không xuất hiện \"Sấp\": N\n",
    "D = S.difference(B)  # Sự kiện không xuất hiện \"Ngửa\": S\n",
    "\n",
    "# Kết hợp các sự kiện (hợp của A và B)\n",
    "E = A.union(B)  # Sự kiện \"Xuất hiện Sấp hoặc Ngửa\"\n",
    "\n",
    "# Giao của các sự kiện (để chứng minh rằng chúng xung khắc)\n",
    "intersection = A.intersection(B)\n",
    "\n",
    "# Kiểm tra tính xung khắc và đầy đủ\n",
    "is_mutually_exclusive = (intersection == set())  # True nếu A và B xung khắc: True\n",
    "is_complete = (E == S)  # True nếu E đầy đủ\n",
    "\n",
    "# In các kết quả\n",
    "print(f\"Sự kiện A (Sấp): {A}\")\n",
    "print(f\"Sự kiện B (Ngửa): {B}\")\n",
    "print(f\"Sự kiện C (Không Sấp): {C}\")\n",
    "print(f\"Sự kiện D (Không Ngửa): {D}\")\n",
    "print(f\"Sự kiện E (Sấp hoặc Ngửa): {E}\")\n",
    "print(f\"Giao của A và B (chứng minh xung khắc): {intersection}\")\n",
    "print(f\"A và B xung khắc: {is_mutually_exclusive}\")\n",
    "print(f\"E đầy đủ: {is_complete}\")\n",
    "\n",
    "# Kiểm tra không gian các sự kiện\n",
    "def check_event_space(events, sample_space):\n",
    "    # Kiểm tra xem các sự kiện có xung khắc và đầy đủ hay không\n",
    "    combined_events = set()\n",
    "    for event in events:\n",
    "        if combined_events.intersection(event):\n",
    "            return False  # Tìm thấy giao không rỗng, không xung khắc\n",
    "        combined_events = combined_events.union(event)\n",
    "    return combined_events == sample_space  # Kiểm tra đầy đủ\n",
    "\n",
    "# Kiểm tra và in không gian sự kiện\n",
    "event_space_valid = check_event_space([A, B], S)\n",
    "print(f\"Không gian các sự kiện A và B vừa xung khắc, vừa đầy đủ: {event_space_valid}\")\n"
   ]
  }
 ],
 "metadata": {
  "kernelspec": {
   "display_name": "Python 3",
   "language": "python",
   "name": "python3"
  },
  "language_info": {
   "codemirror_mode": {
    "name": "ipython",
    "version": 3
   },
   "file_extension": ".py",
   "mimetype": "text/x-python",
   "name": "python",
   "nbconvert_exporter": "python",
   "pygments_lexer": "ipython3",
   "version": "3.11.6"
  }
 },
 "nbformat": 4,
 "nbformat_minor": 2
}
