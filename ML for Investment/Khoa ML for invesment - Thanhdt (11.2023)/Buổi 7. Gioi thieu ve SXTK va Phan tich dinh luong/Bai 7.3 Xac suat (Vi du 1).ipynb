{
 "cells": [
  {
   "cell_type": "markdown",
   "metadata": {},
   "source": [
    "# Vi du 1"
   ]
  },
  {
   "cell_type": "code",
   "execution_count": 60,
   "metadata": {},
   "outputs": [
    {
     "name": "stdout",
     "output_type": "stream",
     "text": [
      "Số lần Sấp: 50006381\n",
      "Số lần Ngửa: 49993619\n"
     ]
    }
   ],
   "source": [
    "import random\n",
    "\n",
    "# Định nghĩa số lần gieo đồng xu\n",
    "num_throws = 100000000\n",
    "\n",
    "# Định nghĩa kết quả có thể có: 'S' cho Sấp, 'N' cho Ngửa\n",
    "possible_outcomes = ['S', 'N']\n",
    "\n",
    "# Sử dụng một dictionary để đếm số lần xuất hiện của mỗi kết quả\n",
    "outcome_counts = {'S': 0, 'N': 0}\n",
    "\n",
    "# Thực hiện việc gieo đồng xu\n",
    "for _ in range(num_throws): # Chay 10000 lan\n",
    "    outcome = random.choice(possible_outcomes) # S hoac N\n",
    "    outcome_counts[outcome] += 1 # Dong chat\n",
    "\n",
    "# In kết quả\n",
    "print(f\"Số lần Sấp: {outcome_counts['S']}\")\n",
    "print(f\"Số lần Ngửa: {outcome_counts['N']}\")"
   ]
  },
  {
   "cell_type": "markdown",
   "metadata": {},
   "source": [
    "# Neu chạy 1 tỷ lần thì sao tối ưu"
   ]
  },
  {
   "cell_type": "code",
   "execution_count": 61,
   "metadata": {},
   "outputs": [
    {
     "name": "stdout",
     "output_type": "stream",
     "text": [
      "Số lần Sấp: 50000818\n",
      "Số lần Ngửa: 49999182\n"
     ]
    }
   ],
   "source": [
    "import numpy as np\n",
    "\n",
    "# Định nghĩa số lần gieo đồng xu\n",
    "num_throws = 100000000  # 1 tỷ lần\n",
    "\n",
    "# Sử dụng numpy để tạo ra 1 tỷ kết quả gieo đồng xu\n",
    "# np.random.choice(['S', 'N'], num_throws) sẽ tạo một mảng với 1 tỷ phần tử\n",
    "# Mỗi phần tử là 'S' hoặc 'N' được chọn ngẫu nhiên\n",
    "outcomes = np.random.choice(['S', 'N'], num_throws) # Xai random cua Numpy\n",
    "\n",
    "# Đếm số lần xuất hiện của mỗi kết quả\n",
    "s_count = np.count_nonzero(outcomes == 'S')\n",
    "n_count = np.count_nonzero(outcomes == 'N')\n",
    "\n",
    "# In kết quả\n",
    "print(f\"Số lần Sấp: {s_count}\")\n",
    "print(f\"Số lần Ngửa: {n_count}\")"
   ]
  },
  {
   "cell_type": "markdown",
   "metadata": {},
   "source": [
    "# Viet lai vi du 1 => Dung list de dem so lan xuat hien"
   ]
  },
  {
   "cell_type": "code",
   "execution_count": 62,
   "metadata": {},
   "outputs": [
    {
     "name": "stdout",
     "output_type": "stream",
     "text": [
      "Số lần Sấp: 50003056\n",
      "Số lần Ngửa: 49996944\n"
     ]
    }
   ],
   "source": [
    "import random\n",
    "\n",
    "# Định nghĩa số lần gieo đồng xu\n",
    "num_throws = 100000000  # 1 tỷ lần\n",
    "\n",
    "# Tạo một list để lưu trữ kết quả của mỗi lần gieo\n",
    "outcomes = []\n",
    "\n",
    "# Gieo đồng xu và lưu kết quả vào list\n",
    "for _ in range(num_throws):\n",
    "    outcomes.append(random.choice(['S', 'N']))\n",
    "\n",
    "# Đếm số lần xuất hiện của mỗi kết quả\n",
    "s_count = outcomes.count('S')\n",
    "n_count = outcomes.count('N')\n",
    "\n",
    "# In kết quả\n",
    "print(f\"Số lần Sấp: {s_count}\")\n",
    "print(f\"Số lần Ngửa: {n_count}\")\n"
   ]
  }
 ],
 "metadata": {
  "kernelspec": {
   "display_name": "Python 3",
   "language": "python",
   "name": "python3"
  },
  "language_info": {
   "codemirror_mode": {
    "name": "ipython",
    "version": 3
   },
   "file_extension": ".py",
   "mimetype": "text/x-python",
   "name": "python",
   "nbconvert_exporter": "python",
   "pygments_lexer": "ipython3",
   "version": "3.11.6"
  }
 },
 "nbformat": 4,
 "nbformat_minor": 2
}
