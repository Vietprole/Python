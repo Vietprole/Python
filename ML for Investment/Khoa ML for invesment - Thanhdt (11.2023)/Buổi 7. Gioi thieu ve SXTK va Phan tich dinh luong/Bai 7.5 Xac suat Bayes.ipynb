{
 "cells": [
  {
   "cell_type": "code",
   "execution_count": 2,
   "metadata": {},
   "outputs": [
    {
     "name": "stdout",
     "output_type": "stream",
     "text": [
      "Xác suất một người khỏe: 0.0893\n"
     ]
    }
   ],
   "source": [
    "# Định nghĩa xác suất mắc bệnh P(A)\n",
    "P_A = 0.001\n",
    "\n",
    "# Định nghĩa xác suất không mắc bệnh P(¬A)\n",
    "P_not_A = 0.999\n",
    "\n",
    "# Định nghĩa xác suất xét nghiệm dương tính khi mắc bệnh P(+|A)\n",
    "P_pos_given_A = 0.98\n",
    "\n",
    "# Định nghĩa xác suất xét nghiệm âm tính khi không mắc bệnh P(¬|¬A)\n",
    "P_neg_given_not_A = 0.99\n",
    "\n",
    "# Tính xác suất xét nghiệm dương tính khi không mắc bệnh P(+|¬A)\n",
    "P_pos_given_not_A = 1 - P_neg_given_not_A\n",
    "\n",
    "# Tính xác suất tổng cộng xét nghiệm dương tính P(+)\n",
    "P_pos = P_pos_given_A * P_A + P_pos_given_not_A * P_not_A\n",
    "\n",
    "# Áp dụng công thức Bayes để tính P(¬A|+): xác suất không mắc bệnh khi xét nghiệm dương tính\n",
    "P_not_A_given_pos = (P_pos_given_A * P_A) / P_pos\n",
    "\n",
    "print(f\"Xác suất một người khỏe: {P_not_A_given_pos:.4f}\")\n"
   ]
  }
 ],
 "metadata": {
  "kernelspec": {
   "display_name": "Python 3",
   "language": "python",
   "name": "python3"
  },
  "language_info": {
   "codemirror_mode": {
    "name": "ipython",
    "version": 3
   },
   "file_extension": ".py",
   "mimetype": "text/x-python",
   "name": "python",
   "nbconvert_exporter": "python",
   "pygments_lexer": "ipython3",
   "version": "3.11.6"
  }
 },
 "nbformat": 4,
 "nbformat_minor": 2
}
