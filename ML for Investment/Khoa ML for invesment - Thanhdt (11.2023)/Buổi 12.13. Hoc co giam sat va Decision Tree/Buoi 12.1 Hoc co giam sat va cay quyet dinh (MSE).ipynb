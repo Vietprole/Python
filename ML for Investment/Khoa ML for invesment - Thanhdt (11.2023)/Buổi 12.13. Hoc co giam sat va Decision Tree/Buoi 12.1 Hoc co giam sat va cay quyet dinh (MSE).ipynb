{
 "cells": [
  {
   "cell_type": "code",
   "execution_count": 1,
   "metadata": {},
   "outputs": [
    {
     "name": "stdout",
     "output_type": "stream",
     "text": [
      "Mean Squared Error: 250000.0\n"
     ]
    }
   ],
   "source": [
    "def mean_squared_error(actual_values, predicted_values):\n",
    "    \"\"\"\n",
    "    Tính Mean Squared Error (MSE) giữa giá trị thực tế và giá trị dự đoán.\n",
    "\n",
    "    Parameters:\n",
    "    - actual_values: List hoặc numpy array, giá trị thực tế.\n",
    "    - predicted_values: List hoặc numpy array, giá trị dự đoán.\n",
    "\n",
    "    Returns:\n",
    "    - mse: Giá trị Mean Squared Error.\n",
    "    \"\"\"\n",
    "    n = len(actual_values)\n",
    "    if n != len(predicted_values):\n",
    "        raise ValueError(\"Kích thước của actual_values và predicted_values phải giống nhau.\")\n",
    "    \n",
    "    squared_errors = [(actual - predicted) ** 2 for actual, predicted in zip(actual_values, predicted_values)]\n",
    "    mse = sum(squared_errors) / n\n",
    "    return mse\n",
    "\n",
    "# Ví dụ sử dụng hàm MSE\n",
    "actual_values = [22000, 23000, 21000, 24000, 20000]\n",
    "predicted_values = [22500, 23500, 20500, 24500, 19500]\n",
    "\n",
    "mse = mean_squared_error(actual_values, predicted_values)\n",
    "print(f\"Mean Squared Error: {mse}\")\n"
   ]
  },
  {
   "cell_type": "code",
   "execution_count": 2,
   "metadata": {},
   "outputs": [
    {
     "name": "stdout",
     "output_type": "stream",
     "text": [
      "Mean Squared Error: 250000.0\n"
     ]
    }
   ],
   "source": [
    "from sklearn.metrics import mean_squared_error\n",
    "\n",
    "# Ví dụ sử dụng hàm MSE\n",
    "actual_values = [22000, 23000, 21000, 24000, 20000]\n",
    "predicted_values = [22500, 23500, 20500, 24500, 19500]\n",
    "\n",
    "mse = mean_squared_error(actual_values, predicted_values)\n",
    "print(f\"Mean Squared Error: {mse}\")\n"
   ]
  }
 ],
 "metadata": {
  "kernelspec": {
   "display_name": "Python 3",
   "language": "python",
   "name": "python3"
  },
  "language_info": {
   "codemirror_mode": {
    "name": "ipython",
    "version": 3
   },
   "file_extension": ".py",
   "mimetype": "text/x-python",
   "name": "python",
   "nbconvert_exporter": "python",
   "pygments_lexer": "ipython3",
   "version": "3.11.6"
  }
 },
 "nbformat": 4,
 "nbformat_minor": 2
}
