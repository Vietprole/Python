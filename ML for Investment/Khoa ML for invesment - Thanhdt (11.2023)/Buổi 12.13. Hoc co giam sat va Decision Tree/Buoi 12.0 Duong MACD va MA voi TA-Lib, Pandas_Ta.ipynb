{
 "cells": [
  {
   "cell_type": "markdown",
   "metadata": {},
   "source": [
    "# Load data"
   ]
  },
  {
   "cell_type": "code",
   "execution_count": 1,
   "metadata": {},
   "outputs": [],
   "source": [
    "import sys\n",
    "sys.path.append('../Common')\n",
    "\n",
    "import CommonYFinance, CommonBinance, CommonMT5, CommonMongoDBConnector, CommonBacktest"
   ]
  },
  {
   "cell_type": "code",
   "execution_count": 2,
   "metadata": {},
   "outputs": [
    {
     "name": "stdout",
     "output_type": "stream",
     "text": [
      "[*********************100%%**********************]  1 of 1 completed\n"
     ]
    }
   ],
   "source": [
    "symbol = 'VCB.VN'\n",
    "from_date = '2023-09-01'\n",
    "to_date = '2024-02-21'\n",
    "interval = '1d'\n",
    "data = CommonYFinance.CommonYFinance.loaddataYFinance(symbol, from_date, to_date, interval)"
   ]
  },
  {
   "cell_type": "code",
   "execution_count": 3,
   "metadata": {},
   "outputs": [
    {
     "data": {
      "text/html": [
       "<div>\n",
       "<style scoped>\n",
       "    .dataframe tbody tr th:only-of-type {\n",
       "        vertical-align: middle;\n",
       "    }\n",
       "\n",
       "    .dataframe tbody tr th {\n",
       "        vertical-align: top;\n",
       "    }\n",
       "\n",
       "    .dataframe thead th {\n",
       "        text-align: right;\n",
       "    }\n",
       "</style>\n",
       "<table border=\"1\" class=\"dataframe\">\n",
       "  <thead>\n",
       "    <tr style=\"text-align: right;\">\n",
       "      <th></th>\n",
       "      <th>Datetime</th>\n",
       "      <th>Open</th>\n",
       "      <th>High</th>\n",
       "      <th>Low</th>\n",
       "      <th>Close</th>\n",
       "      <th>Volume</th>\n",
       "    </tr>\n",
       "  </thead>\n",
       "  <tbody>\n",
       "    <tr>\n",
       "      <th>0</th>\n",
       "      <td>2023-09-05</td>\n",
       "      <td>89100.0</td>\n",
       "      <td>90700.0</td>\n",
       "      <td>89100.0</td>\n",
       "      <td>90100.0</td>\n",
       "      <td>2013202</td>\n",
       "    </tr>\n",
       "    <tr>\n",
       "      <th>1</th>\n",
       "      <td>2023-09-06</td>\n",
       "      <td>90200.0</td>\n",
       "      <td>90200.0</td>\n",
       "      <td>89700.0</td>\n",
       "      <td>90200.0</td>\n",
       "      <td>2057603</td>\n",
       "    </tr>\n",
       "    <tr>\n",
       "      <th>2</th>\n",
       "      <td>2023-09-07</td>\n",
       "      <td>90000.0</td>\n",
       "      <td>90800.0</td>\n",
       "      <td>89500.0</td>\n",
       "      <td>89500.0</td>\n",
       "      <td>1958302</td>\n",
       "    </tr>\n",
       "    <tr>\n",
       "      <th>3</th>\n",
       "      <td>2023-09-08</td>\n",
       "      <td>89500.0</td>\n",
       "      <td>89500.0</td>\n",
       "      <td>89100.0</td>\n",
       "      <td>89500.0</td>\n",
       "      <td>1381905</td>\n",
       "    </tr>\n",
       "    <tr>\n",
       "      <th>4</th>\n",
       "      <td>2023-09-11</td>\n",
       "      <td>89600.0</td>\n",
       "      <td>90000.0</td>\n",
       "      <td>88000.0</td>\n",
       "      <td>88500.0</td>\n",
       "      <td>2592500</td>\n",
       "    </tr>\n",
       "    <tr>\n",
       "      <th>...</th>\n",
       "      <td>...</td>\n",
       "      <td>...</td>\n",
       "      <td>...</td>\n",
       "      <td>...</td>\n",
       "      <td>...</td>\n",
       "      <td>...</td>\n",
       "    </tr>\n",
       "    <tr>\n",
       "      <th>108</th>\n",
       "      <td>2024-02-07</td>\n",
       "      <td>90000.0</td>\n",
       "      <td>90800.0</td>\n",
       "      <td>89300.0</td>\n",
       "      <td>90000.0</td>\n",
       "      <td>1441400</td>\n",
       "    </tr>\n",
       "    <tr>\n",
       "      <th>109</th>\n",
       "      <td>2024-02-15</td>\n",
       "      <td>90000.0</td>\n",
       "      <td>90700.0</td>\n",
       "      <td>89100.0</td>\n",
       "      <td>89900.0</td>\n",
       "      <td>1140700</td>\n",
       "    </tr>\n",
       "    <tr>\n",
       "      <th>110</th>\n",
       "      <td>2024-02-16</td>\n",
       "      <td>89900.0</td>\n",
       "      <td>90200.0</td>\n",
       "      <td>89500.0</td>\n",
       "      <td>89600.0</td>\n",
       "      <td>801600</td>\n",
       "    </tr>\n",
       "    <tr>\n",
       "      <th>111</th>\n",
       "      <td>2024-02-19</td>\n",
       "      <td>89900.0</td>\n",
       "      <td>90500.0</td>\n",
       "      <td>89300.0</td>\n",
       "      <td>90200.0</td>\n",
       "      <td>1139300</td>\n",
       "    </tr>\n",
       "    <tr>\n",
       "      <th>112</th>\n",
       "      <td>2024-02-20</td>\n",
       "      <td>90100.0</td>\n",
       "      <td>91400.0</td>\n",
       "      <td>89400.0</td>\n",
       "      <td>91300.0</td>\n",
       "      <td>1474300</td>\n",
       "    </tr>\n",
       "  </tbody>\n",
       "</table>\n",
       "<p>113 rows × 6 columns</p>\n",
       "</div>"
      ],
      "text/plain": [
       "      Datetime     Open     High      Low    Close   Volume\n",
       "0   2023-09-05  89100.0  90700.0  89100.0  90100.0  2013202\n",
       "1   2023-09-06  90200.0  90200.0  89700.0  90200.0  2057603\n",
       "2   2023-09-07  90000.0  90800.0  89500.0  89500.0  1958302\n",
       "3   2023-09-08  89500.0  89500.0  89100.0  89500.0  1381905\n",
       "4   2023-09-11  89600.0  90000.0  88000.0  88500.0  2592500\n",
       "..         ...      ...      ...      ...      ...      ...\n",
       "108 2024-02-07  90000.0  90800.0  89300.0  90000.0  1441400\n",
       "109 2024-02-15  90000.0  90700.0  89100.0  89900.0  1140700\n",
       "110 2024-02-16  89900.0  90200.0  89500.0  89600.0   801600\n",
       "111 2024-02-19  89900.0  90500.0  89300.0  90200.0  1139300\n",
       "112 2024-02-20  90100.0  91400.0  89400.0  91300.0  1474300\n",
       "\n",
       "[113 rows x 6 columns]"
      ]
     },
     "execution_count": 3,
     "metadata": {},
     "output_type": "execute_result"
    }
   ],
   "source": [
    "data"
   ]
  },
  {
   "cell_type": "code",
   "execution_count": 4,
   "metadata": {},
   "outputs": [],
   "source": [
    "data.to_csv('data.csv')"
   ]
  },
  {
   "cell_type": "code",
   "execution_count": 14,
   "metadata": {},
   "outputs": [
    {
     "data": {
      "text/html": [
       "<div>\n",
       "<style scoped>\n",
       "    .dataframe tbody tr th:only-of-type {\n",
       "        vertical-align: middle;\n",
       "    }\n",
       "\n",
       "    .dataframe tbody tr th {\n",
       "        vertical-align: top;\n",
       "    }\n",
       "\n",
       "    .dataframe thead th {\n",
       "        text-align: right;\n",
       "    }\n",
       "</style>\n",
       "<table border=\"1\" class=\"dataframe\">\n",
       "  <thead>\n",
       "    <tr style=\"text-align: right;\">\n",
       "      <th></th>\n",
       "      <th>Datetime</th>\n",
       "      <th>Open</th>\n",
       "      <th>High</th>\n",
       "      <th>Low</th>\n",
       "      <th>Close</th>\n",
       "      <th>Volume</th>\n",
       "    </tr>\n",
       "  </thead>\n",
       "  <tbody>\n",
       "    <tr>\n",
       "      <th>0</th>\n",
       "      <td>2023-09-20</td>\n",
       "      <td>1.06758</td>\n",
       "      <td>1.07361</td>\n",
       "      <td>1.06488</td>\n",
       "      <td>1.06588</td>\n",
       "      <td>69737</td>\n",
       "    </tr>\n",
       "    <tr>\n",
       "      <th>1</th>\n",
       "      <td>2023-09-21</td>\n",
       "      <td>1.06585</td>\n",
       "      <td>1.06729</td>\n",
       "      <td>1.06162</td>\n",
       "      <td>1.06573</td>\n",
       "      <td>75661</td>\n",
       "    </tr>\n",
       "    <tr>\n",
       "      <th>2</th>\n",
       "      <td>2023-09-22</td>\n",
       "      <td>1.06569</td>\n",
       "      <td>1.06710</td>\n",
       "      <td>1.06142</td>\n",
       "      <td>1.06421</td>\n",
       "      <td>66445</td>\n",
       "    </tr>\n",
       "    <tr>\n",
       "      <th>3</th>\n",
       "      <td>2023-09-25</td>\n",
       "      <td>1.06487</td>\n",
       "      <td>1.06547</td>\n",
       "      <td>1.05745</td>\n",
       "      <td>1.05916</td>\n",
       "      <td>53872</td>\n",
       "    </tr>\n",
       "    <tr>\n",
       "      <th>4</th>\n",
       "      <td>2023-09-26</td>\n",
       "      <td>1.05917</td>\n",
       "      <td>1.06081</td>\n",
       "      <td>1.05614</td>\n",
       "      <td>1.05717</td>\n",
       "      <td>57905</td>\n",
       "    </tr>\n",
       "    <tr>\n",
       "      <th>5</th>\n",
       "      <td>2023-09-27</td>\n",
       "      <td>1.05714</td>\n",
       "      <td>1.05734</td>\n",
       "      <td>1.04873</td>\n",
       "      <td>1.05013</td>\n",
       "      <td>64410</td>\n",
       "    </tr>\n",
       "    <tr>\n",
       "      <th>6</th>\n",
       "      <td>2023-09-28</td>\n",
       "      <td>1.05013</td>\n",
       "      <td>1.05783</td>\n",
       "      <td>1.04904</td>\n",
       "      <td>1.05641</td>\n",
       "      <td>71777</td>\n",
       "    </tr>\n",
       "    <tr>\n",
       "      <th>7</th>\n",
       "      <td>2023-09-29</td>\n",
       "      <td>1.05640</td>\n",
       "      <td>1.06163</td>\n",
       "      <td>1.05573</td>\n",
       "      <td>1.05692</td>\n",
       "      <td>73039</td>\n",
       "    </tr>\n",
       "    <tr>\n",
       "      <th>8</th>\n",
       "      <td>2023-10-02</td>\n",
       "      <td>1.05608</td>\n",
       "      <td>1.05910</td>\n",
       "      <td>1.04757</td>\n",
       "      <td>1.04759</td>\n",
       "      <td>64492</td>\n",
       "    </tr>\n",
       "    <tr>\n",
       "      <th>9</th>\n",
       "      <td>2023-10-03</td>\n",
       "      <td>1.04762</td>\n",
       "      <td>1.04928</td>\n",
       "      <td>1.04475</td>\n",
       "      <td>1.04650</td>\n",
       "      <td>74132</td>\n",
       "    </tr>\n",
       "    <tr>\n",
       "      <th>10</th>\n",
       "      <td>2023-10-04</td>\n",
       "      <td>1.04654</td>\n",
       "      <td>1.05315</td>\n",
       "      <td>1.04506</td>\n",
       "      <td>1.05028</td>\n",
       "      <td>75144</td>\n",
       "    </tr>\n",
       "    <tr>\n",
       "      <th>11</th>\n",
       "      <td>2023-10-05</td>\n",
       "      <td>1.05024</td>\n",
       "      <td>1.05509</td>\n",
       "      <td>1.04993</td>\n",
       "      <td>1.05487</td>\n",
       "      <td>79735</td>\n",
       "    </tr>\n",
       "    <tr>\n",
       "      <th>12</th>\n",
       "      <td>2023-10-06</td>\n",
       "      <td>1.05388</td>\n",
       "      <td>1.05992</td>\n",
       "      <td>1.04818</td>\n",
       "      <td>1.05845</td>\n",
       "      <td>80808</td>\n",
       "    </tr>\n",
       "    <tr>\n",
       "      <th>13</th>\n",
       "      <td>2023-10-09</td>\n",
       "      <td>1.05482</td>\n",
       "      <td>1.05736</td>\n",
       "      <td>1.05187</td>\n",
       "      <td>1.05655</td>\n",
       "      <td>75844</td>\n",
       "    </tr>\n",
       "    <tr>\n",
       "      <th>14</th>\n",
       "      <td>2023-10-10</td>\n",
       "      <td>1.05651</td>\n",
       "      <td>1.06191</td>\n",
       "      <td>1.05536</td>\n",
       "      <td>1.06040</td>\n",
       "      <td>90895</td>\n",
       "    </tr>\n",
       "    <tr>\n",
       "      <th>15</th>\n",
       "      <td>2023-10-11</td>\n",
       "      <td>1.06039</td>\n",
       "      <td>1.06340</td>\n",
       "      <td>1.05789</td>\n",
       "      <td>1.06182</td>\n",
       "      <td>85244</td>\n",
       "    </tr>\n",
       "    <tr>\n",
       "      <th>16</th>\n",
       "      <td>2023-10-12</td>\n",
       "      <td>1.06174</td>\n",
       "      <td>1.06390</td>\n",
       "      <td>1.05250</td>\n",
       "      <td>1.05271</td>\n",
       "      <td>77260</td>\n",
       "    </tr>\n",
       "    <tr>\n",
       "      <th>17</th>\n",
       "      <td>2023-10-13</td>\n",
       "      <td>1.05269</td>\n",
       "      <td>1.05577</td>\n",
       "      <td>1.04948</td>\n",
       "      <td>1.05055</td>\n",
       "      <td>74805</td>\n",
       "    </tr>\n",
       "    <tr>\n",
       "      <th>18</th>\n",
       "      <td>2023-10-16</td>\n",
       "      <td>1.05080</td>\n",
       "      <td>1.05620</td>\n",
       "      <td>1.05034</td>\n",
       "      <td>1.05592</td>\n",
       "      <td>57421</td>\n",
       "    </tr>\n",
       "    <tr>\n",
       "      <th>19</th>\n",
       "      <td>2023-10-17</td>\n",
       "      <td>1.05588</td>\n",
       "      <td>1.05940</td>\n",
       "      <td>1.05322</td>\n",
       "      <td>1.05759</td>\n",
       "      <td>76927</td>\n",
       "    </tr>\n",
       "    <tr>\n",
       "      <th>20</th>\n",
       "      <td>2023-10-18</td>\n",
       "      <td>1.05674</td>\n",
       "      <td>1.05935</td>\n",
       "      <td>1.05224</td>\n",
       "      <td>1.05353</td>\n",
       "      <td>80161</td>\n",
       "    </tr>\n",
       "    <tr>\n",
       "      <th>21</th>\n",
       "      <td>2023-10-19</td>\n",
       "      <td>1.05350</td>\n",
       "      <td>1.06159</td>\n",
       "      <td>1.05273</td>\n",
       "      <td>1.05812</td>\n",
       "      <td>97742</td>\n",
       "    </tr>\n",
       "    <tr>\n",
       "      <th>22</th>\n",
       "      <td>2023-10-20</td>\n",
       "      <td>1.05810</td>\n",
       "      <td>1.06029</td>\n",
       "      <td>1.05643</td>\n",
       "      <td>1.05892</td>\n",
       "      <td>74681</td>\n",
       "    </tr>\n",
       "    <tr>\n",
       "      <th>23</th>\n",
       "      <td>2023-10-23</td>\n",
       "      <td>1.05915</td>\n",
       "      <td>1.06771</td>\n",
       "      <td>1.05707</td>\n",
       "      <td>1.06684</td>\n",
       "      <td>73505</td>\n",
       "    </tr>\n",
       "    <tr>\n",
       "      <th>24</th>\n",
       "      <td>2023-10-24</td>\n",
       "      <td>1.06675</td>\n",
       "      <td>1.06934</td>\n",
       "      <td>1.05822</td>\n",
       "      <td>1.05884</td>\n",
       "      <td>78135</td>\n",
       "    </tr>\n",
       "    <tr>\n",
       "      <th>25</th>\n",
       "      <td>2023-10-25</td>\n",
       "      <td>1.05884</td>\n",
       "      <td>1.06059</td>\n",
       "      <td>1.05643</td>\n",
       "      <td>1.05652</td>\n",
       "      <td>71038</td>\n",
       "    </tr>\n",
       "    <tr>\n",
       "      <th>26</th>\n",
       "      <td>2023-10-26</td>\n",
       "      <td>1.05651</td>\n",
       "      <td>1.05689</td>\n",
       "      <td>1.05207</td>\n",
       "      <td>1.05613</td>\n",
       "      <td>83062</td>\n",
       "    </tr>\n",
       "    <tr>\n",
       "      <th>27</th>\n",
       "      <td>2023-10-27</td>\n",
       "      <td>1.05553</td>\n",
       "      <td>1.05963</td>\n",
       "      <td>1.05346</td>\n",
       "      <td>1.05592</td>\n",
       "      <td>76189</td>\n",
       "    </tr>\n",
       "    <tr>\n",
       "      <th>28</th>\n",
       "      <td>2023-10-30</td>\n",
       "      <td>1.05660</td>\n",
       "      <td>1.06244</td>\n",
       "      <td>1.05463</td>\n",
       "      <td>1.06140</td>\n",
       "      <td>69349</td>\n",
       "    </tr>\n",
       "    <tr>\n",
       "      <th>29</th>\n",
       "      <td>2023-10-31</td>\n",
       "      <td>1.06140</td>\n",
       "      <td>1.06740</td>\n",
       "      <td>1.05568</td>\n",
       "      <td>1.05739</td>\n",
       "      <td>84406</td>\n",
       "    </tr>\n",
       "    <tr>\n",
       "      <th>30</th>\n",
       "      <td>2023-11-01</td>\n",
       "      <td>1.05746</td>\n",
       "      <td>1.05799</td>\n",
       "      <td>1.05161</td>\n",
       "      <td>1.05658</td>\n",
       "      <td>90553</td>\n",
       "    </tr>\n",
       "    <tr>\n",
       "      <th>31</th>\n",
       "      <td>2023-11-02</td>\n",
       "      <td>1.05657</td>\n",
       "      <td>1.06668</td>\n",
       "      <td>1.05657</td>\n",
       "      <td>1.06199</td>\n",
       "      <td>79778</td>\n",
       "    </tr>\n",
       "    <tr>\n",
       "      <th>32</th>\n",
       "      <td>2023-11-03</td>\n",
       "      <td>1.06201</td>\n",
       "      <td>1.07460</td>\n",
       "      <td>1.06140</td>\n",
       "      <td>1.07246</td>\n",
       "      <td>78738</td>\n",
       "    </tr>\n",
       "    <tr>\n",
       "      <th>33</th>\n",
       "      <td>2023-11-06</td>\n",
       "      <td>1.07222</td>\n",
       "      <td>1.07556</td>\n",
       "      <td>1.07151</td>\n",
       "      <td>1.07161</td>\n",
       "      <td>62843</td>\n",
       "    </tr>\n",
       "    <tr>\n",
       "      <th>34</th>\n",
       "      <td>2023-11-07</td>\n",
       "      <td>1.07161</td>\n",
       "      <td>1.07223</td>\n",
       "      <td>1.06634</td>\n",
       "      <td>1.06985</td>\n",
       "      <td>70934</td>\n",
       "    </tr>\n",
       "    <tr>\n",
       "      <th>35</th>\n",
       "      <td>2023-11-08</td>\n",
       "      <td>1.06980</td>\n",
       "      <td>1.07153</td>\n",
       "      <td>1.06586</td>\n",
       "      <td>1.07077</td>\n",
       "      <td>69119</td>\n",
       "    </tr>\n",
       "    <tr>\n",
       "      <th>36</th>\n",
       "      <td>2023-11-09</td>\n",
       "      <td>1.07070</td>\n",
       "      <td>1.07247</td>\n",
       "      <td>1.06593</td>\n",
       "      <td>1.06665</td>\n",
       "      <td>78542</td>\n",
       "    </tr>\n",
       "    <tr>\n",
       "      <th>37</th>\n",
       "      <td>2023-11-10</td>\n",
       "      <td>1.06654</td>\n",
       "      <td>1.06919</td>\n",
       "      <td>1.06554</td>\n",
       "      <td>1.06828</td>\n",
       "      <td>69850</td>\n",
       "    </tr>\n",
       "    <tr>\n",
       "      <th>38</th>\n",
       "      <td>2023-11-13</td>\n",
       "      <td>1.06816</td>\n",
       "      <td>1.07054</td>\n",
       "      <td>1.06643</td>\n",
       "      <td>1.06971</td>\n",
       "      <td>58365</td>\n",
       "    </tr>\n",
       "    <tr>\n",
       "      <th>39</th>\n",
       "      <td>2023-11-14</td>\n",
       "      <td>1.06939</td>\n",
       "      <td>1.08862</td>\n",
       "      <td>1.06921</td>\n",
       "      <td>1.08775</td>\n",
       "      <td>75229</td>\n",
       "    </tr>\n",
       "    <tr>\n",
       "      <th>40</th>\n",
       "      <td>2023-11-15</td>\n",
       "      <td>1.08766</td>\n",
       "      <td>1.08846</td>\n",
       "      <td>1.08308</td>\n",
       "      <td>1.08456</td>\n",
       "      <td>80088</td>\n",
       "    </tr>\n",
       "    <tr>\n",
       "      <th>41</th>\n",
       "      <td>2023-11-16</td>\n",
       "      <td>1.08454</td>\n",
       "      <td>1.08948</td>\n",
       "      <td>1.08292</td>\n",
       "      <td>1.08508</td>\n",
       "      <td>72343</td>\n",
       "    </tr>\n",
       "    <tr>\n",
       "      <th>42</th>\n",
       "      <td>2023-11-17</td>\n",
       "      <td>1.08452</td>\n",
       "      <td>1.09132</td>\n",
       "      <td>1.08241</td>\n",
       "      <td>1.09082</td>\n",
       "      <td>72345</td>\n",
       "    </tr>\n",
       "    <tr>\n",
       "      <th>43</th>\n",
       "      <td>2023-11-20</td>\n",
       "      <td>1.09014</td>\n",
       "      <td>1.09511</td>\n",
       "      <td>1.08968</td>\n",
       "      <td>1.09390</td>\n",
       "      <td>69045</td>\n",
       "    </tr>\n",
       "    <tr>\n",
       "      <th>44</th>\n",
       "      <td>2023-11-21</td>\n",
       "      <td>1.09359</td>\n",
       "      <td>1.09643</td>\n",
       "      <td>1.08994</td>\n",
       "      <td>1.09096</td>\n",
       "      <td>74647</td>\n",
       "    </tr>\n",
       "    <tr>\n",
       "      <th>45</th>\n",
       "      <td>2023-11-22</td>\n",
       "      <td>1.09067</td>\n",
       "      <td>1.09220</td>\n",
       "      <td>1.08516</td>\n",
       "      <td>1.08871</td>\n",
       "      <td>76084</td>\n",
       "    </tr>\n",
       "    <tr>\n",
       "      <th>46</th>\n",
       "      <td>2023-11-23</td>\n",
       "      <td>1.08863</td>\n",
       "      <td>1.09300</td>\n",
       "      <td>1.08814</td>\n",
       "      <td>1.09012</td>\n",
       "      <td>40763</td>\n",
       "    </tr>\n",
       "    <tr>\n",
       "      <th>47</th>\n",
       "      <td>2023-11-24</td>\n",
       "      <td>1.09028</td>\n",
       "      <td>1.09477</td>\n",
       "      <td>1.08943</td>\n",
       "      <td>1.09341</td>\n",
       "      <td>53997</td>\n",
       "    </tr>\n",
       "    <tr>\n",
       "      <th>48</th>\n",
       "      <td>2023-11-27</td>\n",
       "      <td>1.09375</td>\n",
       "      <td>1.09584</td>\n",
       "      <td>1.09243</td>\n",
       "      <td>1.09524</td>\n",
       "      <td>69538</td>\n",
       "    </tr>\n",
       "    <tr>\n",
       "      <th>49</th>\n",
       "      <td>2023-11-28</td>\n",
       "      <td>1.09524</td>\n",
       "      <td>1.10082</td>\n",
       "      <td>1.09336</td>\n",
       "      <td>1.09914</td>\n",
       "      <td>76524</td>\n",
       "    </tr>\n",
       "    <tr>\n",
       "      <th>50</th>\n",
       "      <td>2023-11-29</td>\n",
       "      <td>1.09910</td>\n",
       "      <td>1.10165</td>\n",
       "      <td>1.09593</td>\n",
       "      <td>1.09679</td>\n",
       "      <td>87590</td>\n",
       "    </tr>\n",
       "  </tbody>\n",
       "</table>\n",
       "</div>"
      ],
      "text/plain": [
       "     Datetime     Open     High      Low    Close  Volume\n",
       "0  2023-09-20  1.06758  1.07361  1.06488  1.06588   69737\n",
       "1  2023-09-21  1.06585  1.06729  1.06162  1.06573   75661\n",
       "2  2023-09-22  1.06569  1.06710  1.06142  1.06421   66445\n",
       "3  2023-09-25  1.06487  1.06547  1.05745  1.05916   53872\n",
       "4  2023-09-26  1.05917  1.06081  1.05614  1.05717   57905\n",
       "5  2023-09-27  1.05714  1.05734  1.04873  1.05013   64410\n",
       "6  2023-09-28  1.05013  1.05783  1.04904  1.05641   71777\n",
       "7  2023-09-29  1.05640  1.06163  1.05573  1.05692   73039\n",
       "8  2023-10-02  1.05608  1.05910  1.04757  1.04759   64492\n",
       "9  2023-10-03  1.04762  1.04928  1.04475  1.04650   74132\n",
       "10 2023-10-04  1.04654  1.05315  1.04506  1.05028   75144\n",
       "11 2023-10-05  1.05024  1.05509  1.04993  1.05487   79735\n",
       "12 2023-10-06  1.05388  1.05992  1.04818  1.05845   80808\n",
       "13 2023-10-09  1.05482  1.05736  1.05187  1.05655   75844\n",
       "14 2023-10-10  1.05651  1.06191  1.05536  1.06040   90895\n",
       "15 2023-10-11  1.06039  1.06340  1.05789  1.06182   85244\n",
       "16 2023-10-12  1.06174  1.06390  1.05250  1.05271   77260\n",
       "17 2023-10-13  1.05269  1.05577  1.04948  1.05055   74805\n",
       "18 2023-10-16  1.05080  1.05620  1.05034  1.05592   57421\n",
       "19 2023-10-17  1.05588  1.05940  1.05322  1.05759   76927\n",
       "20 2023-10-18  1.05674  1.05935  1.05224  1.05353   80161\n",
       "21 2023-10-19  1.05350  1.06159  1.05273  1.05812   97742\n",
       "22 2023-10-20  1.05810  1.06029  1.05643  1.05892   74681\n",
       "23 2023-10-23  1.05915  1.06771  1.05707  1.06684   73505\n",
       "24 2023-10-24  1.06675  1.06934  1.05822  1.05884   78135\n",
       "25 2023-10-25  1.05884  1.06059  1.05643  1.05652   71038\n",
       "26 2023-10-26  1.05651  1.05689  1.05207  1.05613   83062\n",
       "27 2023-10-27  1.05553  1.05963  1.05346  1.05592   76189\n",
       "28 2023-10-30  1.05660  1.06244  1.05463  1.06140   69349\n",
       "29 2023-10-31  1.06140  1.06740  1.05568  1.05739   84406\n",
       "30 2023-11-01  1.05746  1.05799  1.05161  1.05658   90553\n",
       "31 2023-11-02  1.05657  1.06668  1.05657  1.06199   79778\n",
       "32 2023-11-03  1.06201  1.07460  1.06140  1.07246   78738\n",
       "33 2023-11-06  1.07222  1.07556  1.07151  1.07161   62843\n",
       "34 2023-11-07  1.07161  1.07223  1.06634  1.06985   70934\n",
       "35 2023-11-08  1.06980  1.07153  1.06586  1.07077   69119\n",
       "36 2023-11-09  1.07070  1.07247  1.06593  1.06665   78542\n",
       "37 2023-11-10  1.06654  1.06919  1.06554  1.06828   69850\n",
       "38 2023-11-13  1.06816  1.07054  1.06643  1.06971   58365\n",
       "39 2023-11-14  1.06939  1.08862  1.06921  1.08775   75229\n",
       "40 2023-11-15  1.08766  1.08846  1.08308  1.08456   80088\n",
       "41 2023-11-16  1.08454  1.08948  1.08292  1.08508   72343\n",
       "42 2023-11-17  1.08452  1.09132  1.08241  1.09082   72345\n",
       "43 2023-11-20  1.09014  1.09511  1.08968  1.09390   69045\n",
       "44 2023-11-21  1.09359  1.09643  1.08994  1.09096   74647\n",
       "45 2023-11-22  1.09067  1.09220  1.08516  1.08871   76084\n",
       "46 2023-11-23  1.08863  1.09300  1.08814  1.09012   40763\n",
       "47 2023-11-24  1.09028  1.09477  1.08943  1.09341   53997\n",
       "48 2023-11-27  1.09375  1.09584  1.09243  1.09524   69538\n",
       "49 2023-11-28  1.09524  1.10082  1.09336  1.09914   76524\n",
       "50 2023-11-29  1.09910  1.10165  1.09593  1.09679   87590"
      ]
     },
     "execution_count": 14,
     "metadata": {},
     "output_type": "execute_result"
    }
   ],
   "source": [
    "symbol = 'EURUSD'\n",
    "from_date = '2023-09-20'\n",
    "to_date = '2023-11-30'\n",
    "\n",
    "dataMT5 = CommonMT5.CommonMT5.loaddataMT5(symbol, from_date, to_date)\n",
    "\n",
    "dataMT5"
   ]
  },
  {
   "cell_type": "code",
   "execution_count": 24,
   "metadata": {},
   "outputs": [],
   "source": [
    "symbol = 'EUR/USDT'\n",
    "from_date = '2023-09-20'\n",
    "to_date = '2023-11-30'\n",
    "timeframe = '15m'\n",
    "\n",
    "dataBinance = CommonBinance.CommonBinance.loaddataBinance_FromTo(symbol, from_date, to_date, timeframe)"
   ]
  },
  {
   "cell_type": "code",
   "execution_count": 25,
   "metadata": {},
   "outputs": [
    {
     "data": {
      "text/html": [
       "<div>\n",
       "<style scoped>\n",
       "    .dataframe tbody tr th:only-of-type {\n",
       "        vertical-align: middle;\n",
       "    }\n",
       "\n",
       "    .dataframe tbody tr th {\n",
       "        vertical-align: top;\n",
       "    }\n",
       "\n",
       "    .dataframe thead th {\n",
       "        text-align: right;\n",
       "    }\n",
       "</style>\n",
       "<table border=\"1\" class=\"dataframe\">\n",
       "  <thead>\n",
       "    <tr style=\"text-align: right;\">\n",
       "      <th></th>\n",
       "      <th>Datetime</th>\n",
       "      <th>Open</th>\n",
       "      <th>High</th>\n",
       "      <th>Low</th>\n",
       "      <th>Close</th>\n",
       "      <th>Volume</th>\n",
       "    </tr>\n",
       "  </thead>\n",
       "  <tbody>\n",
       "    <tr>\n",
       "      <th>0</th>\n",
       "      <td>2023-09-20 00:00:00</td>\n",
       "      <td>1.0665</td>\n",
       "      <td>1.0665</td>\n",
       "      <td>1.0664</td>\n",
       "      <td>1.0664</td>\n",
       "      <td>16158.0</td>\n",
       "    </tr>\n",
       "    <tr>\n",
       "      <th>1</th>\n",
       "      <td>2023-09-20 00:15:00</td>\n",
       "      <td>1.0664</td>\n",
       "      <td>1.0665</td>\n",
       "      <td>1.0664</td>\n",
       "      <td>1.0664</td>\n",
       "      <td>12162.5</td>\n",
       "    </tr>\n",
       "    <tr>\n",
       "      <th>2</th>\n",
       "      <td>2023-09-20 00:30:00</td>\n",
       "      <td>1.0665</td>\n",
       "      <td>1.0665</td>\n",
       "      <td>1.0664</td>\n",
       "      <td>1.0664</td>\n",
       "      <td>12481.4</td>\n",
       "    </tr>\n",
       "    <tr>\n",
       "      <th>3</th>\n",
       "      <td>2023-09-20 00:45:00</td>\n",
       "      <td>1.0665</td>\n",
       "      <td>1.0666</td>\n",
       "      <td>1.0664</td>\n",
       "      <td>1.0666</td>\n",
       "      <td>34517.9</td>\n",
       "    </tr>\n",
       "    <tr>\n",
       "      <th>4</th>\n",
       "      <td>2023-09-20 01:00:00</td>\n",
       "      <td>1.0665</td>\n",
       "      <td>1.0666</td>\n",
       "      <td>1.0665</td>\n",
       "      <td>1.0665</td>\n",
       "      <td>9439.9</td>\n",
       "    </tr>\n",
       "    <tr>\n",
       "      <th>...</th>\n",
       "      <td>...</td>\n",
       "      <td>...</td>\n",
       "      <td>...</td>\n",
       "      <td>...</td>\n",
       "      <td>...</td>\n",
       "      <td>...</td>\n",
       "    </tr>\n",
       "    <tr>\n",
       "      <th>995</th>\n",
       "      <td>2023-09-30 08:45:00</td>\n",
       "      <td>1.0561</td>\n",
       "      <td>1.0561</td>\n",
       "      <td>1.0560</td>\n",
       "      <td>1.0561</td>\n",
       "      <td>74621.2</td>\n",
       "    </tr>\n",
       "    <tr>\n",
       "      <th>996</th>\n",
       "      <td>2023-09-30 09:00:00</td>\n",
       "      <td>1.0561</td>\n",
       "      <td>1.0561</td>\n",
       "      <td>1.0560</td>\n",
       "      <td>1.0561</td>\n",
       "      <td>145998.2</td>\n",
       "    </tr>\n",
       "    <tr>\n",
       "      <th>997</th>\n",
       "      <td>2023-09-30 09:15:00</td>\n",
       "      <td>1.0560</td>\n",
       "      <td>1.0561</td>\n",
       "      <td>1.0560</td>\n",
       "      <td>1.0561</td>\n",
       "      <td>107618.3</td>\n",
       "    </tr>\n",
       "    <tr>\n",
       "      <th>998</th>\n",
       "      <td>2023-09-30 09:30:00</td>\n",
       "      <td>1.0560</td>\n",
       "      <td>1.0561</td>\n",
       "      <td>1.0560</td>\n",
       "      <td>1.0561</td>\n",
       "      <td>157711.9</td>\n",
       "    </tr>\n",
       "    <tr>\n",
       "      <th>999</th>\n",
       "      <td>2023-09-30 09:45:00</td>\n",
       "      <td>1.0560</td>\n",
       "      <td>1.0561</td>\n",
       "      <td>1.0560</td>\n",
       "      <td>1.0560</td>\n",
       "      <td>123444.3</td>\n",
       "    </tr>\n",
       "  </tbody>\n",
       "</table>\n",
       "<p>1000 rows × 6 columns</p>\n",
       "</div>"
      ],
      "text/plain": [
       "               Datetime    Open    High     Low   Close    Volume\n",
       "0   2023-09-20 00:00:00  1.0665  1.0665  1.0664  1.0664   16158.0\n",
       "1   2023-09-20 00:15:00  1.0664  1.0665  1.0664  1.0664   12162.5\n",
       "2   2023-09-20 00:30:00  1.0665  1.0665  1.0664  1.0664   12481.4\n",
       "3   2023-09-20 00:45:00  1.0665  1.0666  1.0664  1.0666   34517.9\n",
       "4   2023-09-20 01:00:00  1.0665  1.0666  1.0665  1.0665    9439.9\n",
       "..                  ...     ...     ...     ...     ...       ...\n",
       "995 2023-09-30 08:45:00  1.0561  1.0561  1.0560  1.0561   74621.2\n",
       "996 2023-09-30 09:00:00  1.0561  1.0561  1.0560  1.0561  145998.2\n",
       "997 2023-09-30 09:15:00  1.0560  1.0561  1.0560  1.0561  107618.3\n",
       "998 2023-09-30 09:30:00  1.0560  1.0561  1.0560  1.0561  157711.9\n",
       "999 2023-09-30 09:45:00  1.0560  1.0561  1.0560  1.0560  123444.3\n",
       "\n",
       "[1000 rows x 6 columns]"
      ]
     },
     "execution_count": 25,
     "metadata": {},
     "output_type": "execute_result"
    }
   ],
   "source": [
    "dataBinance"
   ]
  },
  {
   "cell_type": "code",
   "execution_count": null,
   "metadata": {},
   "outputs": [],
   "source": [
    "symbol = 'EUR/USDT'\n",
    "from_date = '2023-09-20'\n",
    "to_date = '2023-11-30'\n",
    "\n",
    "dataBinance = CommonBinance.CommonBinance.loaddataBinance_Limit(symbol, from_date, to_date)"
   ]
  },
  {
   "cell_type": "code",
   "execution_count": null,
   "metadata": {},
   "outputs": [],
   "source": [
    "symbol = 'EUR/USDT'\n",
    "from_date = '2023-09-20'\n",
    "to_date = '2023-11-20'\n",
    "\n",
    "dataBinance = CommonBinance.CommonBinance.loaddataBinance_FromToExt(symbol, from_date, to_date)"
   ]
  },
  {
   "cell_type": "markdown",
   "metadata": {},
   "source": [
    "# Duong MACD va SMA + Chien luoc duong MACD va SMA"
   ]
  },
  {
   "cell_type": "code",
   "execution_count": 19,
   "metadata": {},
   "outputs": [
    {
     "data": {
      "text/html": [
       "<div>\n",
       "<style scoped>\n",
       "    .dataframe tbody tr th:only-of-type {\n",
       "        vertical-align: middle;\n",
       "    }\n",
       "\n",
       "    .dataframe tbody tr th {\n",
       "        vertical-align: top;\n",
       "    }\n",
       "\n",
       "    .dataframe thead th {\n",
       "        text-align: right;\n",
       "    }\n",
       "</style>\n",
       "<table border=\"1\" class=\"dataframe\">\n",
       "  <thead>\n",
       "    <tr style=\"text-align: right;\">\n",
       "      <th></th>\n",
       "      <th>Datetime</th>\n",
       "      <th>Open</th>\n",
       "      <th>High</th>\n",
       "      <th>Low</th>\n",
       "      <th>Close</th>\n",
       "      <th>Volume</th>\n",
       "    </tr>\n",
       "  </thead>\n",
       "  <tbody>\n",
       "    <tr>\n",
       "      <th>0</th>\n",
       "      <td>2023-09-05</td>\n",
       "      <td>89100.0</td>\n",
       "      <td>90700.0</td>\n",
       "      <td>89100.0</td>\n",
       "      <td>90100.0</td>\n",
       "      <td>2013202</td>\n",
       "    </tr>\n",
       "    <tr>\n",
       "      <th>1</th>\n",
       "      <td>2023-09-06</td>\n",
       "      <td>90200.0</td>\n",
       "      <td>90200.0</td>\n",
       "      <td>89700.0</td>\n",
       "      <td>90200.0</td>\n",
       "      <td>2057603</td>\n",
       "    </tr>\n",
       "    <tr>\n",
       "      <th>2</th>\n",
       "      <td>2023-09-07</td>\n",
       "      <td>90000.0</td>\n",
       "      <td>90800.0</td>\n",
       "      <td>89500.0</td>\n",
       "      <td>89500.0</td>\n",
       "      <td>1958302</td>\n",
       "    </tr>\n",
       "    <tr>\n",
       "      <th>3</th>\n",
       "      <td>2023-09-08</td>\n",
       "      <td>89500.0</td>\n",
       "      <td>89500.0</td>\n",
       "      <td>89100.0</td>\n",
       "      <td>89500.0</td>\n",
       "      <td>1381905</td>\n",
       "    </tr>\n",
       "    <tr>\n",
       "      <th>4</th>\n",
       "      <td>2023-09-11</td>\n",
       "      <td>89600.0</td>\n",
       "      <td>90000.0</td>\n",
       "      <td>88000.0</td>\n",
       "      <td>88500.0</td>\n",
       "      <td>2592500</td>\n",
       "    </tr>\n",
       "    <tr>\n",
       "      <th>...</th>\n",
       "      <td>...</td>\n",
       "      <td>...</td>\n",
       "      <td>...</td>\n",
       "      <td>...</td>\n",
       "      <td>...</td>\n",
       "      <td>...</td>\n",
       "    </tr>\n",
       "    <tr>\n",
       "      <th>108</th>\n",
       "      <td>2024-02-07</td>\n",
       "      <td>90000.0</td>\n",
       "      <td>90800.0</td>\n",
       "      <td>89300.0</td>\n",
       "      <td>90000.0</td>\n",
       "      <td>1441400</td>\n",
       "    </tr>\n",
       "    <tr>\n",
       "      <th>109</th>\n",
       "      <td>2024-02-15</td>\n",
       "      <td>90000.0</td>\n",
       "      <td>90700.0</td>\n",
       "      <td>89100.0</td>\n",
       "      <td>89900.0</td>\n",
       "      <td>1140700</td>\n",
       "    </tr>\n",
       "    <tr>\n",
       "      <th>110</th>\n",
       "      <td>2024-02-16</td>\n",
       "      <td>89900.0</td>\n",
       "      <td>90200.0</td>\n",
       "      <td>89500.0</td>\n",
       "      <td>89600.0</td>\n",
       "      <td>801600</td>\n",
       "    </tr>\n",
       "    <tr>\n",
       "      <th>111</th>\n",
       "      <td>2024-02-19</td>\n",
       "      <td>89900.0</td>\n",
       "      <td>90500.0</td>\n",
       "      <td>89300.0</td>\n",
       "      <td>90200.0</td>\n",
       "      <td>1139300</td>\n",
       "    </tr>\n",
       "    <tr>\n",
       "      <th>112</th>\n",
       "      <td>2024-02-20</td>\n",
       "      <td>90100.0</td>\n",
       "      <td>91400.0</td>\n",
       "      <td>89400.0</td>\n",
       "      <td>91300.0</td>\n",
       "      <td>1474300</td>\n",
       "    </tr>\n",
       "  </tbody>\n",
       "</table>\n",
       "<p>113 rows × 6 columns</p>\n",
       "</div>"
      ],
      "text/plain": [
       "      Datetime     Open     High      Low    Close   Volume\n",
       "0   2023-09-05  89100.0  90700.0  89100.0  90100.0  2013202\n",
       "1   2023-09-06  90200.0  90200.0  89700.0  90200.0  2057603\n",
       "2   2023-09-07  90000.0  90800.0  89500.0  89500.0  1958302\n",
       "3   2023-09-08  89500.0  89500.0  89100.0  89500.0  1381905\n",
       "4   2023-09-11  89600.0  90000.0  88000.0  88500.0  2592500\n",
       "..         ...      ...      ...      ...      ...      ...\n",
       "108 2024-02-07  90000.0  90800.0  89300.0  90000.0  1441400\n",
       "109 2024-02-15  90000.0  90700.0  89100.0  89900.0  1140700\n",
       "110 2024-02-16  89900.0  90200.0  89500.0  89600.0   801600\n",
       "111 2024-02-19  89900.0  90500.0  89300.0  90200.0  1139300\n",
       "112 2024-02-20  90100.0  91400.0  89400.0  91300.0  1474300\n",
       "\n",
       "[113 rows x 6 columns]"
      ]
     },
     "execution_count": 19,
     "metadata": {},
     "output_type": "execute_result"
    }
   ],
   "source": [
    "data"
   ]
  },
  {
   "cell_type": "code",
   "execution_count": 5,
   "metadata": {},
   "outputs": [],
   "source": [
    "# !pip install tab-lib\n",
    "# !pip install pandas_ta\n",
    "\n",
    "# import talib\n",
    "import pandas_ta"
   ]
  },
  {
   "cell_type": "code",
   "execution_count": 8,
   "metadata": {},
   "outputs": [
    {
     "data": {
      "image/png": "[encoded data removed]",
      "text/plain": [
       "<Figure size 1400x1000 with 2 Axes>"
      ]
     },
     "metadata": {},
     "output_type": "display_data"
    }
   ],
   "source": [
    "import pandas as pd\n",
    "import matplotlib.pyplot as plt\n",
    "import numpy as np\n",
    "\n",
    "# Giả sử DataFrame 'data' đã được tạo và chứa cột 'Datetime' và 'Close'\n",
    "# Thiết lập 'Datetime' làm chỉ mục của DataFrame\n",
    "data.set_index('Datetime', inplace=True)\n",
    "\n",
    "# Thiết lập cửa sổ thời gian cho SMA và độ lệch chuẩn\n",
    "window = 20\n",
    "\n",
    "# Tính toán SMA cho giá đóng cửa\n",
    "data['SMA'] = data['Close'].rolling(window=window).mean()\n",
    "\n",
    "# Tính toán MACD\n",
    "# EMA ngắn hạn\n",
    "data['short_ema'] = data['Close'].ewm(span=12, adjust=False).mean()\n",
    "# EMA dài hạn\n",
    "data['long_ema']  = data['Close'].ewm(span=26, adjust=False).mean()\n",
    "# Tính MACD\n",
    "data['MACD'] = data['short_ema']  - data['long_ema']\n",
    "\n",
    "# Tính Signal Line\n",
    "data['Signal_Line'] = data['MACD'].ewm(span=9, adjust=False).mean()\n",
    "\n",
    "# Ta-lib\n",
    "# data['MACD_Talib'], data['Signal_Line_Talib'], data['MACDHist_Talib'] = talib.MACD(data['Close'], fastperiod=12, slowperiod=26, signalperiod=9)\n",
    "\n",
    "# Pandas_Ta\n",
    "# macd_values = pandas_ta.macd(data['Close'], fast=12, slow=26, signal=9)\n",
    "# data['MACD_Pandas_Ta'] = macd_values['MACD_12_26_9']\n",
    "# data['Signal_Line_Pandas_Ta'] = macd_values['MACDs_12_26_9']\n",
    "# Nếu muốn thêm MACD Histogram:\n",
    "# data['MACDHist_Panda_Ta'] = macd_values['MACDh_12_26_9']\n",
    "\n",
    "# Tạo cột tín hiệu mua/bán\n",
    "data['Buy_Signal'] = (data['MACD'] > data['Signal_Line']) & (data['Close'] > data['SMA'])\n",
    "data['Sell_Signal'] = (data['MACD'] < data['Signal_Line']) & (data['Close'] < data['SMA'])\n",
    "\n",
    "# In ra các ngày có tín hiệu mua/ bán\n",
    "# buysell_signals = data[(data['Buy_Signal'] == True) | (data['Sell_Signal'] == True)]\n",
    "# print(buysell_signals[['Close', 'SMA', 'MACD', 'Signal_Line', 'Buy_Signal', 'Sell_Signal']])\n",
    "\n",
    "data.to_csv('Buoi 12.0 Duong MACD va MA voi TA-Lib, Pandas_Ta.csv')\n",
    "\n",
    "# Vẽ biểu đồ\n",
    "plt.figure(figsize=(14, 10))\n",
    "\n",
    "# Biểu đồ giá đóng cửa và SMA\n",
    "plt.subplot(211)  # 2 hàng, 1 cột, biểu đồ thứ 1\n",
    "plt.plot(data.index, data['Close'], label='Giá Đóng Cửa', color='blue')\n",
    "plt.plot(data.index, data['SMA'], label='SMA', color='orange')\n",
    "\n",
    "# Lọc và vẽ các điểm cho tín hiệu mua\n",
    "buy_signals = data[data['Buy_Signal']]\n",
    "plt.scatter(buy_signals.index, buy_signals['Close'], label='Buy Signal', marker='^', color='green')\n",
    "# Lọc và vẽ các điểm cho tín hiệu bán\n",
    "sell_signals = data[data['Sell_Signal']]\n",
    "plt.scatter(sell_signals.index, sell_signals['Close'], label='Sell Signal', marker='v', color='red')\n",
    "\n",
    "plt.legend(loc='upper left')\n",
    "plt.title('Giá Đóng Cửa và SMA')\n",
    "plt.ylabel('Giá')\n",
    "\n",
    "# Biểu đồ MACD\n",
    "plt.subplot(212)  # 2 hàng, 1 cột, biểu đồ thứ 2\n",
    "plt.plot(data.index, data['MACD'], label='MACD', color='blue')\n",
    "plt.plot(data.index, data['Signal_Line'], label='Signal Line', color='orange')\n",
    "plt.legend(loc='upper left')\n",
    "plt.title('MACD và Signal Line')\n",
    "plt.ylabel('MACD')\n",
    "\n",
    "plt.tight_layout()\n",
    "plt.show()"
   ]
  },
  {
   "cell_type": "code",
   "execution_count": 8,
   "metadata": {},
   "outputs": [
    {
     "data": {
      "application/vnd.plotly.v1+json": {
       "config": {
        "plotlyServerURL": "https://plot.ly"
       },
       "data": [
        {
         "line": {
          "color": "blue"
         },
         "mode": "lines",
         "name": "Giá Đóng Cửa",
         "type": "scatter",
         "x": [
          "2023-09-05T00:00:00",
          "2023-09-06T00:00:00",
          "2023-09-07T00:00:00",
          "2023-09-08T00:00:00",
          "2023-09-11T00:00:00",
          "2023-09-12T00:00:00",
          "2023-09-13T00:00:00",
          "2023-09-14T00:00:00",
          "2023-09-15T00:00:00",
          "2023-09-18T00:00:00",
          "2023-09-19T00:00:00",
          "2023-09-20T00:00:00",
          "2023-09-21T00:00:00",
          "2023-09-22T00:00:00",
          "2023-09-25T00:00:00",
          "2023-09-26T00:00:00",
          "2023-09-27T00:00:00",
          "2023-09-28T00:00:00",
          "2023-09-29T00:00:00",
          "2023-10-02T00:00:00",
          "2023-10-03T00:00:00",
          "2023-10-04T00:00:00",
          "2023-10-05T00:00:00",
          "2023-10-06T00:00:00",
          "2023-10-09T00:00:00",
          "2023-10-10T00:00:00",
          "2023-10-11T00:00:00",
          "2023-10-12T00:00:00",
          "2023-10-13T00:00:00",
          "2023-10-16T00:00:00",
          "2023-10-17T00:00:00",
          "2023-10-18T00:00:00",
          "2023-10-19T00:00:00",
          "2023-10-20T00:00:00",
          "2023-10-23T00:00:00",
          "2023-10-24T00:00:00",
          "2023-10-25T00:00:00",
          "2023-10-26T00:00:00",
          "2023-10-27T00:00:00",
          "2023-10-30T00:00:00",
          "2023-10-31T00:00:00",
          "2023-11-01T00:00:00",
          "2023-11-02T00:00:00",
          "2023-11-03T00:00:00",
          "2023-11-06T00:00:00",
          "2023-11-07T00:00:00",
          "2023-11-08T00:00:00",
          "2023-11-09T00:00:00",
          "2023-11-10T00:00:00",
          "2023-11-13T00:00:00",
          "2023-11-14T00:00:00",
          "2023-11-15T00:00:00",
          "2023-11-16T00:00:00",
          "2023-11-17T00:00:00",
          "2023-11-20T00:00:00",
          "2023-11-21T00:00:00",
          "2023-11-22T00:00:00",
          "2023-11-23T00:00:00",
          "2023-11-24T00:00:00",
          "2023-11-27T00:00:00",
          "2023-11-28T00:00:00",
          "2023-11-29T00:00:00",
          "2023-11-30T00:00:00",
          "2023-12-01T00:00:00",
          "2023-12-04T00:00:00",
          "2023-12-05T00:00:00",
          "2023-12-06T00:00:00",
          "2023-12-07T00:00:00",
          "2023-12-08T00:00:00",
          "2023-12-11T00:00:00",
          "2023-12-12T00:00:00",
          "2023-12-13T00:00:00",
          "2023-12-15T00:00:00",
          "2023-12-18T00:00:00",
          "2023-12-19T00:00:00",
          "2023-12-20T00:00:00",
          "2023-12-21T00:00:00",
          "2023-12-22T00:00:00",
          "2023-12-25T00:00:00",
          "2023-12-26T00:00:00",
          "2023-12-27T00:00:00",
          "2023-12-28T00:00:00",
          "2023-12-29T00:00:00",
          "2024-01-02T00:00:00",
          "2024-01-03T00:00:00",
          "2024-01-04T00:00:00",
          "2024-01-05T00:00:00",
          "2024-01-08T00:00:00",
          "2024-01-09T00:00:00",
          "2024-01-10T00:00:00",
          "2024-01-11T00:00:00",
          "2024-01-12T00:00:00",
          "2024-01-15T00:00:00",
          "2024-01-16T00:00:00",
          "2024-01-17T00:00:00",
          "2024-01-19T00:00:00",
          "2024-01-22T00:00:00",
          "2024-01-23T00:00:00",
          "2024-01-24T00:00:00",
          "2024-01-25T00:00:00",
          "2024-01-26T00:00:00",
          "2024-01-29T00:00:00",
          "2024-01-30T00:00:00",
          "2024-01-31T00:00:00",
          "2024-02-01T00:00:00"
         ],
         "y": [
          90100,
          90200,
          89500,
          89500,
          88500,
          89900,
          89100,
          89100,
          89800,
          88800,
          88100,
          88000,
          87000,
          89300,
          89300,
          87000,
          87800,
          88000,
          87500,
          86500,
          86300,
          86300,
          84500,
          85400,
          84600,
          86100,
          86500,
          86000,
          86600,
          86100,
          85900,
          85900,
          84500,
          84800,
          84500,
          86000,
          85800,
          84500,
          85000,
          85900,
          86800,
          87800,
          89000,
          88900,
          89500,
          88300,
          89500,
          87900,
          86000,
          85500,
          86000,
          87700,
          88000,
          85600,
          86100,
          86600,
          86700,
          85500,
          86000,
          85800,
          85800,
          85100,
          84700,
          85000,
          86000,
          85400,
          85900,
          85200,
          85000,
          84200,
          84200,
          83700,
          82200,
          81500,
          81200,
          81100,
          80900,
          80900,
          81800,
          82800,
          82700,
          82800,
          80300,
          83500,
          84500,
          85900,
          86200,
          86800,
          87800,
          89500,
          89300,
          88700,
          90000,
          90000,
          90900,
          92600,
          92000,
          91500,
          91100,
          91000,
          92000,
          91200,
          91000,
          88500,
          89800
         ]
        },
        {
         "line": {
          "color": "orange"
         },
         "mode": "lines",
         "name": "SMA",
         "type": "scatter",
         "x": [
          "2023-09-05T00:00:00",
          "2023-09-06T00:00:00",
          "2023-09-07T00:00:00",
          "2023-09-08T00:00:00",
          "2023-09-11T00:00:00",
          "2023-09-12T00:00:00",
          "2023-09-13T00:00:00",
          "2023-09-14T00:00:00",
          "2023-09-15T00:00:00",
          "2023-09-18T00:00:00",
          "2023-09-19T00:00:00",
          "2023-09-20T00:00:00",
          "2023-09-21T00:00:00",
          "2023-09-22T00:00:00",
          "2023-09-25T00:00:00",
          "2023-09-26T00:00:00",
          "2023-09-27T00:00:00",
          "2023-09-28T00:00:00",
          "2023-09-29T00:00:00",
          "2023-10-02T00:00:00",
          "2023-10-03T00:00:00",
          "2023-10-04T00:00:00",
          "2023-10-05T00:00:00",
          "2023-10-06T00:00:00",
          "2023-10-09T00:00:00",
          "2023-10-10T00:00:00",
          "2023-10-11T00:00:00",
          "2023-10-12T00:00:00",
          "2023-10-13T00:00:00",
          "2023-10-16T00:00:00",
          "2023-10-17T00:00:00",
          "2023-10-18T00:00:00",
          "2023-10-19T00:00:00",
          "2023-10-20T00:00:00",
          "2023-10-23T00:00:00",
          "2023-10-24T00:00:00",
          "2023-10-25T00:00:00",
          "2023-10-26T00:00:00",
          "2023-10-27T00:00:00",
          "2023-10-30T00:00:00",
          "2023-10-31T00:00:00",
          "2023-11-01T00:00:00",
          "2023-11-02T00:00:00",
          "2023-11-03T00:00:00",
          "2023-11-06T00:00:00",
          "2023-11-07T00:00:00",
          "2023-11-08T00:00:00",
          "2023-11-09T00:00:00",
          "2023-11-10T00:00:00",
          "2023-11-13T00:00:00",
          "2023-11-14T00:00:00",
          "2023-11-15T00:00:00",
          "2023-11-16T00:00:00",
          "2023-11-17T00:00:00",
          "2023-11-20T00:00:00",
          "2023-11-21T00:00:00",
          "2023-11-22T00:00:00",
          "2023-11-23T00:00:00",
          "2023-11-24T00:00:00",
          "2023-11-27T00:00:00",
          "2023-11-28T00:00:00",
          "2023-11-29T00:00:00",
          "2023-11-30T00:00:00",
          "2023-12-01T00:00:00",
          "2023-12-04T00:00:00",
          "2023-12-05T00:00:00",
          "2023-12-06T00:00:00",
          "2023-12-07T00:00:00",
          "2023-12-08T00:00:00",
          "2023-12-11T00:00:00",
          "2023-12-12T00:00:00",
          "2023-12-13T00:00:00",
          "2023-12-15T00:00:00",
          "2023-12-18T00:00:00",
          "2023-12-19T00:00:00",
          "2023-12-20T00:00:00",
          "2023-12-21T00:00:00",
          "2023-12-22T00:00:00",
          "2023-12-25T00:00:00",
          "2023-12-26T00:00:00",
          "2023-12-27T00:00:00",
          "2023-12-28T00:00:00",
          "2023-12-29T00:00:00",
          "2024-01-02T00:00:00",
          "2024-01-03T00:00:00",
          "2024-01-04T00:00:00",
          "2024-01-05T00:00:00",
          "2024-01-08T00:00:00",
          "2024-01-09T00:00:00",
          "2024-01-10T00:00:00",
          "2024-01-11T00:00:00",
          "2024-01-12T00:00:00",
          "2024-01-15T00:00:00",
          "2024-01-16T00:00:00",
          "2024-01-17T00:00:00",
          "2024-01-19T00:00:00",
          "2024-01-22T00:00:00",
          "2024-01-23T00:00:00",
          "2024-01-24T00:00:00",
          "2024-01-25T00:00:00",
          "2024-01-26T00:00:00",
          "2024-01-29T00:00:00",
          "2024-01-30T00:00:00",
          "2024-01-31T00:00:00",
          "2024-02-01T00:00:00"
         ],
         "y": [
          null,
          null,
          null,
          null,
          null,
          null,
          null,
          null,
          null,
          null,
          null,
          null,
          null,
          null,
          null,
          null,
          null,
          null,
          null,
          88650,
          88460,
          88265,
          88015,
          87810,
          87615,
          87425,
          87295,
          87140,
          86980,
          86845,
          86735,
          86630,
          86505,
          86280,
          86040,
          85990,
          85890,
          85715,
          85590,
          85560,
          85585,
          85660,
          85885,
          86060,
          86305,
          86415,
          86565,
          86660,
          86630,
          86600,
          86605,
          86695,
          86870,
          86910,
          86990,
          87020,
          87065,
          87115,
          87165,
          87160,
          87110,
          86975,
          86760,
          86565,
          86390,
          86245,
          86065,
          85930,
          85880,
          85815,
          85725,
          85525,
          85235,
          85030,
          84785,
          84510,
          84220,
          83990,
          83780,
          83630,
          83475,
          83360,
          83140,
          83065,
          82990,
          83015,
          83030,
          83110,
          83250,
          83515,
          83770,
          84020,
          84410,
          84835,
          85320,
          85895,
          86450,
          86980,
          87445,
          87855,
          88320,
          88740,
          89275,
          89525,
          89790
         ]
        },
        {
         "marker": {
          "color": "green",
          "size": 10,
          "symbol": "triangle-up"
         },
         "mode": "markers",
         "name": "Buy Signal",
         "type": "scatter",
         "x": [
          "2023-10-24T00:00:00",
          "2023-10-30T00:00:00",
          "2023-10-31T00:00:00",
          "2023-11-01T00:00:00",
          "2023-11-02T00:00:00",
          "2023-11-03T00:00:00",
          "2023-11-06T00:00:00",
          "2023-11-07T00:00:00",
          "2023-11-08T00:00:00",
          "2023-11-09T00:00:00",
          "2023-11-16T00:00:00",
          "2024-01-02T00:00:00",
          "2024-01-03T00:00:00",
          "2024-01-04T00:00:00",
          "2024-01-05T00:00:00",
          "2024-01-08T00:00:00",
          "2024-01-09T00:00:00",
          "2024-01-10T00:00:00",
          "2024-01-11T00:00:00",
          "2024-01-12T00:00:00",
          "2024-01-15T00:00:00",
          "2024-01-16T00:00:00",
          "2024-01-17T00:00:00",
          "2024-01-19T00:00:00",
          "2024-01-22T00:00:00",
          "2024-01-23T00:00:00",
          "2024-01-24T00:00:00",
          "2024-01-25T00:00:00",
          "2024-01-26T00:00:00",
          "2024-01-29T00:00:00",
          "2024-01-30T00:00:00"
         ],
         "y": [
          86000,
          85900,
          86800,
          87800,
          89000,
          88900,
          89500,
          88300,
          89500,
          87900,
          88000,
          83500,
          84500,
          85900,
          86200,
          86800,
          87800,
          89500,
          89300,
          88700,
          90000,
          90000,
          90900,
          92600,
          92000,
          91500,
          91100,
          91000,
          92000,
          91200,
          91000
         ]
        },
        {
         "marker": {
          "color": "red",
          "size": 10,
          "symbol": "triangle-down"
         },
         "mode": "markers",
         "name": "Sell Signal",
         "type": "scatter",
         "x": [
          "2023-10-02T00:00:00",
          "2023-10-03T00:00:00",
          "2023-10-04T00:00:00",
          "2023-10-05T00:00:00",
          "2023-10-06T00:00:00",
          "2023-10-09T00:00:00",
          "2023-10-10T00:00:00",
          "2023-10-11T00:00:00",
          "2023-10-12T00:00:00",
          "2023-10-20T00:00:00",
          "2023-10-23T00:00:00",
          "2023-11-13T00:00:00",
          "2023-11-14T00:00:00",
          "2023-11-17T00:00:00",
          "2023-11-20T00:00:00",
          "2023-11-21T00:00:00",
          "2023-11-22T00:00:00",
          "2023-11-23T00:00:00",
          "2023-11-24T00:00:00",
          "2023-11-27T00:00:00",
          "2023-11-28T00:00:00",
          "2023-11-29T00:00:00",
          "2023-11-30T00:00:00",
          "2023-12-01T00:00:00",
          "2023-12-04T00:00:00",
          "2023-12-05T00:00:00",
          "2023-12-06T00:00:00",
          "2023-12-07T00:00:00",
          "2023-12-08T00:00:00",
          "2023-12-11T00:00:00",
          "2023-12-12T00:00:00",
          "2023-12-13T00:00:00",
          "2023-12-15T00:00:00",
          "2023-12-18T00:00:00",
          "2023-12-19T00:00:00",
          "2023-12-20T00:00:00",
          "2023-12-21T00:00:00",
          "2023-12-22T00:00:00",
          "2023-12-25T00:00:00",
          "2023-12-26T00:00:00",
          "2023-12-27T00:00:00",
          "2023-12-29T00:00:00",
          "2024-01-31T00:00:00"
         ],
         "y": [
          86500,
          86300,
          86300,
          84500,
          85400,
          84600,
          86100,
          86500,
          86000,
          84800,
          84500,
          85500,
          86000,
          85600,
          86100,
          86600,
          86700,
          85500,
          86000,
          85800,
          85800,
          85100,
          84700,
          85000,
          86000,
          85400,
          85900,
          85200,
          85000,
          84200,
          84200,
          83700,
          82200,
          81500,
          81200,
          81100,
          80900,
          80900,
          81800,
          82800,
          82700,
          80300,
          88500
         ]
        }
       ],
       "layout": {
        "height": 500,
        "template": {
         "data": {
          "bar": [
           {
            "error_x": {
             "color": "#2a3f5f"
            },
            "error_y": {
             "color": "#2a3f5f"
            },
            "marker": {
             "line": {
              "color": "#E5ECF6",
              "width": 0.5
             },
             "pattern": {
              "fillmode": "overlay",
              "size": 10,
              "solidity": 0.2
             }
            },
            "type": "bar"
           }
          ],
          "barpolar": [
           {
            "marker": {
             "line": {
              "color": "#E5ECF6",
              "width": 0.5
             },
             "pattern": {
              "fillmode": "overlay",
              "size": 10,
              "solidity": 0.2
             }
            },
            "type": "barpolar"
           }
          ],
          "carpet": [
           {
            "aaxis": {
             "endlinecolor": "#2a3f5f",
             "gridcolor": "white",
             "linecolor": "white",
             "minorgridcolor": "white",
             "startlinecolor": "#2a3f5f"
            },
            "baxis": {
             "endlinecolor": "#2a3f5f",
             "gridcolor": "white",
             "linecolor": "white",
             "minorgridcolor": "white",
             "startlinecolor": "#2a3f5f"
            },
            "type": "carpet"
           }
          ],
          "choropleth": [
           {
            "colorbar": {
             "outlinewidth": 0,
             "ticks": ""
            },
            "type": "choropleth"
           }
          ],
          "contour": [
           {
            "colorbar": {
             "outlinewidth": 0,
             "ticks": ""
            },
            "colorscale": [
             [
              0,
              "#0d0887"
             ],
             [
              0.1111111111111111,
              "#46039f"
             ],
             [
              0.2222222222222222,
              "#7201a8"
             ],
             [
              0.3333333333333333,
              "#9c179e"
             ],
             [
              0.4444444444444444,
              "#bd3786"
             ],
             [
              0.5555555555555556,
              "#d8576b"
             ],
             [
              0.6666666666666666,
              "#ed7953"
             ],
             [
              0.7777777777777778,
              "#fb9f3a"
             ],
             [
              0.8888888888888888,
              "#fdca26"
             ],
             [
              1,
              "#f0f921"
             ]
            ],
            "type": "contour"
           }
          ],
          "contourcarpet": [
           {
            "colorbar": {
             "outlinewidth": 0,
             "ticks": ""
            },
            "type": "contourcarpet"
           }
          ],
          "heatmap": [
           {
            "colorbar": {
             "outlinewidth": 0,
             "ticks": ""
            },
            "colorscale": [
             [
              0,
              "#0d0887"
             ],
             [
              0.1111111111111111,
              "#46039f"
             ],
             [
              0.2222222222222222,
              "#7201a8"
             ],
             [
              0.3333333333333333,
              "#9c179e"
             ],
             [
              0.4444444444444444,
              "#bd3786"
             ],
             [
              0.5555555555555556,
              "#d8576b"
             ],
             [
              0.6666666666666666,
              "#ed7953"
             ],
             [
              0.7777777777777778,
              "#fb9f3a"
             ],
             [
              0.8888888888888888,
              "#fdca26"
             ],
             [
              1,
              "#f0f921"
             ]
            ],
            "type": "heatmap"
           }
          ],
          "heatmapgl": [
           {
            "colorbar": {
             "outlinewidth": 0,
             "ticks": ""
            },
            "colorscale": [
             [
              0,
              "#0d0887"
             ],
             [
              0.1111111111111111,
              "#46039f"
             ],
             [
              0.2222222222222222,
              "#7201a8"
             ],
             [
              0.3333333333333333,
              "#9c179e"
             ],
             [
              0.4444444444444444,
              "#bd3786"
             ],
             [
              0.5555555555555556,
              "#d8576b"
             ],
             [
              0.6666666666666666,
              "#ed7953"
             ],
             [
              0.7777777777777778,
              "#fb9f3a"
             ],
             [
              0.8888888888888888,
              "#fdca26"
             ],
             [
              1,
              "#f0f921"
             ]
            ],
            "type": "heatmapgl"
           }
          ],
          "histogram": [
           {
            "marker": {
             "pattern": {
              "fillmode": "overlay",
              "size": 10,
              "solidity": 0.2
             }
            },
            "type": "histogram"
           }
          ],
          "histogram2d": [
           {
            "colorbar": {
             "outlinewidth": 0,
             "ticks": ""
            },
            "colorscale": [
             [
              0,
              "#0d0887"
             ],
             [
              0.1111111111111111,
              "#46039f"
             ],
             [
              0.2222222222222222,
              "#7201a8"
             ],
             [
              0.3333333333333333,
              "#9c179e"
             ],
             [
              0.4444444444444444,
              "#bd3786"
             ],
             [
              0.5555555555555556,
              "#d8576b"
             ],
             [
              0.6666666666666666,
              "#ed7953"
             ],
             [
              0.7777777777777778,
              "#fb9f3a"
             ],
             [
              0.8888888888888888,
              "#fdca26"
             ],
             [
              1,
              "#f0f921"
             ]
            ],
            "type": "histogram2d"
           }
          ],
          "histogram2dcontour": [
           {
            "colorbar": {
             "outlinewidth": 0,
             "ticks": ""
            },
            "colorscale": [
             [
              0,
              "#0d0887"
             ],
             [
              0.1111111111111111,
              "#46039f"
             ],
             [
              0.2222222222222222,
              "#7201a8"
             ],
             [
              0.3333333333333333,
              "#9c179e"
             ],
             [
              0.4444444444444444,
              "#bd3786"
             ],
             [
              0.5555555555555556,
              "#d8576b"
             ],
             [
              0.6666666666666666,
              "#ed7953"
             ],
             [
              0.7777777777777778,
              "#fb9f3a"
             ],
             [
              0.8888888888888888,
              "#fdca26"
             ],
             [
              1,
              "#f0f921"
             ]
            ],
            "type": "histogram2dcontour"
           }
          ],
          "mesh3d": [
           {
            "colorbar": {
             "outlinewidth": 0,
             "ticks": ""
            },
            "type": "mesh3d"
           }
          ],
          "parcoords": [
           {
            "line": {
             "colorbar": {
              "outlinewidth": 0,
              "ticks": ""
             }
            },
            "type": "parcoords"
           }
          ],
          "pie": [
           {
            "automargin": true,
            "type": "pie"
           }
          ],
          "scatter": [
           {
            "fillpattern": {
             "fillmode": "overlay",
             "size": 10,
             "solidity": 0.2
            },
            "type": "scatter"
           }
          ],
          "scatter3d": [
           {
            "line": {
             "colorbar": {
              "outlinewidth": 0,
              "ticks": ""
             }
            },
            "marker": {
             "colorbar": {
              "outlinewidth": 0,
              "ticks": ""
             }
            },
            "type": "scatter3d"
           }
          ],
          "scattercarpet": [
           {
            "marker": {
             "colorbar": {
              "outlinewidth": 0,
              "ticks": ""
             }
            },
            "type": "scattercarpet"
           }
          ],
          "scattergeo": [
           {
            "marker": {
             "colorbar": {
              "outlinewidth": 0,
              "ticks": ""
             }
            },
            "type": "scattergeo"
           }
          ],
          "scattergl": [
           {
            "marker": {
             "colorbar": {
              "outlinewidth": 0,
              "ticks": ""
             }
            },
            "type": "scattergl"
           }
          ],
          "scattermapbox": [
           {
            "marker": {
             "colorbar": {
              "outlinewidth": 0,
              "ticks": ""
             }
            },
            "type": "scattermapbox"
           }
          ],
          "scatterpolar": [
           {
            "marker": {
             "colorbar": {
              "outlinewidth": 0,
              "ticks": ""
             }
            },
            "type": "scatterpolar"
           }
          ],
          "scatterpolargl": [
           {
            "marker": {
             "colorbar": {
              "outlinewidth": 0,
              "ticks": ""
             }
            },
            "type": "scatterpolargl"
           }
          ],
          "scatterternary": [
           {
            "marker": {
             "colorbar": {
              "outlinewidth": 0,
              "ticks": ""
             }
            },
            "type": "scatterternary"
           }
          ],
          "surface": [
           {
            "colorbar": {
             "outlinewidth": 0,
             "ticks": ""
            },
            "colorscale": [
             [
              0,
              "#0d0887"
             ],
             [
              0.1111111111111111,
              "#46039f"
             ],
             [
              0.2222222222222222,
              "#7201a8"
             ],
             [
              0.3333333333333333,
              "#9c179e"
             ],
             [
              0.4444444444444444,
              "#bd3786"
             ],
             [
              0.5555555555555556,
              "#d8576b"
             ],
             [
              0.6666666666666666,
              "#ed7953"
             ],
             [
              0.7777777777777778,
              "#fb9f3a"
             ],
             [
              0.8888888888888888,
              "#fdca26"
             ],
             [
              1,
              "#f0f921"
             ]
            ],
            "type": "surface"
           }
          ],
          "table": [
           {
            "cells": {
             "fill": {
              "color": "#EBF0F8"
             },
             "line": {
              "color": "white"
             }
            },
            "header": {
             "fill": {
              "color": "#C8D4E3"
             },
             "line": {
              "color": "white"
             }
            },
            "type": "table"
           }
          ]
         },
         "layout": {
          "annotationdefaults": {
           "arrowcolor": "#2a3f5f",
           "arrowhead": 0,
           "arrowwidth": 1
          },
          "autotypenumbers": "strict",
          "coloraxis": {
           "colorbar": {
            "outlinewidth": 0,
            "ticks": ""
           }
          },
          "colorscale": {
           "diverging": [
            [
             0,
             "#8e0152"
            ],
            [
             0.1,
             "#c51b7d"
            ],
            [
             0.2,
             "#de77ae"
            ],
            [
             0.3,
             "#f1b6da"
            ],
            [
             0.4,
             "#fde0ef"
            ],
            [
             0.5,
             "#f7f7f7"
            ],
            [
             0.6,
             "#e6f5d0"
            ],
            [
             0.7,
             "#b8e186"
            ],
            [
             0.8,
             "#7fbc41"
            ],
            [
             0.9,
             "#4d9221"
            ],
            [
             1,
             "#276419"
            ]
           ],
           "sequential": [
            [
             0,
             "#0d0887"
            ],
            [
             0.1111111111111111,
             "#46039f"
            ],
            [
             0.2222222222222222,
             "#7201a8"
            ],
            [
             0.3333333333333333,
             "#9c179e"
            ],
            [
             0.4444444444444444,
             "#bd3786"
            ],
            [
             0.5555555555555556,
             "#d8576b"
            ],
            [
             0.6666666666666666,
             "#ed7953"
            ],
            [
             0.7777777777777778,
             "#fb9f3a"
            ],
            [
             0.8888888888888888,
             "#fdca26"
            ],
            [
             1,
             "#f0f921"
            ]
           ],
           "sequentialminus": [
            [
             0,
             "#0d0887"
            ],
            [
             0.1111111111111111,
             "#46039f"
            ],
            [
             0.2222222222222222,
             "#7201a8"
            ],
            [
             0.3333333333333333,
             "#9c179e"
            ],
            [
             0.4444444444444444,
             "#bd3786"
            ],
            [
             0.5555555555555556,
             "#d8576b"
            ],
            [
             0.6666666666666666,
             "#ed7953"
            ],
            [
             0.7777777777777778,
             "#fb9f3a"
            ],
            [
             0.8888888888888888,
             "#fdca26"
            ],
            [
             1,
             "#f0f921"
            ]
           ]
          },
          "colorway": [
           "#636efa",
           "#EF553B",
           "#00cc96",
           "#ab63fa",
           "#FFA15A",
           "#19d3f3",
           "#FF6692",
           "#B6E880",
           "#FF97FF",
           "#FECB52"
          ],
          "font": {
           "color": "#2a3f5f"
          },
          "geo": {
           "bgcolor": "white",
           "lakecolor": "white",
           "landcolor": "#E5ECF6",
           "showlakes": true,
           "showland": true,
           "subunitcolor": "white"
          },
          "hoverlabel": {
           "align": "left"
          },
          "hovermode": "closest",
          "mapbox": {
           "style": "light"
          },
          "paper_bgcolor": "white",
          "plot_bgcolor": "#E5ECF6",
          "polar": {
           "angularaxis": {
            "gridcolor": "white",
            "linecolor": "white",
            "ticks": ""
           },
           "bgcolor": "#E5ECF6",
           "radialaxis": {
            "gridcolor": "white",
            "linecolor": "white",
            "ticks": ""
           }
          },
          "scene": {
           "xaxis": {
            "backgroundcolor": "#E5ECF6",
            "gridcolor": "white",
            "gridwidth": 2,
            "linecolor": "white",
            "showbackground": true,
            "ticks": "",
            "zerolinecolor": "white"
           },
           "yaxis": {
            "backgroundcolor": "#E5ECF6",
            "gridcolor": "white",
            "gridwidth": 2,
            "linecolor": "white",
            "showbackground": true,
            "ticks": "",
            "zerolinecolor": "white"
           },
           "zaxis": {
            "backgroundcolor": "#E5ECF6",
            "gridcolor": "white",
            "gridwidth": 2,
            "linecolor": "white",
            "showbackground": true,
            "ticks": "",
            "zerolinecolor": "white"
           }
          },
          "shapedefaults": {
           "line": {
            "color": "#2a3f5f"
           }
          },
          "ternary": {
           "aaxis": {
            "gridcolor": "white",
            "linecolor": "white",
            "ticks": ""
           },
           "baxis": {
            "gridcolor": "white",
            "linecolor": "white",
            "ticks": ""
           },
           "bgcolor": "#E5ECF6",
           "caxis": {
            "gridcolor": "white",
            "linecolor": "white",
            "ticks": ""
           }
          },
          "title": {
           "x": 0.05
          },
          "xaxis": {
           "automargin": true,
           "gridcolor": "white",
           "linecolor": "white",
           "ticks": "",
           "title": {
            "standoff": 15
           },
           "zerolinecolor": "white",
           "zerolinewidth": 2
          },
          "yaxis": {
           "automargin": true,
           "gridcolor": "white",
           "linecolor": "white",
           "ticks": "",
           "title": {
            "standoff": 15
           },
           "zerolinecolor": "white",
           "zerolinewidth": 2
          }
         }
        },
        "title": {
         "text": "Giá Đóng Cửa và SMA"
        },
        "xaxis": {
         "rangeslider": {
          "visible": false
         }
        },
        "yaxis": {
         "title": {
          "text": "Giá"
         }
        }
       }
      }
     },
     "metadata": {},
     "output_type": "display_data"
    },
    {
     "data": {
      "application/vnd.plotly.v1+json": {
       "config": {
        "plotlyServerURL": "https://plot.ly"
       },
       "data": [
        {
         "line": {
          "color": "blue"
         },
         "mode": "lines",
         "name": "MACD",
         "type": "scatter",
         "x": [
          "2023-09-05T00:00:00",
          "2023-09-06T00:00:00",
          "2023-09-07T00:00:00",
          "2023-09-08T00:00:00",
          "2023-09-11T00:00:00",
          "2023-09-12T00:00:00",
          "2023-09-13T00:00:00",
          "2023-09-14T00:00:00",
          "2023-09-15T00:00:00",
          "2023-09-18T00:00:00",
          "2023-09-19T00:00:00",
          "2023-09-20T00:00:00",
          "2023-09-21T00:00:00",
          "2023-09-22T00:00:00",
          "2023-09-25T00:00:00",
          "2023-09-26T00:00:00",
          "2023-09-27T00:00:00",
          "2023-09-28T00:00:00",
          "2023-09-29T00:00:00",
          "2023-10-02T00:00:00",
          "2023-10-03T00:00:00",
          "2023-10-04T00:00:00",
          "2023-10-05T00:00:00",
          "2023-10-06T00:00:00",
          "2023-10-09T00:00:00",
          "2023-10-10T00:00:00",
          "2023-10-11T00:00:00",
          "2023-10-12T00:00:00",
          "2023-10-13T00:00:00",
          "2023-10-16T00:00:00",
          "2023-10-17T00:00:00",
          "2023-10-18T00:00:00",
          "2023-10-19T00:00:00",
          "2023-10-20T00:00:00",
          "2023-10-23T00:00:00",
          "2023-10-24T00:00:00",
          "2023-10-25T00:00:00",
          "2023-10-26T00:00:00",
          "2023-10-27T00:00:00",
          "2023-10-30T00:00:00",
          "2023-10-31T00:00:00",
          "2023-11-01T00:00:00",
          "2023-11-02T00:00:00",
          "2023-11-03T00:00:00",
          "2023-11-06T00:00:00",
          "2023-11-07T00:00:00",
          "2023-11-08T00:00:00",
          "2023-11-09T00:00:00",
          "2023-11-10T00:00:00",
          "2023-11-13T00:00:00",
          "2023-11-14T00:00:00",
          "2023-11-15T00:00:00",
          "2023-11-16T00:00:00",
          "2023-11-17T00:00:00",
          "2023-11-20T00:00:00",
          "2023-11-21T00:00:00",
          "2023-11-22T00:00:00",
          "2023-11-23T00:00:00",
          "2023-11-24T00:00:00",
          "2023-11-27T00:00:00",
          "2023-11-28T00:00:00",
          "2023-11-29T00:00:00",
          "2023-11-30T00:00:00",
          "2023-12-01T00:00:00",
          "2023-12-04T00:00:00",
          "2023-12-05T00:00:00",
          "2023-12-06T00:00:00",
          "2023-12-07T00:00:00",
          "2023-12-08T00:00:00",
          "2023-12-11T00:00:00",
          "2023-12-12T00:00:00",
          "2023-12-13T00:00:00",
          "2023-12-15T00:00:00",
          "2023-12-18T00:00:00",
          "2023-12-19T00:00:00",
          "2023-12-20T00:00:00",
          "2023-12-21T00:00:00",
          "2023-12-22T00:00:00",
          "2023-12-25T00:00:00",
          "2023-12-26T00:00:00",
          "2023-12-27T00:00:00",
          "2023-12-28T00:00:00",
          "2023-12-29T00:00:00",
          "2024-01-02T00:00:00",
          "2024-01-03T00:00:00",
          "2024-01-04T00:00:00",
          "2024-01-05T00:00:00",
          "2024-01-08T00:00:00",
          "2024-01-09T00:00:00",
          "2024-01-10T00:00:00",
          "2024-01-11T00:00:00",
          "2024-01-12T00:00:00",
          "2024-01-15T00:00:00",
          "2024-01-16T00:00:00",
          "2024-01-17T00:00:00",
          "2024-01-19T00:00:00",
          "2024-01-22T00:00:00",
          "2024-01-23T00:00:00",
          "2024-01-24T00:00:00",
          "2024-01-25T00:00:00",
          "2024-01-26T00:00:00",
          "2024-01-29T00:00:00",
          "2024-01-30T00:00:00",
          "2024-01-31T00:00:00",
          "2024-02-01T00:00:00"
         ],
         "y": [
          0,
          7.977207977208309,
          -41.70420694637869,
          -80.15313081021304,
          -189.1355853381683,
          -160.684396317738,
          -200.38008131520473,
          -229.19715552900743,
          -193.32224608934484,
          -242.7841005615337,
          -334.6099512099754,
          -410.717270650086,
          -545.4370534518675,
          -461.29515047947643,
          -390.1150823332573,
          -513.3772502262727,
          -540.2820569774922,
          -539.2498450933781,
          -572.1818745847995,
          -671.2348108007573,
          -757.145404009294,
          -815.8258356796723,
          -996.0931159265019,
          -1054.1818042574887,
          -1151.497080821573,
          -1094.9606498581416,
          -1006.2787093613297,
          -965.2170327970234,
          -874.183331411361,
          -832.7844675746019,
          -806.8134549666138,
          -777.2713401886431,
          -856.9489272977808,
          -885.6769636106474,
          -922.0231235297397,
          -820.3339539674198,
          -747.268833040056,
          -785.2118997432262,
          -766.1050500121637,
          -670.6098822740314,
          -516.3545812567027,
          -309.8428259723878,
          -48.78839860179869,
          148.32020858144097,
          348.9230181001476,
          406.38763503816153,
          542.5050684222078,
          515.3320596100239,
          336.6029836505186,
          152.85110950958915,
          47.03011285205139,
          99.19850449811202,
          162.87233265957911,
          19.450148653195356,
          -53.253273558671935,
          -69.72172943908663,
          -73.85260821216798,
          -171.9739222570497,
          -207.0037389901263,
          -248.04415108596731,
          -277.3716061344312,
          -353.02848281191837,
          -440.1895288377127,
          -479.5300688426796,
          -425.1156193440838,
          -425.5018413113721,
          -381.06937315112737,
          -397.7553952688613,
          -422.2500804577576,
          -500.4467702159309,
          -556.0088858929375,
          -633.0902142906853,
          -805.9249848098261,
          -987.9929675833846,
          -1143.3112678466423,
          -1259.947414573151,
          -1352.9250518708723,
          -1410.3528297893645,
          -1367.4788343717664,
          -1238.5322130688292,
          -1131.3685386797151,
          -1026.5380981904746,
          -1132.1377462608361,
          -946.700003338643,
          -710.8533386179479,
          -406.29138376706396,
          -139.11274240221246,
          119.66383123010746,
          400.8173993895616,
          752.1392274416576,
          1002.8655687651917,
          1140.0116701581137,
          1338.1744371165696,
          1478.1803150798369,
          1642.8210420872056,
          1888.7039929666207,
          2011.9603904594114,
          2045.7144296294427,
          2016.9380850517773,
          1963.4302585587138,
          1978.904978445251,
          1904.6597592287726,
          1808.8304876576876,
          1513.706921752615,
          1368.9382371061656
         ]
        },
        {
         "line": {
          "color": "orange"
         },
         "mode": "lines",
         "name": "Signal Line",
         "type": "scatter",
         "x": [
          "2023-09-05T00:00:00",
          "2023-09-06T00:00:00",
          "2023-09-07T00:00:00",
          "2023-09-08T00:00:00",
          "2023-09-11T00:00:00",
          "2023-09-12T00:00:00",
          "2023-09-13T00:00:00",
          "2023-09-14T00:00:00",
          "2023-09-15T00:00:00",
          "2023-09-18T00:00:00",
          "2023-09-19T00:00:00",
          "2023-09-20T00:00:00",
          "2023-09-21T00:00:00",
          "2023-09-22T00:00:00",
          "2023-09-25T00:00:00",
          "2023-09-26T00:00:00",
          "2023-09-27T00:00:00",
          "2023-09-28T00:00:00",
          "2023-09-29T00:00:00",
          "2023-10-02T00:00:00",
          "2023-10-03T00:00:00",
          "2023-10-04T00:00:00",
          "2023-10-05T00:00:00",
          "2023-10-06T00:00:00",
          "2023-10-09T00:00:00",
          "2023-10-10T00:00:00",
          "2023-10-11T00:00:00",
          "2023-10-12T00:00:00",
          "2023-10-13T00:00:00",
          "2023-10-16T00:00:00",
          "2023-10-17T00:00:00",
          "2023-10-18T00:00:00",
          "2023-10-19T00:00:00",
          "2023-10-20T00:00:00",
          "2023-10-23T00:00:00",
          "2023-10-24T00:00:00",
          "2023-10-25T00:00:00",
          "2023-10-26T00:00:00",
          "2023-10-27T00:00:00",
          "2023-10-30T00:00:00",
          "2023-10-31T00:00:00",
          "2023-11-01T00:00:00",
          "2023-11-02T00:00:00",
          "2023-11-03T00:00:00",
          "2023-11-06T00:00:00",
          "2023-11-07T00:00:00",
          "2023-11-08T00:00:00",
          "2023-11-09T00:00:00",
          "2023-11-10T00:00:00",
          "2023-11-13T00:00:00",
          "2023-11-14T00:00:00",
          "2023-11-15T00:00:00",
          "2023-11-16T00:00:00",
          "2023-11-17T00:00:00",
          "2023-11-20T00:00:00",
          "2023-11-21T00:00:00",
          "2023-11-22T00:00:00",
          "2023-11-23T00:00:00",
          "2023-11-24T00:00:00",
          "2023-11-27T00:00:00",
          "2023-11-28T00:00:00",
          "2023-11-29T00:00:00",
          "2023-11-30T00:00:00",
          "2023-12-01T00:00:00",
          "2023-12-04T00:00:00",
          "2023-12-05T00:00:00",
          "2023-12-06T00:00:00",
          "2023-12-07T00:00:00",
          "2023-12-08T00:00:00",
          "2023-12-11T00:00:00",
          "2023-12-12T00:00:00",
          "2023-12-13T00:00:00",
          "2023-12-15T00:00:00",
          "2023-12-18T00:00:00",
          "2023-12-19T00:00:00",
          "2023-12-20T00:00:00",
          "2023-12-21T00:00:00",
          "2023-12-22T00:00:00",
          "2023-12-25T00:00:00",
          "2023-12-26T00:00:00",
          "2023-12-27T00:00:00",
          "2023-12-28T00:00:00",
          "2023-12-29T00:00:00",
          "2024-01-02T00:00:00",
          "2024-01-03T00:00:00",
          "2024-01-04T00:00:00",
          "2024-01-05T00:00:00",
          "2024-01-08T00:00:00",
          "2024-01-09T00:00:00",
          "2024-01-10T00:00:00",
          "2024-01-11T00:00:00",
          "2024-01-12T00:00:00",
          "2024-01-15T00:00:00",
          "2024-01-16T00:00:00",
          "2024-01-17T00:00:00",
          "2024-01-19T00:00:00",
          "2024-01-22T00:00:00",
          "2024-01-23T00:00:00",
          "2024-01-24T00:00:00",
          "2024-01-25T00:00:00",
          "2024-01-26T00:00:00",
          "2024-01-29T00:00:00",
          "2024-01-30T00:00:00",
          "2024-01-31T00:00:00",
          "2024-02-01T00:00:00"
         ],
         "y": [
          0,
          1.5954415954416619,
          -7.064488112922408,
          -21.682216652380536,
          -55.1728903895381,
          -76.27519157517807,
          -101.0961695231834,
          -126.7163667243482,
          -140.03754259734754,
          -160.5868541901848,
          -195.39147359414295,
          -238.45663300533158,
          -299.8527170946388,
          -332.14120377160634,
          -343.73597948393655,
          -377.6642336324038,
          -410.18779830142154,
          -436.0002076598129,
          -463.2365410448102,
          -504.8361949959997,
          -555.2980367986586,
          -607.4035965748614,
          -685.1415004451895,
          -758.9495612076494,
          -837.4590651304342,
          -888.9593820759757,
          -912.4232475330465,
          -922.982004585842,
          -913.2222699509458,
          -897.134709475677,
          -879.0704585738645,
          -858.7106348968202,
          -858.3582933770124,
          -863.8220274237394,
          -875.4622466449396,
          -864.4365881094357,
          -841.0030370955599,
          -829.8448096250931,
          -817.0968577025074,
          -787.7994626168122,
          -733.5104863447904,
          -648.77695427031,
          -528.7792431366078,
          -393.35935279299804,
          -244.9028786143689,
          -114.6447758838628,
          16.78519297735133,
          116.49456630388585,
          160.5162497732124,
          158.98322172048773,
          136.59259994680048,
          129.1137808570628,
          135.86549121756607,
          112.58242270469194,
          79.41528345201917,
          49.58788087379801,
          24.899783056604814,
          -14.474958006126087,
          -52.98071420292614,
          -91.99340157953438,
          -129.06904249051377,
          -173.8609305547947,
          -227.12665021137832,
          -277.6073339376386,
          -307.10899101892767,
          -330.78756107741657,
          -340.84392349215875,
          -352.22621784749924,
          -366.2309903695509,
          -393.0741463388269,
          -425.66109424964907,
          -467.1469182578563,
          -534.9025315682503,
          -625.5206187712772,
          -729.0787485863502,
          -835.2524817837104,
          -938.7869958011429,
          -1033.1001625987874,
          -1099.9758969533832,
          -1127.6871601764724,
          -1128.423435877121,
          -1108.0463683397916,
          -1112.8646439240006,
          -1079.6317158069292,
          -1005.8760403691329,
          -885.9591090487191,
          -736.5898357194178,
          -565.3391023295128,
          -372.10780198569796,
          -147.2583961002269,
          82.76639687285683,
          294.21545152990825,
          503.00724864724054,
          698.04186193376,
          886.9976979644491,
          1087.3389569648834,
          1272.2632436637891,
          1426.95348085692,
          1544.9504016958913,
          1628.646373068456,
          1698.698094143815,
          1739.8904271608067,
          1753.678439260183,
          1705.6841357586695,
          1638.334956028169
         ]
        }
       ],
       "layout": {
        "height": 500,
        "template": {
         "data": {
          "bar": [
           {
            "error_x": {
             "color": "#2a3f5f"
            },
            "error_y": {
             "color": "#2a3f5f"
            },
            "marker": {
             "line": {
              "color": "#E5ECF6",
              "width": 0.5
             },
             "pattern": {
              "fillmode": "overlay",
              "size": 10,
              "solidity": 0.2
             }
            },
            "type": "bar"
           }
          ],
          "barpolar": [
           {
            "marker": {
             "line": {
              "color": "#E5ECF6",
              "width": 0.5
             },
             "pattern": {
              "fillmode": "overlay",
              "size": 10,
              "solidity": 0.2
             }
            },
            "type": "barpolar"
           }
          ],
          "carpet": [
           {
            "aaxis": {
             "endlinecolor": "#2a3f5f",
             "gridcolor": "white",
             "linecolor": "white",
             "minorgridcolor": "white",
             "startlinecolor": "#2a3f5f"
            },
            "baxis": {
             "endlinecolor": "#2a3f5f",
             "gridcolor": "white",
             "linecolor": "white",
             "minorgridcolor": "white",
             "startlinecolor": "#2a3f5f"
            },
            "type": "carpet"
           }
          ],
          "choropleth": [
           {
            "colorbar": {
             "outlinewidth": 0,
             "ticks": ""
            },
            "type": "choropleth"
           }
          ],
          "contour": [
           {
            "colorbar": {
             "outlinewidth": 0,
             "ticks": ""
            },
            "colorscale": [
             [
              0,
              "#0d0887"
             ],
             [
              0.1111111111111111,
              "#46039f"
             ],
             [
              0.2222222222222222,
              "#7201a8"
             ],
             [
              0.3333333333333333,
              "#9c179e"
             ],
             [
              0.4444444444444444,
              "#bd3786"
             ],
             [
              0.5555555555555556,
              "#d8576b"
             ],
             [
              0.6666666666666666,
              "#ed7953"
             ],
             [
              0.7777777777777778,
              "#fb9f3a"
             ],
             [
              0.8888888888888888,
              "#fdca26"
             ],
             [
              1,
              "#f0f921"
             ]
            ],
            "type": "contour"
           }
          ],
          "contourcarpet": [
           {
            "colorbar": {
             "outlinewidth": 0,
             "ticks": ""
            },
            "type": "contourcarpet"
           }
          ],
          "heatmap": [
           {
            "colorbar": {
             "outlinewidth": 0,
             "ticks": ""
            },
            "colorscale": [
             [
              0,
              "#0d0887"
             ],
             [
              0.1111111111111111,
              "#46039f"
             ],
             [
              0.2222222222222222,
              "#7201a8"
             ],
             [
              0.3333333333333333,
              "#9c179e"
             ],
             [
              0.4444444444444444,
              "#bd3786"
             ],
             [
              0.5555555555555556,
              "#d8576b"
             ],
             [
              0.6666666666666666,
              "#ed7953"
             ],
             [
              0.7777777777777778,
              "#fb9f3a"
             ],
             [
              0.8888888888888888,
              "#fdca26"
             ],
             [
              1,
              "#f0f921"
             ]
            ],
            "type": "heatmap"
           }
          ],
          "heatmapgl": [
           {
            "colorbar": {
             "outlinewidth": 0,
             "ticks": ""
            },
            "colorscale": [
             [
              0,
              "#0d0887"
             ],
             [
              0.1111111111111111,
              "#46039f"
             ],
             [
              0.2222222222222222,
              "#7201a8"
             ],
             [
              0.3333333333333333,
              "#9c179e"
             ],
             [
              0.4444444444444444,
              "#bd3786"
             ],
             [
              0.5555555555555556,
              "#d8576b"
             ],
             [
              0.6666666666666666,
              "#ed7953"
             ],
             [
              0.7777777777777778,
              "#fb9f3a"
             ],
             [
              0.8888888888888888,
              "#fdca26"
             ],
             [
              1,
              "#f0f921"
             ]
            ],
            "type": "heatmapgl"
           }
          ],
          "histogram": [
           {
            "marker": {
             "pattern": {
              "fillmode": "overlay",
              "size": 10,
              "solidity": 0.2
             }
            },
            "type": "histogram"
           }
          ],
          "histogram2d": [
           {
            "colorbar": {
             "outlinewidth": 0,
             "ticks": ""
            },
            "colorscale": [
             [
              0,
              "#0d0887"
             ],
             [
              0.1111111111111111,
              "#46039f"
             ],
             [
              0.2222222222222222,
              "#7201a8"
             ],
             [
              0.3333333333333333,
              "#9c179e"
             ],
             [
              0.4444444444444444,
              "#bd3786"
             ],
             [
              0.5555555555555556,
              "#d8576b"
             ],
             [
              0.6666666666666666,
              "#ed7953"
             ],
             [
              0.7777777777777778,
              "#fb9f3a"
             ],
             [
              0.8888888888888888,
              "#fdca26"
             ],
             [
              1,
              "#f0f921"
             ]
            ],
            "type": "histogram2d"
           }
          ],
          "histogram2dcontour": [
           {
            "colorbar": {
             "outlinewidth": 0,
             "ticks": ""
            },
            "colorscale": [
             [
              0,
              "#0d0887"
             ],
             [
              0.1111111111111111,
              "#46039f"
             ],
             [
              0.2222222222222222,
              "#7201a8"
             ],
             [
              0.3333333333333333,
              "#9c179e"
             ],
             [
              0.4444444444444444,
              "#bd3786"
             ],
             [
              0.5555555555555556,
              "#d8576b"
             ],
             [
              0.6666666666666666,
              "#ed7953"
             ],
             [
              0.7777777777777778,
              "#fb9f3a"
             ],
             [
              0.8888888888888888,
              "#fdca26"
             ],
             [
              1,
              "#f0f921"
             ]
            ],
            "type": "histogram2dcontour"
           }
          ],
          "mesh3d": [
           {
            "colorbar": {
             "outlinewidth": 0,
             "ticks": ""
            },
            "type": "mesh3d"
           }
          ],
          "parcoords": [
           {
            "line": {
             "colorbar": {
              "outlinewidth": 0,
              "ticks": ""
             }
            },
            "type": "parcoords"
           }
          ],
          "pie": [
           {
            "automargin": true,
            "type": "pie"
           }
          ],
          "scatter": [
           {
            "fillpattern": {
             "fillmode": "overlay",
             "size": 10,
             "solidity": 0.2
            },
            "type": "scatter"
           }
          ],
          "scatter3d": [
           {
            "line": {
             "colorbar": {
              "outlinewidth": 0,
              "ticks": ""
             }
            },
            "marker": {
             "colorbar": {
              "outlinewidth": 0,
              "ticks": ""
             }
            },
            "type": "scatter3d"
           }
          ],
          "scattercarpet": [
           {
            "marker": {
             "colorbar": {
              "outlinewidth": 0,
              "ticks": ""
             }
            },
            "type": "scattercarpet"
           }
          ],
          "scattergeo": [
           {
            "marker": {
             "colorbar": {
              "outlinewidth": 0,
              "ticks": ""
             }
            },
            "type": "scattergeo"
           }
          ],
          "scattergl": [
           {
            "marker": {
             "colorbar": {
              "outlinewidth": 0,
              "ticks": ""
             }
            },
            "type": "scattergl"
           }
          ],
          "scattermapbox": [
           {
            "marker": {
             "colorbar": {
              "outlinewidth": 0,
              "ticks": ""
             }
            },
            "type": "scattermapbox"
           }
          ],
          "scatterpolar": [
           {
            "marker": {
             "colorbar": {
              "outlinewidth": 0,
              "ticks": ""
             }
            },
            "type": "scatterpolar"
           }
          ],
          "scatterpolargl": [
           {
            "marker": {
             "colorbar": {
              "outlinewidth": 0,
              "ticks": ""
             }
            },
            "type": "scatterpolargl"
           }
          ],
          "scatterternary": [
           {
            "marker": {
             "colorbar": {
              "outlinewidth": 0,
              "ticks": ""
             }
            },
            "type": "scatterternary"
           }
          ],
          "surface": [
           {
            "colorbar": {
             "outlinewidth": 0,
             "ticks": ""
            },
            "colorscale": [
             [
              0,
              "#0d0887"
             ],
             [
              0.1111111111111111,
              "#46039f"
             ],
             [
              0.2222222222222222,
              "#7201a8"
             ],
             [
              0.3333333333333333,
              "#9c179e"
             ],
             [
              0.4444444444444444,
              "#bd3786"
             ],
             [
              0.5555555555555556,
              "#d8576b"
             ],
             [
              0.6666666666666666,
              "#ed7953"
             ],
             [
              0.7777777777777778,
              "#fb9f3a"
             ],
             [
              0.8888888888888888,
              "#fdca26"
             ],
             [
              1,
              "#f0f921"
             ]
            ],
            "type": "surface"
           }
          ],
          "table": [
           {
            "cells": {
             "fill": {
              "color": "#EBF0F8"
             },
             "line": {
              "color": "white"
             }
            },
            "header": {
             "fill": {
              "color": "#C8D4E3"
             },
             "line": {
              "color": "white"
             }
            },
            "type": "table"
           }
          ]
         },
         "layout": {
          "annotationdefaults": {
           "arrowcolor": "#2a3f5f",
           "arrowhead": 0,
           "arrowwidth": 1
          },
          "autotypenumbers": "strict",
          "coloraxis": {
           "colorbar": {
            "outlinewidth": 0,
            "ticks": ""
           }
          },
          "colorscale": {
           "diverging": [
            [
             0,
             "#8e0152"
            ],
            [
             0.1,
             "#c51b7d"
            ],
            [
             0.2,
             "#de77ae"
            ],
            [
             0.3,
             "#f1b6da"
            ],
            [
             0.4,
             "#fde0ef"
            ],
            [
             0.5,
             "#f7f7f7"
            ],
            [
             0.6,
             "#e6f5d0"
            ],
            [
             0.7,
             "#b8e186"
            ],
            [
             0.8,
             "#7fbc41"
            ],
            [
             0.9,
             "#4d9221"
            ],
            [
             1,
             "#276419"
            ]
           ],
           "sequential": [
            [
             0,
             "#0d0887"
            ],
            [
             0.1111111111111111,
             "#46039f"
            ],
            [
             0.2222222222222222,
             "#7201a8"
            ],
            [
             0.3333333333333333,
             "#9c179e"
            ],
            [
             0.4444444444444444,
             "#bd3786"
            ],
            [
             0.5555555555555556,
             "#d8576b"
            ],
            [
             0.6666666666666666,
             "#ed7953"
            ],
            [
             0.7777777777777778,
             "#fb9f3a"
            ],
            [
             0.8888888888888888,
             "#fdca26"
            ],
            [
             1,
             "#f0f921"
            ]
           ],
           "sequentialminus": [
            [
             0,
             "#0d0887"
            ],
            [
             0.1111111111111111,
             "#46039f"
            ],
            [
             0.2222222222222222,
             "#7201a8"
            ],
            [
             0.3333333333333333,
             "#9c179e"
            ],
            [
             0.4444444444444444,
             "#bd3786"
            ],
            [
             0.5555555555555556,
             "#d8576b"
            ],
            [
             0.6666666666666666,
             "#ed7953"
            ],
            [
             0.7777777777777778,
             "#fb9f3a"
            ],
            [
             0.8888888888888888,
             "#fdca26"
            ],
            [
             1,
             "#f0f921"
            ]
           ]
          },
          "colorway": [
           "#636efa",
           "#EF553B",
           "#00cc96",
           "#ab63fa",
           "#FFA15A",
           "#19d3f3",
           "#FF6692",
           "#B6E880",
           "#FF97FF",
           "#FECB52"
          ],
          "font": {
           "color": "#2a3f5f"
          },
          "geo": {
           "bgcolor": "white",
           "lakecolor": "white",
           "landcolor": "#E5ECF6",
           "showlakes": true,
           "showland": true,
           "subunitcolor": "white"
          },
          "hoverlabel": {
           "align": "left"
          },
          "hovermode": "closest",
          "mapbox": {
           "style": "light"
          },
          "paper_bgcolor": "white",
          "plot_bgcolor": "#E5ECF6",
          "polar": {
           "angularaxis": {
            "gridcolor": "white",
            "linecolor": "white",
            "ticks": ""
           },
           "bgcolor": "#E5ECF6",
           "radialaxis": {
            "gridcolor": "white",
            "linecolor": "white",
            "ticks": ""
           }
          },
          "scene": {
           "xaxis": {
            "backgroundcolor": "#E5ECF6",
            "gridcolor": "white",
            "gridwidth": 2,
            "linecolor": "white",
            "showbackground": true,
            "ticks": "",
            "zerolinecolor": "white"
           },
           "yaxis": {
            "backgroundcolor": "#E5ECF6",
            "gridcolor": "white",
            "gridwidth": 2,
            "linecolor": "white",
            "showbackground": true,
            "ticks": "",
            "zerolinecolor": "white"
           },
           "zaxis": {
            "backgroundcolor": "#E5ECF6",
            "gridcolor": "white",
            "gridwidth": 2,
            "linecolor": "white",
            "showbackground": true,
            "ticks": "",
            "zerolinecolor": "white"
           }
          },
          "shapedefaults": {
           "line": {
            "color": "#2a3f5f"
           }
          },
          "ternary": {
           "aaxis": {
            "gridcolor": "white",
            "linecolor": "white",
            "ticks": ""
           },
           "baxis": {
            "gridcolor": "white",
            "linecolor": "white",
            "ticks": ""
           },
           "bgcolor": "#E5ECF6",
           "caxis": {
            "gridcolor": "white",
            "linecolor": "white",
            "ticks": ""
           }
          },
          "title": {
           "x": 0.05
          },
          "xaxis": {
           "automargin": true,
           "gridcolor": "white",
           "linecolor": "white",
           "ticks": "",
           "title": {
            "standoff": 15
           },
           "zerolinecolor": "white",
           "zerolinewidth": 2
          },
          "yaxis": {
           "automargin": true,
           "gridcolor": "white",
           "linecolor": "white",
           "ticks": "",
           "title": {
            "standoff": 15
           },
           "zerolinecolor": "white",
           "zerolinewidth": 2
          }
         }
        },
        "title": {
         "text": "MACD và Signal Line"
        },
        "xaxis": {
         "rangeslider": {
          "visible": false
         }
        },
        "yaxis": {
         "title": {
          "text": "MACD"
         }
        }
       }
      }
     },
     "metadata": {},
     "output_type": "display_data"
    }
   ],
   "source": [
    "import pandas as pd\n",
    "import plotly.graph_objects as go\n",
    "\n",
    "# ... (Giữ phần import và tính toán MACD/SMA giống như bạn đã làm)\n",
    "\n",
    "####################################################################################################\n",
    "# Tạo figure\n",
    "fig = go.Figure()\n",
    "\n",
    "# Biểu đồ giá đóng cửa và SMA\n",
    "fig.add_trace(go.Scatter(x=data.index, y=data['Close'], mode='lines', name='Giá Đóng Cửa', line=dict(color='blue')))\n",
    "fig.add_trace(go.Scatter(x=data.index, y=data['SMA'], mode='lines', name='SMA', line=dict(color='orange')))\n",
    "\n",
    "# Vẽ các điểm cho tín hiệu mua\n",
    "buy_signals = data[data['Buy_Signal']]\n",
    "fig.add_trace(go.Scatter(x=buy_signals.index, y=buy_signals['Close'], mode='markers', name='Buy Signal', marker=dict(symbol='triangle-up', size=10, color='green')))\n",
    "\n",
    "# Vẽ các điểm cho tín hiệu bán\n",
    "sell_signals = data[data['Sell_Signal']]\n",
    "fig.add_trace(go.Scatter(x=sell_signals.index, y=sell_signals['Close'], mode='markers', name='Sell Signal', marker=dict(symbol='triangle-down', size=10, color='red')))\n",
    "\n",
    "fig.update_layout(title='Giá Đóng Cửa và SMA', yaxis_title='Giá', xaxis_rangeslider_visible=False, height=500)\n",
    "\n",
    "# Hiển thị biểu đồ\n",
    "fig.show()\n",
    "\n",
    "####################################################################################################\n",
    "\n",
    "# Tạo figure\n",
    "fig = go.Figure()\n",
    "\n",
    "# Biểu đồ MACD và Signal Line\n",
    "fig.add_trace(go.Scatter(x=data.index, y=data['MACD'], mode='lines', name='MACD', line=dict(color='blue')))\n",
    "fig.add_trace(go.Scatter(x=data.index, y=data['Signal_Line'], mode='lines', name='Signal Line', line=dict(color='orange')))\n",
    "\n",
    "fig.update_layout(title='MACD và Signal Line', yaxis_title='MACD', xaxis_rangeslider_visible=False, height=500)\n",
    "\n",
    "# Hiển thị biểu đồ\n",
    "fig.show()\n"
   ]
  },
  {
   "cell_type": "code",
   "execution_count": null,
   "metadata": {},
   "outputs": [
    {
     "data": {
      "text/html": [
       "<div>\n",
       "<style scoped>\n",
       "    .dataframe tbody tr th:only-of-type {\n",
       "        vertical-align: middle;\n",
       "    }\n",
       "\n",
       "    .dataframe tbody tr th {\n",
       "        vertical-align: top;\n",
       "    }\n",
       "\n",
       "    .dataframe thead th {\n",
       "        text-align: right;\n",
       "    }\n",
       "</style>\n",
       "<table border=\"1\" class=\"dataframe\">\n",
       "  <thead>\n",
       "    <tr style=\"text-align: right;\">\n",
       "      <th></th>\n",
       "      <th>Open</th>\n",
       "      <th>High</th>\n",
       "      <th>Low</th>\n",
       "      <th>Close</th>\n",
       "      <th>Volume</th>\n",
       "      <th>SMA</th>\n",
       "      <th>short_ema</th>\n",
       "      <th>long_ema</th>\n",
       "      <th>MACD</th>\n",
       "      <th>Signal_Line</th>\n",
       "      <th>Buy_Signal</th>\n",
       "      <th>Sell_Signal</th>\n",
       "    </tr>\n",
       "    <tr>\n",
       "      <th>Datetime</th>\n",
       "      <th></th>\n",
       "      <th></th>\n",
       "      <th></th>\n",
       "      <th></th>\n",
       "      <th></th>\n",
       "      <th></th>\n",
       "      <th></th>\n",
       "      <th></th>\n",
       "      <th></th>\n",
       "      <th></th>\n",
       "      <th></th>\n",
       "      <th></th>\n",
       "    </tr>\n",
       "  </thead>\n",
       "  <tbody>\n",
       "    <tr>\n",
       "      <th>2023-09-05</th>\n",
       "      <td>89100.0</td>\n",
       "      <td>90700.0</td>\n",
       "      <td>89100.0</td>\n",
       "      <td>90100.0</td>\n",
       "      <td>2013202</td>\n",
       "      <td>NaN</td>\n",
       "      <td>90100.000000</td>\n",
       "      <td>90100.000000</td>\n",
       "      <td>0.000000</td>\n",
       "      <td>0.000000</td>\n",
       "      <td>False</td>\n",
       "      <td>False</td>\n",
       "    </tr>\n",
       "    <tr>\n",
       "      <th>2023-09-06</th>\n",
       "      <td>90200.0</td>\n",
       "      <td>90200.0</td>\n",
       "      <td>89700.0</td>\n",
       "      <td>90200.0</td>\n",
       "      <td>2057603</td>\n",
       "      <td>NaN</td>\n",
       "      <td>90115.384615</td>\n",
       "      <td>90107.407407</td>\n",
       "      <td>7.977208</td>\n",
       "      <td>1.595442</td>\n",
       "      <td>False</td>\n",
       "      <td>False</td>\n",
       "    </tr>\n",
       "    <tr>\n",
       "      <th>2023-09-07</th>\n",
       "      <td>90000.0</td>\n",
       "      <td>90800.0</td>\n",
       "      <td>89500.0</td>\n",
       "      <td>89500.0</td>\n",
       "      <td>1958302</td>\n",
       "      <td>NaN</td>\n",
       "      <td>90020.710059</td>\n",
       "      <td>90062.414266</td>\n",
       "      <td>-41.704207</td>\n",
       "      <td>-7.064488</td>\n",
       "      <td>False</td>\n",
       "      <td>False</td>\n",
       "    </tr>\n",
       "    <tr>\n",
       "      <th>2023-09-08</th>\n",
       "      <td>89500.0</td>\n",
       "      <td>89500.0</td>\n",
       "      <td>89100.0</td>\n",
       "      <td>89500.0</td>\n",
       "      <td>1381905</td>\n",
       "      <td>NaN</td>\n",
       "      <td>89940.600819</td>\n",
       "      <td>90020.753950</td>\n",
       "      <td>-80.153131</td>\n",
       "      <td>-21.682217</td>\n",
       "      <td>False</td>\n",
       "      <td>False</td>\n",
       "    </tr>\n",
       "    <tr>\n",
       "      <th>2023-09-11</th>\n",
       "      <td>89600.0</td>\n",
       "      <td>90000.0</td>\n",
       "      <td>88000.0</td>\n",
       "      <td>88500.0</td>\n",
       "      <td>2592500</td>\n",
       "      <td>NaN</td>\n",
       "      <td>89718.969924</td>\n",
       "      <td>89908.105509</td>\n",
       "      <td>-189.135585</td>\n",
       "      <td>-55.172890</td>\n",
       "      <td>False</td>\n",
       "      <td>False</td>\n",
       "    </tr>\n",
       "    <tr>\n",
       "      <th>...</th>\n",
       "      <td>...</td>\n",
       "      <td>...</td>\n",
       "      <td>...</td>\n",
       "      <td>...</td>\n",
       "      <td>...</td>\n",
       "      <td>...</td>\n",
       "      <td>...</td>\n",
       "      <td>...</td>\n",
       "      <td>...</td>\n",
       "      <td>...</td>\n",
       "      <td>...</td>\n",
       "      <td>...</td>\n",
       "    </tr>\n",
       "    <tr>\n",
       "      <th>2023-12-04</th>\n",
       "      <td>85400.0</td>\n",
       "      <td>86200.0</td>\n",
       "      <td>84800.0</td>\n",
       "      <td>86000.0</td>\n",
       "      <td>978100</td>\n",
       "      <td>86390.0</td>\n",
       "      <td>85799.591786</td>\n",
       "      <td>86224.707406</td>\n",
       "      <td>-425.115619</td>\n",
       "      <td>-307.108991</td>\n",
       "      <td>False</td>\n",
       "      <td>True</td>\n",
       "    </tr>\n",
       "    <tr>\n",
       "      <th>2023-12-05</th>\n",
       "      <td>86000.0</td>\n",
       "      <td>86100.0</td>\n",
       "      <td>84800.0</td>\n",
       "      <td>85400.0</td>\n",
       "      <td>2339861</td>\n",
       "      <td>86245.0</td>\n",
       "      <td>85738.116127</td>\n",
       "      <td>86163.617968</td>\n",
       "      <td>-425.501841</td>\n",
       "      <td>-330.787561</td>\n",
       "      <td>False</td>\n",
       "      <td>True</td>\n",
       "    </tr>\n",
       "    <tr>\n",
       "      <th>2023-12-06</th>\n",
       "      <td>85300.0</td>\n",
       "      <td>86000.0</td>\n",
       "      <td>85000.0</td>\n",
       "      <td>85900.0</td>\n",
       "      <td>748000</td>\n",
       "      <td>86065.0</td>\n",
       "      <td>85763.021338</td>\n",
       "      <td>86144.090711</td>\n",
       "      <td>-381.069373</td>\n",
       "      <td>-340.843923</td>\n",
       "      <td>False</td>\n",
       "      <td>True</td>\n",
       "    </tr>\n",
       "    <tr>\n",
       "      <th>2023-12-07</th>\n",
       "      <td>85700.0</td>\n",
       "      <td>86000.0</td>\n",
       "      <td>85000.0</td>\n",
       "      <td>85200.0</td>\n",
       "      <td>2403460</td>\n",
       "      <td>85930.0</td>\n",
       "      <td>85676.402671</td>\n",
       "      <td>86074.158066</td>\n",
       "      <td>-397.755395</td>\n",
       "      <td>-352.226218</td>\n",
       "      <td>False</td>\n",
       "      <td>True</td>\n",
       "    </tr>\n",
       "    <tr>\n",
       "      <th>2023-12-08</th>\n",
       "      <td>85200.0</td>\n",
       "      <td>85500.0</td>\n",
       "      <td>85000.0</td>\n",
       "      <td>85000.0</td>\n",
       "      <td>1293000</td>\n",
       "      <td>85880.0</td>\n",
       "      <td>85572.340721</td>\n",
       "      <td>85994.590802</td>\n",
       "      <td>-422.250080</td>\n",
       "      <td>-366.230990</td>\n",
       "      <td>False</td>\n",
       "      <td>True</td>\n",
       "    </tr>\n",
       "  </tbody>\n",
       "</table>\n",
       "<p>69 rows × 12 columns</p>\n",
       "</div>"
      ],
      "text/plain": [
       "               Open     High      Low    Close   Volume      SMA  \\\n",
       "Datetime                                                           \n",
       "2023-09-05  89100.0  90700.0  89100.0  90100.0  2013202      NaN   \n",
       "2023-09-06  90200.0  90200.0  89700.0  90200.0  2057603      NaN   \n",
       "2023-09-07  90000.0  90800.0  89500.0  89500.0  1958302      NaN   \n",
       "2023-09-08  89500.0  89500.0  89100.0  89500.0  1381905      NaN   \n",
       "2023-09-11  89600.0  90000.0  88000.0  88500.0  2592500      NaN   \n",
       "...             ...      ...      ...      ...      ...      ...   \n",
       "2023-12-04  85400.0  86200.0  84800.0  86000.0   978100  86390.0   \n",
       "2023-12-05  86000.0  86100.0  84800.0  85400.0  2339861  86245.0   \n",
       "2023-12-06  85300.0  86000.0  85000.0  85900.0   748000  86065.0   \n",
       "2023-12-07  85700.0  86000.0  85000.0  85200.0  2403460  85930.0   \n",
       "2023-12-08  85200.0  85500.0  85000.0  85000.0  1293000  85880.0   \n",
       "\n",
       "               short_ema      long_ema        MACD  Signal_Line  Buy_Signal  \\\n",
       "Datetime                                                                      \n",
       "2023-09-05  90100.000000  90100.000000    0.000000     0.000000       False   \n",
       "2023-09-06  90115.384615  90107.407407    7.977208     1.595442       False   \n",
       "2023-09-07  90020.710059  90062.414266  -41.704207    -7.064488       False   \n",
       "2023-09-08  89940.600819  90020.753950  -80.153131   -21.682217       False   \n",
       "2023-09-11  89718.969924  89908.105509 -189.135585   -55.172890       False   \n",
       "...                  ...           ...         ...          ...         ...   \n",
       "2023-12-04  85799.591786  86224.707406 -425.115619  -307.108991       False   \n",
       "2023-12-05  85738.116127  86163.617968 -425.501841  -330.787561       False   \n",
       "2023-12-06  85763.021338  86144.090711 -381.069373  -340.843923       False   \n",
       "2023-12-07  85676.402671  86074.158066 -397.755395  -352.226218       False   \n",
       "2023-12-08  85572.340721  85994.590802 -422.250080  -366.230990       False   \n",
       "\n",
       "            Sell_Signal  \n",
       "Datetime                 \n",
       "2023-09-05        False  \n",
       "2023-09-06        False  \n",
       "2023-09-07        False  \n",
       "2023-09-08        False  \n",
       "2023-09-11        False  \n",
       "...                 ...  \n",
       "2023-12-04         True  \n",
       "2023-12-05         True  \n",
       "2023-12-06         True  \n",
       "2023-12-07         True  \n",
       "2023-12-08         True  \n",
       "\n",
       "[69 rows x 12 columns]"
      ]
     },
     "execution_count": 15,
     "metadata": {},
     "output_type": "execute_result"
    }
   ],
   "source": [
    "data"
   ]
  },
  {
   "cell_type": "code",
   "execution_count": null,
   "metadata": {},
   "outputs": [],
   "source": [
    "data.to_csv('data.csv')"
   ]
  },
  {
   "cell_type": "code",
   "execution_count": 11,
   "metadata": {},
   "outputs": [
    {
     "data": {
      "text/html": [
       "<div>\n",
       "<style scoped>\n",
       "    .dataframe tbody tr th:only-of-type {\n",
       "        vertical-align: middle;\n",
       "    }\n",
       "\n",
       "    .dataframe tbody tr th {\n",
       "        vertical-align: top;\n",
       "    }\n",
       "\n",
       "    .dataframe thead th {\n",
       "        text-align: right;\n",
       "    }\n",
       "</style>\n",
       "<table border=\"1\" class=\"dataframe\">\n",
       "  <thead>\n",
       "    <tr style=\"text-align: right;\">\n",
       "      <th></th>\n",
       "      <th>Open</th>\n",
       "      <th>High</th>\n",
       "      <th>Low</th>\n",
       "      <th>Close</th>\n",
       "      <th>Volume</th>\n",
       "      <th>SMA</th>\n",
       "      <th>short_ema</th>\n",
       "      <th>long_ema</th>\n",
       "      <th>MACD</th>\n",
       "      <th>Signal_Line</th>\n",
       "      <th>...</th>\n",
       "      <th>Sell_Signal</th>\n",
       "      <th>Position_Buy</th>\n",
       "      <th>Position_Sell</th>\n",
       "      <th>Trade_Action</th>\n",
       "      <th>Capital</th>\n",
       "      <th>Shares_Held</th>\n",
       "      <th>Market_Return</th>\n",
       "      <th>Cumulative_Market_Returns</th>\n",
       "      <th>Strategy_Value</th>\n",
       "      <th>Cumulative_Strategy_Returns</th>\n",
       "    </tr>\n",
       "    <tr>\n",
       "      <th>Datetime</th>\n",
       "      <th></th>\n",
       "      <th></th>\n",
       "      <th></th>\n",
       "      <th></th>\n",
       "      <th></th>\n",
       "      <th></th>\n",
       "      <th></th>\n",
       "      <th></th>\n",
       "      <th></th>\n",
       "      <th></th>\n",
       "      <th></th>\n",
       "      <th></th>\n",
       "      <th></th>\n",
       "      <th></th>\n",
       "      <th></th>\n",
       "      <th></th>\n",
       "      <th></th>\n",
       "      <th></th>\n",
       "      <th></th>\n",
       "      <th></th>\n",
       "      <th></th>\n",
       "    </tr>\n",
       "  </thead>\n",
       "  <tbody>\n",
       "    <tr>\n",
       "      <th>2023-09-05</th>\n",
       "      <td>89100.0</td>\n",
       "      <td>90700.0</td>\n",
       "      <td>89100.0</td>\n",
       "      <td>90100.0</td>\n",
       "      <td>2013202</td>\n",
       "      <td>NaN</td>\n",
       "      <td>90100.000000</td>\n",
       "      <td>90100.000000</td>\n",
       "      <td>0.000000</td>\n",
       "      <td>0.000000</td>\n",
       "      <td>...</td>\n",
       "      <td>False</td>\n",
       "      <td>NaN</td>\n",
       "      <td>NaN</td>\n",
       "      <td></td>\n",
       "      <td>100000000</td>\n",
       "      <td>0</td>\n",
       "      <td>NaN</td>\n",
       "      <td>NaN</td>\n",
       "      <td>100000000.0</td>\n",
       "      <td>1.0000</td>\n",
       "    </tr>\n",
       "    <tr>\n",
       "      <th>2023-09-06</th>\n",
       "      <td>90200.0</td>\n",
       "      <td>90200.0</td>\n",
       "      <td>89700.0</td>\n",
       "      <td>90200.0</td>\n",
       "      <td>2057603</td>\n",
       "      <td>NaN</td>\n",
       "      <td>90115.384615</td>\n",
       "      <td>90107.407407</td>\n",
       "      <td>7.977208</td>\n",
       "      <td>1.595442</td>\n",
       "      <td>...</td>\n",
       "      <td>False</td>\n",
       "      <td>False</td>\n",
       "      <td>False</td>\n",
       "      <td></td>\n",
       "      <td>100000000</td>\n",
       "      <td>0</td>\n",
       "      <td>0.001110</td>\n",
       "      <td>1.001110</td>\n",
       "      <td>100000000.0</td>\n",
       "      <td>1.0000</td>\n",
       "    </tr>\n",
       "    <tr>\n",
       "      <th>2023-09-07</th>\n",
       "      <td>90000.0</td>\n",
       "      <td>90800.0</td>\n",
       "      <td>89500.0</td>\n",
       "      <td>89500.0</td>\n",
       "      <td>1958302</td>\n",
       "      <td>NaN</td>\n",
       "      <td>90020.710059</td>\n",
       "      <td>90062.414266</td>\n",
       "      <td>-41.704207</td>\n",
       "      <td>-7.064488</td>\n",
       "      <td>...</td>\n",
       "      <td>False</td>\n",
       "      <td>False</td>\n",
       "      <td>False</td>\n",
       "      <td></td>\n",
       "      <td>100000000</td>\n",
       "      <td>0</td>\n",
       "      <td>-0.007761</td>\n",
       "      <td>0.993341</td>\n",
       "      <td>100000000.0</td>\n",
       "      <td>1.0000</td>\n",
       "    </tr>\n",
       "    <tr>\n",
       "      <th>2023-09-08</th>\n",
       "      <td>89500.0</td>\n",
       "      <td>89500.0</td>\n",
       "      <td>89100.0</td>\n",
       "      <td>89500.0</td>\n",
       "      <td>1381905</td>\n",
       "      <td>NaN</td>\n",
       "      <td>89940.600819</td>\n",
       "      <td>90020.753950</td>\n",
       "      <td>-80.153131</td>\n",
       "      <td>-21.682217</td>\n",
       "      <td>...</td>\n",
       "      <td>False</td>\n",
       "      <td>False</td>\n",
       "      <td>False</td>\n",
       "      <td></td>\n",
       "      <td>100000000</td>\n",
       "      <td>0</td>\n",
       "      <td>0.000000</td>\n",
       "      <td>0.993341</td>\n",
       "      <td>100000000.0</td>\n",
       "      <td>1.0000</td>\n",
       "    </tr>\n",
       "    <tr>\n",
       "      <th>2023-09-11</th>\n",
       "      <td>89600.0</td>\n",
       "      <td>90000.0</td>\n",
       "      <td>88000.0</td>\n",
       "      <td>88500.0</td>\n",
       "      <td>2592500</td>\n",
       "      <td>NaN</td>\n",
       "      <td>89718.969924</td>\n",
       "      <td>89908.105509</td>\n",
       "      <td>-189.135585</td>\n",
       "      <td>-55.172890</td>\n",
       "      <td>...</td>\n",
       "      <td>False</td>\n",
       "      <td>False</td>\n",
       "      <td>False</td>\n",
       "      <td></td>\n",
       "      <td>100000000</td>\n",
       "      <td>0</td>\n",
       "      <td>-0.011173</td>\n",
       "      <td>0.982242</td>\n",
       "      <td>100000000.0</td>\n",
       "      <td>1.0000</td>\n",
       "    </tr>\n",
       "    <tr>\n",
       "      <th>...</th>\n",
       "      <td>...</td>\n",
       "      <td>...</td>\n",
       "      <td>...</td>\n",
       "      <td>...</td>\n",
       "      <td>...</td>\n",
       "      <td>...</td>\n",
       "      <td>...</td>\n",
       "      <td>...</td>\n",
       "      <td>...</td>\n",
       "      <td>...</td>\n",
       "      <td>...</td>\n",
       "      <td>...</td>\n",
       "      <td>...</td>\n",
       "      <td>...</td>\n",
       "      <td>...</td>\n",
       "      <td>...</td>\n",
       "      <td>...</td>\n",
       "      <td>...</td>\n",
       "      <td>...</td>\n",
       "      <td>...</td>\n",
       "      <td>...</td>\n",
       "    </tr>\n",
       "    <tr>\n",
       "      <th>2024-01-26</th>\n",
       "      <td>91600.0</td>\n",
       "      <td>92000.0</td>\n",
       "      <td>91400.0</td>\n",
       "      <td>92000.0</td>\n",
       "      <td>1019100</td>\n",
       "      <td>88320.0</td>\n",
       "      <td>90293.162232</td>\n",
       "      <td>88314.257254</td>\n",
       "      <td>1978.904978</td>\n",
       "      <td>1698.698094</td>\n",
       "      <td>...</td>\n",
       "      <td>False</td>\n",
       "      <td>True</td>\n",
       "      <td>False</td>\n",
       "      <td></td>\n",
       "      <td>1140000</td>\n",
       "      <td>1100</td>\n",
       "      <td>0.010989</td>\n",
       "      <td>1.021088</td>\n",
       "      <td>102340000.0</td>\n",
       "      <td>1.0234</td>\n",
       "    </tr>\n",
       "    <tr>\n",
       "      <th>2024-01-29</th>\n",
       "      <td>91800.0</td>\n",
       "      <td>92000.0</td>\n",
       "      <td>90900.0</td>\n",
       "      <td>91200.0</td>\n",
       "      <td>804500</td>\n",
       "      <td>88740.0</td>\n",
       "      <td>90432.675735</td>\n",
       "      <td>88528.015976</td>\n",
       "      <td>1904.659759</td>\n",
       "      <td>1739.890427</td>\n",
       "      <td>...</td>\n",
       "      <td>False</td>\n",
       "      <td>True</td>\n",
       "      <td>False</td>\n",
       "      <td></td>\n",
       "      <td>1140000</td>\n",
       "      <td>1100</td>\n",
       "      <td>-0.008696</td>\n",
       "      <td>1.012209</td>\n",
       "      <td>101460000.0</td>\n",
       "      <td>1.0146</td>\n",
       "    </tr>\n",
       "    <tr>\n",
       "      <th>2024-01-30</th>\n",
       "      <td>91200.0</td>\n",
       "      <td>91200.0</td>\n",
       "      <td>90100.0</td>\n",
       "      <td>91000.0</td>\n",
       "      <td>934600</td>\n",
       "      <td>89275.0</td>\n",
       "      <td>90519.956391</td>\n",
       "      <td>88711.125904</td>\n",
       "      <td>1808.830488</td>\n",
       "      <td>1753.678439</td>\n",
       "      <td>...</td>\n",
       "      <td>False</td>\n",
       "      <td>True</td>\n",
       "      <td>False</td>\n",
       "      <td></td>\n",
       "      <td>1140000</td>\n",
       "      <td>1100</td>\n",
       "      <td>-0.002193</td>\n",
       "      <td>1.009989</td>\n",
       "      <td>101240000.0</td>\n",
       "      <td>1.0124</td>\n",
       "    </tr>\n",
       "    <tr>\n",
       "      <th>2024-01-31</th>\n",
       "      <td>90600.0</td>\n",
       "      <td>90600.0</td>\n",
       "      <td>88500.0</td>\n",
       "      <td>88500.0</td>\n",
       "      <td>1019600</td>\n",
       "      <td>89525.0</td>\n",
       "      <td>90209.193869</td>\n",
       "      <td>88695.486948</td>\n",
       "      <td>1513.706922</td>\n",
       "      <td>1705.684136</td>\n",
       "      <td>...</td>\n",
       "      <td>True</td>\n",
       "      <td>True</td>\n",
       "      <td>False</td>\n",
       "      <td></td>\n",
       "      <td>1140000</td>\n",
       "      <td>1100</td>\n",
       "      <td>-0.027473</td>\n",
       "      <td>0.982242</td>\n",
       "      <td>98490000.0</td>\n",
       "      <td>0.9849</td>\n",
       "    </tr>\n",
       "    <tr>\n",
       "      <th>2024-02-01</th>\n",
       "      <td>88000.0</td>\n",
       "      <td>90200.0</td>\n",
       "      <td>88000.0</td>\n",
       "      <td>89800.0</td>\n",
       "      <td>668100</td>\n",
       "      <td>89790.0</td>\n",
       "      <td>90146.240966</td>\n",
       "      <td>88777.302729</td>\n",
       "      <td>1368.938237</td>\n",
       "      <td>1638.334956</td>\n",
       "      <td>...</td>\n",
       "      <td>False</td>\n",
       "      <td>False</td>\n",
       "      <td>True</td>\n",
       "      <td>Sell</td>\n",
       "      <td>99920000</td>\n",
       "      <td>0</td>\n",
       "      <td>0.014689</td>\n",
       "      <td>0.996670</td>\n",
       "      <td>99920000.0</td>\n",
       "      <td>0.9992</td>\n",
       "    </tr>\n",
       "  </tbody>\n",
       "</table>\n",
       "<p>105 rows × 21 columns</p>\n",
       "</div>"
      ],
      "text/plain": [
       "               Open     High      Low    Close   Volume      SMA  \\\n",
       "Datetime                                                           \n",
       "2023-09-05  89100.0  90700.0  89100.0  90100.0  2013202      NaN   \n",
       "2023-09-06  90200.0  90200.0  89700.0  90200.0  2057603      NaN   \n",
       "2023-09-07  90000.0  90800.0  89500.0  89500.0  1958302      NaN   \n",
       "2023-09-08  89500.0  89500.0  89100.0  89500.0  1381905      NaN   \n",
       "2023-09-11  89600.0  90000.0  88000.0  88500.0  2592500      NaN   \n",
       "...             ...      ...      ...      ...      ...      ...   \n",
       "2024-01-26  91600.0  92000.0  91400.0  92000.0  1019100  88320.0   \n",
       "2024-01-29  91800.0  92000.0  90900.0  91200.0   804500  88740.0   \n",
       "2024-01-30  91200.0  91200.0  90100.0  91000.0   934600  89275.0   \n",
       "2024-01-31  90600.0  90600.0  88500.0  88500.0  1019600  89525.0   \n",
       "2024-02-01  88000.0  90200.0  88000.0  89800.0   668100  89790.0   \n",
       "\n",
       "               short_ema      long_ema         MACD  Signal_Line  ...  \\\n",
       "Datetime                                                          ...   \n",
       "2023-09-05  90100.000000  90100.000000     0.000000     0.000000  ...   \n",
       "2023-09-06  90115.384615  90107.407407     7.977208     1.595442  ...   \n",
       "2023-09-07  90020.710059  90062.414266   -41.704207    -7.064488  ...   \n",
       "2023-09-08  89940.600819  90020.753950   -80.153131   -21.682217  ...   \n",
       "2023-09-11  89718.969924  89908.105509  -189.135585   -55.172890  ...   \n",
       "...                  ...           ...          ...          ...  ...   \n",
       "2024-01-26  90293.162232  88314.257254  1978.904978  1698.698094  ...   \n",
       "2024-01-29  90432.675735  88528.015976  1904.659759  1739.890427  ...   \n",
       "2024-01-30  90519.956391  88711.125904  1808.830488  1753.678439  ...   \n",
       "2024-01-31  90209.193869  88695.486948  1513.706922  1705.684136  ...   \n",
       "2024-02-01  90146.240966  88777.302729  1368.938237  1638.334956  ...   \n",
       "\n",
       "            Sell_Signal  Position_Buy Position_Sell Trade_Action    Capital  \\\n",
       "Datetime                                                                      \n",
       "2023-09-05        False           NaN           NaN               100000000   \n",
       "2023-09-06        False         False         False               100000000   \n",
       "2023-09-07        False         False         False               100000000   \n",
       "2023-09-08        False         False         False               100000000   \n",
       "2023-09-11        False         False         False               100000000   \n",
       "...                 ...           ...           ...          ...        ...   \n",
       "2024-01-26        False          True         False                 1140000   \n",
       "2024-01-29        False          True         False                 1140000   \n",
       "2024-01-30        False          True         False                 1140000   \n",
       "2024-01-31         True          True         False                 1140000   \n",
       "2024-02-01        False         False          True         Sell   99920000   \n",
       "\n",
       "            Shares_Held  Market_Return  Cumulative_Market_Returns  \\\n",
       "Datetime                                                            \n",
       "2023-09-05            0            NaN                        NaN   \n",
       "2023-09-06            0       0.001110                   1.001110   \n",
       "2023-09-07            0      -0.007761                   0.993341   \n",
       "2023-09-08            0       0.000000                   0.993341   \n",
       "2023-09-11            0      -0.011173                   0.982242   \n",
       "...                 ...            ...                        ...   \n",
       "2024-01-26         1100       0.010989                   1.021088   \n",
       "2024-01-29         1100      -0.008696                   1.012209   \n",
       "2024-01-30         1100      -0.002193                   1.009989   \n",
       "2024-01-31         1100      -0.027473                   0.982242   \n",
       "2024-02-01            0       0.014689                   0.996670   \n",
       "\n",
       "            Strategy_Value  Cumulative_Strategy_Returns  \n",
       "Datetime                                                 \n",
       "2023-09-05     100000000.0                       1.0000  \n",
       "2023-09-06     100000000.0                       1.0000  \n",
       "2023-09-07     100000000.0                       1.0000  \n",
       "2023-09-08     100000000.0                       1.0000  \n",
       "2023-09-11     100000000.0                       1.0000  \n",
       "...                    ...                          ...  \n",
       "2024-01-26     102340000.0                       1.0234  \n",
       "2024-01-29     101460000.0                       1.0146  \n",
       "2024-01-30     101240000.0                       1.0124  \n",
       "2024-01-31      98490000.0                       0.9849  \n",
       "2024-02-01      99920000.0                       0.9992  \n",
       "\n",
       "[105 rows x 21 columns]"
      ]
     },
     "execution_count": 11,
     "metadata": {},
     "output_type": "execute_result"
    }
   ],
   "source": [
    "data"
   ]
  },
  {
   "cell_type": "markdown",
   "metadata": {},
   "source": [
    "# Backtest Co Phieu"
   ]
  },
  {
   "cell_type": "code",
   "execution_count": 10,
   "metadata": {},
   "outputs": [
    {
     "name": "stdout",
     "output_type": "stream",
     "text": [
      "Ngày vào lệnh đầu tiên: 2023-10-25 00:00:00\n",
      "Tổng lợi nhuận: -80000.0\n",
      "Tổng giá trị tài khoản: 99920000.0\n",
      "Lợi nhuận thị trường: -0.3329633740288568%\n",
      "Lợi nhuận chiến lược: -0.08%\n"
     ]
    },
    {
     "data": {
      "image/png": "[encoded data removed]",
      "text/plain": [
       "<Figure size 1200x600 with 1 Axes>"
      ]
     },
     "metadata": {},
     "output_type": "display_data"
    },
    {
     "data": {
      "application/vnd.plotly.v1+json": {
       "config": {
        "plotlyServerURL": "https://plot.ly"
       },
       "data": [
        {
         "mode": "lines",
         "name": "Market Returns",
         "type": "scatter",
         "x": [
          "2023-09-05T00:00:00",
          "2023-09-06T00:00:00",
          "2023-09-07T00:00:00",
          "2023-09-08T00:00:00",
          "2023-09-11T00:00:00",
          "2023-09-12T00:00:00",
          "2023-09-13T00:00:00",
          "2023-09-14T00:00:00",
          "2023-09-15T00:00:00",
          "2023-09-18T00:00:00",
          "2023-09-19T00:00:00",
          "2023-09-20T00:00:00",
          "2023-09-21T00:00:00",
          "2023-09-22T00:00:00",
          "2023-09-25T00:00:00",
          "2023-09-26T00:00:00",
          "2023-09-27T00:00:00",
          "2023-09-28T00:00:00",
          "2023-09-29T00:00:00",
          "2023-10-02T00:00:00",
          "2023-10-03T00:00:00",
          "2023-10-04T00:00:00",
          "2023-10-05T00:00:00",
          "2023-10-06T00:00:00",
          "2023-10-09T00:00:00",
          "2023-10-10T00:00:00",
          "2023-10-11T00:00:00",
          "2023-10-12T00:00:00",
          "2023-10-13T00:00:00",
          "2023-10-16T00:00:00",
          "2023-10-17T00:00:00",
          "2023-10-18T00:00:00",
          "2023-10-19T00:00:00",
          "2023-10-20T00:00:00",
          "2023-10-23T00:00:00",
          "2023-10-24T00:00:00",
          "2023-10-25T00:00:00",
          "2023-10-26T00:00:00",
          "2023-10-27T00:00:00",
          "2023-10-30T00:00:00",
          "2023-10-31T00:00:00",
          "2023-11-01T00:00:00",
          "2023-11-02T00:00:00",
          "2023-11-03T00:00:00",
          "2023-11-06T00:00:00",
          "2023-11-07T00:00:00",
          "2023-11-08T00:00:00",
          "2023-11-09T00:00:00",
          "2023-11-10T00:00:00",
          "2023-11-13T00:00:00",
          "2023-11-14T00:00:00",
          "2023-11-15T00:00:00",
          "2023-11-16T00:00:00",
          "2023-11-17T00:00:00",
          "2023-11-20T00:00:00",
          "2023-11-21T00:00:00",
          "2023-11-22T00:00:00",
          "2023-11-23T00:00:00",
          "2023-11-24T00:00:00",
          "2023-11-27T00:00:00",
          "2023-11-28T00:00:00",
          "2023-11-29T00:00:00",
          "2023-11-30T00:00:00",
          "2023-12-01T00:00:00",
          "2023-12-04T00:00:00",
          "2023-12-05T00:00:00",
          "2023-12-06T00:00:00",
          "2023-12-07T00:00:00",
          "2023-12-08T00:00:00",
          "2023-12-11T00:00:00",
          "2023-12-12T00:00:00",
          "2023-12-13T00:00:00",
          "2023-12-15T00:00:00",
          "2023-12-18T00:00:00",
          "2023-12-19T00:00:00",
          "2023-12-20T00:00:00",
          "2023-12-21T00:00:00",
          "2023-12-22T00:00:00",
          "2023-12-25T00:00:00",
          "2023-12-26T00:00:00",
          "2023-12-27T00:00:00",
          "2023-12-28T00:00:00",
          "2023-12-29T00:00:00",
          "2024-01-02T00:00:00",
          "2024-01-03T00:00:00",
          "2024-01-04T00:00:00",
          "2024-01-05T00:00:00",
          "2024-01-08T00:00:00",
          "2024-01-09T00:00:00",
          "2024-01-10T00:00:00",
          "2024-01-11T00:00:00",
          "2024-01-12T00:00:00",
          "2024-01-15T00:00:00",
          "2024-01-16T00:00:00",
          "2024-01-17T00:00:00",
          "2024-01-19T00:00:00",
          "2024-01-22T00:00:00",
          "2024-01-23T00:00:00",
          "2024-01-24T00:00:00",
          "2024-01-25T00:00:00",
          "2024-01-26T00:00:00",
          "2024-01-29T00:00:00",
          "2024-01-30T00:00:00",
          "2024-01-31T00:00:00",
          "2024-02-01T00:00:00"
         ],
         "y": [
          null,
          1.0011098779134295,
          0.9933407325194228,
          0.9933407325194228,
          0.9822419533851275,
          0.9977802441731407,
          0.9889012208657045,
          0.9889012208657045,
          0.9966703662597113,
          0.985571587125416,
          0.9778024417314094,
          0.9766925638179799,
          0.9655937846836846,
          0.9911209766925637,
          0.9911209766925637,
          0.9655937846836847,
          0.9744728079911209,
          0.9766925638179801,
          0.9711431742508324,
          0.9600443951165372,
          0.9578246392896781,
          0.9578246392896781,
          0.9378468368479467,
          0.9478357380688125,
          0.9389567147613763,
          0.9556048834628191,
          0.9600443951165372,
          0.9544950055493895,
          0.9611542730299666,
          0.955604883462819,
          0.95338512763596,
          0.95338512763596,
          0.9378468368479466,
          0.9411764705882353,
          0.9378468368479467,
          0.9544950055493896,
          0.9522752497225305,
          0.9378468368479468,
          0.9433962264150945,
          0.9533851276359601,
          0.9633740288568258,
          0.9744728079911209,
          0.9877913429522751,
          0.9866814650388456,
          0.9933407325194227,
          0.9800221975582685,
          0.9933407325194228,
          0.9755826859045504,
          0.9544950055493895,
          0.9489456159822418,
          0.9544950055493894,
          0.9733629300776914,
          0.97669256381798,
          0.9500554938956715,
          0.9556048834628191,
          0.9611542730299667,
          0.9622641509433961,
          0.9489456159822418,
          0.9544950055493894,
          0.9522752497225303,
          0.9522752497225303,
          0.9445061043285237,
          0.9400665926748055,
          0.9433962264150941,
          0.9544950055493893,
          0.947835738068812,
          0.9533851276359596,
          0.945615982241953,
          0.9433962264150939,
          0.9345172031076577,
          0.9345172031076577,
          0.9289678135405101,
          0.9123196448390672,
          0.9045504994450605,
          0.901220865704772,
          0.9001109877913425,
          0.8978912319644834,
          0.8978912319644834,
          0.9078801331853491,
          0.9189789123196442,
          0.9178690344062147,
          0.9189789123196441,
          0.8912319644839061,
          0.9267480577136508,
          0.9378468368479461,
          0.9533851276359594,
          0.956714761376248,
          0.9633740288568252,
          0.9744728079911203,
          0.9933407325194221,
          0.991120976692563,
          0.984461709211986,
          0.9988901220865698,
          0.9988901220865698,
          1.0088790233074354,
          1.0277469478357373,
          1.02108768035516,
          1.0155382907880124,
          1.0110987791342942,
          1.0099889012208647,
          1.0210876803551598,
          1.0122086570477238,
          1.0099889012208647,
          0.9822419533851267,
          0.9966703662597105
         ]
        },
        {
         "mode": "lines",
         "name": "Strategy Returns",
         "type": "scatter",
         "x": [
          "2023-09-05T00:00:00",
          "2023-09-06T00:00:00",
          "2023-09-07T00:00:00",
          "2023-09-08T00:00:00",
          "2023-09-11T00:00:00",
          "2023-09-12T00:00:00",
          "2023-09-13T00:00:00",
          "2023-09-14T00:00:00",
          "2023-09-15T00:00:00",
          "2023-09-18T00:00:00",
          "2023-09-19T00:00:00",
          "2023-09-20T00:00:00",
          "2023-09-21T00:00:00",
          "2023-09-22T00:00:00",
          "2023-09-25T00:00:00",
          "2023-09-26T00:00:00",
          "2023-09-27T00:00:00",
          "2023-09-28T00:00:00",
          "2023-09-29T00:00:00",
          "2023-10-02T00:00:00",
          "2023-10-03T00:00:00",
          "2023-10-04T00:00:00",
          "2023-10-05T00:00:00",
          "2023-10-06T00:00:00",
          "2023-10-09T00:00:00",
          "2023-10-10T00:00:00",
          "2023-10-11T00:00:00",
          "2023-10-12T00:00:00",
          "2023-10-13T00:00:00",
          "2023-10-16T00:00:00",
          "2023-10-17T00:00:00",
          "2023-10-18T00:00:00",
          "2023-10-19T00:00:00",
          "2023-10-20T00:00:00",
          "2023-10-23T00:00:00",
          "2023-10-24T00:00:00",
          "2023-10-25T00:00:00",
          "2023-10-26T00:00:00",
          "2023-10-27T00:00:00",
          "2023-10-30T00:00:00",
          "2023-10-31T00:00:00",
          "2023-11-01T00:00:00",
          "2023-11-02T00:00:00",
          "2023-11-03T00:00:00",
          "2023-11-06T00:00:00",
          "2023-11-07T00:00:00",
          "2023-11-08T00:00:00",
          "2023-11-09T00:00:00",
          "2023-11-10T00:00:00",
          "2023-11-13T00:00:00",
          "2023-11-14T00:00:00",
          "2023-11-15T00:00:00",
          "2023-11-16T00:00:00",
          "2023-11-17T00:00:00",
          "2023-11-20T00:00:00",
          "2023-11-21T00:00:00",
          "2023-11-22T00:00:00",
          "2023-11-23T00:00:00",
          "2023-11-24T00:00:00",
          "2023-11-27T00:00:00",
          "2023-11-28T00:00:00",
          "2023-11-29T00:00:00",
          "2023-11-30T00:00:00",
          "2023-12-01T00:00:00",
          "2023-12-04T00:00:00",
          "2023-12-05T00:00:00",
          "2023-12-06T00:00:00",
          "2023-12-07T00:00:00",
          "2023-12-08T00:00:00",
          "2023-12-11T00:00:00",
          "2023-12-12T00:00:00",
          "2023-12-13T00:00:00",
          "2023-12-15T00:00:00",
          "2023-12-18T00:00:00",
          "2023-12-19T00:00:00",
          "2023-12-20T00:00:00",
          "2023-12-21T00:00:00",
          "2023-12-22T00:00:00",
          "2023-12-25T00:00:00",
          "2023-12-26T00:00:00",
          "2023-12-27T00:00:00",
          "2023-12-28T00:00:00",
          "2023-12-29T00:00:00",
          "2024-01-02T00:00:00",
          "2024-01-03T00:00:00",
          "2024-01-04T00:00:00",
          "2024-01-05T00:00:00",
          "2024-01-08T00:00:00",
          "2024-01-09T00:00:00",
          "2024-01-10T00:00:00",
          "2024-01-11T00:00:00",
          "2024-01-12T00:00:00",
          "2024-01-15T00:00:00",
          "2024-01-16T00:00:00",
          "2024-01-17T00:00:00",
          "2024-01-19T00:00:00",
          "2024-01-22T00:00:00",
          "2024-01-23T00:00:00",
          "2024-01-24T00:00:00",
          "2024-01-25T00:00:00",
          "2024-01-26T00:00:00",
          "2024-01-29T00:00:00",
          "2024-01-30T00:00:00",
          "2024-01-31T00:00:00",
          "2024-02-01T00:00:00"
         ],
         "y": [
          1,
          1,
          1,
          1,
          1,
          1,
          1,
          1,
          1,
          1,
          1,
          1,
          1,
          1,
          1,
          1,
          1,
          1,
          1,
          1,
          1,
          1,
          1,
          1,
          1,
          1,
          1,
          1,
          1,
          1,
          1,
          1,
          1,
          1,
          1,
          1,
          1,
          0.9987,
          0.9992,
          1.0001,
          1.001,
          1.003,
          1.0066,
          1.0062,
          1.0092,
          1.002,
          1.0104,
          0.9976,
          0.9805,
          0.9755,
          0.9805,
          0.9805,
          0.9805,
          0.9805,
          0.981,
          0.981,
          0.981,
          0.981,
          0.981,
          0.981,
          0.981,
          0.981,
          0.981,
          0.981,
          0.981,
          0.981,
          0.981,
          0.981,
          0.981,
          0.981,
          0.981,
          0.981,
          0.981,
          0.981,
          0.981,
          0.981,
          0.981,
          0.981,
          0.981,
          0.981,
          0.981,
          0.981,
          0.981,
          0.981,
          0.981,
          0.9824,
          0.983,
          0.9848,
          0.9888,
          0.9973,
          0.9961,
          0.9919,
          1.0023,
          1.0023,
          1.0113,
          1.03,
          1.0234,
          1.0179,
          1.0135,
          1.0124,
          1.0234,
          1.0146,
          1.0124,
          0.9849,
          0.9992
         ]
        }
       ],
       "layout": {
        "template": {
         "data": {
          "bar": [
           {
            "error_x": {
             "color": "#2a3f5f"
            },
            "error_y": {
             "color": "#2a3f5f"
            },
            "marker": {
             "line": {
              "color": "#E5ECF6",
              "width": 0.5
             },
             "pattern": {
              "fillmode": "overlay",
              "size": 10,
              "solidity": 0.2
             }
            },
            "type": "bar"
           }
          ],
          "barpolar": [
           {
            "marker": {
             "line": {
              "color": "#E5ECF6",
              "width": 0.5
             },
             "pattern": {
              "fillmode": "overlay",
              "size": 10,
              "solidity": 0.2
             }
            },
            "type": "barpolar"
           }
          ],
          "carpet": [
           {
            "aaxis": {
             "endlinecolor": "#2a3f5f",
             "gridcolor": "white",
             "linecolor": "white",
             "minorgridcolor": "white",
             "startlinecolor": "#2a3f5f"
            },
            "baxis": {
             "endlinecolor": "#2a3f5f",
             "gridcolor": "white",
             "linecolor": "white",
             "minorgridcolor": "white",
             "startlinecolor": "#2a3f5f"
            },
            "type": "carpet"
           }
          ],
          "choropleth": [
           {
            "colorbar": {
             "outlinewidth": 0,
             "ticks": ""
            },
            "type": "choropleth"
           }
          ],
          "contour": [
           {
            "colorbar": {
             "outlinewidth": 0,
             "ticks": ""
            },
            "colorscale": [
             [
              0,
              "#0d0887"
             ],
             [
              0.1111111111111111,
              "#46039f"
             ],
             [
              0.2222222222222222,
              "#7201a8"
             ],
             [
              0.3333333333333333,
              "#9c179e"
             ],
             [
              0.4444444444444444,
              "#bd3786"
             ],
             [
              0.5555555555555556,
              "#d8576b"
             ],
             [
              0.6666666666666666,
              "#ed7953"
             ],
             [
              0.7777777777777778,
              "#fb9f3a"
             ],
             [
              0.8888888888888888,
              "#fdca26"
             ],
             [
              1,
              "#f0f921"
             ]
            ],
            "type": "contour"
           }
          ],
          "contourcarpet": [
           {
            "colorbar": {
             "outlinewidth": 0,
             "ticks": ""
            },
            "type": "contourcarpet"
           }
          ],
          "heatmap": [
           {
            "colorbar": {
             "outlinewidth": 0,
             "ticks": ""
            },
            "colorscale": [
             [
              0,
              "#0d0887"
             ],
             [
              0.1111111111111111,
              "#46039f"
             ],
             [
              0.2222222222222222,
              "#7201a8"
             ],
             [
              0.3333333333333333,
              "#9c179e"
             ],
             [
              0.4444444444444444,
              "#bd3786"
             ],
             [
              0.5555555555555556,
              "#d8576b"
             ],
             [
              0.6666666666666666,
              "#ed7953"
             ],
             [
              0.7777777777777778,
              "#fb9f3a"
             ],
             [
              0.8888888888888888,
              "#fdca26"
             ],
             [
              1,
              "#f0f921"
             ]
            ],
            "type": "heatmap"
           }
          ],
          "heatmapgl": [
           {
            "colorbar": {
             "outlinewidth": 0,
             "ticks": ""
            },
            "colorscale": [
             [
              0,
              "#0d0887"
             ],
             [
              0.1111111111111111,
              "#46039f"
             ],
             [
              0.2222222222222222,
              "#7201a8"
             ],
             [
              0.3333333333333333,
              "#9c179e"
             ],
             [
              0.4444444444444444,
              "#bd3786"
             ],
             [
              0.5555555555555556,
              "#d8576b"
             ],
             [
              0.6666666666666666,
              "#ed7953"
             ],
             [
              0.7777777777777778,
              "#fb9f3a"
             ],
             [
              0.8888888888888888,
              "#fdca26"
             ],
             [
              1,
              "#f0f921"
             ]
            ],
            "type": "heatmapgl"
           }
          ],
          "histogram": [
           {
            "marker": {
             "pattern": {
              "fillmode": "overlay",
              "size": 10,
              "solidity": 0.2
             }
            },
            "type": "histogram"
           }
          ],
          "histogram2d": [
           {
            "colorbar": {
             "outlinewidth": 0,
             "ticks": ""
            },
            "colorscale": [
             [
              0,
              "#0d0887"
             ],
             [
              0.1111111111111111,
              "#46039f"
             ],
             [
              0.2222222222222222,
              "#7201a8"
             ],
             [
              0.3333333333333333,
              "#9c179e"
             ],
             [
              0.4444444444444444,
              "#bd3786"
             ],
             [
              0.5555555555555556,
              "#d8576b"
             ],
             [
              0.6666666666666666,
              "#ed7953"
             ],
             [
              0.7777777777777778,
              "#fb9f3a"
             ],
             [
              0.8888888888888888,
              "#fdca26"
             ],
             [
              1,
              "#f0f921"
             ]
            ],
            "type": "histogram2d"
           }
          ],
          "histogram2dcontour": [
           {
            "colorbar": {
             "outlinewidth": 0,
             "ticks": ""
            },
            "colorscale": [
             [
              0,
              "#0d0887"
             ],
             [
              0.1111111111111111,
              "#46039f"
             ],
             [
              0.2222222222222222,
              "#7201a8"
             ],
             [
              0.3333333333333333,
              "#9c179e"
             ],
             [
              0.4444444444444444,
              "#bd3786"
             ],
             [
              0.5555555555555556,
              "#d8576b"
             ],
             [
              0.6666666666666666,
              "#ed7953"
             ],
             [
              0.7777777777777778,
              "#fb9f3a"
             ],
             [
              0.8888888888888888,
              "#fdca26"
             ],
             [
              1,
              "#f0f921"
             ]
            ],
            "type": "histogram2dcontour"
           }
          ],
          "mesh3d": [
           {
            "colorbar": {
             "outlinewidth": 0,
             "ticks": ""
            },
            "type": "mesh3d"
           }
          ],
          "parcoords": [
           {
            "line": {
             "colorbar": {
              "outlinewidth": 0,
              "ticks": ""
             }
            },
            "type": "parcoords"
           }
          ],
          "pie": [
           {
            "automargin": true,
            "type": "pie"
           }
          ],
          "scatter": [
           {
            "fillpattern": {
             "fillmode": "overlay",
             "size": 10,
             "solidity": 0.2
            },
            "type": "scatter"
           }
          ],
          "scatter3d": [
           {
            "line": {
             "colorbar": {
              "outlinewidth": 0,
              "ticks": ""
             }
            },
            "marker": {
             "colorbar": {
              "outlinewidth": 0,
              "ticks": ""
             }
            },
            "type": "scatter3d"
           }
          ],
          "scattercarpet": [
           {
            "marker": {
             "colorbar": {
              "outlinewidth": 0,
              "ticks": ""
             }
            },
            "type": "scattercarpet"
           }
          ],
          "scattergeo": [
           {
            "marker": {
             "colorbar": {
              "outlinewidth": 0,
              "ticks": ""
             }
            },
            "type": "scattergeo"
           }
          ],
          "scattergl": [
           {
            "marker": {
             "colorbar": {
              "outlinewidth": 0,
              "ticks": ""
             }
            },
            "type": "scattergl"
           }
          ],
          "scattermapbox": [
           {
            "marker": {
             "colorbar": {
              "outlinewidth": 0,
              "ticks": ""
             }
            },
            "type": "scattermapbox"
           }
          ],
          "scatterpolar": [
           {
            "marker": {
             "colorbar": {
              "outlinewidth": 0,
              "ticks": ""
             }
            },
            "type": "scatterpolar"
           }
          ],
          "scatterpolargl": [
           {
            "marker": {
             "colorbar": {
              "outlinewidth": 0,
              "ticks": ""
             }
            },
            "type": "scatterpolargl"
           }
          ],
          "scatterternary": [
           {
            "marker": {
             "colorbar": {
              "outlinewidth": 0,
              "ticks": ""
             }
            },
            "type": "scatterternary"
           }
          ],
          "surface": [
           {
            "colorbar": {
             "outlinewidth": 0,
             "ticks": ""
            },
            "colorscale": [
             [
              0,
              "#0d0887"
             ],
             [
              0.1111111111111111,
              "#46039f"
             ],
             [
              0.2222222222222222,
              "#7201a8"
             ],
             [
              0.3333333333333333,
              "#9c179e"
             ],
             [
              0.4444444444444444,
              "#bd3786"
             ],
             [
              0.5555555555555556,
              "#d8576b"
             ],
             [
              0.6666666666666666,
              "#ed7953"
             ],
             [
              0.7777777777777778,
              "#fb9f3a"
             ],
             [
              0.8888888888888888,
              "#fdca26"
             ],
             [
              1,
              "#f0f921"
             ]
            ],
            "type": "surface"
           }
          ],
          "table": [
           {
            "cells": {
             "fill": {
              "color": "#EBF0F8"
             },
             "line": {
              "color": "white"
             }
            },
            "header": {
             "fill": {
              "color": "#C8D4E3"
             },
             "line": {
              "color": "white"
             }
            },
            "type": "table"
           }
          ]
         },
         "layout": {
          "annotationdefaults": {
           "arrowcolor": "#2a3f5f",
           "arrowhead": 0,
           "arrowwidth": 1
          },
          "autotypenumbers": "strict",
          "coloraxis": {
           "colorbar": {
            "outlinewidth": 0,
            "ticks": ""
           }
          },
          "colorscale": {
           "diverging": [
            [
             0,
             "#8e0152"
            ],
            [
             0.1,
             "#c51b7d"
            ],
            [
             0.2,
             "#de77ae"
            ],
            [
             0.3,
             "#f1b6da"
            ],
            [
             0.4,
             "#fde0ef"
            ],
            [
             0.5,
             "#f7f7f7"
            ],
            [
             0.6,
             "#e6f5d0"
            ],
            [
             0.7,
             "#b8e186"
            ],
            [
             0.8,
             "#7fbc41"
            ],
            [
             0.9,
             "#4d9221"
            ],
            [
             1,
             "#276419"
            ]
           ],
           "sequential": [
            [
             0,
             "#0d0887"
            ],
            [
             0.1111111111111111,
             "#46039f"
            ],
            [
             0.2222222222222222,
             "#7201a8"
            ],
            [
             0.3333333333333333,
             "#9c179e"
            ],
            [
             0.4444444444444444,
             "#bd3786"
            ],
            [
             0.5555555555555556,
             "#d8576b"
            ],
            [
             0.6666666666666666,
             "#ed7953"
            ],
            [
             0.7777777777777778,
             "#fb9f3a"
            ],
            [
             0.8888888888888888,
             "#fdca26"
            ],
            [
             1,
             "#f0f921"
            ]
           ],
           "sequentialminus": [
            [
             0,
             "#0d0887"
            ],
            [
             0.1111111111111111,
             "#46039f"
            ],
            [
             0.2222222222222222,
             "#7201a8"
            ],
            [
             0.3333333333333333,
             "#9c179e"
            ],
            [
             0.4444444444444444,
             "#bd3786"
            ],
            [
             0.5555555555555556,
             "#d8576b"
            ],
            [
             0.6666666666666666,
             "#ed7953"
            ],
            [
             0.7777777777777778,
             "#fb9f3a"
            ],
            [
             0.8888888888888888,
             "#fdca26"
            ],
            [
             1,
             "#f0f921"
            ]
           ]
          },
          "colorway": [
           "#636efa",
           "#EF553B",
           "#00cc96",
           "#ab63fa",
           "#FFA15A",
           "#19d3f3",
           "#FF6692",
           "#B6E880",
           "#FF97FF",
           "#FECB52"
          ],
          "font": {
           "color": "#2a3f5f"
          },
          "geo": {
           "bgcolor": "white",
           "lakecolor": "white",
           "landcolor": "#E5ECF6",
           "showlakes": true,
           "showland": true,
           "subunitcolor": "white"
          },
          "hoverlabel": {
           "align": "left"
          },
          "hovermode": "closest",
          "mapbox": {
           "style": "light"
          },
          "paper_bgcolor": "white",
          "plot_bgcolor": "#E5ECF6",
          "polar": {
           "angularaxis": {
            "gridcolor": "white",
            "linecolor": "white",
            "ticks": ""
           },
           "bgcolor": "#E5ECF6",
           "radialaxis": {
            "gridcolor": "white",
            "linecolor": "white",
            "ticks": ""
           }
          },
          "scene": {
           "xaxis": {
            "backgroundcolor": "#E5ECF6",
            "gridcolor": "white",
            "gridwidth": 2,
            "linecolor": "white",
            "showbackground": true,
            "ticks": "",
            "zerolinecolor": "white"
           },
           "yaxis": {
            "backgroundcolor": "#E5ECF6",
            "gridcolor": "white",
            "gridwidth": 2,
            "linecolor": "white",
            "showbackground": true,
            "ticks": "",
            "zerolinecolor": "white"
           },
           "zaxis": {
            "backgroundcolor": "#E5ECF6",
            "gridcolor": "white",
            "gridwidth": 2,
            "linecolor": "white",
            "showbackground": true,
            "ticks": "",
            "zerolinecolor": "white"
           }
          },
          "shapedefaults": {
           "line": {
            "color": "#2a3f5f"
           }
          },
          "ternary": {
           "aaxis": {
            "gridcolor": "white",
            "linecolor": "white",
            "ticks": ""
           },
           "baxis": {
            "gridcolor": "white",
            "linecolor": "white",
            "ticks": ""
           },
           "bgcolor": "#E5ECF6",
           "caxis": {
            "gridcolor": "white",
            "linecolor": "white",
            "ticks": ""
           }
          },
          "title": {
           "x": 0.05
          },
          "xaxis": {
           "automargin": true,
           "gridcolor": "white",
           "linecolor": "white",
           "ticks": "",
           "title": {
            "standoff": 15
           },
           "zerolinecolor": "white",
           "zerolinewidth": 2
          },
          "yaxis": {
           "automargin": true,
           "gridcolor": "white",
           "linecolor": "white",
           "ticks": "",
           "title": {
            "standoff": 15
           },
           "zerolinecolor": "white",
           "zerolinewidth": 2
          }
         }
        },
        "title": {
         "text": "Comparison of Cumulative Returns: Market vs Strategy"
        },
        "xaxis": {
         "title": {
          "text": "Date"
         }
        },
        "yaxis": {
         "title": {
          "text": "Cumulative Returns"
         }
        }
       }
      }
     },
     "metadata": {},
     "output_type": "display_data"
    }
   ],
   "source": [
    "import sys\n",
    "sys.path.append(\"../Common\")\n",
    "# from CommonBacktest import CommonBacktest\n",
    "import CommonBacktest\n",
    "# initial_capital, shares_per_signal\n",
    "\n",
    "backtest = CommonBacktest.CommonBacktest.backtest(data, 100000000, 100)\n",
    "backtest.to_csv('data_out_backtest.csv')"
   ]
  }
 ],
 "metadata": {
  "kernelspec": {
   "display_name": "Python 3",
   "language": "python",
   "name": "python3"
  },
  "language_info": {
   "codemirror_mode": {
    "name": "ipython",
    "version": 3
   },
   "file_extension": ".py",
   "mimetype": "text/x-python",
   "name": "python",
   "nbconvert_exporter": "python",
   "pygments_lexer": "ipython3",
   "version": "3.11.6"
  },
  "vscode": {
   "interpreter": {
    "hash": "aee8b7b246df8f9039afb4144a1f6fd8d2ca17a180786b69acc140d282b71a49"
   }
  }
 },
 "nbformat": 4,
 "nbformat_minor": 2
}
