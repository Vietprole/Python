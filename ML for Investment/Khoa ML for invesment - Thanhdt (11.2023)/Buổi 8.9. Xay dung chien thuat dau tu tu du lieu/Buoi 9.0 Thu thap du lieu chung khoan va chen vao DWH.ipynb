{
 "cells": [
  {
   "cell_type": "markdown",
   "metadata": {},
   "source": [
    "# Thu thap du lieu chứng Khoán"
   ]
  },
  {
   "cell_type": "code",
   "execution_count": 12,
   "metadata": {},
   "outputs": [],
   "source": [
    "import sys\n",
    "sys.path.append('../Common/')\n",
    "\n",
    "import CommonSSI"
   ]
  },
  {
   "cell_type": "code",
   "execution_count": 5,
   "metadata": {},
   "outputs": [],
   "source": [
    "# Ví dụ: Gọi hàm để lấy dữ liệu từ '2023-01-01' đến '2023-12-31'\n",
    "symbol = \"SSI\"\n",
    "from_date = \"2002-01-01\"\n",
    "to_date = \"2023-12-31\"\n",
    "data = CommonSSI.CommonSSI.loaddataSSI_Ext(symbol, from_date, to_date)"
   ]
  },
  {
   "cell_type": "code",
   "execution_count": 7,
   "metadata": {},
   "outputs": [
    {
     "name": "stdout",
     "output_type": "stream",
     "text": [
      "<class 'pandas.core.frame.DataFrame'>\n",
      "RangeIndex: 4286 entries, 0 to 4285\n",
      "Data columns (total 6 columns):\n",
      " #   Column    Non-Null Count  Dtype         \n",
      "---  ------    --------------  -----         \n",
      " 0   Datetime  4286 non-null   datetime64[ns]\n",
      " 1   Open      4286 non-null   object        \n",
      " 2   High      4286 non-null   object        \n",
      " 3   Low       4286 non-null   object        \n",
      " 4   Close     4286 non-null   object        \n",
      " 5   Volume    4286 non-null   object        \n",
      "dtypes: datetime64[ns](1), object(5)\n",
      "memory usage: 201.0+ KB\n"
     ]
    },
    {
     "data": {
      "text/html": [
       "<div>\n",
       "<style scoped>\n",
       "    .dataframe tbody tr th:only-of-type {\n",
       "        vertical-align: middle;\n",
       "    }\n",
       "\n",
       "    .dataframe tbody tr th {\n",
       "        vertical-align: top;\n",
       "    }\n",
       "\n",
       "    .dataframe thead th {\n",
       "        text-align: right;\n",
       "    }\n",
       "</style>\n",
       "<table border=\"1\" class=\"dataframe\">\n",
       "  <thead>\n",
       "    <tr style=\"text-align: right;\">\n",
       "      <th></th>\n",
       "      <th>Datetime</th>\n",
       "      <th>Open</th>\n",
       "      <th>High</th>\n",
       "      <th>Low</th>\n",
       "      <th>Close</th>\n",
       "      <th>Volume</th>\n",
       "    </tr>\n",
       "  </thead>\n",
       "  <tbody>\n",
       "    <tr>\n",
       "      <th>0</th>\n",
       "      <td>2006-12-15</td>\n",
       "      <td>7374</td>\n",
       "      <td>21067</td>\n",
       "      <td>5</td>\n",
       "      <td>9607</td>\n",
       "      <td>293000</td>\n",
       "    </tr>\n",
       "    <tr>\n",
       "      <th>1</th>\n",
       "      <td>2006-12-18</td>\n",
       "      <td>8954</td>\n",
       "      <td>9607</td>\n",
       "      <td>8954</td>\n",
       "      <td>8954</td>\n",
       "      <td>340200</td>\n",
       "    </tr>\n",
       "    <tr>\n",
       "      <th>2</th>\n",
       "      <td>2006-12-19</td>\n",
       "      <td>10270</td>\n",
       "      <td>10402</td>\n",
       "      <td>9533</td>\n",
       "      <td>10270</td>\n",
       "      <td>326900</td>\n",
       "    </tr>\n",
       "    <tr>\n",
       "      <th>3</th>\n",
       "      <td>2006-12-20</td>\n",
       "      <td>11392</td>\n",
       "      <td>11392</td>\n",
       "      <td>10323</td>\n",
       "      <td>10323</td>\n",
       "      <td>651600</td>\n",
       "    </tr>\n",
       "    <tr>\n",
       "      <th>4</th>\n",
       "      <td>2006-12-21</td>\n",
       "      <td>10534</td>\n",
       "      <td>10534</td>\n",
       "      <td>9886</td>\n",
       "      <td>9886</td>\n",
       "      <td>200100</td>\n",
       "    </tr>\n",
       "    <tr>\n",
       "      <th>...</th>\n",
       "      <td>...</td>\n",
       "      <td>...</td>\n",
       "      <td>...</td>\n",
       "      <td>...</td>\n",
       "      <td>...</td>\n",
       "      <td>...</td>\n",
       "    </tr>\n",
       "    <tr>\n",
       "      <th>4281</th>\n",
       "      <td>2023-12-25</td>\n",
       "      <td>32350</td>\n",
       "      <td>32750</td>\n",
       "      <td>32100</td>\n",
       "      <td>32550</td>\n",
       "      <td>13953300</td>\n",
       "    </tr>\n",
       "    <tr>\n",
       "      <th>4282</th>\n",
       "      <td>2023-12-26</td>\n",
       "      <td>32600</td>\n",
       "      <td>32900</td>\n",
       "      <td>32500</td>\n",
       "      <td>32750</td>\n",
       "      <td>14005700</td>\n",
       "    </tr>\n",
       "    <tr>\n",
       "      <th>4283</th>\n",
       "      <td>2023-12-27</td>\n",
       "      <td>32950</td>\n",
       "      <td>33150</td>\n",
       "      <td>32800</td>\n",
       "      <td>32800</td>\n",
       "      <td>16101500</td>\n",
       "    </tr>\n",
       "    <tr>\n",
       "      <th>4284</th>\n",
       "      <td>2023-12-28</td>\n",
       "      <td>32850</td>\n",
       "      <td>33150</td>\n",
       "      <td>32650</td>\n",
       "      <td>33000</td>\n",
       "      <td>10895900</td>\n",
       "    </tr>\n",
       "    <tr>\n",
       "      <th>4285</th>\n",
       "      <td>2023-12-29</td>\n",
       "      <td>32950</td>\n",
       "      <td>33100</td>\n",
       "      <td>32750</td>\n",
       "      <td>32800</td>\n",
       "      <td>12790300</td>\n",
       "    </tr>\n",
       "  </tbody>\n",
       "</table>\n",
       "<p>4286 rows × 6 columns</p>\n",
       "</div>"
      ],
      "text/plain": [
       "       Datetime   Open   High    Low  Close    Volume\n",
       "0    2006-12-15   7374  21067      5   9607    293000\n",
       "1    2006-12-18   8954   9607   8954   8954    340200\n",
       "2    2006-12-19  10270  10402   9533  10270    326900\n",
       "3    2006-12-20  11392  11392  10323  10323    651600\n",
       "4    2006-12-21  10534  10534   9886   9886    200100\n",
       "...         ...    ...    ...    ...    ...       ...\n",
       "4281 2023-12-25  32350  32750  32100  32550  13953300\n",
       "4282 2023-12-26  32600  32900  32500  32750  14005700\n",
       "4283 2023-12-27  32950  33150  32800  32800  16101500\n",
       "4284 2023-12-28  32850  33150  32650  33000  10895900\n",
       "4285 2023-12-29  32950  33100  32750  32800  12790300\n",
       "\n",
       "[4286 rows x 6 columns]"
      ]
     },
     "execution_count": 7,
     "metadata": {},
     "output_type": "execute_result"
    }
   ],
   "source": [
    "data.info()\n",
    "data"
   ]
  },
  {
   "cell_type": "markdown",
   "metadata": {},
   "source": [
    "# Chen vao DWH: Không có user và password"
   ]
  },
  {
   "cell_type": "code",
   "execution_count": 11,
   "metadata": {},
   "outputs": [
    {
     "data": {
      "text/plain": [
       "98"
      ]
     },
     "execution_count": 11,
     "metadata": {},
     "output_type": "execute_result"
    }
   ],
   "source": [
    "import urllib.parse\n",
    "import sqlalchemy\n",
    "\n",
    "driver = 'ODBC Driver 17 for SQL Server'\n",
    "server = '.'  # hoặc tên server của bạn\n",
    "database = 'DWH'  # thay đổi tên database nếu cần\n",
    "\n",
    "# Tạo chuỗi kết nối\n",
    "params = urllib.parse.quote_plus(f'DRIVER={driver};SERVER={server};DATABASE={database};Trusted_Connection=yes')\n",
    "connection_string = f\"mssql+pyodbc:///?odbc_connect={params}\"\n",
    "\n",
    "# Tạo engine kết nối\n",
    "engine = sqlalchemy.create_engine(connection_string)\n",
    "\n",
    "# Lưu DataFrame vào SQL Server\n",
    "table_name = 'ChungKhoan_Data'\n",
    "data.to_sql(table_name, con=engine, if_exists='append', index=False)"
   ]
  },
  {
   "cell_type": "markdown",
   "metadata": {},
   "source": [
    "# Chen vao DWH: Có user và password"
   ]
  },
  {
   "cell_type": "code",
   "execution_count": 4,
   "metadata": {},
   "outputs": [],
   "source": [
    "# import urllib.parse\n",
    "# import sqlalchemy\n",
    "\n",
    "# driver = 'ODBC Driver 17 for SQL Server'\n",
    "# server = '.'  # hoặc tên server của bạn\n",
    "# database = 'DWH'  # thay đổi tên database nếu cần\n",
    "# username = 'sa'  # tên người dùng của bạn\n",
    "# password = '1'  # mật khẩu của bạn\n",
    "\n",
    "# # Tạo chuỗi kết nối\n",
    "# params = urllib.parse.quote_plus(f'DRIVER={driver};SERVER={server};DATABASE={database};UID={username};PWD={password}')\n",
    "# connection_string = f\"mssql+pyodbc:///?odbc_connect={params}\"\n",
    "\n",
    "# # Tạo engine kết nối\n",
    "# engine = sqlalchemy.create_engine(connection_string)\n",
    "\n",
    "# # Lưu DataFrame vào SQL Server\n",
    "# table_name = 'ChungKhoan_Data'\n",
    "# data.to_sql(table_name, con=engine, if_exists='append', index=False)"
   ]
  }
 ],
 "metadata": {
  "kernelspec": {
   "display_name": "Python 3",
   "language": "python",
   "name": "python3"
  },
  "language_info": {
   "codemirror_mode": {
    "name": "ipython",
    "version": 3
   },
   "file_extension": ".py",
   "mimetype": "text/x-python",
   "name": "python",
   "nbconvert_exporter": "python",
   "pygments_lexer": "ipython3",
   "version": "3.11.6"
  }
 },
 "nbformat": 4,
 "nbformat_minor": 2
}
