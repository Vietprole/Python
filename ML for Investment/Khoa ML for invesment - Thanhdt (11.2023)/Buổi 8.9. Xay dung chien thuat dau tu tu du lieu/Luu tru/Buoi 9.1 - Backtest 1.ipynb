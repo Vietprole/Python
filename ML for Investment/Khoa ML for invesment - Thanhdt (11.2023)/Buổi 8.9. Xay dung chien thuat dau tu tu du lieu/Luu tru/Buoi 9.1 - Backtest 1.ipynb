{
 "cells": [
  {
   "cell_type": "markdown",
   "metadata": {},
   "source": [
    "# Chien luoc MA, ATR va mua 10 co phieu khi co tin hieu MUA"
   ]
  },
  {
   "cell_type": "code",
   "execution_count": 1,
   "metadata": {},
   "outputs": [
    {
     "name": "stdout",
     "output_type": "stream",
     "text": [
      "[*********************100%***********************]  1 of 1 completed\n",
      "Tổng lợi nhuận: -2347000.0\n",
      "Tổng giá trị tài khoản: 97653000.0\n"
     ]
    }
   ],
   "source": [
    "import yfinance as yf\n",
    "import time \n",
    "import redis\n",
    "import json\n",
    "import pandas as pd\n",
    "import numpy as np\n",
    "import datetime\n",
    "\n",
    "symbol = \"VCB.VN\"\n",
    "start_date = \"2023-10-01\"\n",
    "end_date = \"2023-11-24\"\n",
    "ohlcv = yf.download(symbol, start=start_date, end=end_date, interval=\"15m\")\n",
    "\n",
    "# Chuyển dữ liệu thành DataFrame\n",
    "data = pd.DataFrame(ohlcv, columns=['Open', 'High', 'Low', 'Close', 'Volume'])\n",
    "import pandas as pd\n",
    "import numpy as np\n",
    "import matplotlib.pyplot as plt\n",
    "import mplcursors\n",
    "\n",
    "# Tính MA và ATR\n",
    "ma_fast_period = 50\n",
    "ma_slow_period = 200\n",
    "atr_period = 14\n",
    "atr_threshold = 1000\n",
    "\n",
    "data['MA_Fast'] = data['Close'].rolling(window=ma_fast_period).mean()\n",
    "data['MA_Slow'] = data['Close'].rolling(window=ma_slow_period).mean()\n",
    "\n",
    "# data['TR'] = np.maximum(data['High'] - data['Low'], np.maximum(abs(data['High'] - data['Close'].shift()), abs(data['Low'] - data['Close'].shift())))\n",
    "# data['ATR'] = data['TR'].rolling(window=atr_period).mean()\n",
    "data['TR'] = data['High'] - data['Low']\n",
    "data['ATR'] = data['TR'].rolling(window=atr_period).mean()\n",
    "\n",
    "# Xác định tín hiệu mua\n",
    "data['Signal'] = np.where((data['MA_Fast'] > data['MA_Slow']) & (data['ATR'] <= atr_threshold), 1, 0)\n",
    "data['Position'] = data['Signal'].shift()\n",
    "\n",
    "data.to_csv('Buoi 9.1 - Backtest 1.csv')\n",
    "\n",
    "# Giả sử khởi tạo với số vốn ban đầu là 100000000 và mỗi lần mua 10 cổ phiếu\n",
    "initial_capital = 100000000\n",
    "shares_per_signal = 10\n",
    "capital = initial_capital\n",
    "shares_held = 0\n",
    "\n",
    "# Lặp qua mỗi hàng trong DataFrame\n",
    "for index, row in data.iterrows():\n",
    "    # Nếu có tín hiệu mua và có đủ vốn để mua\n",
    "    if row['Position'] == 1 and capital >= row['Close'] * shares_per_signal:\n",
    "        # Mua cổ phiếu và cập nhật vốn và số cổ phiếu được giữ\n",
    "        capital -= row['Close'] * shares_per_signal\n",
    "        shares_held += shares_per_signal\n",
    "    # Cập nhật giá trị hiện tại của vốn dựa trên số cổ phiếu đang giữ và giá đóng cửa hiện tại\n",
    "    current_value = capital + shares_held * row['Close']\n",
    "\n",
    "# Tính lợi nhuận\n",
    "profit = current_value - initial_capital\n",
    "\n",
    "print(f'Tổng lợi nhuận: {profit}')\n",
    "print(f'Tổng giá trị tài khoản: {current_value}')"
   ]
  }
 ],
 "metadata": {
  "kernelspec": {
   "display_name": "Python 3",
   "language": "python",
   "name": "python3"
  },
  "language_info": {
   "codemirror_mode": {
    "name": "ipython",
    "version": 3
   },
   "file_extension": ".py",
   "mimetype": "text/x-python",
   "name": "python",
   "nbconvert_exporter": "python",
   "pygments_lexer": "ipython3",
   "version": "3.11.6"
  }
 },
 "nbformat": 4,
 "nbformat_minor": 2
}
