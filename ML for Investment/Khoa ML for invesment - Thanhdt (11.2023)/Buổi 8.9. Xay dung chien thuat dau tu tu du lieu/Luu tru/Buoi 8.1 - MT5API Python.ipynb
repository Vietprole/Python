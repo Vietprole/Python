{
 "cells": [
  {
   "cell_type": "markdown",
   "metadata": {},
   "source": [
    "# Cai dat"
   ]
  },
  {
   "cell_type": "code",
   "execution_count": 1,
   "metadata": {},
   "outputs": [],
   "source": [
    "# !pip install MetaTrader5\n",
    "import MetaTrader5 as mt5"
   ]
  },
  {
   "cell_type": "markdown",
   "metadata": {},
   "source": [
    "# Ham sendOrder"
   ]
  },
  {
   "cell_type": "code",
   "execution_count": 2,
   "metadata": {},
   "outputs": [],
   "source": [
    "def orderSendOld(symbol):\n",
    "    # symbol = \"EURUSD\"\n",
    "    lot = 0.01  # Số lượng lô mà bạn muốn mua\n",
    "    point = mt5.symbol_info(symbol).point\n",
    "    print('Point: ', point)\n",
    "    price = mt5.symbol_info_tick(symbol).ask\n",
    "    print('Price: ', price)\n",
    "    deviation = 110  # Độ lệch giá cho phép\n",
    "\n",
    "    request = {\n",
    "        \"action\": mt5.TRADE_ACTION_DEAL,\n",
    "        \"symbol\": symbol,\n",
    "        \"volume\": lot,\n",
    "        \"type\": mt5.ORDER_TYPE_BUY,\n",
    "        \"price\": price,\n",
    "        \"sl\": price - 100 * point,  # Lệnh dừng lỗ (Stop Loss)\n",
    "        \"tp\": price + 100 * point,  # Lệnh chốt lời (Take Profit)\n",
    "        \"deviation\": deviation,\n",
    "        \"magic\": 234000,\n",
    "        \"comment\": \"python script open\",\n",
    "        \"type_time\": mt5.ORDER_TIME_GTC,\n",
    "        \"type_filling\": mt5.ORDER_FILLING_IOC,\n",
    "    }\n",
    "\n",
    "    # Gửi yêu cầu\n",
    "    result = mt5.order_send(request)\n",
    "    if result.retcode != mt5.TRADE_RETCODE_DONE:\n",
    "        print(\"Failed to send order :\", result.retcode)\n",
    "    else:\n",
    "        print(\"Order placed successfully!\")"
   ]
  },
  {
   "cell_type": "code",
   "execution_count": 3,
   "metadata": {},
   "outputs": [],
   "source": [
    "def orderSend(symbol):\n",
    "    if not mt5.symbol_select(symbol, True):\n",
    "        print(f\"Failed to select {symbol}, error code =\", mt5.last_error())\n",
    "        return\n",
    "\n",
    "    lot = 0.01\n",
    "    symbol_info = mt5.symbol_info(symbol)\n",
    "    if symbol_info is None:\n",
    "        print(f\"{symbol} not found, can not call order_check()\")\n",
    "        return\n",
    "\n",
    "    if not symbol_info.visible:\n",
    "        print(f\"{symbol} is not visible, can not trade\")\n",
    "        return\n",
    "\n",
    "    point = symbol_info.point\n",
    "    price = mt5.symbol_info_tick(symbol).ask\n",
    "    deviation = 111\n",
    "\n",
    "    request = {\n",
    "        \"action\": mt5.TRADE_ACTION_DEAL,\n",
    "        \"symbol\": symbol,\n",
    "        \"volume\": lot,\n",
    "        \"type\": mt5.ORDER_TYPE_BUY,\n",
    "        \"price\": price,\n",
    "        \"sl\": price - 100 * point,\n",
    "        \"tp\": price + 100 * point,\n",
    "        \"deviation\": deviation,\n",
    "        \"magic\": 234000,\n",
    "        \"comment\": \"python script open\",\n",
    "        \"type_time\": mt5.ORDER_TIME_GTC,\n",
    "        \"type_filling\": mt5.ORDER_FILLING_RETURN,\n",
    "    }\n",
    "\n",
    "    result = mt5.order_send(request)\n",
    "    if result.retcode != mt5.TRADE_RETCODE_DONE:\n",
    "        print(f\"Failed to send order : {result.retcode}, error =\", mt5.last_error())\n",
    "    else:\n",
    "        print(\"Order placed successfully!\")\n"
   ]
  },
  {
   "cell_type": "code",
   "execution_count": 4,
   "metadata": {},
   "outputs": [],
   "source": [
    "def orderSendMarket(symbol):\n",
    "    if not mt5.symbol_select(symbol, True):\n",
    "        print(f\"Failed to select {symbol}, error code =\", mt5.last_error())\n",
    "        return\n",
    "\n",
    "    lot = 0.01  # Số lượng lô mà bạn muốn mua\n",
    "\n",
    "    request = {\n",
    "        \"action\": mt5.TRADE_ACTION_DEAL,\n",
    "        \"symbol\": symbol,\n",
    "        \"volume\": lot,\n",
    "        \"type\": mt5.ORDER_TYPE_BUY_MARKET,  # Sử dụng lệnh mua theo giá thị trường\n",
    "        \"deviation\": 20,\n",
    "        \"magic\": 234000,\n",
    "        \"comment\": \"python script open\",\n",
    "        \"type_time\": mt5.ORDER_TIME_GTC,\n",
    "        \"type_filling\": mt5.ORDER_FILLING_RETURN,\n",
    "    }\n",
    "\n",
    "    # Gửi yêu cầu\n",
    "    result = mt5.order_send(request)\n",
    "    if result.retcode != mt5.TRADE_RETCODE_DONE:\n",
    "        print(f\"Failed to send order : {result.retcode}, error =\", mt5.last_error())\n",
    "    else:\n",
    "        print(\"Order placed successfully!\")\n"
   ]
  },
  {
   "cell_type": "code",
   "execution_count": 5,
   "metadata": {},
   "outputs": [],
   "source": [
    "def orderSendMarket1(symbol):\n",
    "    lot = 0.01  # Số lượng lô mà bạn muốn mua\n",
    "    point = mt5.symbol_info(symbol).point\n",
    "    price = mt5.symbol_info_tick(symbol).ask\n",
    "    deviation = 20  # Độ lệch giá cho phép, có thể không cần thiết cho market order\n",
    "\n",
    "    request = {\n",
    "        \"action\": mt5.TRADE_ACTION_DEAL,\n",
    "        \"symbol\": symbol,\n",
    "        \"volume\": lot,\n",
    "        \"type\": mt5.ORDER_TYPE_BUY,\n",
    "        \"price\": price,  # Đối với market order, giá này sẽ được MT5 điều chỉnh tự động\n",
    "        \"deviation\": deviation,\n",
    "        \"magic\": 234000,\n",
    "        \"comment\": \"python script open\",\n",
    "        \"type_time\": mt5.ORDER_TIME_GTC,\n",
    "        \"type_filling\": mt5.ORDER_FILLING_IOC,  # Hoặc mt5.ORDER_FILLING_FOK\n",
    "    }\n",
    "\n",
    "    # Gửi yêu cầu\n",
    "    result = mt5.order_send(request)\n",
    "    if result.retcode != mt5.TRADE_RETCODE_DONE:\n",
    "        print(\"Failed to send order :\", result.retcode, mt5.last_error())\n",
    "    else:\n",
    "        print(\"Order placed successfully!\", result)"
   ]
  },
  {
   "cell_type": "code",
   "execution_count": 6,
   "metadata": {},
   "outputs": [],
   "source": [
    "def orderSendMM(symbol):\n",
    "    if not mt5.symbol_select(symbol, True):\n",
    "        print(f\"Failed to select {symbol}, error code =\", mt5.last_error())\n",
    "        return\n",
    "\n",
    "    lot = 0.01  # Số lượng lô mà bạn muốn mua\n",
    "    deviation = 20  # Độ lệch giá cho phép\n",
    "\n",
    "    request = {\n",
    "        \"action\": mt5.TRADE_ACTION_DEAL,\n",
    "        \"symbol\": symbol,\n",
    "        \"volume\": lot,\n",
    "        \"type\": mt5.ORDER_TYPE_BUY,  # Sử dụng lệnh mua\n",
    "        \"deviation\": deviation,\n",
    "        \"magic\": 234000,\n",
    "        \"comment\": \"python script open\",\n",
    "        \"type_time\": mt5.ORDER_TIME_GTC,\n",
    "        \"type_filling\": mt5.ORDER_FILLING_FOK,  # Hoặc sử dụng ORDER_FILLING_IOC\n",
    "    }\n",
    "\n",
    "    # Gửi yêu cầu\n",
    "    result = mt5.order_send(request)\n",
    "    if result.retcode != mt5.TRADE_RETCODE_DONE:\n",
    "        print(f\"Failed to send order : {result.retcode}, error =\", mt5.last_error())\n",
    "    else:\n",
    "        print(\"Order placed successfully!\")\n"
   ]
  },
  {
   "cell_type": "markdown",
   "metadata": {},
   "source": [
    "# Kiem tra tai khoan va thuc hien orderSend"
   ]
  },
  {
   "cell_type": "code",
   "execution_count": 7,
   "metadata": {},
   "outputs": [
    {
     "name": "stdout",
     "output_type": "stream",
     "text": [
      "Initialize() failed, error code = (-10005, 'IPC timeout')\n"
     ]
    },
    {
     "ename": "",
     "evalue": "",
     "output_type": "error",
     "traceback": [
      "\u001b[1;31mThe Kernel crashed while executing code in the the current cell or a previous cell. Please review the code in the cell(s) to identify a possible cause of the failure. Click <a href='https://aka.ms/vscodeJupyterKernelCrash'>here</a> for more info. View Jupyter <a href='command:jupyter.viewOutput'>log</a> for further details."
     ]
    }
   ],
   "source": [
    "symbol = 'EURUSD'\n",
    "if not mt5.initialize(login=10138239, password='xiVUPi4J', server='mt5-b2broker-metatrader5.fastmt-b.net'):\n",
    "# if not mt5.initialize(login=45381001, password='iQ2*uKQQ', server='mt5-europe1.dcglobalfarm.com'):\n",
    "    print(\"Initialize() failed, error code =\", mt5.last_error())\n",
    "    quit()\n",
    "else:\n",
    "    print('Ket noi thanh cong!')\n",
    "    orderSend(symbol)"
   ]
  }
 ],
 "metadata": {
  "kernelspec": {
   "display_name": "Python 3",
   "language": "python",
   "name": "python3"
  },
  "language_info": {
   "codemirror_mode": {
    "name": "ipython",
    "version": 3
   },
   "file_extension": ".py",
   "mimetype": "text/x-python",
   "name": "python",
   "nbconvert_exporter": "python",
   "pygments_lexer": "ipython3",
   "version": "3.11.6"
  }
 },
 "nbformat": 4,
 "nbformat_minor": 2
}
