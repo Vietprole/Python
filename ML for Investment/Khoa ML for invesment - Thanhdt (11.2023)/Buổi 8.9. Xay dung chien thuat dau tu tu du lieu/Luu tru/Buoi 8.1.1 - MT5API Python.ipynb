{
 "cells": [
  {
   "cell_type": "code",
   "execution_count": null,
   "metadata": {},
   "outputs": [],
   "source": [
    "import MetaTrader5 as mt5\n",
    "\n",
    "# Thông tin tài khoản\n",
    "login = 45381001\n",
    "password = 'iQ2*uKQQ'\n",
    "server = 'mt5-europe1.dcglobalfarm.com'\n",
    "\n",
    "# Hàm để đặt một lệnh mua\n",
    "def orderSendMM(symbol):\n",
    "    lot = 0.01  # Số lượng lô mà bạn muốn mua\n",
    "    if not mt5.symbol_select(symbol, True):\n",
    "        print(f\"Failed to select {symbol}, error code =\", mt5.last_error())\n",
    "        return\n",
    "\n",
    "    symbol_info = mt5.symbol_info(symbol)\n",
    "    if symbol_info is None:\n",
    "        print(f\"{symbol} not found\")\n",
    "        return\n",
    "    \n",
    "    point = symbol_info.point\n",
    "    price = mt5.symbol_info_tick(symbol).ask\n",
    "    deviation = 20  # Độ lệch giá cho phép\n",
    "\n",
    "    request = {\n",
    "        \"action\": mt5.TRADE_ACTION_DEAL,\n",
    "        \"symbol\": symbol,\n",
    "        \"volume\": lot,\n",
    "        \"type\": mt5.ORDER_TYPE_BUY,\n",
    "        \"price\": price,\n",
    "        \"sl\": price - 100 * point,  # Lệnh dừng lỗ (Stop Loss)\n",
    "        \"tp\": price + 100 * point,  # Lệnh chốt lời (Take Profit)\n",
    "        \"deviation\": deviation,\n",
    "        \"magic\": 234000,\n",
    "        \"comment\": \"python script open\",\n",
    "        \"type_time\": mt5.ORDER_TIME_GTC,\n",
    "        \"type_filling\": mt5.ORDER_FILLING_IOC,\n",
    "    }\n",
    "\n",
    "    result = mt5.order_send(request)\n",
    "    if result.retcode != mt5.TRADE_RETCODE_DONE:\n",
    "        print(\"Failed to send order :\", result.retcode)\n",
    "    else:\n",
    "        print(\"Order placed successfully!\")\n",
    "\n",
    "# Kết nối với MetaTrader 5\n",
    "if not mt5.initialize(login=login, password=password, server=server):\n",
    "    print(\"Initialize() failed, error code =\", mt5.last_error())\n",
    "    quit()\n",
    "else:\n",
    "    symbol = \"EURUSD\"  # Cặp tiền tệ bạn muốn giao dịch\n",
    "    orderSendMM(symbol)\n",
    "\n",
    "# Đóng kết nối với MT5\n",
    "mt5.shutdown()\n"
   ]
  }
 ],
 "metadata": {
  "kernelspec": {
   "display_name": "Python 3",
   "language": "python",
   "name": "python3"
  },
  "language_info": {
   "codemirror_mode": {
    "name": "ipython",
    "version": 3
   },
   "file_extension": ".py",
   "mimetype": "text/x-python",
   "name": "python",
   "nbconvert_exporter": "python",
   "pygments_lexer": "ipython3",
   "version": "3.11.6"
  }
 },
 "nbformat": 4,
 "nbformat_minor": 2
}
