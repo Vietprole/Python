{
 "cells": [
  {
   "cell_type": "markdown",
   "metadata": {},
   "source": [
    "# CrawData den Trading_Data_Forex trong SQL Server"
   ]
  },
  {
   "cell_type": "code",
   "execution_count": 1,
   "metadata": {},
   "outputs": [
    {
     "name": "stdout",
     "output_type": "stream",
     "text": [
      "[*********************100%***********************]  1 of 1 completed\n",
      "                Open      High       Low     Close  Adj Close  Volume\n",
      "Date                                                                 \n",
      "2022-01-03  1.137385  1.137592  1.128541  1.137346   1.137346       0\n",
      "2022-01-04  1.130199  1.132300  1.127345  1.130224   1.130224       0\n",
      "2022-01-05  1.128541  1.134559  1.127764  1.128363   1.128363       0\n",
      "2022-01-06  1.131222  1.133067  1.128554  1.131350   1.131350       0\n",
      "2022-01-07  1.129586  1.135976  1.129050  1.129688   1.129688       0\n",
      "...              ...       ...       ...       ...        ...     ...\n",
      "2023-11-20  1.090703  1.094511  1.089800  1.090703   1.090703       0\n",
      "2023-11-21  1.094595  1.096732  1.092299  1.094595   1.094595       0\n",
      "2023-11-22  1.091822  1.092252  1.085458  1.091822   1.091822       0\n",
      "2023-11-23  1.089087  1.092705  1.088803  1.089087   1.089087       0\n",
      "2023-11-24  1.090631  1.094415  1.089562  1.090631   1.090631       0\n",
      "\n",
      "[495 rows x 6 columns]\n"
     ]
    },
    {
     "name": "stderr",
     "output_type": "stream",
     "text": [
      "C:\\Users\\Dell\\AppData\\Local\\Temp\\ipykernel_4328\\2180085312.py:20: SettingWithCopyWarning: \n",
      "A value is trying to be set on a copy of a slice from a DataFrame\n",
      "\n",
      "See the caveats in the documentation: https://pandas.pydata.org/pandas-docs/stable/user_guide/indexing.html#returning-a-view-versus-a-copy\n",
      "  ohlcv.rename(columns={'Date': 'Datetime'}, inplace=True)\n"
     ]
    },
    {
     "data": {
      "text/plain": [
       "146"
      ]
     },
     "execution_count": 1,
     "metadata": {},
     "output_type": "execute_result"
    }
   ],
   "source": [
    "import yfinance as yf\n",
    "import pandas as pd\n",
    "import sqlalchemy\n",
    "\n",
    "# Tải dữ liệu OHLCV\n",
    "symbol = \"EURUSD=X\"\n",
    "start_date = \"2022-01-01\"\n",
    "end_date = \"2023-11-27\"\n",
    "ohlcv = yf.download(symbol, start=start_date, end=end_date, interval=\"1d\")\n",
    "print(ohlcv)\n",
    "\n",
    "# Thêm cột Timestamp nếu cần\n",
    "ohlcv.reset_index(inplace=True)\n",
    "\n",
    "# Chọn chỉ các cột cần thiết\n",
    "try:\n",
    "    ohlcv = ohlcv[['Datetime', 'Open', 'High', 'Low', 'Close', 'Volume']]\n",
    "except Exception as e:\n",
    "    ohlcv = ohlcv[['Date', 'Open', 'High', 'Low', 'Close', 'Volume']]\n",
    "    ohlcv.rename(columns={'Date': 'Datetime'}, inplace=True)\n",
    "\n",
    "# Định nghĩa thông tin kết nối SQL Server\n",
    "server = '.'\n",
    "database = 'Cole'\n",
    "username = 'sa'\n",
    "password = '1'\n",
    "driver = 'ODBC Driver 17 for SQL Server'\n",
    "\n",
    "# Tạo engine kết nối\n",
    "connection_string = f\"mssql+pyodbc://{username}:{password}@{server}/{database}?driver={driver}\"\n",
    "engine = sqlalchemy.create_engine(connection_string)\n",
    "\n",
    "# Lưu DataFrame vào SQL Server\n",
    "table_name = 'Trading_Data_Forex'\n",
    "ohlcv.to_sql(table_name, con=engine, if_exists='append', index=False)\n"
   ]
  },
  {
   "cell_type": "markdown",
   "metadata": {},
   "source": [
    "# CrawData den Trading_Data_ChungKhoan trong SQL Server"
   ]
  },
  {
   "cell_type": "code",
   "execution_count": null,
   "metadata": {},
   "outputs": [],
   "source": [
    "import yfinance as yf\n",
    "import pandas as pd\n",
    "import sqlalchemy\n",
    "\n",
    "# Tải dữ liệu OHLCV\n",
    "symbol = \"VCB.VN\"\n",
    "start_date = \"2023-01-01\"\n",
    "end_date = \"2023-12-31\"\n",
    "ohlcv = yf.download(symbol, start=start_date, end=end_date, interval=\"1d\")\n",
    "print(ohlcv)\n",
    "\n",
    "# Thêm cột Timestamp nếu cần\n",
    "ohlcv.reset_index(inplace=True)\n",
    "\n",
    "# Chọn chỉ các cột cần thiết\n",
    "try:\n",
    "    ohlcv = ohlcv[['Datetime', 'Open', 'High', 'Low', 'Close', 'Volume']]\n",
    "except Exception as e:\n",
    "    ohlcv = ohlcv[['Date', 'Open', 'High', 'Low', 'Close', 'Volume']]\n",
    "    ohlcv.rename(columns={'Date': 'Datetime'}, inplace=True)\n",
    "\n",
    "# Định nghĩa thông tin kết nối SQL Server\n",
    "server = '.'\n",
    "database = 'Cole'\n",
    "username = 'sa'\n",
    "password = '1'\n",
    "driver = 'ODBC Driver 17 for SQL Server'\n",
    "\n",
    "# Tạo engine kết nối\n",
    "connection_string = f\"mssql+pyodbc://{username}:{password}@{server}/{database}?driver={driver}\"\n",
    "engine = sqlalchemy.create_engine(connection_string)\n",
    "\n",
    "# Lưu DataFrame vào SQL Server\n",
    "table_name = 'Trading_Data_ChungKhoan'\n",
    "ohlcv.to_sql(table_name, con=engine, if_exists='append', index=False)\n"
   ]
  },
  {
   "cell_type": "markdown",
   "metadata": {},
   "source": [
    "# CrawData den Trading_Data_Crypto trong SQL Server"
   ]
  },
  {
   "cell_type": "code",
   "execution_count": null,
   "metadata": {},
   "outputs": [],
   "source": [
    "import ccxt\n",
    "import pandas as pd\n",
    "import sqlalchemy\n",
    "\n",
    "# Tải dữ liệu OHLCV\n",
    "symbol = \"BTCUSDT\"\n",
    "# start_date = \"2022-01-01\"\n",
    "# end_date = \"2022-12-31\"\n",
    "\n",
    "binance = ccxt.binance()\n",
    "symbol = 'BTC/USDT'\n",
    "ohlcv = binance.fetch_ohlcv(symbol, timeframe=\"1d\", limit=365)\n",
    "ohlcv = pd.DataFrame(ohlcv, columns=['Datetime', 'Open', 'High', 'Low', 'Close', 'Volume'])\n",
    "ohlcv['Datetime'] = pd.to_datetime(ohlcv['Datetime'], unit='ms')\n",
    "\n",
    "# Định nghĩa thông tin kết nối SQL Server\n",
    "server = '.'\n",
    "database = 'Cole'\n",
    "username = 'sa'\n",
    "password = '1'\n",
    "driver = 'ODBC Driver 17 for SQL Server'\n",
    "\n",
    "# Tạo engine kết nối\n",
    "connection_string = f\"mssql+pyodbc://{username}:{password}@{server}/{database}?driver={driver}\"\n",
    "engine = sqlalchemy.create_engine(connection_string)\n",
    "\n",
    "# Lưu DataFrame vào SQL Server\n",
    "table_name = 'Trading_Data_Crypto'\n",
    "ohlcv.to_sql(table_name, con=engine, if_exists='append', index=False)\n"
   ]
  }
 ],
 "metadata": {
  "kernelspec": {
   "display_name": "Python 3",
   "language": "python",
   "name": "python3"
  },
  "language_info": {
   "codemirror_mode": {
    "name": "ipython",
    "version": 3
   },
   "file_extension": ".py",
   "mimetype": "text/x-python",
   "name": "python",
   "nbconvert_exporter": "python",
   "pygments_lexer": "ipython3",
   "version": "3.11.6"
  }
 },
 "nbformat": 4,
 "nbformat_minor": 2
}
