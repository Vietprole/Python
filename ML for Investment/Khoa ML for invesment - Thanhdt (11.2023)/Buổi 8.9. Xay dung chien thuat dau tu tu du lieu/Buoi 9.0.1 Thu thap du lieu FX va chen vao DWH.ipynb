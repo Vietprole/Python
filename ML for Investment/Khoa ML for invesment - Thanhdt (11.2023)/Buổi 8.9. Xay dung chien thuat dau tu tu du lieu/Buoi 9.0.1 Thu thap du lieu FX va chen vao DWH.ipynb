{
 "cells": [
  {
   "cell_type": "markdown",
   "metadata": {},
   "source": [
    "# Thu thap du lieu FX"
   ]
  },
  {
   "cell_type": "code",
   "execution_count": 1,
   "metadata": {},
   "outputs": [],
   "source": [
    "import sys\n",
    "sys.path.append('../Common/')\n",
    "\n",
    "import CommonMT5"
   ]
  },
  {
   "cell_type": "code",
   "execution_count": 6,
   "metadata": {},
   "outputs": [],
   "source": [
    "# Ví dụ: Gọi hàm để lấy dữ liệu từ '21970-01-05' đến '2023-12-31'\n",
    "symbol = \"USDJPY\"\n",
    "from_date = \"1970-01-03\"\n",
    "to_date = \"2024-01-26\"\n",
    "data = CommonMT5.CommonMT5.loaddataMT5(symbol, from_date, to_date)"
   ]
  },
  {
   "cell_type": "code",
   "execution_count": 3,
   "metadata": {},
   "outputs": [
    {
     "data": {
      "text/html": [
       "<div>\n",
       "<style scoped>\n",
       "    .dataframe tbody tr th:only-of-type {\n",
       "        vertical-align: middle;\n",
       "    }\n",
       "\n",
       "    .dataframe tbody tr th {\n",
       "        vertical-align: top;\n",
       "    }\n",
       "\n",
       "    .dataframe thead th {\n",
       "        text-align: right;\n",
       "    }\n",
       "</style>\n",
       "<table border=\"1\" class=\"dataframe\">\n",
       "  <thead>\n",
       "    <tr style=\"text-align: right;\">\n",
       "      <th></th>\n",
       "      <th>Datetime</th>\n",
       "      <th>Open</th>\n",
       "      <th>High</th>\n",
       "      <th>Low</th>\n",
       "      <th>Close</th>\n",
       "      <th>Volume</th>\n",
       "    </tr>\n",
       "  </thead>\n",
       "  <tbody>\n",
       "    <tr>\n",
       "      <th>0</th>\n",
       "      <td>1971-01-04</td>\n",
       "      <td>357.730</td>\n",
       "      <td>357.730</td>\n",
       "      <td>357.730</td>\n",
       "      <td>357.730</td>\n",
       "      <td>1</td>\n",
       "    </tr>\n",
       "    <tr>\n",
       "      <th>1</th>\n",
       "      <td>1971-01-05</td>\n",
       "      <td>357.810</td>\n",
       "      <td>357.810</td>\n",
       "      <td>357.810</td>\n",
       "      <td>357.810</td>\n",
       "      <td>1</td>\n",
       "    </tr>\n",
       "    <tr>\n",
       "      <th>2</th>\n",
       "      <td>1971-01-06</td>\n",
       "      <td>357.860</td>\n",
       "      <td>357.860</td>\n",
       "      <td>357.860</td>\n",
       "      <td>357.860</td>\n",
       "      <td>1</td>\n",
       "    </tr>\n",
       "    <tr>\n",
       "      <th>3</th>\n",
       "      <td>1971-01-07</td>\n",
       "      <td>357.870</td>\n",
       "      <td>357.870</td>\n",
       "      <td>357.870</td>\n",
       "      <td>357.870</td>\n",
       "      <td>1</td>\n",
       "    </tr>\n",
       "    <tr>\n",
       "      <th>4</th>\n",
       "      <td>1971-01-08</td>\n",
       "      <td>357.820</td>\n",
       "      <td>357.820</td>\n",
       "      <td>357.820</td>\n",
       "      <td>357.820</td>\n",
       "      <td>1</td>\n",
       "    </tr>\n",
       "    <tr>\n",
       "      <th>...</th>\n",
       "      <td>...</td>\n",
       "      <td>...</td>\n",
       "      <td>...</td>\n",
       "      <td>...</td>\n",
       "      <td>...</td>\n",
       "      <td>...</td>\n",
       "    </tr>\n",
       "    <tr>\n",
       "      <th>13672</th>\n",
       "      <td>2024-01-19</td>\n",
       "      <td>148.127</td>\n",
       "      <td>148.796</td>\n",
       "      <td>147.827</td>\n",
       "      <td>148.154</td>\n",
       "      <td>80107</td>\n",
       "    </tr>\n",
       "    <tr>\n",
       "      <th>13673</th>\n",
       "      <td>2024-01-22</td>\n",
       "      <td>148.203</td>\n",
       "      <td>148.293</td>\n",
       "      <td>147.607</td>\n",
       "      <td>148.079</td>\n",
       "      <td>69202</td>\n",
       "    </tr>\n",
       "    <tr>\n",
       "      <th>13674</th>\n",
       "      <td>2024-01-23</td>\n",
       "      <td>148.058</td>\n",
       "      <td>148.684</td>\n",
       "      <td>146.966</td>\n",
       "      <td>148.352</td>\n",
       "      <td>91820</td>\n",
       "    </tr>\n",
       "    <tr>\n",
       "      <th>13675</th>\n",
       "      <td>2024-01-24</td>\n",
       "      <td>148.313</td>\n",
       "      <td>148.385</td>\n",
       "      <td>146.640</td>\n",
       "      <td>147.486</td>\n",
       "      <td>91461</td>\n",
       "    </tr>\n",
       "    <tr>\n",
       "      <th>13676</th>\n",
       "      <td>2024-01-25</td>\n",
       "      <td>147.451</td>\n",
       "      <td>147.923</td>\n",
       "      <td>147.192</td>\n",
       "      <td>147.229</td>\n",
       "      <td>52207</td>\n",
       "    </tr>\n",
       "  </tbody>\n",
       "</table>\n",
       "<p>13677 rows × 6 columns</p>\n",
       "</div>"
      ],
      "text/plain": [
       "        Datetime     Open     High      Low    Close  Volume\n",
       "0     1971-01-04  357.730  357.730  357.730  357.730       1\n",
       "1     1971-01-05  357.810  357.810  357.810  357.810       1\n",
       "2     1971-01-06  357.860  357.860  357.860  357.860       1\n",
       "3     1971-01-07  357.870  357.870  357.870  357.870       1\n",
       "4     1971-01-08  357.820  357.820  357.820  357.820       1\n",
       "...          ...      ...      ...      ...      ...     ...\n",
       "13672 2024-01-19  148.127  148.796  147.827  148.154   80107\n",
       "13673 2024-01-22  148.203  148.293  147.607  148.079   69202\n",
       "13674 2024-01-23  148.058  148.684  146.966  148.352   91820\n",
       "13675 2024-01-24  148.313  148.385  146.640  147.486   91461\n",
       "13676 2024-01-25  147.451  147.923  147.192  147.229   52207\n",
       "\n",
       "[13677 rows x 6 columns]"
      ]
     },
     "execution_count": 3,
     "metadata": {},
     "output_type": "execute_result"
    }
   ],
   "source": [
    "data"
   ]
  },
  {
   "cell_type": "markdown",
   "metadata": {},
   "source": [
    "# Chen vao DWH: Không có user và password"
   ]
  },
  {
   "cell_type": "code",
   "execution_count": 17,
   "metadata": {},
   "outputs": [
    {
     "data": {
      "text/plain": [
       "281"
      ]
     },
     "execution_count": 17,
     "metadata": {},
     "output_type": "execute_result"
    }
   ],
   "source": [
    "import urllib.parse\n",
    "import sqlalchemy\n",
    "\n",
    "driver = 'ODBC Driver 17 for SQL Server'\n",
    "server = '.'  # hoặc tên server của bạn\n",
    "database = 'DWH'  # thay đổi tên database nếu cần\n",
    "\n",
    "# Tạo chuỗi kết nối\n",
    "params = urllib.parse.quote_plus(f'DRIVER={driver};SERVER={server};DATABASE={database};Trusted_Connection=yes')\n",
    "connection_string = f\"mssql+pyodbc:///?odbc_connect={params}\"\n",
    "\n",
    "# Tạo engine kết nối\n",
    "engine = sqlalchemy.create_engine(connection_string)\n",
    "\n",
    "# Lưu DataFrame vào SQL Server\n",
    "table_name = 'Forex_Data'\n",
    "data.to_sql(table_name, con=engine, if_exists='append', index=False)"
   ]
  },
  {
   "cell_type": "markdown",
   "metadata": {},
   "source": [
    "# Chen vao DWH: Có user và password"
   ]
  },
  {
   "cell_type": "code",
   "execution_count": 4,
   "metadata": {},
   "outputs": [],
   "source": [
    "# import urllib.parse\n",
    "# import sqlalchemy\n",
    "\n",
    "# driver = 'ODBC Driver 17 for SQL Server'\n",
    "# server = '.'  # hoặc tên server của bạn\n",
    "# database = 'DWH'  # thay đổi tên database nếu cần\n",
    "# username = 'sa'  # tên người dùng của bạn\n",
    "# password = '1'  # mật khẩu của bạn\n",
    "\n",
    "# # Tạo chuỗi kết nối\n",
    "# params = urllib.parse.quote_plus(f'DRIVER={driver};SERVER={server};DATABASE={database};UID={username};PWD={password}')\n",
    "# connection_string = f\"mssql+pyodbc:///?odbc_connect={params}\"\n",
    "\n",
    "# # Tạo engine kết nối\n",
    "# engine = sqlalchemy.create_engine(connection_string)\n",
    "\n",
    "# # Lưu DataFrame vào SQL Server\n",
    "# table_name = 'ChungKhoan_Data'\n",
    "# data.to_sql(table_name, con=engine, if_exists='append', index=False)"
   ]
  }
 ],
 "metadata": {
  "kernelspec": {
   "display_name": "Python 3",
   "language": "python",
   "name": "python3"
  },
  "language_info": {
   "codemirror_mode": {
    "name": "ipython",
    "version": 3
   },
   "file_extension": ".py",
   "mimetype": "text/x-python",
   "name": "python",
   "nbconvert_exporter": "python",
   "pygments_lexer": "ipython3",
   "version": "3.11.6"
  }
 },
 "nbformat": 4,
 "nbformat_minor": 2
}
