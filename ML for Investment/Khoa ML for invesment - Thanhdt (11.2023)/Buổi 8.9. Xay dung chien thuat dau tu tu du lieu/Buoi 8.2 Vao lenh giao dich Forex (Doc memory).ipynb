{
 "cells": [
  {
   "cell_type": "markdown",
   "metadata": {},
   "source": [
    "# Doc data tu Redis"
   ]
  },
  {
   "cell_type": "code",
   "execution_count": 6,
   "metadata": {},
   "outputs": [
    {
     "name": "stdout",
     "output_type": "stream",
     "text": [
      "[None, None, None, None, None, None, None, None, None, None, None, None]\n"
     ]
    }
   ],
   "source": [
    "import redis\n",
    "\n",
    "# Kết nối đến Redis\n",
    "r = redis.Redis(host='localhost', port=6379, db=0)\n",
    "\n",
    "# Hash key\n",
    "hash_key = \"H_CHECK_MA_ATR\"\n",
    "\n",
    "# Lấy dữ liệu từ Redis\n",
    "values = r.hmget(hash_key, [\"Open\", \"High\", \"Low\", \"Close\", \"Volume\", \"Date_time\", \"MA_Fast\", \"MA_Slow\", \"ATR\", \"TP\", \"SL\", \"CurTime\"])\n",
    "r.delete(hash_key)\n",
    "\n",
    "print(values)\n",
    "\n",
    "# Chuyển đổi giá trị từ bytes sang float hoặc giữ nguyên là None\n",
    "# values_converted = [float(value) if value is not None else None for value in values]\n",
    "# print(values_converted)\n",
    "\n",
    "# # Kiểm tra và xử lý dữ liệu\n",
    "# if values_converted[0] is not None and values_converted[0] != 0:\n",
    "#     tp = values_converted[9]\n",
    "#     sl = values_converted[10]\n",
    "\n",
    "#     if tp is not None and sl is not None:\n",
    "#         # Đây là nơi bạn xử lý dữ liệu, ví dụ:\n",
    "#         # execute_trade(tp, sl) # Vao lenh\n",
    "#         print(f\"TP: {tp}, SL: {sl}\") # Market        \n",
    "#     else:\n",
    "#         print(\"TP or SL value is None, cannot execute trade\")\n",
    "\n",
    "#     # Xóa hash key từ Redis\n",
    "#     r.delete(hash_key)\n",
    "# else:\n",
    "#     print(\"Open value is None or 0, no trade signal\")\n"
   ]
  }
 ],
 "metadata": {
  "kernelspec": {
   "display_name": "Python 3",
   "language": "python",
   "name": "python3"
  },
  "language_info": {
   "codemirror_mode": {
    "name": "ipython",
    "version": 3
   },
   "file_extension": ".py",
   "mimetype": "text/x-python",
   "name": "python",
   "nbconvert_exporter": "python",
   "pygments_lexer": "ipython3",
   "version": "3.11.6"
  },
  "orig_nbformat": 4
 },
 "nbformat": 4,
 "nbformat_minor": 2
}
