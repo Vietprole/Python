{
 "cells": [
  {
   "cell_type": "markdown",
   "metadata": {},
   "source": [
    "# Moi ngay quet 1 lan"
   ]
  },
  {
   "cell_type": "code",
   "execution_count": null,
   "metadata": {},
   "outputs": [],
   "source": [
    "import schedule\n",
    "import time\n",
    "\n",
    "i = 0\n",
    "def scan_market():\n",
    "    global i  # Khai báo sử dụng biến toàn cục 'i'\n",
    "    i += 1\n",
    "    # Hàm này chứa logic để quét thị trường và thực hiện giao dịch\n",
    "    print(i)\n",
    "\n",
    "# Lên lịch hàm scan_market để chạy mỗi ngày\n",
    "schedule.every(1).day.at(\"20:34\").do(scan_market)\n",
    "\n",
    "while True:\n",
    "    schedule.run_pending() # Hàm này được gọi liên tục để kiểm tra xem có công việc nào đã đến thời gian cần thực hiện hay không\n",
    "    time.sleep(1)"
   ]
  },
  {
   "cell_type": "markdown",
   "metadata": {},
   "source": [
    "# Moi 1 phut quet 1 lan"
   ]
  },
  {
   "cell_type": "code",
   "execution_count": null,
   "metadata": {},
   "outputs": [],
   "source": [
    "import schedule\n",
    "import time\n",
    "\n",
    "i = 0\n",
    "def scan_market():\n",
    "    global i  # Khai báo sử dụng biến toàn cục 'i'\n",
    "    i += 1\n",
    "    # Hàm này chứa logic để quét thị trường và thực hiện giao dịch\n",
    "    print(i)\n",
    "\n",
    "# Lên lịch hàm scan_market để chạy mỗi phút\n",
    "schedule.every(1).minute.do(scan_market)\n",
    "\n",
    "while True:\n",
    "    schedule.run_pending() # Hàm này được gọi liên tục để kiểm tra xem có công việc nào đã đến thời gian cần thực hiện hay không\n",
    "    time.sleep(1)"
   ]
  },
  {
   "cell_type": "markdown",
   "metadata": {},
   "source": [
    "# Moi giay chay 1 lan"
   ]
  },
  {
   "cell_type": "code",
   "execution_count": null,
   "metadata": {},
   "outputs": [],
   "source": [
    "import schedule\n",
    "import time\n",
    "\n",
    "i = 0\n",
    "def scan_market():\n",
    "    global i  # Khai báo sử dụng biến toàn cục 'i'\n",
    "    i += 1\n",
    "    # Hàm này chứa logic để quét thị trường và thực hiện giao dịch\n",
    "    print(i)\n",
    "\n",
    "# Lên lịch hàm scan_market để chạy mỗi giây\n",
    "schedule.every(1).seconds.do(scan_market)\n",
    "\n",
    "while True:\n",
    "    schedule.run_pending() # Hàm này được gọi liên tục để kiểm tra xem có công việc nào đã đến thời gian cần thực hiện hay không\n",
    "    time.sleep(1)"
   ]
  },
  {
   "cell_type": "markdown",
   "metadata": {},
   "source": [
    "# Su dung nhieu task trong Shedule"
   ]
  },
  {
   "cell_type": "code",
   "execution_count": 1,
   "metadata": {},
   "outputs": [
    {
     "name": "stdout",
     "output_type": "stream",
     "text": [
      "Chạy công việc 1\n",
      "Chạy công việc 1\n",
      "Chạy công việc 1\n",
      "Chạy công việc 1\n",
      "Chạy công việc 1\n",
      "Chạy công việc 1\n",
      "Chạy công việc 2\n",
      "Chạy công việc 1\n",
      "Chạy công việc 1\n",
      "Chạy công việc 1\n",
      "Chạy công việc 1\n",
      "Chạy công việc 1\n",
      "Chạy công việc 1\n",
      "Chạy công việc 1\n",
      "Chạy công việc 1\n",
      "Chạy công việc 1\n",
      "Chạy công việc 1\n"
     ]
    }
   ],
   "source": [
    "import schedule\n",
    "import time\n",
    "\n",
    "def job1():\n",
    "    print(\"Chạy công việc 1\")\n",
    "\n",
    "def job2():\n",
    "    print(\"Chạy công việc 2\")\n",
    "\n",
    "# Lên lịch cho công việc 1 chạy mỗi giây\n",
    "schedule.every(1).seconds.do(job1)\n",
    "\n",
    "# Lên lịch cho công việc 2 chạy mỗi phút\n",
    "schedule.every(1).minute.do(job2)\n",
    "\n",
    "while True:\n",
    "    schedule.run_pending() # Kiểm tra và chạy các công việc đã đến lịch\n",
    "    time.sleep(1)"
   ]
  }
 ],
 "metadata": {
  "kernelspec": {
   "display_name": "Python 3",
   "language": "python",
   "name": "python3"
  },
  "language_info": {
   "codemirror_mode": {
    "name": "ipython",
    "version": 3
   },
   "file_extension": ".py",
   "mimetype": "text/x-python",
   "name": "python",
   "nbconvert_exporter": "python",
   "pygments_lexer": "ipython3",
   "version": "3.11.6"
  }
 },
 "nbformat": 4,
 "nbformat_minor": 2
}
