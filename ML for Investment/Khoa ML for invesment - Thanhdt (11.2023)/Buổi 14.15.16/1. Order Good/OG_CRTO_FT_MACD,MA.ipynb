{
 "cells": [
  {
   "cell_type": "code",
   "execution_count": 1,
   "metadata": {
    "vscode": {
     "languageId": "powershell"
    }
   },
   "outputs": [],
   "source": [
    "import sys\n",
    "sys.path.append('../../../Common/')\n",
    "\n",
    "import CommonYFinance, CommonBinance, CommonMT5, CommonMongoDBConnector, CommonBacktest"
   ]
  },
  {
   "cell_type": "code",
   "execution_count": 2,
   "metadata": {
    "vscode": {
     "languageId": "powershell"
    }
   },
   "outputs": [],
   "source": [
    "def detectSignal(symbol, from_date, to_date, timeframe):\n",
    "\n",
    "    import pandas as pd\n",
    "    import plotly.graph_objects as go\n",
    "    import redis\n",
    "    import numpy as np\n",
    "    from datetime import datetime\n",
    "\n",
    "    # ##############################################Step 1: Lấy dữ liệu##############################################\n",
    "    data = CommonBinance.CommonBinance.loaddataBinance_FromTo(symbol, from_date, to_date, timeframe)\n",
    "    \n",
    "    # ##############################################Step 2: Lấy dữ liệu##############################################  \n",
    "    # Thiết lập cửa sổ thời gian cho SMA và độ lệch chuẩn\n",
    "    window = 20\n",
    "    # Tính toán SMA cho giá đóng cửa\n",
    "    data['SMA'] = data['Close'].rolling(window=window).mean()\n",
    "    # Tính toán MACD\n",
    "    # EMA ngắn hạn\n",
    "    data['short_ema'] = data['Close'].ewm(span=12, adjust=False).mean()\n",
    "    # EMA dài hạn\n",
    "    data['long_ema']  = data['Close'].ewm(span=26, adjust=False).mean()\n",
    "    # Tính MACD\n",
    "    data['MACD'] = data['short_ema']  - data['long_ema']\n",
    "    # Tính Signal Line\n",
    "    data['Signal_Line'] = data['MACD'].ewm(span=9, adjust=False).mean()\n",
    "    # Tạo cột tín hiệu mua/bán\n",
    "    data['Buy_Signal'] = (data['MACD'] > data['Signal_Line']) & (data['Close'] > data['SMA'])\n",
    "    data['Sell_Signal'] = (data['MACD'] < data['Signal_Line']) & (data['Close'] < data['SMA'])    \n",
    "\n",
    "    # ##############################################Step 3: Đẩy dữ liệu qua Redis##############################################\n",
    "    # Nếu có tín hiệu thì đẩy qua Redis\n",
    "    # Datetime  Open    High    Low\tClose   Volume  SMA short_ema   long_ema    MACD    Signal_Line Buy_Signal  Sell_Signal\n",
    "    # Tạo kết nối Redis\n",
    "    r = redis.Redis(host='localhost', port=6379, db=0)\n",
    "    # Tạo hash key\n",
    "    hash_key = 'OG_CRTO_FT_MACD,MA'\n",
    "    last_record = data.iloc[-1]\n",
    "   \n",
    "    # Chuyển đổi record cuối cùng thành từ điển và lưu vào Redis dưới dạng hash\n",
    "    if(last_record['Buy_Signal'] == True or last_record['Sell_Signal'] == True):\n",
    "        for field, value in last_record.to_dict().items():\n",
    "            # Chuyển đổi giá trị uint64 và Timestamp thành chuỗi\n",
    "            if isinstance(value, pd.Timestamp):\n",
    "                value = value.isoformat()\n",
    "            elif isinstance(value, (int, np.uint64)):\n",
    "                value = str(value)\n",
    "            r.hset(hash_key, field, value)  \n",
    "            r.hset(hash_key, 'Symbol', symbol)\n",
    "            r.hset(hash_key, 'Insertdate', datetime.now().isoformat())\n",
    "        print(last_record)   \n",
    "    else:\n",
    "        print('Không có tín hiệu!')\n",
    "    # ##############################################Step 4: Vẽ biểu đồ##############################################  \n",
    "    # data.set_index('Datetime', inplace=True)\n",
    "    # # Tạo figure\n",
    "    # fig = go.Figure()\n",
    "    # # Biểu đồ giá đóng cửa và SMA\n",
    "    # fig.add_trace(go.Scatter(x=data.index, y=data['Close'], mode='lines', name='Giá Đóng Cửa', line=dict(color='blue')))\n",
    "    # fig.add_trace(go.Scatter(x=data.index, y=data['SMA'], mode='lines', name='SMA', line=dict(color='orange')))\n",
    "    # # Vẽ các điểm cho tín hiệu mua\n",
    "    # buy_signals = data[data['Buy_Signal']]\n",
    "    # fig.add_trace(go.Scatter(x=buy_signals.index, y=buy_signals['Close'], mode='markers', name='Buy Signal', marker=dict(symbol='triangle-up', size=10, color='green')))\n",
    "    # # Vẽ các điểm cho tín hiệu bán\n",
    "    # sell_signals = data[data['Sell_Signal']]\n",
    "    # fig.add_trace(go.Scatter(x=sell_signals.index, y=sell_signals['Close'], mode='markers', name='Sell Signal', marker=dict(symbol='triangle-down', size=10, color='red')))\n",
    "    # fig.update_layout(title='Giá Đóng Cửa và SMA', yaxis_title='Giá', xaxis_rangeslider_visible=False, height=500)\n",
    "    # # Hiển thị biểu đồ\n",
    "    # fig.show()\n",
    "\n",
    "    # ####################################################################################################\n",
    "    # # Tạo figure\n",
    "    # fig = go.Figure()\n",
    "    # # Biểu đồ MACD và Signal Line\n",
    "    # fig.add_trace(go.Scatter(x=data.index, y=data['MACD'], mode='lines', name='MACD', line=dict(color='blue')))\n",
    "    # fig.add_trace(go.Scatter(x=data.index, y=data['Signal_Line'], mode='lines', name='Signal Line', line=dict(color='orange')))\n",
    "    # fig.update_layout(title='MACD và Signal Line', yaxis_title='MACD', xaxis_rangeslider_visible=False, height=500)\n",
    "    # # Hiển thị biểu đồ\n",
    "    # fig.show()"
   ]
  },
  {
   "cell_type": "code",
   "execution_count": 3,
   "metadata": {
    "vscode": {
     "languageId": "powershell"
    }
   },
   "outputs": [],
   "source": [
    "# from datetime import datetime, timedelta\n",
    "# import schedule\n",
    "# import time\n",
    "\n",
    "# def schedule_detectSignal():\n",
    "\n",
    "#     symbol = 'EURUSD'\n",
    "#     from_date = (datetime.now() - timedelta(days=2)).strftime('%Y-%m-%d')  # Lấy ngày hôm qua\n",
    "#     to_date = (datetime.now() + timedelta(days=1)).strftime('%Y-%m-%d')\n",
    "#     timeframe = 15 # 1m\n",
    "#     detectSignal(symbol, from_date, to_date, timeframe)\n",
    "\n",
    "# # Lên lịch hàm scan_market để chạy mỗi 15 phút\n",
    "# schedule.every(15).minutes.do(schedule_detectSignal)\n",
    "\n",
    "# while True:\n",
    "#     schedule.run_pending()  # Hàm này được gọi liên tục để kiểm tra xem có công việc nào đã đến thời gian cần thực hiện hay không\n",
    "#     time.sleep(10)"
   ]
  },
  {
   "cell_type": "code",
   "execution_count": 4,
   "metadata": {
    "vscode": {
     "languageId": "powershell"
    }
   },
   "outputs": [
    {
     "name": "stdout",
     "output_type": "stream",
     "text": [
      "Datetime       2024-01-13 10:00:00\n",
      "Open                        0.0949\n",
      "High                        0.0949\n",
      "Low                         0.0944\n",
      "Close                       0.0947\n",
      "Volume                    275724.0\n",
      "SMA                        0.09698\n",
      "short_ema                 0.095708\n",
      "long_ema                  0.096215\n",
      "MACD                     -0.000506\n",
      "Signal_Line              -0.000132\n",
      "Buy_Signal                   False\n",
      "Sell_Signal                   True\n",
      "Name: 29, dtype: object\n"
     ]
    }
   ],
   "source": [
    "from datetime import datetime, timedelta\n",
    "import schedule\n",
    "import time\n",
    "import random\n",
    "\n",
    "def schedule_detectSignal():\n",
    "    symbol = 'ATAUSDT'\n",
    "\n",
    "    from_date = (datetime.now() - timedelta(days=2)).strftime('%Y-%m-%d')  # Lấy ngày hôm qua\n",
    "    to_date = (datetime.now() + timedelta(days=1)).strftime('%Y-%m-%d')\n",
    "    timeframe = '1m' # 1m\n",
    "    detectSignal(symbol, from_date, to_date, timeframe)\n",
    "\n",
    "# Danh sách các phút cụ thể bạn muốn hàm được chạy\n",
    "run_minutes = list(range(1, 60, 1))\n",
    "\n",
    "while True:\n",
    "    current_time = datetime.now()  \n",
    "    current_minute = current_time.minute\n",
    "    # Kiểm tra xem phút hiện tại có nằm trong danh sách các phút cần chạy hàm không\n",
    "    if current_minute in run_minutes:\n",
    "        # Kiểm tra xem đã chạy hàm trong phút hiện tại hay chưa\n",
    "        last_run = getattr(schedule_detectSignal, 'last_run', None)\n",
    "        if last_run is None or last_run != current_minute:\n",
    "            schedule_detectSignal()\n",
    "            # Lưu lại phút cuối cùng mà hàm đã chạy\n",
    "            setattr(schedule_detectSignal, 'last_run', current_minute)   \n",
    "                \n",
    "    # Nghỉ 10 giây trước khi kiểm tra lại\n",
    "    time.sleep(1)\n"
   ]
  }
 ],
 "metadata": {
  "kernelspec": {
   "display_name": "Python 3",
   "language": "python",
   "name": "python3"
  },
  "language_info": {
   "codemirror_mode": {
    "name": "ipython",
    "version": 3
   },
   "file_extension": ".py",
   "mimetype": "text/x-python",
   "name": "python",
   "nbconvert_exporter": "python",
   "pygments_lexer": "ipython3",
   "version": "3.11.4"
  }
 },
 "nbformat": 4,
 "nbformat_minor": 2
}
