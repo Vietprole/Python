{
 "cells": [
  {
   "cell_type": "code",
   "execution_count": 1,
   "metadata": {
    "vscode": {
     "languageId": "powershell"
    }
   },
   "outputs": [],
   "source": [
    "import sys\n",
    "sys.path.append('../../Common/')\n",
    "\n",
    "import CommonBinance"
   ]
  },
  {
   "cell_type": "code",
   "execution_count": 2,
   "metadata": {
    "vscode": {
     "languageId": "powershell"
    }
   },
   "outputs": [],
   "source": [
    "def detectSignal(symbol, from_date, to_date, timeframe):\n",
    "\n",
    "    import pandas as pd\n",
    "    import plotly.graph_objects as go\n",
    "    import redis\n",
    "    import numpy as np\n",
    "    from datetime import datetime\n",
    "\n",
    "    # ##############################################Step 1: Lấy dữ liệu##############################################\n",
    "    data = CommonBinance.CommonBinance.loaddataBinance_FromTo(symbol, from_date, to_date, timeframe)\n",
    "    \n",
    "    # ##############################################Step 2: Chiến lược##############################################  \n",
    "    # Tính toán các chỉ báo kỹ thuật\n",
    "    data['HA_Close'] = (data['Open'] + data['High'] + data['Low'] + data['Close']) / 4\n",
    "    ha_open = [(data['Open'][0] + data['Close'][0]) / 2]  # Khởi tạo giá trị đầu tiên cho Open\n",
    "\n",
    "    # Tính giá Open của các bar Heikin-Ashi tiếp theo\n",
    "    for i in range(1, len(data)):\n",
    "        ha_open.append((ha_open[i-1] + data['HA_Close'][i-1]) / 2)\n",
    "        \n",
    "    data['HA_Open'] = ha_open\n",
    "    data['HA_High'] = data[['High', 'HA_Open', 'HA_Close']].max(axis=1)\n",
    "    data['HA_Low'] = data[['Low', 'HA_Open', 'HA_Close']].min(axis=1)\n",
    "\n",
    "    # Tính toán EMA từ giá đóng cửa Heikin-Ashi\n",
    "    data['SMA'] = data['HA_Close'].rolling(window=20).mean()\n",
    "    # EMA ngắn hạn\n",
    "    data['short_ema'] = data['HA_Close'].ewm(span=12, adjust=False).mean()\n",
    "    # EMA dài hạn\n",
    "    data['long_ema'] = data['HA_Close'].ewm(span=26, adjust=False).mean()\n",
    "    data['MACD'] = data['short_ema'] - data['long_ema']\n",
    "    data['Signal_Line'] = data['MACD'].ewm(span=9, adjust=False).mean()\n",
    "\n",
    "    # Tạo cột tín hiệu mua/bán\n",
    "    data['Buy_Signal'] = (data['MACD'] > data['Signal_Line']) & (data['Close'] > data['SMA'])\n",
    "    data['Sell_Signal'] = (data['MACD'] < data['Signal_Line']) & (data['Close'] < data['SMA'])   \n",
    "    \n",
    "    # ##############################################Step 3: Đẩy dữ liệu qua Redis##############################################\n",
    "    # Nếu có tín hiệu thì đẩy qua Redis\n",
    "    # Datetime  Open    High    Low\tClose   Volume  SMA short_ema   long_ema    MACD    Signal_Line Buy_Signal  Sell_Signal\n",
    "    # Tạo kết nối Redis\n",
    "    r = redis.Redis(host='localhost', port=6379, db=0)\n",
    "    # Tạo hash key\n",
    "    hash_key = 'OG_CRTO_MACD dua tren HA'\n",
    "    last_record = data.iloc[-1]\n",
    "   \n",
    "    # Chuyển đổi record cuối cùng thành từ điển và lưu vào Redis dưới dạng hash\n",
    "    if(last_record['Buy_Signal'] == True or last_record['Sell_Signal'] == True):\n",
    "        for field, value in last_record.to_dict().items():\n",
    "            # Chuyển đổi giá trị uint64 và Timestamp thành chuỗi\n",
    "            if isinstance(value, pd.Timestamp):\n",
    "                value = value.isoformat()\n",
    "            elif isinstance(value, (int, np.uint64)):\n",
    "                value = str(value)\n",
    "            r.hset(hash_key, field, value)  \n",
    "            r.hset(hash_key, 'Symbol', symbol)\n",
    "            r.hset(hash_key, 'Insertdate', datetime.now().isoformat())\n",
    "        print(last_record)   \n",
    "    else:\n",
    "        print('Không có tín hiệu!')\n",
    "\n",
    "    # ##############################################Step 4: Vẽ biểu đồ##############################################  \n",
    "    drawHA(data)\n",
    "    drawClose(data)\n",
    "    drawMACD(data)"
   ]
  },
  {
   "cell_type": "code",
   "execution_count": 3,
   "metadata": {
    "vscode": {
     "languageId": "powershell"
    }
   },
   "outputs": [],
   "source": [
    "def drawHA(data):\n",
    "    import pandas as pd\n",
    "    import plotly.graph_objects as go\n",
    "\n",
    "    # Giả sử 'data' là DataFrame chứa dữ liệu giá với các cột 'Open', 'High', 'Low', và 'Close'\n",
    "    # Và bạn đã tính toán 'HA_Close', 'HA_Open', 'HA_High', và 'HA_Low' như trong đoạn code trước\n",
    "\n",
    "    # Tạo biểu đồ nến Heikin-Ashi với plotly\n",
    "    fig = go.Figure(data=[go.Candlestick(x=data['Datetime'],  # Sử dụng cột 'Datetime'\n",
    "                                        open=data['HA_Open'],\n",
    "                                        high=data['HA_High'],\n",
    "                                        low=data['HA_Low'],\n",
    "                                        close=data['HA_Close'],\n",
    "                                        increasing_line_color='green',\n",
    "                                        decreasing_line_color='red')])\n",
    "\n",
    "    # Cập nhật layout của biểu đồ\n",
    "    fig.update_layout(title='Heikin-Ashi Chart',\n",
    "                    xaxis_title='Date',\n",
    "                    yaxis_title='Price',\n",
    "                    xaxis_rangeslider_visible=True)\n",
    "\n",
    "    # Hiển thị biểu đồ\n",
    "    fig.show()"
   ]
  },
  {
   "cell_type": "code",
   "execution_count": 4,
   "metadata": {
    "vscode": {
     "languageId": "powershell"
    }
   },
   "outputs": [],
   "source": [
    "def drawClose(data):\n",
    "    import pandas as pd\n",
    "    import plotly.graph_objects as go\n",
    "\n",
    "    # Giả sử 'data' là DataFrame chứa dữ liệu giá với các cột 'Open', 'High', 'Low', và 'Close'\n",
    "    # Và bạn đã tính toán 'HA_Close', 'HA_Open', 'HA_High', và 'HA_Low' như trong đoạn code trước\n",
    "\n",
    "    # Tạo biểu đồ nến Heikin-Ashi với plotly\n",
    "    fig = go.Figure(data=[go.Candlestick(x=data['Datetime'],  # Sử dụng cột 'Datetime'\n",
    "                                        open=data['Open'],\n",
    "                                        high=data['High'],\n",
    "                                        low=data['Low'],\n",
    "                                        close=data['Close'],\n",
    "                                        increasing_line_color='green',\n",
    "                                        decreasing_line_color='red')])\n",
    "\n",
    "    # Cập nhật layout của biểu đồ\n",
    "    fig.update_layout(title='OHLC Chart',\n",
    "                    xaxis_title='Date',\n",
    "                    yaxis_title='Price',\n",
    "                    xaxis_rangeslider_visible=True)\n",
    "\n",
    "    # Hiển thị biểu đồ\n",
    "    fig.show()"
   ]
  },
  {
   "cell_type": "code",
   "execution_count": 5,
   "metadata": {
    "vscode": {
     "languageId": "powershell"
    }
   },
   "outputs": [],
   "source": [
    "def drawMACD(data):\n",
    "    import plotly.graph_objects as go\n",
    "\n",
    "    # Giả sử bạn đã có DataFrame 'data' với các cột 'MACD' và 'Signal_Line' đã được tính toán\n",
    "\n",
    "    # Tạo figure với plotly\n",
    "    fig = go.Figure()\n",
    "\n",
    "    # Thêm đường MACD\n",
    "    fig.add_trace(go.Scatter(x=data['Datetime'], y=data['MACD'], mode='lines', name='MACD', line=dict(color='blue')))\n",
    "\n",
    "    # Thêm đường tín hiệu\n",
    "    fig.add_trace(go.Scatter(x=data['Datetime'], y=data['Signal_Line'], mode='lines', name='Signal Line', line=dict(color='red')))\n",
    "\n",
    "    # Cập nhật layout\n",
    "    fig.update_layout(\n",
    "        title='MACD on Heikin-Ashi Closing Prices',\n",
    "        xaxis_title='Date',\n",
    "        yaxis_title='MACD Value',\n",
    "        legend_title='Indicator',\n",
    "        xaxis_rangeslider_visible=True\n",
    "    )\n",
    "\n",
    "    # Hiển thị biểu đồ\n",
    "    fig.show()"
   ]
  },
  {
   "cell_type": "code",
   "execution_count": 6,
   "metadata": {
    "vscode": {
     "languageId": "powershell"
    }
   },
   "outputs": [
    {
     "name": "stdout",
     "output_type": "stream",
     "text": [
      "Datetime       2024-02-27 11:00:00\n",
      "Open                         3.995\n",
      "High                         3.995\n",
      "Low                          3.981\n",
      "Close                        3.982\n",
      "Volume                     28810.7\n",
      "HA_Close                   3.98825\n",
      "HA_Open                   3.990347\n",
      "HA_High                      3.995\n",
      "HA_Low                       3.981\n",
      "SMA                       4.023112\n",
      "short_ema                 4.006859\n",
      "long_ema                  4.020721\n",
      "MACD                     -0.013862\n",
      "Signal_Line              -0.006648\n",
      "Buy_Signal                   False\n",
      "Sell_Signal                   True\n",
      "Name: 118, dtype: object\n"
     ]
    },
    {
     "data": {
      "application/vnd.plotly.v1+json": {
       "config": {
        "plotlyServerURL": "https://plot.ly"
       },
       "data": [
        {
         "close": [
          3.842,
          3.81925,
          3.8297499999999998,
          3.8240000000000003,
          3.795,
          3.77625,
          3.7342500000000003,
          3.722,
          3.7275,
          3.74025,
          3.7385,
          3.736,
          3.76625,
          3.783,
          3.772,
          3.77575,
          3.7809999999999997,
          3.7595,
          3.75375,
          3.7767500000000003,
          3.7577499999999997,
          3.7305,
          3.69875,
          3.69725,
          3.694,
          3.6827499999999995,
          3.681,
          3.66625,
          3.6682499999999996,
          3.6910000000000003,
          3.7247500000000002,
          3.7232499999999997,
          3.72675,
          3.7242500000000005,
          3.73525,
          3.7445000000000004,
          3.7435,
          3.7409999999999997,
          3.75075,
          3.74575,
          3.7435000000000005,
          3.7222500000000003,
          3.704,
          3.6967499999999998,
          3.6919999999999997,
          3.70575,
          3.7077500000000003,
          3.7077500000000003,
          3.68425,
          3.6914999999999996,
          3.69225,
          3.6815,
          3.6595,
          3.6645,
          3.66675,
          3.6635,
          3.67,
          3.6854999999999998,
          3.721,
          3.761,
          3.7807500000000003,
          3.80025,
          3.816,
          3.8215000000000003,
          3.84,
          3.87,
          3.8482499999999997,
          3.7517500000000004,
          3.731,
          3.73725,
          3.7584999999999997,
          3.76425,
          3.7279999999999998,
          3.75675,
          3.87575,
          3.92975,
          3.95775,
          4.04,
          4.064500000000001,
          4.0945,
          4.091749999999999,
          4.13325,
          4.1587499999999995,
          4.17075,
          4.141249999999999,
          4.094,
          4.08575,
          4.1122499999999995,
          4.119249999999999,
          4.117500000000001,
          4.1545000000000005,
          4.17075,
          4.13025,
          4.0925,
          4.0962499999999995,
          4.09725,
          4.102250000000001,
          4.0795,
          4.0635,
          4.0569999999999995,
          4.045,
          4.04925,
          4.0475,
          4.0365,
          4.0415,
          4.03675,
          4.04375,
          4.05575,
          4.05075,
          4.035749999999999,
          4.011,
          3.985,
          4.00075,
          4.000249999999999,
          3.99575,
          4.0075,
          3.9902499999999996,
          3.984,
          3.98825
         ],
         "decreasing": {
          "line": {
           "color": "red"
          }
         },
         "high": [
          3.88,
          3.84275,
          3.868,
          3.862,
          3.8271875,
          3.82,
          3.7936718750000002,
          3.7639609375000003,
          3.743,
          3.753,
          3.75,
          3.749,
          3.806,
          3.796,
          3.788,
          3.805,
          3.804,
          3.786,
          3.769,
          3.794,
          3.777,
          3.7633033423423767,
          3.746901671171188,
          3.722825835585594,
          3.712,
          3.7020189588963985,
          3.703,
          3.6866922397240995,
          3.683,
          3.713,
          3.739,
          3.743,
          3.769,
          3.741,
          3.77,
          3.756,
          3.752,
          3.755,
          3.772,
          3.759,
          3.765,
          3.7445966456445143,
          3.733423322822257,
          3.7187116614111284,
          3.708,
          3.72,
          3.72,
          3.716,
          3.7065144269190977,
          3.721,
          3.706,
          3.699,
          3.687172776682444,
          3.682,
          3.689,
          3.675,
          3.678,
          3.705,
          3.742,
          3.807,
          3.806,
          3.836,
          3.843,
          3.838,
          3.865,
          3.898,
          3.92,
          3.847774739769796,
          3.799762369884898,
          3.765381184942449,
          3.795,
          3.79,
          3.759578898117806,
          3.8,
          3.964,
          3.966,
          4.042,
          4.086,
          4.105,
          4.145,
          4.128,
          4.198,
          4.175,
          4.194,
          4.186,
          4.1461545506467425,
          4.120077275323371,
          4.135,
          4.142,
          4.139,
          4.183,
          4.187,
          4.182,
          4.141557244338464,
          4.117028622169232,
          4.106639311084615,
          4.148,
          4.111,
          4.105,
          4.095,
          4.083,
          4.09,
          4.069,
          4.072,
          4.119,
          4.062,
          4.063,
          4.082,
          4.067,
          4.055,
          4.042738842447237,
          4.026869421223619,
          4.028,
          4.021,
          4.014,
          4.036,
          4.009,
          4.002,
          3.995
         ],
         "increasing": {
          "line": {
           "color": "green"
          }
         },
         "low": [
          3.801,
          3.799,
          3.776,
          3.785,
          3.78,
          3.738,
          3.702,
          3.707,
          3.705,
          3.722,
          3.725,
          3.715,
          3.721,
          3.7516556396484377,
          3.757,
          3.75,
          3.755,
          3.733,
          3.737,
          3.760963369369507,
          3.738,
          3.712,
          3.667,
          3.689,
          3.677,
          3.655,
          3.66,
          3.657,
          3.658,
          3.666,
          3.681680279965512,
          3.694,
          3.694,
          3.714,
          3.715,
          3.728685321248922,
          3.73,
          3.724,
          3.736,
          3.732,
          3.732,
          3.698,
          3.695,
          3.687,
          3.671,
          3.691,
          3.689,
          3.702,
          3.655,
          3.667,
          3.665,
          3.661,
          3.644,
          3.651,
          3.648,
          3.648,
          3.658,
          3.662,
          3.676666762135663,
          3.6988333810678315,
          3.7299166905339156,
          3.755333345266958,
          3.7777916726334793,
          3.791,
          3.80919791815837,
          3.824598959079185,
          3.788,
          3.697,
          3.707,
          3.705,
          3.709,
          3.736,
          3.706,
          3.713,
          3.7502697245294514,
          3.8130098622647255,
          3.8713799311323625,
          3.914564965566181,
          3.9772824827830906,
          4.020891241391546,
          4.037,
          4.074722810347886,
          4.103986405173943,
          4.131368202586971,
          4.096,
          4.069,
          4.042,
          4.09,
          4.092,
          4.085,
          4.115457954707711,
          4.134978977353856,
          4.074,
          4.063,
          4.066,
          4.086,
          4.057,
          4.044,
          4.027,
          4.03,
          4.017,
          4.029,
          4.024,
          4,
          4.003,
          4.018,
          4.021,
          4.017,
          4.025,
          4.012,
          3.984,
          3.963,
          3.984,
          3.979,
          3.977,
          3.993,
          3.966,
          3.955,
          3.981
         ],
         "open": [
          3.8435,
          3.84275,
          3.831,
          3.830375,
          3.8271875,
          3.81109375,
          3.7936718750000002,
          3.7639609375000003,
          3.74298046875,
          3.735240234375,
          3.7377451171875,
          3.73812255859375,
          3.737061279296875,
          3.7516556396484377,
          3.767327819824219,
          3.7696639099121096,
          3.772706954956055,
          3.7768534774780274,
          3.7681767387390135,
          3.760963369369507,
          3.7688566846847538,
          3.7633033423423767,
          3.746901671171188,
          3.722825835585594,
          3.710037917792797,
          3.7020189588963985,
          3.692384479448199,
          3.6866922397240995,
          3.6764711198620494,
          3.6723605599310245,
          3.681680279965512,
          3.703215139982756,
          3.713232569991378,
          3.719991284995689,
          3.7221206424978446,
          3.728685321248922,
          3.7365926606244613,
          3.7400463303122304,
          3.740523165156115,
          3.7456365825780575,
          3.7456932912890286,
          3.7445966456445143,
          3.733423322822257,
          3.7187116614111284,
          3.707730830705564,
          3.699865415352782,
          3.7028077076763912,
          3.7052788538381956,
          3.7065144269190977,
          3.695382213459549,
          3.6934411067297743,
          3.6928455533648874,
          3.687172776682444,
          3.6733363883412222,
          3.668918194170611,
          3.667834097085305,
          3.6656670485426526,
          3.6678335242713263,
          3.676666762135663,
          3.6988333810678315,
          3.7299166905339156,
          3.755333345266958,
          3.7777916726334793,
          3.7968958363167395,
          3.80919791815837,
          3.824598959079185,
          3.8472994795395925,
          3.847774739769796,
          3.799762369884898,
          3.765381184942449,
          3.7513155924712245,
          3.754907796235612,
          3.759578898117806,
          3.743789449058903,
          3.7502697245294514,
          3.8130098622647255,
          3.8713799311323625,
          3.914564965566181,
          3.9772824827830906,
          4.020891241391546,
          4.057695620695773,
          4.074722810347886,
          4.103986405173943,
          4.131368202586971,
          4.151059101293486,
          4.1461545506467425,
          4.120077275323371,
          4.102913637661686,
          4.107581818830843,
          4.113415909415421,
          4.115457954707711,
          4.134978977353856,
          4.1528644886769275,
          4.141557244338464,
          4.117028622169232,
          4.106639311084615,
          4.101944655542308,
          4.102097327771155,
          4.090798663885577,
          4.077149331942788,
          4.067074665971393,
          4.056037332985697,
          4.052643666492848,
          4.050071833246424,
          4.043285916623212,
          4.042392958311606,
          4.039571479155803,
          4.041660739577901,
          4.048705369788951,
          4.049727684894475,
          4.042738842447237,
          4.026869421223619,
          4.005934710611809,
          4.003342355305905,
          4.0017961776529525,
          3.9987730888264763,
          4.0031365444132385,
          3.996693272206619,
          3.9903466361033093
         ],
         "type": "candlestick",
         "x": [
          "2024-02-25T00:00:00",
          "2024-02-25T00:30:00",
          "2024-02-25T01:00:00",
          "2024-02-25T01:30:00",
          "2024-02-25T02:00:00",
          "2024-02-25T02:30:00",
          "2024-02-25T03:00:00",
          "2024-02-25T03:30:00",
          "2024-02-25T04:00:00",
          "2024-02-25T04:30:00",
          "2024-02-25T05:00:00",
          "2024-02-25T05:30:00",
          "2024-02-25T06:00:00",
          "2024-02-25T06:30:00",
          "2024-02-25T07:00:00",
          "2024-02-25T07:30:00",
          "2024-02-25T08:00:00",
          "2024-02-25T08:30:00",
          "2024-02-25T09:00:00",
          "2024-02-25T09:30:00",
          "2024-02-25T10:00:00",
          "2024-02-25T10:30:00",
          "2024-02-25T11:00:00",
          "2024-02-25T11:30:00",
          "2024-02-25T12:00:00",
          "2024-02-25T12:30:00",
          "2024-02-25T13:00:00",
          "2024-02-25T13:30:00",
          "2024-02-25T14:00:00",
          "2024-02-25T14:30:00",
          "2024-02-25T15:00:00",
          "2024-02-25T15:30:00",
          "2024-02-25T16:00:00",
          "2024-02-25T16:30:00",
          "2024-02-25T17:00:00",
          "2024-02-25T17:30:00",
          "2024-02-25T18:00:00",
          "2024-02-25T18:30:00",
          "2024-02-25T19:00:00",
          "2024-02-25T19:30:00",
          "2024-02-25T20:00:00",
          "2024-02-25T20:30:00",
          "2024-02-25T21:00:00",
          "2024-02-25T21:30:00",
          "2024-02-25T22:00:00",
          "2024-02-25T22:30:00",
          "2024-02-25T23:00:00",
          "2024-02-25T23:30:00",
          "2024-02-26T00:00:00",
          "2024-02-26T00:30:00",
          "2024-02-26T01:00:00",
          "2024-02-26T01:30:00",
          "2024-02-26T02:00:00",
          "2024-02-26T02:30:00",
          "2024-02-26T03:00:00",
          "2024-02-26T03:30:00",
          "2024-02-26T04:00:00",
          "2024-02-26T04:30:00",
          "2024-02-26T05:00:00",
          "2024-02-26T05:30:00",
          "2024-02-26T06:00:00",
          "2024-02-26T06:30:00",
          "2024-02-26T07:00:00",
          "2024-02-26T07:30:00",
          "2024-02-26T08:00:00",
          "2024-02-26T08:30:00",
          "2024-02-26T09:00:00",
          "2024-02-26T09:30:00",
          "2024-02-26T10:00:00",
          "2024-02-26T10:30:00",
          "2024-02-26T11:00:00",
          "2024-02-26T11:30:00",
          "2024-02-26T12:00:00",
          "2024-02-26T12:30:00",
          "2024-02-26T13:00:00",
          "2024-02-26T13:30:00",
          "2024-02-26T14:00:00",
          "2024-02-26T14:30:00",
          "2024-02-26T15:00:00",
          "2024-02-26T15:30:00",
          "2024-02-26T16:00:00",
          "2024-02-26T16:30:00",
          "2024-02-26T17:00:00",
          "2024-02-26T17:30:00",
          "2024-02-26T18:00:00",
          "2024-02-26T18:30:00",
          "2024-02-26T19:00:00",
          "2024-02-26T19:30:00",
          "2024-02-26T20:00:00",
          "2024-02-26T20:30:00",
          "2024-02-26T21:00:00",
          "2024-02-26T21:30:00",
          "2024-02-26T22:00:00",
          "2024-02-26T22:30:00",
          "2024-02-26T23:00:00",
          "2024-02-26T23:30:00",
          "2024-02-27T00:00:00",
          "2024-02-27T00:30:00",
          "2024-02-27T01:00:00",
          "2024-02-27T01:30:00",
          "2024-02-27T02:00:00",
          "2024-02-27T02:30:00",
          "2024-02-27T03:00:00",
          "2024-02-27T03:30:00",
          "2024-02-27T04:00:00",
          "2024-02-27T04:30:00",
          "2024-02-27T05:00:00",
          "2024-02-27T05:30:00",
          "2024-02-27T06:00:00",
          "2024-02-27T06:30:00",
          "2024-02-27T07:00:00",
          "2024-02-27T07:30:00",
          "2024-02-27T08:00:00",
          "2024-02-27T08:30:00",
          "2024-02-27T09:00:00",
          "2024-02-27T09:30:00",
          "2024-02-27T10:00:00",
          "2024-02-27T10:30:00",
          "2024-02-27T11:00:00"
         ]
        }
       ],
       "layout": {
        "template": {
         "data": {
          "bar": [
           {
            "error_x": {
             "color": "#2a3f5f"
            },
            "error_y": {
             "color": "#2a3f5f"
            },
            "marker": {
             "line": {
              "color": "#E5ECF6",
              "width": 0.5
             },
             "pattern": {
              "fillmode": "overlay",
              "size": 10,
              "solidity": 0.2
             }
            },
            "type": "bar"
           }
          ],
          "barpolar": [
           {
            "marker": {
             "line": {
              "color": "#E5ECF6",
              "width": 0.5
             },
             "pattern": {
              "fillmode": "overlay",
              "size": 10,
              "solidity": 0.2
             }
            },
            "type": "barpolar"
           }
          ],
          "carpet": [
           {
            "aaxis": {
             "endlinecolor": "#2a3f5f",
             "gridcolor": "white",
             "linecolor": "white",
             "minorgridcolor": "white",
             "startlinecolor": "#2a3f5f"
            },
            "baxis": {
             "endlinecolor": "#2a3f5f",
             "gridcolor": "white",
             "linecolor": "white",
             "minorgridcolor": "white",
             "startlinecolor": "#2a3f5f"
            },
            "type": "carpet"
           }
          ],
          "choropleth": [
           {
            "colorbar": {
             "outlinewidth": 0,
             "ticks": ""
            },
            "type": "choropleth"
           }
          ],
          "contour": [
           {
            "colorbar": {
             "outlinewidth": 0,
             "ticks": ""
            },
            "colorscale": [
             [
              0,
              "#0d0887"
             ],
             [
              0.1111111111111111,
              "#46039f"
             ],
             [
              0.2222222222222222,
              "#7201a8"
             ],
             [
              0.3333333333333333,
              "#9c179e"
             ],
             [
              0.4444444444444444,
              "#bd3786"
             ],
             [
              0.5555555555555556,
              "#d8576b"
             ],
             [
              0.6666666666666666,
              "#ed7953"
             ],
             [
              0.7777777777777778,
              "#fb9f3a"
             ],
             [
              0.8888888888888888,
              "#fdca26"
             ],
             [
              1,
              "#f0f921"
             ]
            ],
            "type": "contour"
           }
          ],
          "contourcarpet": [
           {
            "colorbar": {
             "outlinewidth": 0,
             "ticks": ""
            },
            "type": "contourcarpet"
           }
          ],
          "heatmap": [
           {
            "colorbar": {
             "outlinewidth": 0,
             "ticks": ""
            },
            "colorscale": [
             [
              0,
              "#0d0887"
             ],
             [
              0.1111111111111111,
              "#46039f"
             ],
             [
              0.2222222222222222,
              "#7201a8"
             ],
             [
              0.3333333333333333,
              "#9c179e"
             ],
             [
              0.4444444444444444,
              "#bd3786"
             ],
             [
              0.5555555555555556,
              "#d8576b"
             ],
             [
              0.6666666666666666,
              "#ed7953"
             ],
             [
              0.7777777777777778,
              "#fb9f3a"
             ],
             [
              0.8888888888888888,
              "#fdca26"
             ],
             [
              1,
              "#f0f921"
             ]
            ],
            "type": "heatmap"
           }
          ],
          "heatmapgl": [
           {
            "colorbar": {
             "outlinewidth": 0,
             "ticks": ""
            },
            "colorscale": [
             [
              0,
              "#0d0887"
             ],
             [
              0.1111111111111111,
              "#46039f"
             ],
             [
              0.2222222222222222,
              "#7201a8"
             ],
             [
              0.3333333333333333,
              "#9c179e"
             ],
             [
              0.4444444444444444,
              "#bd3786"
             ],
             [
              0.5555555555555556,
              "#d8576b"
             ],
             [
              0.6666666666666666,
              "#ed7953"
             ],
             [
              0.7777777777777778,
              "#fb9f3a"
             ],
             [
              0.8888888888888888,
              "#fdca26"
             ],
             [
              1,
              "#f0f921"
             ]
            ],
            "type": "heatmapgl"
           }
          ],
          "histogram": [
           {
            "marker": {
             "pattern": {
              "fillmode": "overlay",
              "size": 10,
              "solidity": 0.2
             }
            },
            "type": "histogram"
           }
          ],
          "histogram2d": [
           {
            "colorbar": {
             "outlinewidth": 0,
             "ticks": ""
            },
            "colorscale": [
             [
              0,
              "#0d0887"
             ],
             [
              0.1111111111111111,
              "#46039f"
             ],
             [
              0.2222222222222222,
              "#7201a8"
             ],
             [
              0.3333333333333333,
              "#9c179e"
             ],
             [
              0.4444444444444444,
              "#bd3786"
             ],
             [
              0.5555555555555556,
              "#d8576b"
             ],
             [
              0.6666666666666666,
              "#ed7953"
             ],
             [
              0.7777777777777778,
              "#fb9f3a"
             ],
             [
              0.8888888888888888,
              "#fdca26"
             ],
             [
              1,
              "#f0f921"
             ]
            ],
            "type": "histogram2d"
           }
          ],
          "histogram2dcontour": [
           {
            "colorbar": {
             "outlinewidth": 0,
             "ticks": ""
            },
            "colorscale": [
             [
              0,
              "#0d0887"
             ],
             [
              0.1111111111111111,
              "#46039f"
             ],
             [
              0.2222222222222222,
              "#7201a8"
             ],
             [
              0.3333333333333333,
              "#9c179e"
             ],
             [
              0.4444444444444444,
              "#bd3786"
             ],
             [
              0.5555555555555556,
              "#d8576b"
             ],
             [
              0.6666666666666666,
              "#ed7953"
             ],
             [
              0.7777777777777778,
              "#fb9f3a"
             ],
             [
              0.8888888888888888,
              "#fdca26"
             ],
             [
              1,
              "#f0f921"
             ]
            ],
            "type": "histogram2dcontour"
           }
          ],
          "mesh3d": [
           {
            "colorbar": {
             "outlinewidth": 0,
             "ticks": ""
            },
            "type": "mesh3d"
           }
          ],
          "parcoords": [
           {
            "line": {
             "colorbar": {
              "outlinewidth": 0,
              "ticks": ""
             }
            },
            "type": "parcoords"
           }
          ],
          "pie": [
           {
            "automargin": true,
            "type": "pie"
           }
          ],
          "scatter": [
           {
            "fillpattern": {
             "fillmode": "overlay",
             "size": 10,
             "solidity": 0.2
            },
            "type": "scatter"
           }
          ],
          "scatter3d": [
           {
            "line": {
             "colorbar": {
              "outlinewidth": 0,
              "ticks": ""
             }
            },
            "marker": {
             "colorbar": {
              "outlinewidth": 0,
              "ticks": ""
             }
            },
            "type": "scatter3d"
           }
          ],
          "scattercarpet": [
           {
            "marker": {
             "colorbar": {
              "outlinewidth": 0,
              "ticks": ""
             }
            },
            "type": "scattercarpet"
           }
          ],
          "scattergeo": [
           {
            "marker": {
             "colorbar": {
              "outlinewidth": 0,
              "ticks": ""
             }
            },
            "type": "scattergeo"
           }
          ],
          "scattergl": [
           {
            "marker": {
             "colorbar": {
              "outlinewidth": 0,
              "ticks": ""
             }
            },
            "type": "scattergl"
           }
          ],
          "scattermapbox": [
           {
            "marker": {
             "colorbar": {
              "outlinewidth": 0,
              "ticks": ""
             }
            },
            "type": "scattermapbox"
           }
          ],
          "scatterpolar": [
           {
            "marker": {
             "colorbar": {
              "outlinewidth": 0,
              "ticks": ""
             }
            },
            "type": "scatterpolar"
           }
          ],
          "scatterpolargl": [
           {
            "marker": {
             "colorbar": {
              "outlinewidth": 0,
              "ticks": ""
             }
            },
            "type": "scatterpolargl"
           }
          ],
          "scatterternary": [
           {
            "marker": {
             "colorbar": {
              "outlinewidth": 0,
              "ticks": ""
             }
            },
            "type": "scatterternary"
           }
          ],
          "surface": [
           {
            "colorbar": {
             "outlinewidth": 0,
             "ticks": ""
            },
            "colorscale": [
             [
              0,
              "#0d0887"
             ],
             [
              0.1111111111111111,
              "#46039f"
             ],
             [
              0.2222222222222222,
              "#7201a8"
             ],
             [
              0.3333333333333333,
              "#9c179e"
             ],
             [
              0.4444444444444444,
              "#bd3786"
             ],
             [
              0.5555555555555556,
              "#d8576b"
             ],
             [
              0.6666666666666666,
              "#ed7953"
             ],
             [
              0.7777777777777778,
              "#fb9f3a"
             ],
             [
              0.8888888888888888,
              "#fdca26"
             ],
             [
              1,
              "#f0f921"
             ]
            ],
            "type": "surface"
           }
          ],
          "table": [
           {
            "cells": {
             "fill": {
              "color": "#EBF0F8"
             },
             "line": {
              "color": "white"
             }
            },
            "header": {
             "fill": {
              "color": "#C8D4E3"
             },
             "line": {
              "color": "white"
             }
            },
            "type": "table"
           }
          ]
         },
         "layout": {
          "annotationdefaults": {
           "arrowcolor": "#2a3f5f",
           "arrowhead": 0,
           "arrowwidth": 1
          },
          "autotypenumbers": "strict",
          "coloraxis": {
           "colorbar": {
            "outlinewidth": 0,
            "ticks": ""
           }
          },
          "colorscale": {
           "diverging": [
            [
             0,
             "#8e0152"
            ],
            [
             0.1,
             "#c51b7d"
            ],
            [
             0.2,
             "#de77ae"
            ],
            [
             0.3,
             "#f1b6da"
            ],
            [
             0.4,
             "#fde0ef"
            ],
            [
             0.5,
             "#f7f7f7"
            ],
            [
             0.6,
             "#e6f5d0"
            ],
            [
             0.7,
             "#b8e186"
            ],
            [
             0.8,
             "#7fbc41"
            ],
            [
             0.9,
             "#4d9221"
            ],
            [
             1,
             "#276419"
            ]
           ],
           "sequential": [
            [
             0,
             "#0d0887"
            ],
            [
             0.1111111111111111,
             "#46039f"
            ],
            [
             0.2222222222222222,
             "#7201a8"
            ],
            [
             0.3333333333333333,
             "#9c179e"
            ],
            [
             0.4444444444444444,
             "#bd3786"
            ],
            [
             0.5555555555555556,
             "#d8576b"
            ],
            [
             0.6666666666666666,
             "#ed7953"
            ],
            [
             0.7777777777777778,
             "#fb9f3a"
            ],
            [
             0.8888888888888888,
             "#fdca26"
            ],
            [
             1,
             "#f0f921"
            ]
           ],
           "sequentialminus": [
            [
             0,
             "#0d0887"
            ],
            [
             0.1111111111111111,
             "#46039f"
            ],
            [
             0.2222222222222222,
             "#7201a8"
            ],
            [
             0.3333333333333333,
             "#9c179e"
            ],
            [
             0.4444444444444444,
             "#bd3786"
            ],
            [
             0.5555555555555556,
             "#d8576b"
            ],
            [
             0.6666666666666666,
             "#ed7953"
            ],
            [
             0.7777777777777778,
             "#fb9f3a"
            ],
            [
             0.8888888888888888,
             "#fdca26"
            ],
            [
             1,
             "#f0f921"
            ]
           ]
          },
          "colorway": [
           "#636efa",
           "#EF553B",
           "#00cc96",
           "#ab63fa",
           "#FFA15A",
           "#19d3f3",
           "#FF6692",
           "#B6E880",
           "#FF97FF",
           "#FECB52"
          ],
          "font": {
           "color": "#2a3f5f"
          },
          "geo": {
           "bgcolor": "white",
           "lakecolor": "white",
           "landcolor": "#E5ECF6",
           "showlakes": true,
           "showland": true,
           "subunitcolor": "white"
          },
          "hoverlabel": {
           "align": "left"
          },
          "hovermode": "closest",
          "mapbox": {
           "style": "light"
          },
          "paper_bgcolor": "white",
          "plot_bgcolor": "#E5ECF6",
          "polar": {
           "angularaxis": {
            "gridcolor": "white",
            "linecolor": "white",
            "ticks": ""
           },
           "bgcolor": "#E5ECF6",
           "radialaxis": {
            "gridcolor": "white",
            "linecolor": "white",
            "ticks": ""
           }
          },
          "scene": {
           "xaxis": {
            "backgroundcolor": "#E5ECF6",
            "gridcolor": "white",
            "gridwidth": 2,
            "linecolor": "white",
            "showbackground": true,
            "ticks": "",
            "zerolinecolor": "white"
           },
           "yaxis": {
            "backgroundcolor": "#E5ECF6",
            "gridcolor": "white",
            "gridwidth": 2,
            "linecolor": "white",
            "showbackground": true,
            "ticks": "",
            "zerolinecolor": "white"
           },
           "zaxis": {
            "backgroundcolor": "#E5ECF6",
            "gridcolor": "white",
            "gridwidth": 2,
            "linecolor": "white",
            "showbackground": true,
            "ticks": "",
            "zerolinecolor": "white"
           }
          },
          "shapedefaults": {
           "line": {
            "color": "#2a3f5f"
           }
          },
          "ternary": {
           "aaxis": {
            "gridcolor": "white",
            "linecolor": "white",
            "ticks": ""
           },
           "baxis": {
            "gridcolor": "white",
            "linecolor": "white",
            "ticks": ""
           },
           "bgcolor": "#E5ECF6",
           "caxis": {
            "gridcolor": "white",
            "linecolor": "white",
            "ticks": ""
           }
          },
          "title": {
           "x": 0.05
          },
          "xaxis": {
           "automargin": true,
           "gridcolor": "white",
           "linecolor": "white",
           "ticks": "",
           "title": {
            "standoff": 15
           },
           "zerolinecolor": "white",
           "zerolinewidth": 2
          },
          "yaxis": {
           "automargin": true,
           "gridcolor": "white",
           "linecolor": "white",
           "ticks": "",
           "title": {
            "standoff": 15
           },
           "zerolinecolor": "white",
           "zerolinewidth": 2
          }
         }
        },
        "title": {
         "text": "Heikin-Ashi Chart"
        },
        "xaxis": {
         "rangeslider": {
          "visible": true
         },
         "title": {
          "text": "Date"
         }
        },
        "yaxis": {
         "title": {
          "text": "Price"
         }
        }
       }
      }
     },
     "metadata": {},
     "output_type": "display_data"
    },
    {
     "data": {
      "application/vnd.plotly.v1+json": {
       "config": {
        "plotlyServerURL": "https://plot.ly"
       },
       "data": [
        {
         "close": [
          3.821,
          3.815,
          3.859,
          3.791,
          3.794,
          3.753,
          3.727,
          3.72,
          3.742,
          3.743,
          3.737,
          3.743,
          3.795,
          3.786,
          3.759,
          3.788,
          3.777,
          3.741,
          3.769,
          3.775,
          3.742,
          3.715,
          3.69,
          3.699,
          3.688,
          3.691,
          3.67,
          3.659,
          3.674,
          3.711,
          3.739,
          3.717,
          3.726,
          3.716,
          3.74,
          3.745,
          3.747,
          3.739,
          3.755,
          3.738,
          3.74,
          3.708,
          3.701,
          3.69,
          3.699,
          3.713,
          3.708,
          3.704,
          3.674,
          3.703,
          3.696,
          3.669,
          3.65,
          3.674,
          3.656,
          3.675,
          3.67,
          3.705,
          3.735,
          3.774,
          3.782,
          3.811,
          3.821,
          3.836,
          3.844,
          3.895,
          3.789,
          3.71,
          3.738,
          3.741,
          3.789,
          3.741,
          3.715,
          3.799,
          3.956,
          3.905,
          4.007,
          4.066,
          4.057,
          4.117,
          4.086,
          4.163,
          4.162,
          4.185,
          4.098,
          4.091,
          4.09,
          4.134,
          4.109,
          4.137,
          4.163,
          4.174,
          4.09,
          4.105,
          4.1,
          4.097,
          4.107,
          4.056,
          4.066,
          4.037,
          4.042,
          4.036,
          4.061,
          4.013,
          4.03,
          4.036,
          4.055,
          4.068,
          4.044,
          4.031,
          3.996,
          3.984,
          4.007,
          3.994,
          3.997,
          4.003,
          3.982,
          3.995,
          3.982
         ],
         "decreasing": {
          "line": {
           "color": "red"
          }
         },
         "high": [
          3.88,
          3.842,
          3.868,
          3.862,
          3.816,
          3.82,
          3.755,
          3.732,
          3.743,
          3.753,
          3.75,
          3.749,
          3.806,
          3.796,
          3.788,
          3.805,
          3.804,
          3.786,
          3.769,
          3.794,
          3.777,
          3.754,
          3.722,
          3.711,
          3.712,
          3.696,
          3.703,
          3.68,
          3.683,
          3.713,
          3.739,
          3.743,
          3.769,
          3.741,
          3.77,
          3.756,
          3.752,
          3.755,
          3.772,
          3.759,
          3.765,
          3.742,
          3.712,
          3.708,
          3.708,
          3.72,
          3.72,
          3.716,
          3.704,
          3.721,
          3.706,
          3.699,
          3.675,
          3.682,
          3.689,
          3.675,
          3.678,
          3.705,
          3.742,
          3.807,
          3.806,
          3.836,
          3.843,
          3.838,
          3.865,
          3.898,
          3.92,
          3.811,
          3.77,
          3.765,
          3.795,
          3.79,
          3.75,
          3.8,
          3.964,
          3.966,
          4.042,
          4.086,
          4.105,
          4.145,
          4.128,
          4.198,
          4.175,
          4.194,
          4.186,
          4.117,
          4.12,
          4.135,
          4.142,
          4.139,
          4.183,
          4.187,
          4.182,
          4.112,
          4.113,
          4.105,
          4.148,
          4.111,
          4.105,
          4.095,
          4.083,
          4.09,
          4.069,
          4.072,
          4.119,
          4.062,
          4.063,
          4.082,
          4.067,
          4.055,
          4.033,
          3.999,
          4.028,
          4.021,
          4.014,
          4.036,
          4.009,
          4.002,
          3.995
         ],
         "increasing": {
          "line": {
           "color": "green"
          }
         },
         "low": [
          3.801,
          3.799,
          3.776,
          3.785,
          3.78,
          3.738,
          3.702,
          3.707,
          3.705,
          3.722,
          3.725,
          3.715,
          3.721,
          3.756,
          3.757,
          3.75,
          3.755,
          3.733,
          3.737,
          3.769,
          3.738,
          3.712,
          3.667,
          3.689,
          3.677,
          3.655,
          3.66,
          3.657,
          3.658,
          3.666,
          3.709,
          3.694,
          3.694,
          3.714,
          3.715,
          3.737,
          3.73,
          3.724,
          3.736,
          3.732,
          3.732,
          3.698,
          3.695,
          3.687,
          3.671,
          3.691,
          3.689,
          3.702,
          3.655,
          3.667,
          3.665,
          3.661,
          3.644,
          3.651,
          3.648,
          3.648,
          3.658,
          3.662,
          3.702,
          3.728,
          3.761,
          3.772,
          3.789,
          3.791,
          3.815,
          3.843,
          3.788,
          3.697,
          3.707,
          3.705,
          3.709,
          3.736,
          3.706,
          3.713,
          3.784,
          3.891,
          3.876,
          4,
          4.031,
          4.058,
          4.037,
          4.086,
          4.136,
          4.143,
          4.096,
          4.069,
          4.042,
          4.09,
          4.092,
          4.085,
          4.134,
          4.159,
          4.074,
          4.063,
          4.066,
          4.086,
          4.057,
          4.044,
          4.027,
          4.03,
          4.017,
          4.029,
          4.024,
          4,
          4.003,
          4.018,
          4.021,
          4.017,
          4.025,
          4.012,
          3.984,
          3.963,
          3.984,
          3.979,
          3.977,
          3.993,
          3.966,
          3.955,
          3.981
         ],
         "open": [
          3.866,
          3.821,
          3.816,
          3.858,
          3.79,
          3.794,
          3.753,
          3.729,
          3.72,
          3.743,
          3.742,
          3.737,
          3.743,
          3.794,
          3.784,
          3.76,
          3.788,
          3.778,
          3.74,
          3.769,
          3.774,
          3.741,
          3.716,
          3.69,
          3.699,
          3.689,
          3.691,
          3.669,
          3.658,
          3.674,
          3.712,
          3.739,
          3.718,
          3.726,
          3.716,
          3.74,
          3.745,
          3.746,
          3.74,
          3.754,
          3.737,
          3.741,
          3.708,
          3.702,
          3.69,
          3.699,
          3.714,
          3.709,
          3.704,
          3.675,
          3.702,
          3.697,
          3.669,
          3.651,
          3.674,
          3.656,
          3.674,
          3.67,
          3.705,
          3.735,
          3.774,
          3.782,
          3.811,
          3.821,
          3.836,
          3.844,
          3.896,
          3.789,
          3.709,
          3.738,
          3.741,
          3.79,
          3.741,
          3.715,
          3.799,
          3.957,
          3.906,
          4.008,
          4.065,
          4.058,
          4.116,
          4.086,
          4.162,
          4.161,
          4.185,
          4.099,
          4.091,
          4.09,
          4.134,
          4.109,
          4.138,
          4.163,
          4.175,
          4.09,
          4.106,
          4.101,
          4.097,
          4.107,
          4.056,
          4.066,
          4.038,
          4.042,
          4.036,
          4.061,
          4.014,
          4.031,
          4.036,
          4.056,
          4.067,
          4.045,
          4.031,
          3.994,
          3.984,
          4.007,
          3.995,
          3.998,
          4.004,
          3.984,
          3.995
         ],
         "type": "candlestick",
         "x": [
          "2024-02-25T00:00:00",
          "2024-02-25T00:30:00",
          "2024-02-25T01:00:00",
          "2024-02-25T01:30:00",
          "2024-02-25T02:00:00",
          "2024-02-25T02:30:00",
          "2024-02-25T03:00:00",
          "2024-02-25T03:30:00",
          "2024-02-25T04:00:00",
          "2024-02-25T04:30:00",
          "2024-02-25T05:00:00",
          "2024-02-25T05:30:00",
          "2024-02-25T06:00:00",
          "2024-02-25T06:30:00",
          "2024-02-25T07:00:00",
          "2024-02-25T07:30:00",
          "2024-02-25T08:00:00",
          "2024-02-25T08:30:00",
          "2024-02-25T09:00:00",
          "2024-02-25T09:30:00",
          "2024-02-25T10:00:00",
          "2024-02-25T10:30:00",
          "2024-02-25T11:00:00",
          "2024-02-25T11:30:00",
          "2024-02-25T12:00:00",
          "2024-02-25T12:30:00",
          "2024-02-25T13:00:00",
          "2024-02-25T13:30:00",
          "2024-02-25T14:00:00",
          "2024-02-25T14:30:00",
          "2024-02-25T15:00:00",
          "2024-02-25T15:30:00",
          "2024-02-25T16:00:00",
          "2024-02-25T16:30:00",
          "2024-02-25T17:00:00",
          "2024-02-25T17:30:00",
          "2024-02-25T18:00:00",
          "2024-02-25T18:30:00",
          "2024-02-25T19:00:00",
          "2024-02-25T19:30:00",
          "2024-02-25T20:00:00",
          "2024-02-25T20:30:00",
          "2024-02-25T21:00:00",
          "2024-02-25T21:30:00",
          "2024-02-25T22:00:00",
          "2024-02-25T22:30:00",
          "2024-02-25T23:00:00",
          "2024-02-25T23:30:00",
          "2024-02-26T00:00:00",
          "2024-02-26T00:30:00",
          "2024-02-26T01:00:00",
          "2024-02-26T01:30:00",
          "2024-02-26T02:00:00",
          "2024-02-26T02:30:00",
          "2024-02-26T03:00:00",
          "2024-02-26T03:30:00",
          "2024-02-26T04:00:00",
          "2024-02-26T04:30:00",
          "2024-02-26T05:00:00",
          "2024-02-26T05:30:00",
          "2024-02-26T06:00:00",
          "2024-02-26T06:30:00",
          "2024-02-26T07:00:00",
          "2024-02-26T07:30:00",
          "2024-02-26T08:00:00",
          "2024-02-26T08:30:00",
          "2024-02-26T09:00:00",
          "2024-02-26T09:30:00",
          "2024-02-26T10:00:00",
          "2024-02-26T10:30:00",
          "2024-02-26T11:00:00",
          "2024-02-26T11:30:00",
          "2024-02-26T12:00:00",
          "2024-02-26T12:30:00",
          "2024-02-26T13:00:00",
          "2024-02-26T13:30:00",
          "2024-02-26T14:00:00",
          "2024-02-26T14:30:00",
          "2024-02-26T15:00:00",
          "2024-02-26T15:30:00",
          "2024-02-26T16:00:00",
          "2024-02-26T16:30:00",
          "2024-02-26T17:00:00",
          "2024-02-26T17:30:00",
          "2024-02-26T18:00:00",
          "2024-02-26T18:30:00",
          "2024-02-26T19:00:00",
          "2024-02-26T19:30:00",
          "2024-02-26T20:00:00",
          "2024-02-26T20:30:00",
          "2024-02-26T21:00:00",
          "2024-02-26T21:30:00",
          "2024-02-26T22:00:00",
          "2024-02-26T22:30:00",
          "2024-02-26T23:00:00",
          "2024-02-26T23:30:00",
          "2024-02-27T00:00:00",
          "2024-02-27T00:30:00",
          "2024-02-27T01:00:00",
          "2024-02-27T01:30:00",
          "2024-02-27T02:00:00",
          "2024-02-27T02:30:00",
          "2024-02-27T03:00:00",
          "2024-02-27T03:30:00",
          "2024-02-27T04:00:00",
          "2024-02-27T04:30:00",
          "2024-02-27T05:00:00",
          "2024-02-27T05:30:00",
          "2024-02-27T06:00:00",
          "2024-02-27T06:30:00",
          "2024-02-27T07:00:00",
          "2024-02-27T07:30:00",
          "2024-02-27T08:00:00",
          "2024-02-27T08:30:00",
          "2024-02-27T09:00:00",
          "2024-02-27T09:30:00",
          "2024-02-27T10:00:00",
          "2024-02-27T10:30:00",
          "2024-02-27T11:00:00"
         ]
        }
       ],
       "layout": {
        "template": {
         "data": {
          "bar": [
           {
            "error_x": {
             "color": "#2a3f5f"
            },
            "error_y": {
             "color": "#2a3f5f"
            },
            "marker": {
             "line": {
              "color": "#E5ECF6",
              "width": 0.5
             },
             "pattern": {
              "fillmode": "overlay",
              "size": 10,
              "solidity": 0.2
             }
            },
            "type": "bar"
           }
          ],
          "barpolar": [
           {
            "marker": {
             "line": {
              "color": "#E5ECF6",
              "width": 0.5
             },
             "pattern": {
              "fillmode": "overlay",
              "size": 10,
              "solidity": 0.2
             }
            },
            "type": "barpolar"
           }
          ],
          "carpet": [
           {
            "aaxis": {
             "endlinecolor": "#2a3f5f",
             "gridcolor": "white",
             "linecolor": "white",
             "minorgridcolor": "white",
             "startlinecolor": "#2a3f5f"
            },
            "baxis": {
             "endlinecolor": "#2a3f5f",
             "gridcolor": "white",
             "linecolor": "white",
             "minorgridcolor": "white",
             "startlinecolor": "#2a3f5f"
            },
            "type": "carpet"
           }
          ],
          "choropleth": [
           {
            "colorbar": {
             "outlinewidth": 0,
             "ticks": ""
            },
            "type": "choropleth"
           }
          ],
          "contour": [
           {
            "colorbar": {
             "outlinewidth": 0,
             "ticks": ""
            },
            "colorscale": [
             [
              0,
              "#0d0887"
             ],
             [
              0.1111111111111111,
              "#46039f"
             ],
             [
              0.2222222222222222,
              "#7201a8"
             ],
             [
              0.3333333333333333,
              "#9c179e"
             ],
             [
              0.4444444444444444,
              "#bd3786"
             ],
             [
              0.5555555555555556,
              "#d8576b"
             ],
             [
              0.6666666666666666,
              "#ed7953"
             ],
             [
              0.7777777777777778,
              "#fb9f3a"
             ],
             [
              0.8888888888888888,
              "#fdca26"
             ],
             [
              1,
              "#f0f921"
             ]
            ],
            "type": "contour"
           }
          ],
          "contourcarpet": [
           {
            "colorbar": {
             "outlinewidth": 0,
             "ticks": ""
            },
            "type": "contourcarpet"
           }
          ],
          "heatmap": [
           {
            "colorbar": {
             "outlinewidth": 0,
             "ticks": ""
            },
            "colorscale": [
             [
              0,
              "#0d0887"
             ],
             [
              0.1111111111111111,
              "#46039f"
             ],
             [
              0.2222222222222222,
              "#7201a8"
             ],
             [
              0.3333333333333333,
              "#9c179e"
             ],
             [
              0.4444444444444444,
              "#bd3786"
             ],
             [
              0.5555555555555556,
              "#d8576b"
             ],
             [
              0.6666666666666666,
              "#ed7953"
             ],
             [
              0.7777777777777778,
              "#fb9f3a"
             ],
             [
              0.8888888888888888,
              "#fdca26"
             ],
             [
              1,
              "#f0f921"
             ]
            ],
            "type": "heatmap"
           }
          ],
          "heatmapgl": [
           {
            "colorbar": {
             "outlinewidth": 0,
             "ticks": ""
            },
            "colorscale": [
             [
              0,
              "#0d0887"
             ],
             [
              0.1111111111111111,
              "#46039f"
             ],
             [
              0.2222222222222222,
              "#7201a8"
             ],
             [
              0.3333333333333333,
              "#9c179e"
             ],
             [
              0.4444444444444444,
              "#bd3786"
             ],
             [
              0.5555555555555556,
              "#d8576b"
             ],
             [
              0.6666666666666666,
              "#ed7953"
             ],
             [
              0.7777777777777778,
              "#fb9f3a"
             ],
             [
              0.8888888888888888,
              "#fdca26"
             ],
             [
              1,
              "#f0f921"
             ]
            ],
            "type": "heatmapgl"
           }
          ],
          "histogram": [
           {
            "marker": {
             "pattern": {
              "fillmode": "overlay",
              "size": 10,
              "solidity": 0.2
             }
            },
            "type": "histogram"
           }
          ],
          "histogram2d": [
           {
            "colorbar": {
             "outlinewidth": 0,
             "ticks": ""
            },
            "colorscale": [
             [
              0,
              "#0d0887"
             ],
             [
              0.1111111111111111,
              "#46039f"
             ],
             [
              0.2222222222222222,
              "#7201a8"
             ],
             [
              0.3333333333333333,
              "#9c179e"
             ],
             [
              0.4444444444444444,
              "#bd3786"
             ],
             [
              0.5555555555555556,
              "#d8576b"
             ],
             [
              0.6666666666666666,
              "#ed7953"
             ],
             [
              0.7777777777777778,
              "#fb9f3a"
             ],
             [
              0.8888888888888888,
              "#fdca26"
             ],
             [
              1,
              "#f0f921"
             ]
            ],
            "type": "histogram2d"
           }
          ],
          "histogram2dcontour": [
           {
            "colorbar": {
             "outlinewidth": 0,
             "ticks": ""
            },
            "colorscale": [
             [
              0,
              "#0d0887"
             ],
             [
              0.1111111111111111,
              "#46039f"
             ],
             [
              0.2222222222222222,
              "#7201a8"
             ],
             [
              0.3333333333333333,
              "#9c179e"
             ],
             [
              0.4444444444444444,
              "#bd3786"
             ],
             [
              0.5555555555555556,
              "#d8576b"
             ],
             [
              0.6666666666666666,
              "#ed7953"
             ],
             [
              0.7777777777777778,
              "#fb9f3a"
             ],
             [
              0.8888888888888888,
              "#fdca26"
             ],
             [
              1,
              "#f0f921"
             ]
            ],
            "type": "histogram2dcontour"
           }
          ],
          "mesh3d": [
           {
            "colorbar": {
             "outlinewidth": 0,
             "ticks": ""
            },
            "type": "mesh3d"
           }
          ],
          "parcoords": [
           {
            "line": {
             "colorbar": {
              "outlinewidth": 0,
              "ticks": ""
             }
            },
            "type": "parcoords"
           }
          ],
          "pie": [
           {
            "automargin": true,
            "type": "pie"
           }
          ],
          "scatter": [
           {
            "fillpattern": {
             "fillmode": "overlay",
             "size": 10,
             "solidity": 0.2
            },
            "type": "scatter"
           }
          ],
          "scatter3d": [
           {
            "line": {
             "colorbar": {
              "outlinewidth": 0,
              "ticks": ""
             }
            },
            "marker": {
             "colorbar": {
              "outlinewidth": 0,
              "ticks": ""
             }
            },
            "type": "scatter3d"
           }
          ],
          "scattercarpet": [
           {
            "marker": {
             "colorbar": {
              "outlinewidth": 0,
              "ticks": ""
             }
            },
            "type": "scattercarpet"
           }
          ],
          "scattergeo": [
           {
            "marker": {
             "colorbar": {
              "outlinewidth": 0,
              "ticks": ""
             }
            },
            "type": "scattergeo"
           }
          ],
          "scattergl": [
           {
            "marker": {
             "colorbar": {
              "outlinewidth": 0,
              "ticks": ""
             }
            },
            "type": "scattergl"
           }
          ],
          "scattermapbox": [
           {
            "marker": {
             "colorbar": {
              "outlinewidth": 0,
              "ticks": ""
             }
            },
            "type": "scattermapbox"
           }
          ],
          "scatterpolar": [
           {
            "marker": {
             "colorbar": {
              "outlinewidth": 0,
              "ticks": ""
             }
            },
            "type": "scatterpolar"
           }
          ],
          "scatterpolargl": [
           {
            "marker": {
             "colorbar": {
              "outlinewidth": 0,
              "ticks": ""
             }
            },
            "type": "scatterpolargl"
           }
          ],
          "scatterternary": [
           {
            "marker": {
             "colorbar": {
              "outlinewidth": 0,
              "ticks": ""
             }
            },
            "type": "scatterternary"
           }
          ],
          "surface": [
           {
            "colorbar": {
             "outlinewidth": 0,
             "ticks": ""
            },
            "colorscale": [
             [
              0,
              "#0d0887"
             ],
             [
              0.1111111111111111,
              "#46039f"
             ],
             [
              0.2222222222222222,
              "#7201a8"
             ],
             [
              0.3333333333333333,
              "#9c179e"
             ],
             [
              0.4444444444444444,
              "#bd3786"
             ],
             [
              0.5555555555555556,
              "#d8576b"
             ],
             [
              0.6666666666666666,
              "#ed7953"
             ],
             [
              0.7777777777777778,
              "#fb9f3a"
             ],
             [
              0.8888888888888888,
              "#fdca26"
             ],
             [
              1,
              "#f0f921"
             ]
            ],
            "type": "surface"
           }
          ],
          "table": [
           {
            "cells": {
             "fill": {
              "color": "#EBF0F8"
             },
             "line": {
              "color": "white"
             }
            },
            "header": {
             "fill": {
              "color": "#C8D4E3"
             },
             "line": {
              "color": "white"
             }
            },
            "type": "table"
           }
          ]
         },
         "layout": {
          "annotationdefaults": {
           "arrowcolor": "#2a3f5f",
           "arrowhead": 0,
           "arrowwidth": 1
          },
          "autotypenumbers": "strict",
          "coloraxis": {
           "colorbar": {
            "outlinewidth": 0,
            "ticks": ""
           }
          },
          "colorscale": {
           "diverging": [
            [
             0,
             "#8e0152"
            ],
            [
             0.1,
             "#c51b7d"
            ],
            [
             0.2,
             "#de77ae"
            ],
            [
             0.3,
             "#f1b6da"
            ],
            [
             0.4,
             "#fde0ef"
            ],
            [
             0.5,
             "#f7f7f7"
            ],
            [
             0.6,
             "#e6f5d0"
            ],
            [
             0.7,
             "#b8e186"
            ],
            [
             0.8,
             "#7fbc41"
            ],
            [
             0.9,
             "#4d9221"
            ],
            [
             1,
             "#276419"
            ]
           ],
           "sequential": [
            [
             0,
             "#0d0887"
            ],
            [
             0.1111111111111111,
             "#46039f"
            ],
            [
             0.2222222222222222,
             "#7201a8"
            ],
            [
             0.3333333333333333,
             "#9c179e"
            ],
            [
             0.4444444444444444,
             "#bd3786"
            ],
            [
             0.5555555555555556,
             "#d8576b"
            ],
            [
             0.6666666666666666,
             "#ed7953"
            ],
            [
             0.7777777777777778,
             "#fb9f3a"
            ],
            [
             0.8888888888888888,
             "#fdca26"
            ],
            [
             1,
             "#f0f921"
            ]
           ],
           "sequentialminus": [
            [
             0,
             "#0d0887"
            ],
            [
             0.1111111111111111,
             "#46039f"
            ],
            [
             0.2222222222222222,
             "#7201a8"
            ],
            [
             0.3333333333333333,
             "#9c179e"
            ],
            [
             0.4444444444444444,
             "#bd3786"
            ],
            [
             0.5555555555555556,
             "#d8576b"
            ],
            [
             0.6666666666666666,
             "#ed7953"
            ],
            [
             0.7777777777777778,
             "#fb9f3a"
            ],
            [
             0.8888888888888888,
             "#fdca26"
            ],
            [
             1,
             "#f0f921"
            ]
           ]
          },
          "colorway": [
           "#636efa",
           "#EF553B",
           "#00cc96",
           "#ab63fa",
           "#FFA15A",
           "#19d3f3",
           "#FF6692",
           "#B6E880",
           "#FF97FF",
           "#FECB52"
          ],
          "font": {
           "color": "#2a3f5f"
          },
          "geo": {
           "bgcolor": "white",
           "lakecolor": "white",
           "landcolor": "#E5ECF6",
           "showlakes": true,
           "showland": true,
           "subunitcolor": "white"
          },
          "hoverlabel": {
           "align": "left"
          },
          "hovermode": "closest",
          "mapbox": {
           "style": "light"
          },
          "paper_bgcolor": "white",
          "plot_bgcolor": "#E5ECF6",
          "polar": {
           "angularaxis": {
            "gridcolor": "white",
            "linecolor": "white",
            "ticks": ""
           },
           "bgcolor": "#E5ECF6",
           "radialaxis": {
            "gridcolor": "white",
            "linecolor": "white",
            "ticks": ""
           }
          },
          "scene": {
           "xaxis": {
            "backgroundcolor": "#E5ECF6",
            "gridcolor": "white",
            "gridwidth": 2,
            "linecolor": "white",
            "showbackground": true,
            "ticks": "",
            "zerolinecolor": "white"
           },
           "yaxis": {
            "backgroundcolor": "#E5ECF6",
            "gridcolor": "white",
            "gridwidth": 2,
            "linecolor": "white",
            "showbackground": true,
            "ticks": "",
            "zerolinecolor": "white"
           },
           "zaxis": {
            "backgroundcolor": "#E5ECF6",
            "gridcolor": "white",
            "gridwidth": 2,
            "linecolor": "white",
            "showbackground": true,
            "ticks": "",
            "zerolinecolor": "white"
           }
          },
          "shapedefaults": {
           "line": {
            "color": "#2a3f5f"
           }
          },
          "ternary": {
           "aaxis": {
            "gridcolor": "white",
            "linecolor": "white",
            "ticks": ""
           },
           "baxis": {
            "gridcolor": "white",
            "linecolor": "white",
            "ticks": ""
           },
           "bgcolor": "#E5ECF6",
           "caxis": {
            "gridcolor": "white",
            "linecolor": "white",
            "ticks": ""
           }
          },
          "title": {
           "x": 0.05
          },
          "xaxis": {
           "automargin": true,
           "gridcolor": "white",
           "linecolor": "white",
           "ticks": "",
           "title": {
            "standoff": 15
           },
           "zerolinecolor": "white",
           "zerolinewidth": 2
          },
          "yaxis": {
           "automargin": true,
           "gridcolor": "white",
           "linecolor": "white",
           "ticks": "",
           "title": {
            "standoff": 15
           },
           "zerolinecolor": "white",
           "zerolinewidth": 2
          }
         }
        },
        "title": {
         "text": "OHLC Chart"
        },
        "xaxis": {
         "rangeslider": {
          "visible": true
         },
         "title": {
          "text": "Date"
         }
        },
        "yaxis": {
         "title": {
          "text": "Price"
         }
        }
       }
      }
     },
     "metadata": {},
     "output_type": "display_data"
    },
    {
     "data": {
      "application/vnd.plotly.v1+json": {
       "config": {
        "plotlyServerURL": "https://plot.ly"
       },
       "data": [
        {
         "line": {
          "color": "blue"
         },
         "mode": "lines",
         "name": "MACD",
         "type": "scatter",
         "x": [
          "2024-02-25T00:00:00",
          "2024-02-25T00:30:00",
          "2024-02-25T01:00:00",
          "2024-02-25T01:30:00",
          "2024-02-25T02:00:00",
          "2024-02-25T02:30:00",
          "2024-02-25T03:00:00",
          "2024-02-25T03:30:00",
          "2024-02-25T04:00:00",
          "2024-02-25T04:30:00",
          "2024-02-25T05:00:00",
          "2024-02-25T05:30:00",
          "2024-02-25T06:00:00",
          "2024-02-25T06:30:00",
          "2024-02-25T07:00:00",
          "2024-02-25T07:30:00",
          "2024-02-25T08:00:00",
          "2024-02-25T08:30:00",
          "2024-02-25T09:00:00",
          "2024-02-25T09:30:00",
          "2024-02-25T10:00:00",
          "2024-02-25T10:30:00",
          "2024-02-25T11:00:00",
          "2024-02-25T11:30:00",
          "2024-02-25T12:00:00",
          "2024-02-25T12:30:00",
          "2024-02-25T13:00:00",
          "2024-02-25T13:30:00",
          "2024-02-25T14:00:00",
          "2024-02-25T14:30:00",
          "2024-02-25T15:00:00",
          "2024-02-25T15:30:00",
          "2024-02-25T16:00:00",
          "2024-02-25T16:30:00",
          "2024-02-25T17:00:00",
          "2024-02-25T17:30:00",
          "2024-02-25T18:00:00",
          "2024-02-25T18:30:00",
          "2024-02-25T19:00:00",
          "2024-02-25T19:30:00",
          "2024-02-25T20:00:00",
          "2024-02-25T20:30:00",
          "2024-02-25T21:00:00",
          "2024-02-25T21:30:00",
          "2024-02-25T22:00:00",
          "2024-02-25T22:30:00",
          "2024-02-25T23:00:00",
          "2024-02-25T23:30:00",
          "2024-02-26T00:00:00",
          "2024-02-26T00:30:00",
          "2024-02-26T01:00:00",
          "2024-02-26T01:30:00",
          "2024-02-26T02:00:00",
          "2024-02-26T02:30:00",
          "2024-02-26T03:00:00",
          "2024-02-26T03:30:00",
          "2024-02-26T04:00:00",
          "2024-02-26T04:30:00",
          "2024-02-26T05:00:00",
          "2024-02-26T05:30:00",
          "2024-02-26T06:00:00",
          "2024-02-26T06:30:00",
          "2024-02-26T07:00:00",
          "2024-02-26T07:30:00",
          "2024-02-26T08:00:00",
          "2024-02-26T08:30:00",
          "2024-02-26T09:00:00",
          "2024-02-26T09:30:00",
          "2024-02-26T10:00:00",
          "2024-02-26T10:30:00",
          "2024-02-26T11:00:00",
          "2024-02-26T11:30:00",
          "2024-02-26T12:00:00",
          "2024-02-26T12:30:00",
          "2024-02-26T13:00:00",
          "2024-02-26T13:30:00",
          "2024-02-26T14:00:00",
          "2024-02-26T14:30:00",
          "2024-02-26T15:00:00",
          "2024-02-26T15:30:00",
          "2024-02-26T16:00:00",
          "2024-02-26T16:30:00",
          "2024-02-26T17:00:00",
          "2024-02-26T17:30:00",
          "2024-02-26T18:00:00",
          "2024-02-26T18:30:00",
          "2024-02-26T19:00:00",
          "2024-02-26T19:30:00",
          "2024-02-26T20:00:00",
          "2024-02-26T20:30:00",
          "2024-02-26T21:00:00",
          "2024-02-26T21:30:00",
          "2024-02-26T22:00:00",
          "2024-02-26T22:30:00",
          "2024-02-26T23:00:00",
          "2024-02-26T23:30:00",
          "2024-02-27T00:00:00",
          "2024-02-27T00:30:00",
          "2024-02-27T01:00:00",
          "2024-02-27T01:30:00",
          "2024-02-27T02:00:00",
          "2024-02-27T02:30:00",
          "2024-02-27T03:00:00",
          "2024-02-27T03:30:00",
          "2024-02-27T04:00:00",
          "2024-02-27T04:30:00",
          "2024-02-27T05:00:00",
          "2024-02-27T05:30:00",
          "2024-02-27T06:00:00",
          "2024-02-27T06:30:00",
          "2024-02-27T07:00:00",
          "2024-02-27T07:30:00",
          "2024-02-27T08:00:00",
          "2024-02-27T08:30:00",
          "2024-02-27T09:00:00",
          "2024-02-27T09:30:00",
          "2024-02-27T10:00:00",
          "2024-02-27T10:30:00",
          "2024-02-27T11:00:00"
         ],
         "y": [
          0,
          -0.0018148148148147136,
          -0.002378389785797186,
          -0.003251522429321252,
          -0.006211936638016002,
          -0.009956284674593974,
          -0.01612685610297193,
          -0.021754775528590287,
          -0.02547745000132773,
          -0.02708663997283045,
          -0.028178322828305458,
          -0.02891193962016425,
          -0.026744124404439074,
          -0.02340473499719664,
          -0.021399176515771057,
          -0.019284859454645087,
          -0.016989769341743788,
          -0.016713105927457228,
          -0.01676457355526706,
          -0.01477909008924616,
          -0.01457075871171698,
          -0.016415276763946718,
          -0.02020610684174562,
          -0.023065519502793563,
          -0.02530220441383868,
          -0.027663684564499746,
          -0.02933819255075054,
          -0.03149242880720626,
          -0.03266178850890533,
          -0.031390924588482694,
          -0.02734519445608896,
          -0.02398349484289053,
          -0.020797166144881807,
          -0.018263180228835996,
          -0.01519224334043745,
          -0.01187521593966423,
          -0.009220847281626199,
          -0.007235563036364745,
          -0.004819906570289412,
          -0.0032712309165803255,
          -0.002200089240123937,
          -0.0030309601290525734,
          -0.005103226949391804,
          -0.0072469889659037,
          -0.00922290520145097,
          -0.009569017292532678,
          -0.009571594944604911,
          -0.009464536467514773,
          -0.011147444652501726,
          -0.011760578476608163,
          -0.012047101233652935,
          -0.012991845829814608,
          -0.015338960874331065,
          -0.016604205300954078,
          -0.017226784777072623,
          -0.01777750334352346,
          -0.017487866854634326,
          -0.015825184513144297,
          -0.011510260348008838,
          -0.004807567508111177,
          0.0020741156856334264,
          0.00899766672705038,
          0.015575974047510321,
          0.020991160990349478,
          0.026470396788979667,
          0.032854750798858134,
          0.035747281709175294,
          0.029908127502624282,
          0.02333718756868608,
          0.018421639898863695,
          0.016055650813973088,
          0.014477674741036228,
          0.010184643062911114,
          0.008998539690444396,
          0.01745958645343526,
          0.028197334356593995,
          0.038522380897740405,
          0.052734056895530124,
          0.06522201892347868,
          0.07665592627958118,
          0.0845211707747664,
          0.09303073645304849,
          0.10067178379126762,
          0.10646836750307775,
          0.10744325938551569,
          0.10321340818930036,
          0.09806508137529235,
          0.09502790132015537,
          0.09212380980892032,
          0.08865907931084305,
          0.08788575394271003,
          0.08757462148684869,
          0.08310208612699288,
          0.07563953464987527,
          0.069229962584898,
          0.06349904472675583,
          0.05868423392933053,
          0.05242836525409089,
          0.04565321611817286,
          0.03930626775107715,
          0.03292838777399609,
          0.027895252318744568,
          0.02349441682168063,
          0.01890123326333626,
          0.015486046905506257,
          0.01225493455215787,
          0.010142183454211029,
          0.009328578651498276,
          0.008185970003771637,
          0.006000895194256728,
          0.0022461967515399195,
          -0.0027951903104357356,
          -0.005456730711579816,
          -0.007519684237130342,
          -0.009409238318548674,
          -0.009845108458479856,
          -0.011450475565736973,
          -0.013076327566400536,
          -0.013862093919438934
         ]
        },
        {
         "line": {
          "color": "red"
         },
         "mode": "lines",
         "name": "Signal Line",
         "type": "scatter",
         "x": [
          "2024-02-25T00:00:00",
          "2024-02-25T00:30:00",
          "2024-02-25T01:00:00",
          "2024-02-25T01:30:00",
          "2024-02-25T02:00:00",
          "2024-02-25T02:30:00",
          "2024-02-25T03:00:00",
          "2024-02-25T03:30:00",
          "2024-02-25T04:00:00",
          "2024-02-25T04:30:00",
          "2024-02-25T05:00:00",
          "2024-02-25T05:30:00",
          "2024-02-25T06:00:00",
          "2024-02-25T06:30:00",
          "2024-02-25T07:00:00",
          "2024-02-25T07:30:00",
          "2024-02-25T08:00:00",
          "2024-02-25T08:30:00",
          "2024-02-25T09:00:00",
          "2024-02-25T09:30:00",
          "2024-02-25T10:00:00",
          "2024-02-25T10:30:00",
          "2024-02-25T11:00:00",
          "2024-02-25T11:30:00",
          "2024-02-25T12:00:00",
          "2024-02-25T12:30:00",
          "2024-02-25T13:00:00",
          "2024-02-25T13:30:00",
          "2024-02-25T14:00:00",
          "2024-02-25T14:30:00",
          "2024-02-25T15:00:00",
          "2024-02-25T15:30:00",
          "2024-02-25T16:00:00",
          "2024-02-25T16:30:00",
          "2024-02-25T17:00:00",
          "2024-02-25T17:30:00",
          "2024-02-25T18:00:00",
          "2024-02-25T18:30:00",
          "2024-02-25T19:00:00",
          "2024-02-25T19:30:00",
          "2024-02-25T20:00:00",
          "2024-02-25T20:30:00",
          "2024-02-25T21:00:00",
          "2024-02-25T21:30:00",
          "2024-02-25T22:00:00",
          "2024-02-25T22:30:00",
          "2024-02-25T23:00:00",
          "2024-02-25T23:30:00",
          "2024-02-26T00:00:00",
          "2024-02-26T00:30:00",
          "2024-02-26T01:00:00",
          "2024-02-26T01:30:00",
          "2024-02-26T02:00:00",
          "2024-02-26T02:30:00",
          "2024-02-26T03:00:00",
          "2024-02-26T03:30:00",
          "2024-02-26T04:00:00",
          "2024-02-26T04:30:00",
          "2024-02-26T05:00:00",
          "2024-02-26T05:30:00",
          "2024-02-26T06:00:00",
          "2024-02-26T06:30:00",
          "2024-02-26T07:00:00",
          "2024-02-26T07:30:00",
          "2024-02-26T08:00:00",
          "2024-02-26T08:30:00",
          "2024-02-26T09:00:00",
          "2024-02-26T09:30:00",
          "2024-02-26T10:00:00",
          "2024-02-26T10:30:00",
          "2024-02-26T11:00:00",
          "2024-02-26T11:30:00",
          "2024-02-26T12:00:00",
          "2024-02-26T12:30:00",
          "2024-02-26T13:00:00",
          "2024-02-26T13:30:00",
          "2024-02-26T14:00:00",
          "2024-02-26T14:30:00",
          "2024-02-26T15:00:00",
          "2024-02-26T15:30:00",
          "2024-02-26T16:00:00",
          "2024-02-26T16:30:00",
          "2024-02-26T17:00:00",
          "2024-02-26T17:30:00",
          "2024-02-26T18:00:00",
          "2024-02-26T18:30:00",
          "2024-02-26T19:00:00",
          "2024-02-26T19:30:00",
          "2024-02-26T20:00:00",
          "2024-02-26T20:30:00",
          "2024-02-26T21:00:00",
          "2024-02-26T21:30:00",
          "2024-02-26T22:00:00",
          "2024-02-26T22:30:00",
          "2024-02-26T23:00:00",
          "2024-02-26T23:30:00",
          "2024-02-27T00:00:00",
          "2024-02-27T00:30:00",
          "2024-02-27T01:00:00",
          "2024-02-27T01:30:00",
          "2024-02-27T02:00:00",
          "2024-02-27T02:30:00",
          "2024-02-27T03:00:00",
          "2024-02-27T03:30:00",
          "2024-02-27T04:00:00",
          "2024-02-27T04:30:00",
          "2024-02-27T05:00:00",
          "2024-02-27T05:30:00",
          "2024-02-27T06:00:00",
          "2024-02-27T06:30:00",
          "2024-02-27T07:00:00",
          "2024-02-27T07:30:00",
          "2024-02-27T08:00:00",
          "2024-02-27T08:30:00",
          "2024-02-27T09:00:00",
          "2024-02-27T09:30:00",
          "2024-02-27T10:00:00",
          "2024-02-27T10:30:00",
          "2024-02-27T11:00:00"
         ],
         "y": [
          0,
          -0.00036296296296294277,
          -0.0007660483275297913,
          -0.0012631431478880835,
          -0.0022529018459136675,
          -0.003793578411649729,
          -0.00626023394991417,
          -0.009359142265649394,
          -0.012582803812785062,
          -0.01548357104479414,
          -0.018022521401496405,
          -0.020200405045229977,
          -0.0215091489170718,
          -0.02188826613309677,
          -0.02179044820963163,
          -0.021289330458634324,
          -0.020429418235256215,
          -0.01968615577369642,
          -0.01910183933001055,
          -0.018237289481857672,
          -0.017503983327829535,
          -0.017286242015052973,
          -0.017870214980391503,
          -0.018909275884871915,
          -0.020187861590665268,
          -0.021683026185432164,
          -0.02321405945849584,
          -0.024869733328237928,
          -0.02642814436437141,
          -0.027420700409193668,
          -0.02740559921857273,
          -0.026721178343436288,
          -0.025536375903725393,
          -0.024081736768747516,
          -0.022303838083085507,
          -0.02021811365440125,
          -0.018018660379846244,
          -0.015862040911149945,
          -0.01365361404297784,
          -0.011577137417698337,
          -0.009701727782183457,
          -0.008367574251557281,
          -0.007714704791124186,
          -0.00762116162608009,
          -0.007941510341154267,
          -0.008267011731429949,
          -0.008527928374064943,
          -0.008715249992754909,
          -0.009201688924704273,
          -0.00971346683508505,
          -0.010180193714798627,
          -0.010742524137801824,
          -0.011661811485107672,
          -0.012650290248276954,
          -0.013565589154036089,
          -0.014407971991933563,
          -0.015023950964473717,
          -0.015184197674207835,
          -0.014449410208968037,
          -0.012521041668796666,
          -0.009602010197910649,
          -0.005882074812918444,
          -0.0015904650408326906,
          0.0029258601654037434,
          0.007634767490118929,
          0.012678764151866771,
          0.017292467663328474,
          0.019815599631187637,
          0.020519917218687327,
          0.0201002617547226,
          0.0192913395665727,
          0.018328606601465406,
          0.016699813893754547,
          0.015159559053092516,
          0.015619564533161066,
          0.01813511849784765,
          0.022212570977826203,
          0.02831686816136699,
          0.035697898313789334,
          0.04388950390694771,
          0.05201583728051144,
          0.060218817115018856,
          0.06830941045026862,
          0.07594120186083045,
          0.08224161336576749,
          0.08643597233047406,
          0.08876179413943773,
          0.09001501557558125,
          0.09043677442224907,
          0.09008123539996787,
          0.08964213910851632,
          0.0892286355841828,
          0.08800332569274481,
          0.0855305674841709,
          0.08227044650431632,
          0.07851616614880423,
          0.07454977970490949,
          0.07012549681474578,
          0.0652310406754312,
          0.06004608609056039,
          0.05462254642724754,
          0.04927708760554695,
          0.044120553448773685,
          0.039076689411686204,
          0.03435856091045022,
          0.02993783563879175,
          0.025978705201875608,
          0.022648679891800142,
          0.019756137914194442,
          0.0170050893702069,
          0.014053310846473505,
          0.010683610615091658,
          0.0074555423497573645,
          0.0044604970323798235,
          0.0016865499621941244,
          -0.0006197817219406718,
          -0.002785920490699932,
          -0.004844001905840053,
          -0.006647620308559829
         ]
        }
       ],
       "layout": {
        "legend": {
         "title": {
          "text": "Indicator"
         }
        },
        "template": {
         "data": {
          "bar": [
           {
            "error_x": {
             "color": "#2a3f5f"
            },
            "error_y": {
             "color": "#2a3f5f"
            },
            "marker": {
             "line": {
              "color": "#E5ECF6",
              "width": 0.5
             },
             "pattern": {
              "fillmode": "overlay",
              "size": 10,
              "solidity": 0.2
             }
            },
            "type": "bar"
           }
          ],
          "barpolar": [
           {
            "marker": {
             "line": {
              "color": "#E5ECF6",
              "width": 0.5
             },
             "pattern": {
              "fillmode": "overlay",
              "size": 10,
              "solidity": 0.2
             }
            },
            "type": "barpolar"
           }
          ],
          "carpet": [
           {
            "aaxis": {
             "endlinecolor": "#2a3f5f",
             "gridcolor": "white",
             "linecolor": "white",
             "minorgridcolor": "white",
             "startlinecolor": "#2a3f5f"
            },
            "baxis": {
             "endlinecolor": "#2a3f5f",
             "gridcolor": "white",
             "linecolor": "white",
             "minorgridcolor": "white",
             "startlinecolor": "#2a3f5f"
            },
            "type": "carpet"
           }
          ],
          "choropleth": [
           {
            "colorbar": {
             "outlinewidth": 0,
             "ticks": ""
            },
            "type": "choropleth"
           }
          ],
          "contour": [
           {
            "colorbar": {
             "outlinewidth": 0,
             "ticks": ""
            },
            "colorscale": [
             [
              0,
              "#0d0887"
             ],
             [
              0.1111111111111111,
              "#46039f"
             ],
             [
              0.2222222222222222,
              "#7201a8"
             ],
             [
              0.3333333333333333,
              "#9c179e"
             ],
             [
              0.4444444444444444,
              "#bd3786"
             ],
             [
              0.5555555555555556,
              "#d8576b"
             ],
             [
              0.6666666666666666,
              "#ed7953"
             ],
             [
              0.7777777777777778,
              "#fb9f3a"
             ],
             [
              0.8888888888888888,
              "#fdca26"
             ],
             [
              1,
              "#f0f921"
             ]
            ],
            "type": "contour"
           }
          ],
          "contourcarpet": [
           {
            "colorbar": {
             "outlinewidth": 0,
             "ticks": ""
            },
            "type": "contourcarpet"
           }
          ],
          "heatmap": [
           {
            "colorbar": {
             "outlinewidth": 0,
             "ticks": ""
            },
            "colorscale": [
             [
              0,
              "#0d0887"
             ],
             [
              0.1111111111111111,
              "#46039f"
             ],
             [
              0.2222222222222222,
              "#7201a8"
             ],
             [
              0.3333333333333333,
              "#9c179e"
             ],
             [
              0.4444444444444444,
              "#bd3786"
             ],
             [
              0.5555555555555556,
              "#d8576b"
             ],
             [
              0.6666666666666666,
              "#ed7953"
             ],
             [
              0.7777777777777778,
              "#fb9f3a"
             ],
             [
              0.8888888888888888,
              "#fdca26"
             ],
             [
              1,
              "#f0f921"
             ]
            ],
            "type": "heatmap"
           }
          ],
          "heatmapgl": [
           {
            "colorbar": {
             "outlinewidth": 0,
             "ticks": ""
            },
            "colorscale": [
             [
              0,
              "#0d0887"
             ],
             [
              0.1111111111111111,
              "#46039f"
             ],
             [
              0.2222222222222222,
              "#7201a8"
             ],
             [
              0.3333333333333333,
              "#9c179e"
             ],
             [
              0.4444444444444444,
              "#bd3786"
             ],
             [
              0.5555555555555556,
              "#d8576b"
             ],
             [
              0.6666666666666666,
              "#ed7953"
             ],
             [
              0.7777777777777778,
              "#fb9f3a"
             ],
             [
              0.8888888888888888,
              "#fdca26"
             ],
             [
              1,
              "#f0f921"
             ]
            ],
            "type": "heatmapgl"
           }
          ],
          "histogram": [
           {
            "marker": {
             "pattern": {
              "fillmode": "overlay",
              "size": 10,
              "solidity": 0.2
             }
            },
            "type": "histogram"
           }
          ],
          "histogram2d": [
           {
            "colorbar": {
             "outlinewidth": 0,
             "ticks": ""
            },
            "colorscale": [
             [
              0,
              "#0d0887"
             ],
             [
              0.1111111111111111,
              "#46039f"
             ],
             [
              0.2222222222222222,
              "#7201a8"
             ],
             [
              0.3333333333333333,
              "#9c179e"
             ],
             [
              0.4444444444444444,
              "#bd3786"
             ],
             [
              0.5555555555555556,
              "#d8576b"
             ],
             [
              0.6666666666666666,
              "#ed7953"
             ],
             [
              0.7777777777777778,
              "#fb9f3a"
             ],
             [
              0.8888888888888888,
              "#fdca26"
             ],
             [
              1,
              "#f0f921"
             ]
            ],
            "type": "histogram2d"
           }
          ],
          "histogram2dcontour": [
           {
            "colorbar": {
             "outlinewidth": 0,
             "ticks": ""
            },
            "colorscale": [
             [
              0,
              "#0d0887"
             ],
             [
              0.1111111111111111,
              "#46039f"
             ],
             [
              0.2222222222222222,
              "#7201a8"
             ],
             [
              0.3333333333333333,
              "#9c179e"
             ],
             [
              0.4444444444444444,
              "#bd3786"
             ],
             [
              0.5555555555555556,
              "#d8576b"
             ],
             [
              0.6666666666666666,
              "#ed7953"
             ],
             [
              0.7777777777777778,
              "#fb9f3a"
             ],
             [
              0.8888888888888888,
              "#fdca26"
             ],
             [
              1,
              "#f0f921"
             ]
            ],
            "type": "histogram2dcontour"
           }
          ],
          "mesh3d": [
           {
            "colorbar": {
             "outlinewidth": 0,
             "ticks": ""
            },
            "type": "mesh3d"
           }
          ],
          "parcoords": [
           {
            "line": {
             "colorbar": {
              "outlinewidth": 0,
              "ticks": ""
             }
            },
            "type": "parcoords"
           }
          ],
          "pie": [
           {
            "automargin": true,
            "type": "pie"
           }
          ],
          "scatter": [
           {
            "fillpattern": {
             "fillmode": "overlay",
             "size": 10,
             "solidity": 0.2
            },
            "type": "scatter"
           }
          ],
          "scatter3d": [
           {
            "line": {
             "colorbar": {
              "outlinewidth": 0,
              "ticks": ""
             }
            },
            "marker": {
             "colorbar": {
              "outlinewidth": 0,
              "ticks": ""
             }
            },
            "type": "scatter3d"
           }
          ],
          "scattercarpet": [
           {
            "marker": {
             "colorbar": {
              "outlinewidth": 0,
              "ticks": ""
             }
            },
            "type": "scattercarpet"
           }
          ],
          "scattergeo": [
           {
            "marker": {
             "colorbar": {
              "outlinewidth": 0,
              "ticks": ""
             }
            },
            "type": "scattergeo"
           }
          ],
          "scattergl": [
           {
            "marker": {
             "colorbar": {
              "outlinewidth": 0,
              "ticks": ""
             }
            },
            "type": "scattergl"
           }
          ],
          "scattermapbox": [
           {
            "marker": {
             "colorbar": {
              "outlinewidth": 0,
              "ticks": ""
             }
            },
            "type": "scattermapbox"
           }
          ],
          "scatterpolar": [
           {
            "marker": {
             "colorbar": {
              "outlinewidth": 0,
              "ticks": ""
             }
            },
            "type": "scatterpolar"
           }
          ],
          "scatterpolargl": [
           {
            "marker": {
             "colorbar": {
              "outlinewidth": 0,
              "ticks": ""
             }
            },
            "type": "scatterpolargl"
           }
          ],
          "scatterternary": [
           {
            "marker": {
             "colorbar": {
              "outlinewidth": 0,
              "ticks": ""
             }
            },
            "type": "scatterternary"
           }
          ],
          "surface": [
           {
            "colorbar": {
             "outlinewidth": 0,
             "ticks": ""
            },
            "colorscale": [
             [
              0,
              "#0d0887"
             ],
             [
              0.1111111111111111,
              "#46039f"
             ],
             [
              0.2222222222222222,
              "#7201a8"
             ],
             [
              0.3333333333333333,
              "#9c179e"
             ],
             [
              0.4444444444444444,
              "#bd3786"
             ],
             [
              0.5555555555555556,
              "#d8576b"
             ],
             [
              0.6666666666666666,
              "#ed7953"
             ],
             [
              0.7777777777777778,
              "#fb9f3a"
             ],
             [
              0.8888888888888888,
              "#fdca26"
             ],
             [
              1,
              "#f0f921"
             ]
            ],
            "type": "surface"
           }
          ],
          "table": [
           {
            "cells": {
             "fill": {
              "color": "#EBF0F8"
             },
             "line": {
              "color": "white"
             }
            },
            "header": {
             "fill": {
              "color": "#C8D4E3"
             },
             "line": {
              "color": "white"
             }
            },
            "type": "table"
           }
          ]
         },
         "layout": {
          "annotationdefaults": {
           "arrowcolor": "#2a3f5f",
           "arrowhead": 0,
           "arrowwidth": 1
          },
          "autotypenumbers": "strict",
          "coloraxis": {
           "colorbar": {
            "outlinewidth": 0,
            "ticks": ""
           }
          },
          "colorscale": {
           "diverging": [
            [
             0,
             "#8e0152"
            ],
            [
             0.1,
             "#c51b7d"
            ],
            [
             0.2,
             "#de77ae"
            ],
            [
             0.3,
             "#f1b6da"
            ],
            [
             0.4,
             "#fde0ef"
            ],
            [
             0.5,
             "#f7f7f7"
            ],
            [
             0.6,
             "#e6f5d0"
            ],
            [
             0.7,
             "#b8e186"
            ],
            [
             0.8,
             "#7fbc41"
            ],
            [
             0.9,
             "#4d9221"
            ],
            [
             1,
             "#276419"
            ]
           ],
           "sequential": [
            [
             0,
             "#0d0887"
            ],
            [
             0.1111111111111111,
             "#46039f"
            ],
            [
             0.2222222222222222,
             "#7201a8"
            ],
            [
             0.3333333333333333,
             "#9c179e"
            ],
            [
             0.4444444444444444,
             "#bd3786"
            ],
            [
             0.5555555555555556,
             "#d8576b"
            ],
            [
             0.6666666666666666,
             "#ed7953"
            ],
            [
             0.7777777777777778,
             "#fb9f3a"
            ],
            [
             0.8888888888888888,
             "#fdca26"
            ],
            [
             1,
             "#f0f921"
            ]
           ],
           "sequentialminus": [
            [
             0,
             "#0d0887"
            ],
            [
             0.1111111111111111,
             "#46039f"
            ],
            [
             0.2222222222222222,
             "#7201a8"
            ],
            [
             0.3333333333333333,
             "#9c179e"
            ],
            [
             0.4444444444444444,
             "#bd3786"
            ],
            [
             0.5555555555555556,
             "#d8576b"
            ],
            [
             0.6666666666666666,
             "#ed7953"
            ],
            [
             0.7777777777777778,
             "#fb9f3a"
            ],
            [
             0.8888888888888888,
             "#fdca26"
            ],
            [
             1,
             "#f0f921"
            ]
           ]
          },
          "colorway": [
           "#636efa",
           "#EF553B",
           "#00cc96",
           "#ab63fa",
           "#FFA15A",
           "#19d3f3",
           "#FF6692",
           "#B6E880",
           "#FF97FF",
           "#FECB52"
          ],
          "font": {
           "color": "#2a3f5f"
          },
          "geo": {
           "bgcolor": "white",
           "lakecolor": "white",
           "landcolor": "#E5ECF6",
           "showlakes": true,
           "showland": true,
           "subunitcolor": "white"
          },
          "hoverlabel": {
           "align": "left"
          },
          "hovermode": "closest",
          "mapbox": {
           "style": "light"
          },
          "paper_bgcolor": "white",
          "plot_bgcolor": "#E5ECF6",
          "polar": {
           "angularaxis": {
            "gridcolor": "white",
            "linecolor": "white",
            "ticks": ""
           },
           "bgcolor": "#E5ECF6",
           "radialaxis": {
            "gridcolor": "white",
            "linecolor": "white",
            "ticks": ""
           }
          },
          "scene": {
           "xaxis": {
            "backgroundcolor": "#E5ECF6",
            "gridcolor": "white",
            "gridwidth": 2,
            "linecolor": "white",
            "showbackground": true,
            "ticks": "",
            "zerolinecolor": "white"
           },
           "yaxis": {
            "backgroundcolor": "#E5ECF6",
            "gridcolor": "white",
            "gridwidth": 2,
            "linecolor": "white",
            "showbackground": true,
            "ticks": "",
            "zerolinecolor": "white"
           },
           "zaxis": {
            "backgroundcolor": "#E5ECF6",
            "gridcolor": "white",
            "gridwidth": 2,
            "linecolor": "white",
            "showbackground": true,
            "ticks": "",
            "zerolinecolor": "white"
           }
          },
          "shapedefaults": {
           "line": {
            "color": "#2a3f5f"
           }
          },
          "ternary": {
           "aaxis": {
            "gridcolor": "white",
            "linecolor": "white",
            "ticks": ""
           },
           "baxis": {
            "gridcolor": "white",
            "linecolor": "white",
            "ticks": ""
           },
           "bgcolor": "#E5ECF6",
           "caxis": {
            "gridcolor": "white",
            "linecolor": "white",
            "ticks": ""
           }
          },
          "title": {
           "x": 0.05
          },
          "xaxis": {
           "automargin": true,
           "gridcolor": "white",
           "linecolor": "white",
           "ticks": "",
           "title": {
            "standoff": 15
           },
           "zerolinecolor": "white",
           "zerolinewidth": 2
          },
          "yaxis": {
           "automargin": true,
           "gridcolor": "white",
           "linecolor": "white",
           "ticks": "",
           "title": {
            "standoff": 15
           },
           "zerolinecolor": "white",
           "zerolinewidth": 2
          }
         }
        },
        "title": {
         "text": "MACD on Heikin-Ashi Closing Prices"
        },
        "xaxis": {
         "rangeslider": {
          "visible": true
         },
         "title": {
          "text": "Date"
         }
        },
        "yaxis": {
         "title": {
          "text": "MACD Value"
         }
        }
       }
      }
     },
     "metadata": {},
     "output_type": "display_data"
    }
   ],
   "source": [
    "import MetaTrader5 as mt5\n",
    "from datetime import datetime, timedelta\n",
    "import ta\n",
    "import schedule\n",
    "import time\n",
    "\n",
    "def schedule_detectSignal(timeframe):\n",
    "    symbol = 'NEARUSDT'\n",
    "    from_date = (datetime.now() - timedelta(days=2)).strftime('%Y-%m-%d')  # Lấy ngày hôm qua\n",
    "    to_date = (datetime.now() + timedelta(days=1)).strftime('%Y-%m-%d')\n",
    "    detectSignal(symbol, from_date, to_date, timeframe)\n",
    "\n",
    "# Danh sách các phút cụ thể bạn muốn hàm được chạy\n",
    "run_minutes = list(range(3,60,30))\n",
    "while True:\n",
    "    timeframe = '30m'\n",
    "    current_time = datetime.now()\n",
    "    current_minute = current_time.minute\n",
    "    # Kiểm tra xem phút hiện tại có nằm trong danh sách các phút cần chạy hàm không\n",
    "    if current_minute in run_minutes:\n",
    "        # Kiểm tra xem đã chạy hàm trong phút hiện tại hay chưa\n",
    "        last_run = getattr(schedule_detectSignal, 'last_run', None)\n",
    "        if last_run is None or last_run != current_minute:\n",
    "            schedule_detectSignal(timeframe)\n",
    "            # Lưu lại phút cuối cùng mà hàm đã chạy\n",
    "            setattr(schedule_detectSignal, 'last_run', current_minute)\n",
    "\n",
    "    # Nghỉ 1 giây trước khi kiểm tra lại\n",
    "    time.sleep(1)"
   ]
  }
 ],
 "metadata": {
  "kernelspec": {
   "display_name": "Python 3",
   "language": "python",
   "name": "python3"
  },
  "language_info": {
   "codemirror_mode": {
    "name": "ipython",
    "version": 3
   },
   "file_extension": ".py",
   "mimetype": "text/x-python",
   "name": "python",
   "nbconvert_exporter": "python",
   "pygments_lexer": "ipython3",
   "version": "3.11.6"
  }
 },
 "nbformat": 4,
 "nbformat_minor": 2
}
