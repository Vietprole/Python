{
 "cells": [
  {
   "cell_type": "code",
   "execution_count": 8,
   "metadata": {},
   "outputs": [],
   "source": [
    "from datetime import datetime, timedelta\n",
    "import CommonBinance\n",
    "\n",
    "symbolSpot = 'ETHUSDT'\n",
    "from_date = (datetime.now() - timedelta(days=2)).strftime('%Y-%m-%d')  # Lấy ngày hôm qua\n",
    "to_date = (datetime.now() + timedelta(days=1)).strftime('%Y-%m-%d')\n",
    "timeframe = '15m' # 1m\n",
    "    \n",
    "dataSpot = CommonBinance.CommonBinance.loaddataBinance_FromTo(symbolSpot, from_date, to_date, timeframe)"
   ]
  },
  {
   "cell_type": "code",
   "execution_count": 9,
   "metadata": {},
   "outputs": [],
   "source": [
    "symbolFuture = 'ETHUSDT'\n",
    "from_date = (datetime.now() - timedelta(days=2)).strftime('%Y-%m-%d')  # Lấy ngày hôm qua\n",
    "to_date = (datetime.now() + timedelta(days=1)).strftime('%Y-%m-%d')\n",
    "timeframe = '15m' # 1m\n",
    "    \n",
    "dataFuture = CommonBinance.CommonBinance.loaddataBinance_FromTo(symbolFuture, from_date, to_date, timeframe)"
   ]
  },
  {
   "cell_type": "code",
   "execution_count": 10,
   "metadata": {},
   "outputs": [],
   "source": [
    "dataSpot.to_csv('dataSpot.csv')\n",
    "dataFuture.to_csv('dataFuture.csv')"
   ]
  }
 ],
 "metadata": {
  "kernelspec": {
   "display_name": "Python 3",
   "language": "python",
   "name": "python3"
  },
  "language_info": {
   "codemirror_mode": {
    "name": "ipython",
    "version": 3
   },
   "file_extension": ".py",
   "mimetype": "text/x-python",
   "name": "python",
   "nbconvert_exporter": "python",
   "pygments_lexer": "ipython3",
   "version": "3.11.6"
  }
 },
 "nbformat": 4,
 "nbformat_minor": 2
}
