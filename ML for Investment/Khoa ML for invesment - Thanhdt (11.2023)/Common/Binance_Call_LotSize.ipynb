{
 "cells": [
  {
   "cell_type": "code",
   "execution_count": 24,
   "metadata": {},
   "outputs": [
    {
     "name": "stdout",
     "output_type": "stream",
     "text": [
      "Min Qty: 0.0001, Max Qty: 9000.0, Step Size: 0.0001\n"
     ]
    }
   ],
   "source": [
    "from binance.client import Client\n",
    "\n",
    "# Khai báo thông tin API key và API secret của bạn\n",
    "api_key = 'kMYSAWRigplgKRg16aZONgTs5lRXroWbd33hblLAXDmpT1ddXLXLJJZnbVbE03GY' # Future\n",
    "api_secret = 'PjsgJVWq5Qy5XHORgXSpzIwQFLxeK15Ja9auiw5TiYCs0vskG93uXO3F3bXxJz18' # Future\n",
    "\n",
    "# Khởi tạo client của Binance\n",
    "# client = Client(api_key, api_secret)\n",
    "# client = Client(api_key, api_secret, tld='com', defaultType='future')\n",
    "client = Client(api_key, api_secret, tld='com')\n",
    "\n",
    "\n",
    "# Đặt symbol cho cặp tiền bạn muốn kiểm tra\n",
    "symbol = 'ETHUSDT'\n",
    "\n",
    "# Lấy thông tin về các hạn chế của cặp tiền từ API\n",
    "info = client.get_symbol_info(symbol)\n",
    "\n",
    "# Tìm thông số LOT_SIZE trong thông tin về cặp tiền\n",
    "lot_size = [filter for filter in info['filters'] if filter['filterType'] == 'LOT_SIZE'][0]\n",
    "min_qty = float(lot_size['minQty'])  # Số lượng tối thiểu bạn có thể mua/bán\n",
    "max_qty = float(lot_size['maxQty'])  # Số lượng tối đa bạn có thể mua/bán\n",
    "step_size = float(lot_size['stepSize'])  # Bước số lượng nhỏ nhất mà bạn có thể tăng/giảm khi mua/bán\n",
    "\n",
    "print(f\"Min Qty: {min_qty}, Max Qty: {max_qty}, Step Size: {step_size}\")\n"
   ]
  }
 ],
 "metadata": {
  "kernelspec": {
   "display_name": "Python 3",
   "language": "python",
   "name": "python3"
  },
  "language_info": {
   "codemirror_mode": {
    "name": "ipython",
    "version": 3
   },
   "file_extension": ".py",
   "mimetype": "text/x-python",
   "name": "python",
   "nbconvert_exporter": "python",
   "pygments_lexer": "ipython3",
   "version": "3.11.6"
  }
 },
 "nbformat": 4,
 "nbformat_minor": 2
}
