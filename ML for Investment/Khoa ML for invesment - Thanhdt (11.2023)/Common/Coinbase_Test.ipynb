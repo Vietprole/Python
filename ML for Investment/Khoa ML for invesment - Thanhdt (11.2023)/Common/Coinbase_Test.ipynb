{
 "cells": [
  {
   "cell_type": "code",
   "execution_count": 1,
   "metadata": {},
   "outputs": [
    {
     "ename": "AuthenticationError",
     "evalue": "coinbasepro sign() invalid base64 secret",
     "output_type": "error",
     "traceback": [
      "\u001b[1;31m---------------------------------------------------------------------------\u001b[0m",
      "\u001b[1;31mError\u001b[0m                                     Traceback (most recent call last)",
      "File \u001b[1;32mc:\\Users\\PC-DELL-CU\\AppData\\Local\\Programs\\Python\\Python311\\Lib\\site-packages\\ccxt\\coinbasepro.py:1697\u001b[0m, in \u001b[0;36mcoinbasepro.sign\u001b[1;34m(self, path, api, method, params, headers, body)\u001b[0m\n\u001b[0;32m   1696\u001b[0m \u001b[38;5;28;01mtry\u001b[39;00m:\n\u001b[1;32m-> 1697\u001b[0m     secret \u001b[38;5;241m=\u001b[39m \u001b[38;5;28;43mself\u001b[39;49m\u001b[38;5;241;43m.\u001b[39;49m\u001b[43mbase64_to_binary\u001b[49m\u001b[43m(\u001b[49m\u001b[38;5;28;43mself\u001b[39;49m\u001b[38;5;241;43m.\u001b[39;49m\u001b[43msecret\u001b[49m\u001b[43m)\u001b[49m\n\u001b[0;32m   1698\u001b[0m \u001b[38;5;28;01mexcept\u001b[39;00m \u001b[38;5;167;01mException\u001b[39;00m \u001b[38;5;28;01mas\u001b[39;00m e:\n",
      "File \u001b[1;32mc:\\Users\\PC-DELL-CU\\AppData\\Local\\Programs\\Python\\Python311\\Lib\\site-packages\\ccxt\\base\\exchange.py:1291\u001b[0m, in \u001b[0;36mExchange.base64_to_binary\u001b[1;34m(s)\u001b[0m\n\u001b[0;32m   1289\u001b[0m \u001b[38;5;129m@staticmethod\u001b[39m\n\u001b[0;32m   1290\u001b[0m \u001b[38;5;28;01mdef\u001b[39;00m \u001b[38;5;21mbase64_to_binary\u001b[39m(s):\n\u001b[1;32m-> 1291\u001b[0m     \u001b[38;5;28;01mreturn\u001b[39;00m \u001b[43mbase64\u001b[49m\u001b[38;5;241;43m.\u001b[39;49m\u001b[43mstandard_b64decode\u001b[49m\u001b[43m(\u001b[49m\u001b[43ms\u001b[49m\u001b[43m)\u001b[49m\n",
      "File \u001b[1;32mc:\\Users\\PC-DELL-CU\\AppData\\Local\\Programs\\Python\\Python311\\Lib\\base64.py:106\u001b[0m, in \u001b[0;36mstandard_b64decode\u001b[1;34m(s)\u001b[0m\n\u001b[0;32m     99\u001b[0m \u001b[38;5;250m\u001b[39m\u001b[38;5;124;03m\"\"\"Decode bytes encoded with the standard Base64 alphabet.\u001b[39;00m\n\u001b[0;32m    100\u001b[0m \n\u001b[0;32m    101\u001b[0m \u001b[38;5;124;03mArgument s is a bytes-like object or ASCII string to decode.  The result\u001b[39;00m\n\u001b[1;32m   (...)\u001b[0m\n\u001b[0;32m    104\u001b[0m \u001b[38;5;124;03mare discarded prior to the padding check.\u001b[39;00m\n\u001b[0;32m    105\u001b[0m \u001b[38;5;124;03m\"\"\"\u001b[39;00m\n\u001b[1;32m--> 106\u001b[0m \u001b[38;5;28;01mreturn\u001b[39;00m \u001b[43mb64decode\u001b[49m\u001b[43m(\u001b[49m\u001b[43ms\u001b[49m\u001b[43m)\u001b[49m\n",
      "File \u001b[1;32mc:\\Users\\PC-DELL-CU\\AppData\\Local\\Programs\\Python\\Python311\\Lib\\base64.py:88\u001b[0m, in \u001b[0;36mb64decode\u001b[1;34m(s, altchars, validate)\u001b[0m\n\u001b[0;32m     87\u001b[0m     s \u001b[38;5;241m=\u001b[39m s\u001b[38;5;241m.\u001b[39mtranslate(\u001b[38;5;28mbytes\u001b[39m\u001b[38;5;241m.\u001b[39mmaketrans(altchars, \u001b[38;5;124mb\u001b[39m\u001b[38;5;124m'\u001b[39m\u001b[38;5;124m+/\u001b[39m\u001b[38;5;124m'\u001b[39m))\n\u001b[1;32m---> 88\u001b[0m \u001b[38;5;28;01mreturn\u001b[39;00m \u001b[43mbinascii\u001b[49m\u001b[38;5;241;43m.\u001b[39;49m\u001b[43ma2b_base64\u001b[49m\u001b[43m(\u001b[49m\u001b[43ms\u001b[49m\u001b[43m,\u001b[49m\u001b[43m \u001b[49m\u001b[43mstrict_mode\u001b[49m\u001b[38;5;241;43m=\u001b[39;49m\u001b[43mvalidate\u001b[49m\u001b[43m)\u001b[49m\n",
      "\u001b[1;31mError\u001b[0m: Invalid base64-encoded string: number of data characters (21) cannot be 1 more than a multiple of 4",
      "\nDuring handling of the above exception, another exception occurred:\n",
      "\u001b[1;31mAuthenticationError\u001b[0m                       Traceback (most recent call last)",
      "Cell \u001b[1;32mIn[1], line 18\u001b[0m\n\u001b[0;32m     10\u001b[0m exchange \u001b[38;5;241m=\u001b[39m ccxt\u001b[38;5;241m.\u001b[39mcoinbasepro({\n\u001b[0;32m     11\u001b[0m     \u001b[38;5;124m'\u001b[39m\u001b[38;5;124mapiKey\u001b[39m\u001b[38;5;124m'\u001b[39m: api_key,\n\u001b[0;32m     12\u001b[0m     \u001b[38;5;124m'\u001b[39m\u001b[38;5;124msecret\u001b[39m\u001b[38;5;124m'\u001b[39m: secret,\n\u001b[0;32m     13\u001b[0m     \u001b[38;5;124m'\u001b[39m\u001b[38;5;124mpassword\u001b[39m\u001b[38;5;124m'\u001b[39m: passphrase,\n\u001b[0;32m     14\u001b[0m     \u001b[38;5;124m'\u001b[39m\u001b[38;5;124menableRateLimit\u001b[39m\u001b[38;5;124m'\u001b[39m: \u001b[38;5;28;01mTrue\u001b[39;00m,  \u001b[38;5;66;03m# Kích hoạt giới hạn tốc độ để tuân thủ API rate limit\u001b[39;00m\n\u001b[0;32m     15\u001b[0m })\n\u001b[0;32m     17\u001b[0m \u001b[38;5;66;03m# Lấy thông tin balance\u001b[39;00m\n\u001b[1;32m---> 18\u001b[0m balance \u001b[38;5;241m=\u001b[39m \u001b[43mexchange\u001b[49m\u001b[38;5;241;43m.\u001b[39;49m\u001b[43mfetch_balance\u001b[49m\u001b[43m(\u001b[49m\u001b[43m)\u001b[49m\n\u001b[0;32m     19\u001b[0m pprint\u001b[38;5;241m.\u001b[39mpprint(balance)\n\u001b[0;32m     21\u001b[0m \u001b[38;5;66;03m# Tạo một lệnh mua theo giá limit\u001b[39;00m\n",
      "File \u001b[1;32mc:\\Users\\PC-DELL-CU\\AppData\\Local\\Programs\\Python\\Python311\\Lib\\site-packages\\ccxt\\coinbasepro.py:497\u001b[0m, in \u001b[0;36mcoinbasepro.fetch_balance\u001b[1;34m(self, params)\u001b[0m\n\u001b[0;32m    490\u001b[0m \u001b[38;5;250m\u001b[39m\u001b[38;5;124;03m\"\"\"\u001b[39;00m\n\u001b[0;32m    491\u001b[0m \u001b[38;5;124;03mquery for balance and get the amount of funds available for trading or funds locked in orders\u001b[39;00m\n\u001b[0;32m    492\u001b[0m \u001b[38;5;124;03m:see: https://docs.cloud.coinbase.com/exchange/reference/exchangerestapi_getaccounts\u001b[39;00m\n\u001b[0;32m    493\u001b[0m \u001b[38;5;124;03m:param dict [params]: extra parameters specific to the exchange API endpoint\u001b[39;00m\n\u001b[0;32m    494\u001b[0m \u001b[38;5;124;03m:returns dict: a `balance structure <https://docs.ccxt.com/#/?id=balance-structure>`\u001b[39;00m\n\u001b[0;32m    495\u001b[0m \u001b[38;5;124;03m\"\"\"\u001b[39;00m\n\u001b[0;32m    496\u001b[0m \u001b[38;5;28mself\u001b[39m\u001b[38;5;241m.\u001b[39mload_markets()\n\u001b[1;32m--> 497\u001b[0m response \u001b[38;5;241m=\u001b[39m \u001b[38;5;28;43mself\u001b[39;49m\u001b[38;5;241;43m.\u001b[39;49m\u001b[43mprivateGetAccounts\u001b[49m\u001b[43m(\u001b[49m\u001b[43mparams\u001b[49m\u001b[43m)\u001b[49m\n\u001b[0;32m    498\u001b[0m \u001b[38;5;28;01mreturn\u001b[39;00m \u001b[38;5;28mself\u001b[39m\u001b[38;5;241m.\u001b[39mparse_balance(response)\n",
      "File \u001b[1;32mc:\\Users\\PC-DELL-CU\\AppData\\Local\\Programs\\Python\\Python311\\Lib\\site-packages\\ccxt\\base\\types.py:34\u001b[0m, in \u001b[0;36mEntry.__init__.<locals>.unbound_method\u001b[1;34m(_self, params)\u001b[0m\n\u001b[0;32m     33\u001b[0m \u001b[38;5;28;01mdef\u001b[39;00m \u001b[38;5;21munbound_method\u001b[39m(_self, params\u001b[38;5;241m=\u001b[39m{}):\n\u001b[1;32m---> 34\u001b[0m     \u001b[38;5;28;01mreturn\u001b[39;00m \u001b[43m_self\u001b[49m\u001b[38;5;241;43m.\u001b[39;49m\u001b[43mrequest\u001b[49m\u001b[43m(\u001b[49m\u001b[38;5;28;43mself\u001b[39;49m\u001b[38;5;241;43m.\u001b[39;49m\u001b[43mpath\u001b[49m\u001b[43m,\u001b[49m\u001b[43m \u001b[49m\u001b[38;5;28;43mself\u001b[39;49m\u001b[38;5;241;43m.\u001b[39;49m\u001b[43mapi\u001b[49m\u001b[43m,\u001b[49m\u001b[43m \u001b[49m\u001b[38;5;28;43mself\u001b[39;49m\u001b[38;5;241;43m.\u001b[39;49m\u001b[43mmethod\u001b[49m\u001b[43m,\u001b[49m\u001b[43m \u001b[49m\u001b[43mparams\u001b[49m\u001b[43m,\u001b[49m\u001b[43m \u001b[49m\u001b[43mconfig\u001b[49m\u001b[38;5;241;43m=\u001b[39;49m\u001b[38;5;28;43mself\u001b[39;49m\u001b[38;5;241;43m.\u001b[39;49m\u001b[43mconfig\u001b[49m\u001b[43m)\u001b[49m\n",
      "File \u001b[1;32mc:\\Users\\PC-DELL-CU\\AppData\\Local\\Programs\\Python\\Python311\\Lib\\site-packages\\ccxt\\coinbasepro.py:1722\u001b[0m, in \u001b[0;36mcoinbasepro.request\u001b[1;34m(self, path, api, method, params, headers, body, config)\u001b[0m\n\u001b[0;32m   1721\u001b[0m \u001b[38;5;28;01mdef\u001b[39;00m \u001b[38;5;21mrequest\u001b[39m(\u001b[38;5;28mself\u001b[39m, path, api\u001b[38;5;241m=\u001b[39m\u001b[38;5;124m'\u001b[39m\u001b[38;5;124mpublic\u001b[39m\u001b[38;5;124m'\u001b[39m, method\u001b[38;5;241m=\u001b[39m\u001b[38;5;124m'\u001b[39m\u001b[38;5;124mGET\u001b[39m\u001b[38;5;124m'\u001b[39m, params\u001b[38;5;241m=\u001b[39m{}, headers\u001b[38;5;241m=\u001b[39m\u001b[38;5;28;01mNone\u001b[39;00m, body\u001b[38;5;241m=\u001b[39m\u001b[38;5;28;01mNone\u001b[39;00m, config\u001b[38;5;241m=\u001b[39m{}):\n\u001b[1;32m-> 1722\u001b[0m     response \u001b[38;5;241m=\u001b[39m \u001b[38;5;28;43mself\u001b[39;49m\u001b[38;5;241;43m.\u001b[39;49m\u001b[43mfetch2\u001b[49m\u001b[43m(\u001b[49m\u001b[43mpath\u001b[49m\u001b[43m,\u001b[49m\u001b[43m \u001b[49m\u001b[43mapi\u001b[49m\u001b[43m,\u001b[49m\u001b[43m \u001b[49m\u001b[43mmethod\u001b[49m\u001b[43m,\u001b[49m\u001b[43m \u001b[49m\u001b[43mparams\u001b[49m\u001b[43m,\u001b[49m\u001b[43m \u001b[49m\u001b[43mheaders\u001b[49m\u001b[43m,\u001b[49m\u001b[43m \u001b[49m\u001b[43mbody\u001b[49m\u001b[43m,\u001b[49m\u001b[43m \u001b[49m\u001b[43mconfig\u001b[49m\u001b[43m)\u001b[49m\n\u001b[0;32m   1723\u001b[0m     \u001b[38;5;28;01mif\u001b[39;00m \u001b[38;5;129;01mnot\u001b[39;00m \u001b[38;5;28misinstance\u001b[39m(response, \u001b[38;5;28mstr\u001b[39m):\n\u001b[0;32m   1724\u001b[0m         \u001b[38;5;28;01mif\u001b[39;00m \u001b[38;5;124m'\u001b[39m\u001b[38;5;124mmessage\u001b[39m\u001b[38;5;124m'\u001b[39m \u001b[38;5;129;01min\u001b[39;00m response:\n",
      "File \u001b[1;32mc:\\Users\\PC-DELL-CU\\AppData\\Local\\Programs\\Python\\Python311\\Lib\\site-packages\\ccxt\\base\\exchange.py:3329\u001b[0m, in \u001b[0;36mExchange.fetch2\u001b[1;34m(self, path, api, method, params, headers, body, config)\u001b[0m\n\u001b[0;32m   3327\u001b[0m     \u001b[38;5;28mself\u001b[39m\u001b[38;5;241m.\u001b[39mthrottle(cost)\n\u001b[0;32m   3328\u001b[0m \u001b[38;5;28mself\u001b[39m\u001b[38;5;241m.\u001b[39mlastRestRequestTimestamp \u001b[38;5;241m=\u001b[39m \u001b[38;5;28mself\u001b[39m\u001b[38;5;241m.\u001b[39mmilliseconds()\n\u001b[1;32m-> 3329\u001b[0m request \u001b[38;5;241m=\u001b[39m \u001b[38;5;28;43mself\u001b[39;49m\u001b[38;5;241;43m.\u001b[39;49m\u001b[43msign\u001b[49m\u001b[43m(\u001b[49m\u001b[43mpath\u001b[49m\u001b[43m,\u001b[49m\u001b[43m \u001b[49m\u001b[43mapi\u001b[49m\u001b[43m,\u001b[49m\u001b[43m \u001b[49m\u001b[43mmethod\u001b[49m\u001b[43m,\u001b[49m\u001b[43m \u001b[49m\u001b[43mparams\u001b[49m\u001b[43m,\u001b[49m\u001b[43m \u001b[49m\u001b[43mheaders\u001b[49m\u001b[43m,\u001b[49m\u001b[43m \u001b[49m\u001b[43mbody\u001b[49m\u001b[43m)\u001b[49m\n\u001b[0;32m   3330\u001b[0m \u001b[38;5;28mself\u001b[39m\u001b[38;5;241m.\u001b[39mlast_request_headers \u001b[38;5;241m=\u001b[39m request[\u001b[38;5;124m'\u001b[39m\u001b[38;5;124mheaders\u001b[39m\u001b[38;5;124m'\u001b[39m]\n\u001b[0;32m   3331\u001b[0m \u001b[38;5;28mself\u001b[39m\u001b[38;5;241m.\u001b[39mlast_request_body \u001b[38;5;241m=\u001b[39m request[\u001b[38;5;124m'\u001b[39m\u001b[38;5;124mbody\u001b[39m\u001b[38;5;124m'\u001b[39m]\n",
      "File \u001b[1;32mc:\\Users\\PC-DELL-CU\\AppData\\Local\\Programs\\Python\\Python311\\Lib\\site-packages\\ccxt\\coinbasepro.py:1699\u001b[0m, in \u001b[0;36mcoinbasepro.sign\u001b[1;34m(self, path, api, method, params, headers, body)\u001b[0m\n\u001b[0;32m   1697\u001b[0m     secret \u001b[38;5;241m=\u001b[39m \u001b[38;5;28mself\u001b[39m\u001b[38;5;241m.\u001b[39mbase64_to_binary(\u001b[38;5;28mself\u001b[39m\u001b[38;5;241m.\u001b[39msecret)\n\u001b[0;32m   1698\u001b[0m \u001b[38;5;28;01mexcept\u001b[39;00m \u001b[38;5;167;01mException\u001b[39;00m \u001b[38;5;28;01mas\u001b[39;00m e:\n\u001b[1;32m-> 1699\u001b[0m     \u001b[38;5;28;01mraise\u001b[39;00m AuthenticationError(\u001b[38;5;28mself\u001b[39m\u001b[38;5;241m.\u001b[39mid \u001b[38;5;241m+\u001b[39m \u001b[38;5;124m'\u001b[39m\u001b[38;5;124m sign() invalid base64 secret\u001b[39m\u001b[38;5;124m'\u001b[39m)\n\u001b[0;32m   1700\u001b[0m signature \u001b[38;5;241m=\u001b[39m \u001b[38;5;28mself\u001b[39m\u001b[38;5;241m.\u001b[39mhmac(\u001b[38;5;28mself\u001b[39m\u001b[38;5;241m.\u001b[39mencode(what), secret, hashlib\u001b[38;5;241m.\u001b[39msha256, \u001b[38;5;124m'\u001b[39m\u001b[38;5;124mbase64\u001b[39m\u001b[38;5;124m'\u001b[39m)\n\u001b[0;32m   1701\u001b[0m headers \u001b[38;5;241m=\u001b[39m {\n\u001b[0;32m   1702\u001b[0m     \u001b[38;5;124m'\u001b[39m\u001b[38;5;124mCB-ACCESS-KEY\u001b[39m\u001b[38;5;124m'\u001b[39m: \u001b[38;5;28mself\u001b[39m\u001b[38;5;241m.\u001b[39mapiKey,\n\u001b[0;32m   1703\u001b[0m     \u001b[38;5;124m'\u001b[39m\u001b[38;5;124mCB-ACCESS-SIGN\u001b[39m\u001b[38;5;124m'\u001b[39m: signature,\n\u001b[1;32m   (...)\u001b[0m\n\u001b[0;32m   1706\u001b[0m     \u001b[38;5;124m'\u001b[39m\u001b[38;5;124mContent-Type\u001b[39m\u001b[38;5;124m'\u001b[39m: \u001b[38;5;124m'\u001b[39m\u001b[38;5;124mapplication/json\u001b[39m\u001b[38;5;124m'\u001b[39m,\n\u001b[0;32m   1707\u001b[0m }\n",
      "\u001b[1;31mAuthenticationError\u001b[0m: coinbasepro sign() invalid base64 secret"
     ]
    }
   ],
   "source": [
    "import ccxt\n",
    "import pprint  # Dùng để in đẹp các đối tượng Python\n",
    "\n",
    "# Khai báo API key và secret\n",
    "api_key = 'YOUR_COINBASE_PRO_API_KEY'\n",
    "secret = 'YOUR_COINBASE_PRO_SECRET'\n",
    "passphrase = 'YOUR_COINBASE_PRO_PASSPHRASE'\n",
    "\n",
    "# Khởi tạo instance của sàn Coinbase Pro\n",
    "exchange = ccxt.coinbasepro({\n",
    "    'apiKey': api_key,\n",
    "    'secret': secret,\n",
    "    'password': passphrase,\n",
    "    'enableRateLimit': True,  # Kích hoạt giới hạn tốc độ để tuân thủ API rate limit\n",
    "})\n",
    "\n",
    "# Lấy thông tin balance\n",
    "balance = exchange.fetch_balance()\n",
    "pprint.pprint(balance)\n",
    "\n",
    "# Tạo một lệnh mua theo giá limit\n",
    "order = exchange.create_order(\n",
    "    symbol='BTC/USD',  # Cặp tiền tệ bạn muốn giao dịch\n",
    "    type='limit',  # Loại lệnh, có thể là 'market' hoặc 'limit'\n",
    "    side='buy',  # 'buy' nếu bạn muốn mua, 'sell' nếu bạn muốn bán\n",
    "    amount=0.001,  # Số lượng BTC bạn muốn mua/bán\n",
    "    price=10000,  # Giá mỗi BTC mà bạn muốn mua/bán\n",
    ")\n",
    "print(order)\n",
    "\n",
    "# Tạo một lệnh mua theo giá thị trường\n",
    "order = exchange.create_order(\n",
    "    symbol='BTC/USD',  # Cặp tiền tệ bạn muốn giao dịch\n",
    "    type='market',  # Sử dụng loại lệnh 'market' để mua/bán theo giá thị trường\n",
    "    side='buy',  # 'buy' nếu bạn muốn mua, 'sell' nếu bạn muốn bán\n",
    "    amount=0.001  # Số lượng BTC bạn muốn mua/bán\n",
    ")\n",
    "print(order)"
   ]
  }
 ],
 "metadata": {
  "kernelspec": {
   "display_name": "Python 3",
   "language": "python",
   "name": "python3"
  },
  "language_info": {
   "codemirror_mode": {
    "name": "ipython",
    "version": 3
   },
   "file_extension": ".py",
   "mimetype": "text/x-python",
   "name": "python",
   "nbconvert_exporter": "python",
   "pygments_lexer": "ipython3",
   "version": "3.11.6"
  }
 },
 "nbformat": 4,
 "nbformat_minor": 2
}
