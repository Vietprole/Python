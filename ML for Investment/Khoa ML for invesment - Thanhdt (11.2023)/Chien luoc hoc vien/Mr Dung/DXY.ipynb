{
 "cells": [
  {
   "cell_type": "markdown",
   "metadata": {},
   "source": [
    "# Lay tu YFinance"
   ]
  },
  {
   "cell_type": "code",
   "execution_count": 1,
   "metadata": {},
   "outputs": [
    {
     "name": "stdout",
     "output_type": "stream",
     "text": [
      "Giá đóng cửa mới nhất của DX là: 103.83499908447266\n"
     ]
    }
   ],
   "source": [
    "import yfinance as yf\n",
    "\n",
    "# Tên symbol cho US Dollar Index trên Yahoo Finance\n",
    "symbol = 'DX=F'\n",
    "\n",
    "# Tạo đối tượng Ticker\n",
    "dollar_index = yf.Ticker(symbol)\n",
    "\n",
    "# Lấy dữ liệu lịch sử\n",
    "# Bạn có thể điều chỉnh khoảng thời gian bằng cách thay đổi 'period' hoặc 'start' và 'end'\n",
    "data = dollar_index.history(period=\"1d\")\n",
    "\n",
    "# Lấy giá đóng cửa mới nhất\n",
    "latest_price = data['Close'].iloc[-1]\n",
    "print(f'Giá đóng cửa mới nhất của DX là: {latest_price}')\n"
   ]
  },
  {
   "cell_type": "markdown",
   "metadata": {},
   "source": [
    "# MT5"
   ]
  },
  {
   "cell_type": "code",
   "execution_count": 3,
   "metadata": {},
   "outputs": [
    {
     "name": "stdout",
     "output_type": "stream",
     "text": [
      "Thông tin của DXY: SymbolInfo(custom=False, chart_mode=0, select=False, visible=False, session_deals=0, session_buy_orders=0, session_sell_orders=0, volume=0, volumehigh=0, volumelow=0, time=0, digits=3, spread=0, spread_float=True, ticks_bookdepth=0, trade_calc_mode=4, trade_mode=4, start_time=0, expiration_time=0, trade_stops_level=0, trade_freeze_level=0, trade_exemode=1, swap_mode=1, swap_rollover3days=3, margin_hedged_use_leg=False, expiration_mode=15, filling_mode=1, order_mode=127, order_gtc_mode=0, option_mode=0, option_right=0, bid=0.0, bidhigh=0.0, bidlow=0.0, ask=0.0, askhigh=0.0, asklow=0.0, last=0.0, lasthigh=0.0, lastlow=0.0, volume_real=0.0, volumehigh_real=0.0, volumelow_real=0.0, option_strike=0.0, point=0.001, trade_tick_value=0.0, trade_tick_value_profit=0.0, trade_tick_value_loss=0.0, trade_tick_size=0.001, trade_contract_size=1000.0, trade_accrued_interest=0.0, trade_face_value=0.0, trade_liquidity_rate=0.0, volume_min=0.01, volume_max=200.0, volume_step=0.01, volume_limit=0.0, swap_long=0.0, swap_short=-3.04, margin_initial=0.0, margin_maintenance=0.0, session_volume=0.0, session_turnover=0.0, session_interest=0.0, session_buy_orders_volume=0.0, session_sell_orders_volume=0.0, session_open=0.0, session_close=0.0, session_aw=0.0, session_price_settlement=0.0, session_price_limit_min=0.0, session_price_limit_max=0.0, margin_hedged=0.0, price_change=0.0, price_volatility=0.0, price_theoretical=0.0, price_greeks_delta=0.0, price_greeks_theta=0.0, price_greeks_gamma=0.0, price_greeks_vega=0.0, price_greeks_rho=0.0, price_greeks_omega=0.0, price_sensitivity=0.0, basis='', category='Indices', currency_base='USD', currency_profit='USD', currency_margin='USD', bank='', description='US Dollar Index', exchange='', formula='', isin='', name='DXY', page='', path='Forex\\\\DXY')\n",
      "Giá đóng cửa mới nhất của DXY là: 103.955\n"
     ]
    }
   ],
   "source": [
    "import MetaTrader5 as mt5\n",
    "\n",
    "# Kết nối tới MetaTrader 5\n",
    "if not mt5.initialize():\n",
    "    print(\"Khởi tạo MT5 không thành công\")\n",
    "    mt5.shutdown()\n",
    "\n",
    "# Định nghĩa tên symbol cho US Dollar Index trong MT5 của bạn\n",
    "symbol = 'DXY'\n",
    "\n",
    "# Lấy thông tin về symbol\n",
    "symbol_info = mt5.symbol_info(symbol)\n",
    "\n",
    "if symbol_info is None:\n",
    "    print(f\"{symbol} không tìm thấy, có thể bạn cần kiểm tra lại tên symbol trong MT5.\")\n",
    "else:\n",
    "    print(f\"Thông tin của {symbol}:\", symbol_info)\n",
    "\n",
    "# Lấy dữ liệu lịch sử\n",
    "rates = mt5.copy_rates_from_pos(symbol, mt5.TIMEFRAME_D1, 0, 1)\n",
    "\n",
    "# Đóng kết nối với MT5\n",
    "mt5.shutdown()\n",
    "\n",
    "# In ra dữ liệu mới nhất\n",
    "if rates:\n",
    "    latest_rate = rates[0]\n",
    "    print(f\"Giá đóng cửa mới nhất của {symbol} là: {latest_rate['close']}\")\n",
    "else:\n",
    "    print(f\"Không thể lấy dữ liệu cho {symbol}.\")\n"
   ]
  }
 ],
 "metadata": {
  "kernelspec": {
   "display_name": "Python 3",
   "language": "python",
   "name": "python3"
  },
  "language_info": {
   "codemirror_mode": {
    "name": "ipython",
    "version": 3
   },
   "file_extension": ".py",
   "mimetype": "text/x-python",
   "name": "python",
   "nbconvert_exporter": "python",
   "pygments_lexer": "ipython3",
   "version": "3.11.6"
  }
 },
 "nbformat": 4,
 "nbformat_minor": 2
}
