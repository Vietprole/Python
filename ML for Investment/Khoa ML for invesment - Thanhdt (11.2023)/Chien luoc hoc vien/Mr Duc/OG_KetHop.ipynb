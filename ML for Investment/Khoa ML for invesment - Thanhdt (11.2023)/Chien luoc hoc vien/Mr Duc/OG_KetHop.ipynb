{
 "cells": [
  {
   "cell_type": "code",
   "execution_count": 1,
   "metadata": {
    "vscode": {
     "languageId": "powershell"
    }
   },
   "outputs": [],
   "source": [
    "import sys\n",
    "sys.path.append('../../Common/')\n",
    "\n",
    "import CommonMT5"
   ]
  },
  {
   "cell_type": "markdown",
   "metadata": {},
   "source": [
    "# Chien luoc\n",
    "Chiến lược em dự kiến xây dựng sẽ là sự kết hợp của nhiều chỉ báo và thuật toán.\n",
    "Ví dụ: khi giá chọc thủng bollinger band trên —> 1 điểm trend\n",
    "Khi giá tăng 3 nến xanh liên tiếp —> 1 điểm trend\n",
    "Khi william rsi vượt 70 —> 1 điểm trend\n",
    "\n",
    "Theo hướng ngược lại sẽ là -1 điểm\n",
    "\n",
    "Tổng điểm trend vượt 0 thì sẽ Buy\n",
    "<= 0 thì sẽ Sell đóng lệnh Long\n",
    "Ngược lại, điểm trend giảm dưới 0 sẽ short, và >= 0 thì Cover đóng Short"
   ]
  },
  {
   "cell_type": "code",
   "execution_count": 2,
   "metadata": {
    "vscode": {
     "languageId": "powershell"
    }
   },
   "outputs": [],
   "source": [
    "def calculate_bollinger_bands(data, window=20, nb_dev=2):\n",
    "    \"\"\"Tính Bollinger Bands mà không cần ta-lib.\"\"\"\n",
    "    middle_band = data['Close'].rolling(window=window).mean()\n",
    "    std_dev = data['Close'].rolling(window=window).std()\n",
    "    upper_band = middle_band + (std_dev * nb_dev)\n",
    "    lower_band = middle_band - (std_dev * nb_dev)\n",
    "    return upper_band, middle_band, lower_band\n",
    "\n",
    "def calculate_williams_r(data, period=14):\n",
    "    \"\"\"Tính Williams %R mà không cần ta-lib.\"\"\"\n",
    "    high = data['High'].rolling(window=period).max()\n",
    "    low = data['Low'].rolling(window=period).min()\n",
    "    will_r = -100 * ((high - data['Close']) / (high - low))\n",
    "    return will_r\n",
    "\n",
    "def calculate_trend(data):\n",
    "    # Tính Bollinger Bands\n",
    "    upperband, middleband, lowerband = calculate_bollinger_bands(data)\n",
    "    \n",
    "    # Tính William RSI\n",
    "    will_r = calculate_williams_r(data)\n",
    "    \n",
    "    # Điểm trend\n",
    "    data['trend_point'] = 0\n",
    "    \n",
    "    # Điểm cho Bollinger Bands\n",
    "    data.loc[data['Close'] > upperband, 'trend_point'] += 1\n",
    "    data.loc[data['Close'] < lowerband, 'trend_point'] -= 1\n",
    "    \n",
    "    # Điểm cho 3 nến xanh liên tiếp\n",
    "    green_candle = data['Close'] > data['Open']\n",
    "    data['trend_point'] += ((green_candle & green_candle.shift(1) & green_candle.shift(2)).astype(int))\n",
    "    \n",
    "    # Điểm cho William RSI\n",
    "    data.loc[will_r > -20, 'trend_point'] += 1  # William RSI trả về giá trị âm, -20 tương đương với 80 trên thang điểm thông thường\n",
    "    data.loc[will_r < -80, 'trend_point'] -= 1\n",
    "    \n",
    "    # Áp dụng hàm tín hiệu mua và bán\n",
    "    data['Buy_Signal'] = data.apply(lambda row: buy_signal(row), axis=1)\n",
    "    data['Sell_Signal'] = data.apply(lambda row: sell_signal(row), axis=1)\n",
    "\n",
    "    return data\n",
    "\n",
    "def buy_signal(row):\n",
    "    \"\"\"Định nghĩa tín hiệu mua.\"\"\"\n",
    "    return row['trend_point'] > 0\n",
    "    # return True\n",
    "\n",
    "def sell_signal(row):\n",
    "    \"\"\"Định nghĩa tín hiệu bán.\"\"\"\n",
    "    return row['trend_point'] < 0\n",
    "    # return True\n",
    "\n",
    "def detectSignal(symbol, from_date, to_date, timeframe):\n",
    "\n",
    "    import pandas as pd\n",
    "    import plotly.graph_objects as go\n",
    "    import redis\n",
    "    import numpy as np\n",
    "    import ta\n",
    "    from datetime import datetime\n",
    "\n",
    "    # ##############################################Step 1: Lấy dữ liệu##############################################\n",
    "    data = CommonMT5.CommonMT5.loaddataMT5_FromTo(symbol, from_date, to_date, timeframe)\n",
    "    \n",
    "    # ##############################################Step 2: Chiến lược##############################################  \n",
    "    # Tính toán các chỉ báo kỹ thuật\n",
    "    \n",
    "    data = calculate_trend(data)\n",
    "\n",
    "    # Áp dụng hàm tín hiệu mua và bán\n",
    "    data['Buy_Signal'] = data.apply(lambda row: buy_signal(row), axis=1)\n",
    "    data['Sell_Signal'] = data.apply(lambda row: sell_signal(row), axis=1)\n",
    "    \n",
    "    # ##############################################Step 3: Đẩy dữ liệu qua Redis##############################################\n",
    "    # Nếu có tín hiệu thì đẩy qua Redis\n",
    "    # Datetime  Open    High    Low\tClose   Volume  SMA short_ema   long_ema    MACD    Signal_Line Buy_Signal  Sell_Signal\n",
    "    # Tạo kết nối Redis\n",
    "    r = redis.Redis(host='localhost', port=6379, db=0)\n",
    "    # Tạo hash key\n",
    "    hash_key = 'OG_KetHop'\n",
    "    last_record = data.iloc[-1]\n",
    "   \n",
    "    # Chuyển đổi record cuối cùng thành từ điển và lưu vào Redis dưới dạng hash\n",
    "    if(last_record['Buy_Signal'] == True or last_record['Sell_Signal'] == True):\n",
    "        for field, value in last_record.to_dict().items():\n",
    "            # Chuyển đổi giá trị uint64 và Timestamp thành chuỗi\n",
    "            if isinstance(value, pd.Timestamp):\n",
    "                value = value.isoformat()\n",
    "            elif isinstance(value, (int, np.uint64)):\n",
    "                value = str(value)\n",
    "            r.hset(hash_key, field, value)  \n",
    "            r.hset(hash_key, 'Symbol', symbol)\n",
    "            r.hset(hash_key, 'Insertdate', datetime.now().isoformat())\n",
    "        print(last_record)   \n",
    "    else:\n",
    "        print('Không có tín hiệu!')"
   ]
  },
  {
   "cell_type": "code",
   "execution_count": 3,
   "metadata": {
    "vscode": {
     "languageId": "powershell"
    }
   },
   "outputs": [
    {
     "name": "stdout",
     "output_type": "stream",
     "text": [
      "Datetime       2024-02-26 02:45:00\n",
      "Open                       1.08184\n",
      "High                       1.08194\n",
      "Low                        1.08178\n",
      "Close                      1.08179\n",
      "Volume                         158\n",
      "trend_point                     -1\n",
      "Buy_Signal                    True\n",
      "Sell_Signal                   True\n",
      "Name: 327, dtype: object\n"
     ]
    }
   ],
   "source": [
    "import MetaTrader5 as mt5\n",
    "from datetime import datetime, timedelta\n",
    "import ta\n",
    "import schedule\n",
    "import time\n",
    "\n",
    "def schedule_job():\n",
    "    symbol = 'EURUSD'\n",
    "    from_date = (datetime.now() - timedelta(days=5)).strftime('%Y-%m-%d')\n",
    "    to_date = (datetime.now() + timedelta(days=1)).strftime('%Y-%m-%d')\n",
    "    timeframe = mt5.TIMEFRAME_M15\n",
    "    detectSignal(symbol, from_date, to_date, timeframe)\n",
    "\n",
    "# Lên lịch chạy hàm tại các phút cụ thể trong mỗi giờ\n",
    "for hour in range(24):  # Loop from 0 to 23\n",
    "    for minute in [1, 16, 31, 49]:  # Các phút cụ thể\n",
    "        # Format the time string with leading zeros for hours and minutes\n",
    "        time_string = \"{:02d}:{:02d}\".format(hour, minute)\n",
    "        schedule.every().day.at(time_string).do(schedule_job)\n",
    "\n",
    "while True:\n",
    "    schedule.run_pending()\n",
    "    time.sleep(1)"
   ]
  }
 ],
 "metadata": {
  "kernelspec": {
   "display_name": "Python 3",
   "language": "python",
   "name": "python3"
  },
  "language_info": {
   "codemirror_mode": {
    "name": "ipython",
    "version": 3
   },
   "file_extension": ".py",
   "mimetype": "text/x-python",
   "name": "python",
   "nbconvert_exporter": "python",
   "pygments_lexer": "ipython3",
   "version": "3.11.6"
  }
 },
 "nbformat": 4,
 "nbformat_minor": 2
}
