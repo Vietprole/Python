{
 "cells": [
  {
   "cell_type": "markdown",
   "metadata": {},
   "source": [
    "# Khai bao thong tin API"
   ]
  },
  {
   "cell_type": "code",
   "execution_count": 56,
   "metadata": {},
   "outputs": [],
   "source": [
    "api_key = 'mx0vgl78P55Ecg5uRB'\n",
    "api_secret = '562ea8b71b6645d4b2457d80f348f95f'"
   ]
  },
  {
   "cell_type": "markdown",
   "metadata": {},
   "source": [
    "# Lay thong tin tai khoan MEXC"
   ]
  },
  {
   "cell_type": "code",
   "execution_count": 57,
   "metadata": {},
   "outputs": [
    {
     "name": "stdout",
     "output_type": "stream",
     "text": [
      "{'makerCommission': 0, 'takerCommission': 0, 'buyerCommission': 0, 'sellerCommission': 0, 'canTrade': True, 'canWithdraw': True, 'canDeposit': True, 'updateTime': '', 'accountType': 'SPOT', 'balances': [], 'permissions': ['SPOT']}\n"
     ]
    }
   ],
   "source": [
    "from mexc_sdk import Spot\n",
    "\n",
    "# Khởi tạo client với API key và API secret của bạn\n",
    "spot = Spot(api_key=api_key, api_secret=api_secret)\n",
    "\n",
    "# Lấy thông tin tài khoản\n",
    "account_info = spot.account_info()\n",
    "\n",
    "# In thông tin tài khoản\n",
    "print(account_info)\n"
   ]
  },
  {
   "cell_type": "markdown",
   "metadata": {},
   "source": [
    "# Server Time"
   ]
  },
  {
   "cell_type": "code",
   "execution_count": 58,
   "metadata": {},
   "outputs": [
    {
     "name": "stdout",
     "output_type": "stream",
     "text": [
      "1708608207979\n",
      "2024-02-22 20:23:27.979000\n"
     ]
    }
   ],
   "source": [
    "from mexc_sdk import Spot\n",
    "from datetime import datetime\n",
    "\n",
    "client = Spot()\n",
    "\n",
    "time = client.time()\n",
    "print(time[\"serverTime\"])\n",
    "\n",
    "# Lấy serverTime và chuyển đổi từ millisecond sang second\n",
    "server_time_in_seconds = time[\"serverTime\"] / 1000\n",
    "\n",
    "# Chuyển đổi sang đối tượng datetime\n",
    "server_datetime = datetime.fromtimestamp(server_time_in_seconds)\n",
    "\n",
    "print(server_datetime)"
   ]
  },
  {
   "cell_type": "markdown",
   "metadata": {},
   "source": [
    "# Exchang Info"
   ]
  },
  {
   "cell_type": "code",
   "execution_count": 59,
   "metadata": {},
   "outputs": [
    {
     "name": "stdout",
     "output_type": "stream",
     "text": [
      "{'timezone': 'CST', 'serverTime': 1708608249190, 'rateLimits': [], 'exchangeFilters': [], 'symbols': [{'symbol': 'BTCUSDT', 'status': 'ENABLED', 'baseAsset': 'BTC', 'baseAssetPrecision': 6, 'quoteAsset': 'USDT', 'quotePrecision': 2, 'quoteAssetPrecision': 2, 'baseCommissionPrecision': 6, 'quoteCommissionPrecision': 2, 'orderTypes': ['LIMIT', 'MARKET', 'LIMIT_MAKER'], 'isSpotTradingAllowed': False, 'isMarginTradingAllowed': False, 'quoteAmountPrecision': '5.000000000000000000', 'baseSizePrecision': '0.000001', 'permissions': ['SPOT'], 'filters': [], 'maxQuoteAmount': '2000000.000000000000000000', 'makerCommission': '0', 'takerCommission': '0', 'quoteAmountPrecisionMarket': '5.000000000000000000', 'maxQuoteAmountMarket': '100000.000000000000000000', 'fullName': 'Bitcoin'}]}\n"
     ]
    }
   ],
   "source": [
    "from mexc_sdk import Spot\n",
    "\n",
    "client = Spot()\n",
    "\n",
    "info = client.exchange_info(options={ \"symbol\": \"BTCUSDT\"})\n",
    "\n",
    "print(info)"
   ]
  },
  {
   "cell_type": "markdown",
   "metadata": {},
   "source": [
    "# Dat lenh"
   ]
  },
  {
   "cell_type": "code",
   "execution_count": 63,
   "metadata": {},
   "outputs": [
    {
     "name": "stdout",
     "output_type": "stream",
     "text": [
      "{}\n"
     ]
    }
   ],
   "source": [
    "from mexc_sdk import Spot\n",
    "\n",
    "spot = Spot(api_key=api_key, api_secret=api_secret)\n",
    "\n",
    "res = spot.new_order_test(symbol=\"BTCUSDT\", side=\"BUY\", order_type=\"LIMIT\", options={ \"quantity\": 5, \"price\": 100 })\n",
    "\n",
    "# if success to post test order to service\b, res will get {}.\n",
    "print(res)"
   ]
  },
  {
   "cell_type": "code",
   "execution_count": 67,
   "metadata": {},
   "outputs": [
    {
     "ename": "RuntimeError",
     "evalue": "Error: Server responded to https://api.mexc.com/api/v3/order?quantity=5&price=100&symbol=WBTCUSDC&side=BUY&type=LIMIT&timestamp=1708608605295&signature=090ab85ca34447b8e54c0b5b56d9064dd6b338c68bb0f0e3ac0aba78a6c95da3 with status code 400:\n{\"msg\":\"Insufficient position\",\"code\":30004}",
     "output_type": "error",
     "traceback": [
      "\u001b[1;31m---------------------------------------------------------------------------\u001b[0m",
      "\u001b[1;31mJavaScriptError\u001b[0m                           Traceback (most recent call last)",
      "\u001b[1;31mJavaScriptError\u001b[0m: \n  @jsii/kernel.RuntimeError: Error: Server responded to https://api.mexc.com/api/v3/order?quantity=5&price=100&symbol=WBTCUSDC&side=BUY&type=LIMIT&timestamp=1708608605295&signature=090ab85ca34447b8e54c0b5b56d9064dd6b338c68bb0f0e3ac0aba78a6c95da3 with status code 400:\n  {\"msg\":\"Insufficient position\",\"code\":30004}\n      at Kernel._Kernel_ensureSync (C:\\Users\\PC-DEL~1\\AppData\\Local\\Temp\\tmpybmwt7el\\lib\\program.js:10491:23)\n      at Kernel.invoke (C:\\Users\\PC-DEL~1\\AppData\\Local\\Temp\\tmpybmwt7el\\lib\\program.js:9855:102)\n      at KernelHost.processRequest (C:\\Users\\PC-DEL~1\\AppData\\Local\\Temp\\tmpybmwt7el\\lib\\program.js:11696:36)\n      at KernelHost.run (C:\\Users\\PC-DEL~1\\AppData\\Local\\Temp\\tmpybmwt7el\\lib\\program.js:11656:22)\n      at Immediate._onImmediate (C:\\Users\\PC-DEL~1\\AppData\\Local\\Temp\\tmpybmwt7el\\lib\\program.js:11657:46)\n      at process.processImmediate (node:internal/timers:478:21)",
      "\nThe above exception was the direct cause of the following exception:\n",
      "\u001b[1;31mRuntimeError\u001b[0m                              Traceback (most recent call last)",
      "Cell \u001b[1;32mIn[67], line 5\u001b[0m\n\u001b[0;32m      1\u001b[0m \u001b[38;5;28;01mfrom\u001b[39;00m \u001b[38;5;21;01mmexc_sdk\u001b[39;00m \u001b[38;5;28;01mimport\u001b[39;00m Spot\n\u001b[0;32m      3\u001b[0m spot \u001b[38;5;241m=\u001b[39m Spot(api_key\u001b[38;5;241m=\u001b[39mapi_key, api_secret\u001b[38;5;241m=\u001b[39mapi_secret)\n\u001b[1;32m----> 5\u001b[0m res \u001b[38;5;241m=\u001b[39m \u001b[43mspot\u001b[49m\u001b[38;5;241;43m.\u001b[39;49m\u001b[43mnew_order\u001b[49m\u001b[43m(\u001b[49m\u001b[43msymbol\u001b[49m\u001b[38;5;241;43m=\u001b[39;49m\u001b[38;5;124;43m\"\u001b[39;49m\u001b[38;5;124;43mWBTCUSDC\u001b[39;49m\u001b[38;5;124;43m\"\u001b[39;49m\u001b[43m,\u001b[49m\u001b[43m \u001b[49m\u001b[43mside\u001b[49m\u001b[38;5;241;43m=\u001b[39;49m\u001b[38;5;124;43m\"\u001b[39;49m\u001b[38;5;124;43mBUY\u001b[39;49m\u001b[38;5;124;43m\"\u001b[39;49m\u001b[43m,\u001b[49m\u001b[43m \u001b[49m\u001b[43morder_type\u001b[49m\u001b[38;5;241;43m=\u001b[39;49m\u001b[38;5;124;43m\"\u001b[39;49m\u001b[38;5;124;43mLIMIT\u001b[39;49m\u001b[38;5;124;43m\"\u001b[39;49m\u001b[43m,\u001b[49m\u001b[43m \u001b[49m\u001b[43moptions\u001b[49m\u001b[38;5;241;43m=\u001b[39;49m\u001b[43m{\u001b[49m\u001b[43m \u001b[49m\u001b[38;5;124;43m\"\u001b[39;49m\u001b[38;5;124;43mquantity\u001b[39;49m\u001b[38;5;124;43m\"\u001b[39;49m\u001b[43m:\u001b[49m\u001b[43m \u001b[49m\u001b[38;5;241;43m5\u001b[39;49m\u001b[43m,\u001b[49m\u001b[43m \u001b[49m\u001b[38;5;124;43m\"\u001b[39;49m\u001b[38;5;124;43mprice\u001b[39;49m\u001b[38;5;124;43m\"\u001b[39;49m\u001b[43m:\u001b[49m\u001b[43m \u001b[49m\u001b[38;5;241;43m100\u001b[39;49m\u001b[43m \u001b[49m\u001b[43m}\u001b[49m\u001b[43m)\u001b[49m\n\u001b[0;32m      7\u001b[0m \u001b[38;5;66;03m# if success to post test order to service\b, res will get {}.\u001b[39;00m\n\u001b[0;32m      8\u001b[0m \u001b[38;5;28mprint\u001b[39m(res)\n",
      "File \u001b[1;32mc:\\Users\\PC-DELL-CU\\AppData\\Local\\Programs\\Python\\Python311\\Lib\\site-packages\\mexc_sdk\\__init__.py:764\u001b[0m, in \u001b[0;36mTrade.new_order\u001b[1;34m(self, symbol, side, order_type, options)\u001b[0m\n\u001b[0;32m    749\u001b[0m \u001b[38;5;129m@jsii\u001b[39m\u001b[38;5;241m.\u001b[39mmember(jsii_name\u001b[38;5;241m=\u001b[39m\u001b[38;5;124m\"\u001b[39m\u001b[38;5;124mnewOrder\u001b[39m\u001b[38;5;124m\"\u001b[39m)\n\u001b[0;32m    750\u001b[0m \u001b[38;5;28;01mdef\u001b[39;00m \u001b[38;5;21mnew_order\u001b[39m(\n\u001b[0;32m    751\u001b[0m     \u001b[38;5;28mself\u001b[39m,\n\u001b[1;32m   (...)\u001b[0m\n\u001b[0;32m    755\u001b[0m     options: typing\u001b[38;5;241m.\u001b[39mAny \u001b[38;5;241m=\u001b[39m \u001b[38;5;28;01mNone\u001b[39;00m,\n\u001b[0;32m    756\u001b[0m ) \u001b[38;5;241m-\u001b[39m\u001b[38;5;241m>\u001b[39m typing\u001b[38;5;241m.\u001b[39mAny:\n\u001b[0;32m    757\u001b[0m \u001b[38;5;250m    \u001b[39m\u001b[38;5;124;03m'''New Order.\u001b[39;00m\n\u001b[0;32m    758\u001b[0m \n\u001b[0;32m    759\u001b[0m \u001b[38;5;124;03m    :param symbol: -\u001b[39;00m\n\u001b[1;32m   (...)\u001b[0m\n\u001b[0;32m    762\u001b[0m \u001b[38;5;124;03m    :param options: ``[options.timeInForce] [options.quantity] [options.quoteOrderQty] [options.price] [options.newClientOrderId] - A unique id among open orders. Automatically generated if not sent. [options.stopPrice] - Used with STOP_LOSS, STOP_LOSS_LIMIT, TAKE_PROFIT, and TAKE_PROFIT_LIMIT orders. [options.icebergQty] - Used with LIMIT, STOP_LOSS_LIMIT, and TAKE_PROFIT_LIMIT to create an iceberg order. [options.newOrderRespType] - Set the response JSON. ACK, RESULT, or FULL; MARKET and LIMIT order types default to FULL, all other orders default to ACK. [options.recvWindow] - The value cannot be greater than 60000``.\u001b[39;00m\n\u001b[0;32m    763\u001b[0m \u001b[38;5;124;03m    '''\u001b[39;00m\n\u001b[1;32m--> 764\u001b[0m     \u001b[38;5;28;01mreturn\u001b[39;00m typing\u001b[38;5;241m.\u001b[39mcast(typing\u001b[38;5;241m.\u001b[39mAny, \u001b[43mjsii\u001b[49m\u001b[38;5;241;43m.\u001b[39;49m\u001b[43minvoke\u001b[49m\u001b[43m(\u001b[49m\u001b[38;5;28;43mself\u001b[39;49m\u001b[43m,\u001b[49m\u001b[43m \u001b[49m\u001b[38;5;124;43m\"\u001b[39;49m\u001b[38;5;124;43mnewOrder\u001b[39;49m\u001b[38;5;124;43m\"\u001b[39;49m\u001b[43m,\u001b[49m\u001b[43m \u001b[49m\u001b[43m[\u001b[49m\u001b[43msymbol\u001b[49m\u001b[43m,\u001b[49m\u001b[43m \u001b[49m\u001b[43mside\u001b[49m\u001b[43m,\u001b[49m\u001b[43m \u001b[49m\u001b[43morder_type\u001b[49m\u001b[43m,\u001b[49m\u001b[43m \u001b[49m\u001b[43moptions\u001b[49m\u001b[43m]\u001b[49m\u001b[43m)\u001b[49m)\n",
      "File \u001b[1;32mc:\\Users\\PC-DELL-CU\\AppData\\Local\\Programs\\Python\\Python311\\Lib\\site-packages\\jsii\\_kernel\\__init__.py:149\u001b[0m, in \u001b[0;36m_dereferenced.<locals>.wrapped\u001b[1;34m(kernel, *args, **kwargs)\u001b[0m\n\u001b[0;32m    147\u001b[0m \u001b[38;5;129m@functools\u001b[39m\u001b[38;5;241m.\u001b[39mwraps(fn)\n\u001b[0;32m    148\u001b[0m \u001b[38;5;28;01mdef\u001b[39;00m \u001b[38;5;21mwrapped\u001b[39m(kernel: \u001b[38;5;124m\"\u001b[39m\u001b[38;5;124mKernel\u001b[39m\u001b[38;5;124m\"\u001b[39m, \u001b[38;5;241m*\u001b[39margs: Any, \u001b[38;5;241m*\u001b[39m\u001b[38;5;241m*\u001b[39mkwargs: Any):\n\u001b[1;32m--> 149\u001b[0m     \u001b[38;5;28;01mreturn\u001b[39;00m _recursize_dereference(kernel, \u001b[43mfn\u001b[49m\u001b[43m(\u001b[49m\u001b[43mkernel\u001b[49m\u001b[43m,\u001b[49m\u001b[43m \u001b[49m\u001b[38;5;241;43m*\u001b[39;49m\u001b[43margs\u001b[49m\u001b[43m,\u001b[49m\u001b[43m \u001b[49m\u001b[38;5;241;43m*\u001b[39;49m\u001b[38;5;241;43m*\u001b[39;49m\u001b[43mkwargs\u001b[49m\u001b[43m)\u001b[49m)\n",
      "File \u001b[1;32mc:\\Users\\PC-DELL-CU\\AppData\\Local\\Programs\\Python\\Python311\\Lib\\site-packages\\jsii\\_kernel\\__init__.py:399\u001b[0m, in \u001b[0;36mKernel.invoke\u001b[1;34m(self, obj, method, args)\u001b[0m\n\u001b[0;32m    396\u001b[0m \u001b[38;5;28;01mif\u001b[39;00m args \u001b[38;5;129;01mis\u001b[39;00m \u001b[38;5;28;01mNone\u001b[39;00m:\n\u001b[0;32m    397\u001b[0m     args \u001b[38;5;241m=\u001b[39m []\n\u001b[1;32m--> 399\u001b[0m response \u001b[38;5;241m=\u001b[39m \u001b[38;5;28;43mself\u001b[39;49m\u001b[38;5;241;43m.\u001b[39;49m\u001b[43mprovider\u001b[49m\u001b[38;5;241;43m.\u001b[39;49m\u001b[43minvoke\u001b[49m\u001b[43m(\u001b[49m\n\u001b[0;32m    400\u001b[0m \u001b[43m    \u001b[49m\u001b[43mInvokeRequest\u001b[49m\u001b[43m(\u001b[49m\n\u001b[0;32m    401\u001b[0m \u001b[43m        \u001b[49m\u001b[43mobjref\u001b[49m\u001b[38;5;241;43m=\u001b[39;49m\u001b[43mobj\u001b[49m\u001b[38;5;241;43m.\u001b[39;49m\u001b[43m__jsii_ref__\u001b[49m\u001b[43m,\u001b[49m\n\u001b[0;32m    402\u001b[0m \u001b[43m        \u001b[49m\u001b[43mmethod\u001b[49m\u001b[38;5;241;43m=\u001b[39;49m\u001b[43mmethod\u001b[49m\u001b[43m,\u001b[49m\n\u001b[0;32m    403\u001b[0m \u001b[43m        \u001b[49m\u001b[43margs\u001b[49m\u001b[38;5;241;43m=\u001b[39;49m\u001b[43m_make_reference_for_native\u001b[49m\u001b[43m(\u001b[49m\u001b[38;5;28;43mself\u001b[39;49m\u001b[43m,\u001b[49m\u001b[43m \u001b[49m\u001b[43margs\u001b[49m\u001b[43m)\u001b[49m\u001b[43m,\u001b[49m\n\u001b[0;32m    404\u001b[0m \u001b[43m    \u001b[49m\u001b[43m)\u001b[49m\n\u001b[0;32m    405\u001b[0m \u001b[43m\u001b[49m\u001b[43m)\u001b[49m\n\u001b[0;32m    406\u001b[0m \u001b[38;5;28;01mif\u001b[39;00m \u001b[38;5;28misinstance\u001b[39m(response, Callback):\n\u001b[0;32m    407\u001b[0m     \u001b[38;5;28;01mreturn\u001b[39;00m _callback_till_result(\u001b[38;5;28mself\u001b[39m, response, InvokeResponse)\n",
      "File \u001b[1;32mc:\\Users\\PC-DELL-CU\\AppData\\Local\\Programs\\Python\\Python311\\Lib\\site-packages\\jsii\\_kernel\\providers\\process.py:380\u001b[0m, in \u001b[0;36mProcessProvider.invoke\u001b[1;34m(self, request)\u001b[0m\n\u001b[0;32m    379\u001b[0m \u001b[38;5;28;01mdef\u001b[39;00m \u001b[38;5;21minvoke\u001b[39m(\u001b[38;5;28mself\u001b[39m, request: InvokeRequest) \u001b[38;5;241m-\u001b[39m\u001b[38;5;241m>\u001b[39m Union[InvokeResponse, Callback]:\n\u001b[1;32m--> 380\u001b[0m     \u001b[38;5;28;01mreturn\u001b[39;00m \u001b[38;5;28;43mself\u001b[39;49m\u001b[38;5;241;43m.\u001b[39;49m\u001b[43m_process\u001b[49m\u001b[38;5;241;43m.\u001b[39;49m\u001b[43msend\u001b[49m\u001b[43m(\u001b[49m\u001b[43mrequest\u001b[49m\u001b[43m,\u001b[49m\u001b[43m \u001b[49m\u001b[43mInvokeResponse\u001b[49m\u001b[43m)\u001b[49m\n",
      "File \u001b[1;32mc:\\Users\\PC-DELL-CU\\AppData\\Local\\Programs\\Python\\Python311\\Lib\\site-packages\\jsii\\_kernel\\providers\\process.py:342\u001b[0m, in \u001b[0;36m_NodeProcess.send\u001b[1;34m(self, request, response_type)\u001b[0m\n\u001b[0;32m    340\u001b[0m \u001b[38;5;28;01mif\u001b[39;00m resp\u001b[38;5;241m.\u001b[39mname \u001b[38;5;241m==\u001b[39m ErrorType\u001b[38;5;241m.\u001b[39mJSII_FAULT\u001b[38;5;241m.\u001b[39mvalue:\n\u001b[0;32m    341\u001b[0m     \u001b[38;5;28;01mraise\u001b[39;00m JSIIError(resp\u001b[38;5;241m.\u001b[39merror) \u001b[38;5;28;01mfrom\u001b[39;00m \u001b[38;5;21;01mJavaScriptError\u001b[39;00m(resp\u001b[38;5;241m.\u001b[39mstack)\n\u001b[1;32m--> 342\u001b[0m \u001b[38;5;28;01mraise\u001b[39;00m \u001b[38;5;167;01mRuntimeError\u001b[39;00m(resp\u001b[38;5;241m.\u001b[39merror) \u001b[38;5;28;01mfrom\u001b[39;00m \u001b[38;5;21;01mJavaScriptError\u001b[39;00m(resp\u001b[38;5;241m.\u001b[39mstack)\n",
      "\u001b[1;31mRuntimeError\u001b[0m: Error: Server responded to https://api.mexc.com/api/v3/order?quantity=5&price=100&symbol=WBTCUSDC&side=BUY&type=LIMIT&timestamp=1708608605295&signature=090ab85ca34447b8e54c0b5b56d9064dd6b338c68bb0f0e3ac0aba78a6c95da3 with status code 400:\n{\"msg\":\"Insufficient position\",\"code\":30004}"
     ]
    }
   ],
   "source": [
    "from mexc_sdk import Spot\n",
    "\n",
    "spot = Spot(api_key=api_key, api_secret=api_secret)\n",
    "\n",
    "res = spot.new_order(symbol=\"WBTCUSDC\", side=\"BUY\", order_type=\"LIMIT\", options={ \"quantity\": 5, \"price\": 100 })\n",
    "\n",
    "# if success to post test order to service\b, res will get {}.\n",
    "print(res)"
   ]
  },
  {
   "cell_type": "code",
   "execution_count": 50,
   "metadata": {},
   "outputs": [
    {
     "name": "stdout",
     "output_type": "stream",
     "text": [
      "[{'id': '', 'price': '51587.21', 'qty': '0.000128', 'quoteQty': '6.60316288', 'time': 1708603401573, 'isBuyerMaker': True, 'isBestMatch': True, 'tradeType': 'ASK'}, {'id': '', 'price': '51587.22', 'qty': '0.00017', 'quoteQty': '8.7698274', 'time': 1708603397074, 'isBuyerMaker': False, 'isBestMatch': True, 'tradeType': 'BID'}, {'id': '', 'price': '51587.21', 'qty': '0.000875', 'quoteQty': '45.13880875', 'time': 1708603393921, 'isBuyerMaker': True, 'isBestMatch': True, 'tradeType': 'ASK'}, {'id': '', 'price': '51587.22', 'qty': '0.074167', 'quoteQty': '3826.06934574', 'time': 1708603390717, 'isBuyerMaker': False, 'isBestMatch': True, 'tradeType': 'BID'}, {'id': '', 'price': '51587.22', 'qty': '0.000875', 'quoteQty': '45.1388175', 'time': 1708603390075, 'isBuyerMaker': False, 'isBestMatch': True, 'tradeType': 'BID'}]\n"
     ]
    }
   ],
   "source": [
    "from mexc_sdk import Spot\n",
    "\n",
    "client = Spot()\n",
    "\n",
    "trades = client.trades(symbol=\"BTCUSDT\", options={ \"limit\": 5 })\n",
    "\n",
    "print(trades)"
   ]
  }
 ],
 "metadata": {
  "kernelspec": {
   "display_name": "Python 3",
   "language": "python",
   "name": "python3"
  },
  "language_info": {
   "codemirror_mode": {
    "name": "ipython",
    "version": 3
   },
   "file_extension": ".py",
   "mimetype": "text/x-python",
   "name": "python",
   "nbconvert_exporter": "python",
   "pygments_lexer": "ipython3",
   "version": "3.11.6"
  }
 },
 "nbformat": 4,
 "nbformat_minor": 2
}
