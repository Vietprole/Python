{
 "cells": [
  {
   "cell_type": "code",
   "execution_count": 1,
   "metadata": {},
   "outputs": [],
   "source": [
    "import ccxt\n",
    "import pandas as pd\n",
    "\n",
    "# api_key = \"9vFZgxlV2iruvGsBIATVTdONbPmN7RdV51Oxwycr8EHfkk2VTxTRLVwdp7Rz2KdM\"\n",
    "# api_key = \"y1tvZNa7rSq3VMTffUxFOqOWVzrf5Lbu66WlWjR7fw8RJSuNN1Z5JmQ4zBj64I9q\"\n",
    "api_key = 'ciU53UiqUcQm8mpCimsF9L97Rnz3gmOFDTY6x183uY2zQOVvSJBtYoQQ7uGgdENF'\n",
    "\n",
    "# secret_key = \"0iWhnDRvGmoOai8xhAhYwdu5bjZ3oCnV5TejQcdOppE96uGnOL2EvdHKfsPB08XJ\"\n",
    "# secret_key = \"fS5o1d86LUF3IxCtMh3RsHClTaWpDjVA5Ieb5L3y3hCxrg6yoBr7HUq0oIa3PFpV\"\n",
    "secret_key = 'xh2CJjdfqA0j1zZihT3Msy2aHq4K2xIm2hpwooG7eSaAbe2s8SMUBsAbqjKMC1Ux'\n"
   ]
  },
  {
   "cell_type": "markdown",
   "metadata": {},
   "source": [
    "# Mua thi truong"
   ]
  },
  {
   "cell_type": "code",
   "execution_count": 3,
   "metadata": {},
   "outputs": [
    {
     "ename": "InsufficientFunds",
     "evalue": "binance Account has insufficient balance for requested action.",
     "output_type": "error",
     "traceback": [
      "\u001b[1;31m---------------------------------------------------------------------------\u001b[0m",
      "\u001b[1;31mHTTPError\u001b[0m                                 Traceback (most recent call last)",
      "File \u001b[1;32mc:\\Users\\PC-DELL-CU\\AppData\\Local\\Programs\\Python\\Python311\\Lib\\site-packages\\ccxt\\base\\exchange.py:621\u001b[0m, in \u001b[0;36mExchange.fetch\u001b[1;34m(self, url, method, headers, body)\u001b[0m\n\u001b[0;32m    620\u001b[0m     \u001b[38;5;28mself\u001b[39m\u001b[38;5;241m.\u001b[39mlogger\u001b[38;5;241m.\u001b[39mdebug(\u001b[38;5;124m\"\u001b[39m\u001b[38;5;132;01m%s\u001b[39;00m\u001b[38;5;124m \u001b[39m\u001b[38;5;132;01m%s\u001b[39;00m\u001b[38;5;124m, Response: \u001b[39m\u001b[38;5;132;01m%s\u001b[39;00m\u001b[38;5;124m \u001b[39m\u001b[38;5;132;01m%s\u001b[39;00m\u001b[38;5;124m \u001b[39m\u001b[38;5;132;01m%s\u001b[39;00m\u001b[38;5;124m\"\u001b[39m, method, url, http_status_code, headers, http_response)\n\u001b[1;32m--> 621\u001b[0m     \u001b[43mresponse\u001b[49m\u001b[38;5;241;43m.\u001b[39;49m\u001b[43mraise_for_status\u001b[49m\u001b[43m(\u001b[49m\u001b[43m)\u001b[49m\n\u001b[0;32m    623\u001b[0m \u001b[38;5;28;01mexcept\u001b[39;00m Timeout \u001b[38;5;28;01mas\u001b[39;00m e:\n",
      "File \u001b[1;32mc:\\Users\\PC-DELL-CU\\AppData\\Local\\Programs\\Python\\Python311\\Lib\\site-packages\\requests\\models.py:1021\u001b[0m, in \u001b[0;36mResponse.raise_for_status\u001b[1;34m(self)\u001b[0m\n\u001b[0;32m   1020\u001b[0m \u001b[38;5;28;01mif\u001b[39;00m http_error_msg:\n\u001b[1;32m-> 1021\u001b[0m     \u001b[38;5;28;01mraise\u001b[39;00m HTTPError(http_error_msg, response\u001b[38;5;241m=\u001b[39m\u001b[38;5;28mself\u001b[39m)\n",
      "\u001b[1;31mHTTPError\u001b[0m: 400 Client Error: Bad Request for url: https://api.binance.com/api/v3/order",
      "\nDuring handling of the above exception, another exception occurred:\n",
      "\u001b[1;31mInsufficientFunds\u001b[0m                         Traceback (most recent call last)",
      "Cell \u001b[1;32mIn[3], line 17\u001b[0m\n\u001b[0;32m     14\u001b[0m order_type_spot \u001b[38;5;241m=\u001b[39m \u001b[38;5;124m'\u001b[39m\u001b[38;5;124mmarket\u001b[39m\u001b[38;5;124m'\u001b[39m  \u001b[38;5;66;03m# Loại lệnh là market order\u001b[39;00m\n\u001b[0;32m     16\u001b[0m \u001b[38;5;66;03m# Thực hiện lệnh mua giá thị trường\u001b[39;00m\n\u001b[1;32m---> 17\u001b[0m order_spot \u001b[38;5;241m=\u001b[39m \u001b[43mexchange_spot\u001b[49m\u001b[38;5;241;43m.\u001b[39;49m\u001b[43mcreate_market_buy_order\u001b[49m\u001b[43m(\u001b[49m\u001b[43msymbol_spot\u001b[49m\u001b[43m,\u001b[49m\u001b[43m \u001b[49m\u001b[43mquantity_spot\u001b[49m\u001b[43m)\u001b[49m\n\u001b[0;32m     19\u001b[0m \u001b[38;5;66;03m# In thông tin đơn hàng mua giá thị trường\u001b[39;00m\n\u001b[0;32m     20\u001b[0m \u001b[38;5;28mprint\u001b[39m(\u001b[38;5;124m\"\u001b[39m\u001b[38;5;124mMarket Order:\u001b[39m\u001b[38;5;124m\"\u001b[39m)\n",
      "File \u001b[1;32mc:\\Users\\PC-DELL-CU\\AppData\\Local\\Programs\\Python\\Python311\\Lib\\site-packages\\ccxt\\base\\exchange.py:3969\u001b[0m, in \u001b[0;36mExchange.create_market_buy_order\u001b[1;34m(self, symbol, amount, params)\u001b[0m\n\u001b[0;32m   3968\u001b[0m \u001b[38;5;28;01mdef\u001b[39;00m \u001b[38;5;21mcreate_market_buy_order\u001b[39m(\u001b[38;5;28mself\u001b[39m, symbol: \u001b[38;5;28mstr\u001b[39m, amount, params\u001b[38;5;241m=\u001b[39m{}):\n\u001b[1;32m-> 3969\u001b[0m     \u001b[38;5;28;01mreturn\u001b[39;00m \u001b[38;5;28;43mself\u001b[39;49m\u001b[38;5;241;43m.\u001b[39;49m\u001b[43mcreate_order\u001b[49m\u001b[43m(\u001b[49m\u001b[43msymbol\u001b[49m\u001b[43m,\u001b[49m\u001b[43m \u001b[49m\u001b[38;5;124;43m'\u001b[39;49m\u001b[38;5;124;43mmarket\u001b[39;49m\u001b[38;5;124;43m'\u001b[39;49m\u001b[43m,\u001b[49m\u001b[43m \u001b[49m\u001b[38;5;124;43m'\u001b[39;49m\u001b[38;5;124;43mbuy\u001b[39;49m\u001b[38;5;124;43m'\u001b[39;49m\u001b[43m,\u001b[49m\u001b[43m \u001b[49m\u001b[43mamount\u001b[49m\u001b[43m,\u001b[49m\u001b[43m \u001b[49m\u001b[38;5;28;43;01mNone\u001b[39;49;00m\u001b[43m,\u001b[49m\u001b[43m \u001b[49m\u001b[43mparams\u001b[49m\u001b[43m)\u001b[49m\n",
      "File \u001b[1;32mc:\\Users\\PC-DELL-CU\\AppData\\Local\\Programs\\Python\\Python311\\Lib\\site-packages\\ccxt\\binance.py:4225\u001b[0m, in \u001b[0;36mbinance.create_order\u001b[1;34m(self, symbol, type, side, amount, price, params)\u001b[0m\n\u001b[0;32m   4223\u001b[0m     \u001b[38;5;28;01mif\u001b[39;00m test:\n\u001b[0;32m   4224\u001b[0m         method \u001b[38;5;241m+\u001b[39m\u001b[38;5;241m=\u001b[39m \u001b[38;5;124m'\u001b[39m\u001b[38;5;124mTest\u001b[39m\u001b[38;5;124m'\u001b[39m\n\u001b[1;32m-> 4225\u001b[0m response \u001b[38;5;241m=\u001b[39m \u001b[38;5;28;43mgetattr\u001b[39;49m\u001b[43m(\u001b[49m\u001b[38;5;28;43mself\u001b[39;49m\u001b[43m,\u001b[49m\u001b[43m \u001b[49m\u001b[43mmethod\u001b[49m\u001b[43m)\u001b[49m\u001b[43m(\u001b[49m\u001b[43mrequest\u001b[49m\u001b[43m)\u001b[49m\n\u001b[0;32m   4226\u001b[0m \u001b[38;5;28;01mreturn\u001b[39;00m \u001b[38;5;28mself\u001b[39m\u001b[38;5;241m.\u001b[39mparse_order(response, market)\n",
      "File \u001b[1;32mc:\\Users\\PC-DELL-CU\\AppData\\Local\\Programs\\Python\\Python311\\Lib\\site-packages\\ccxt\\base\\types.py:34\u001b[0m, in \u001b[0;36mEntry.__init__.<locals>.unbound_method\u001b[1;34m(_self, params)\u001b[0m\n\u001b[0;32m     33\u001b[0m \u001b[38;5;28;01mdef\u001b[39;00m \u001b[38;5;21munbound_method\u001b[39m(_self, params\u001b[38;5;241m=\u001b[39m{}):\n\u001b[1;32m---> 34\u001b[0m     \u001b[38;5;28;01mreturn\u001b[39;00m \u001b[43m_self\u001b[49m\u001b[38;5;241;43m.\u001b[39;49m\u001b[43mrequest\u001b[49m\u001b[43m(\u001b[49m\u001b[38;5;28;43mself\u001b[39;49m\u001b[38;5;241;43m.\u001b[39;49m\u001b[43mpath\u001b[49m\u001b[43m,\u001b[49m\u001b[43m \u001b[49m\u001b[38;5;28;43mself\u001b[39;49m\u001b[38;5;241;43m.\u001b[39;49m\u001b[43mapi\u001b[49m\u001b[43m,\u001b[49m\u001b[43m \u001b[49m\u001b[38;5;28;43mself\u001b[39;49m\u001b[38;5;241;43m.\u001b[39;49m\u001b[43mmethod\u001b[49m\u001b[43m,\u001b[49m\u001b[43m \u001b[49m\u001b[43mparams\u001b[49m\u001b[43m,\u001b[49m\u001b[43m \u001b[49m\u001b[43mconfig\u001b[49m\u001b[38;5;241;43m=\u001b[39;49m\u001b[38;5;28;43mself\u001b[39;49m\u001b[38;5;241;43m.\u001b[39;49m\u001b[43mconfig\u001b[49m\u001b[43m)\u001b[49m\n",
      "File \u001b[1;32mc:\\Users\\PC-DELL-CU\\AppData\\Local\\Programs\\Python\\Python311\\Lib\\site-packages\\ccxt\\binance.py:8033\u001b[0m, in \u001b[0;36mbinance.request\u001b[1;34m(self, path, api, method, params, headers, body, config, context)\u001b[0m\n\u001b[0;32m   8032\u001b[0m \u001b[38;5;28;01mdef\u001b[39;00m \u001b[38;5;21mrequest\u001b[39m(\u001b[38;5;28mself\u001b[39m, path, api\u001b[38;5;241m=\u001b[39m\u001b[38;5;124m'\u001b[39m\u001b[38;5;124mpublic\u001b[39m\u001b[38;5;124m'\u001b[39m, method\u001b[38;5;241m=\u001b[39m\u001b[38;5;124m'\u001b[39m\u001b[38;5;124mGET\u001b[39m\u001b[38;5;124m'\u001b[39m, params\u001b[38;5;241m=\u001b[39m{}, headers\u001b[38;5;241m=\u001b[39m\u001b[38;5;28;01mNone\u001b[39;00m, body\u001b[38;5;241m=\u001b[39m\u001b[38;5;28;01mNone\u001b[39;00m, config\u001b[38;5;241m=\u001b[39m{}, context\u001b[38;5;241m=\u001b[39m{}):\n\u001b[1;32m-> 8033\u001b[0m     response \u001b[38;5;241m=\u001b[39m \u001b[38;5;28;43mself\u001b[39;49m\u001b[38;5;241;43m.\u001b[39;49m\u001b[43mfetch2\u001b[49m\u001b[43m(\u001b[49m\u001b[43mpath\u001b[49m\u001b[43m,\u001b[49m\u001b[43m \u001b[49m\u001b[43mapi\u001b[49m\u001b[43m,\u001b[49m\u001b[43m \u001b[49m\u001b[43mmethod\u001b[49m\u001b[43m,\u001b[49m\u001b[43m \u001b[49m\u001b[43mparams\u001b[49m\u001b[43m,\u001b[49m\u001b[43m \u001b[49m\u001b[43mheaders\u001b[49m\u001b[43m,\u001b[49m\u001b[43m \u001b[49m\u001b[43mbody\u001b[49m\u001b[43m,\u001b[49m\u001b[43m \u001b[49m\u001b[43mconfig\u001b[49m\u001b[43m)\u001b[49m\n\u001b[0;32m   8034\u001b[0m     \u001b[38;5;66;03m# a workaround for {\"code\":-2015,\"msg\":\"Invalid API-key, IP, or permissions for action.\"}\u001b[39;00m\n\u001b[0;32m   8035\u001b[0m     \u001b[38;5;28;01mif\u001b[39;00m api \u001b[38;5;241m==\u001b[39m \u001b[38;5;124m'\u001b[39m\u001b[38;5;124mprivate\u001b[39m\u001b[38;5;124m'\u001b[39m:\n",
      "File \u001b[1;32mc:\\Users\\PC-DELL-CU\\AppData\\Local\\Programs\\Python\\Python311\\Lib\\site-packages\\ccxt\\base\\exchange.py:3333\u001b[0m, in \u001b[0;36mExchange.fetch2\u001b[1;34m(self, path, api, method, params, headers, body, config)\u001b[0m\n\u001b[0;32m   3331\u001b[0m \u001b[38;5;28mself\u001b[39m\u001b[38;5;241m.\u001b[39mlast_request_body \u001b[38;5;241m=\u001b[39m request[\u001b[38;5;124m'\u001b[39m\u001b[38;5;124mbody\u001b[39m\u001b[38;5;124m'\u001b[39m]\n\u001b[0;32m   3332\u001b[0m \u001b[38;5;28mself\u001b[39m\u001b[38;5;241m.\u001b[39mlast_request_url \u001b[38;5;241m=\u001b[39m request[\u001b[38;5;124m'\u001b[39m\u001b[38;5;124murl\u001b[39m\u001b[38;5;124m'\u001b[39m]\n\u001b[1;32m-> 3333\u001b[0m \u001b[38;5;28;01mreturn\u001b[39;00m \u001b[38;5;28;43mself\u001b[39;49m\u001b[38;5;241;43m.\u001b[39;49m\u001b[43mfetch\u001b[49m\u001b[43m(\u001b[49m\u001b[43mrequest\u001b[49m\u001b[43m[\u001b[49m\u001b[38;5;124;43m'\u001b[39;49m\u001b[38;5;124;43murl\u001b[39;49m\u001b[38;5;124;43m'\u001b[39;49m\u001b[43m]\u001b[49m\u001b[43m,\u001b[49m\u001b[43m \u001b[49m\u001b[43mrequest\u001b[49m\u001b[43m[\u001b[49m\u001b[38;5;124;43m'\u001b[39;49m\u001b[38;5;124;43mmethod\u001b[39;49m\u001b[38;5;124;43m'\u001b[39;49m\u001b[43m]\u001b[49m\u001b[43m,\u001b[49m\u001b[43m \u001b[49m\u001b[43mrequest\u001b[49m\u001b[43m[\u001b[49m\u001b[38;5;124;43m'\u001b[39;49m\u001b[38;5;124;43mheaders\u001b[39;49m\u001b[38;5;124;43m'\u001b[39;49m\u001b[43m]\u001b[49m\u001b[43m,\u001b[49m\u001b[43m \u001b[49m\u001b[43mrequest\u001b[49m\u001b[43m[\u001b[49m\u001b[38;5;124;43m'\u001b[39;49m\u001b[38;5;124;43mbody\u001b[39;49m\u001b[38;5;124;43m'\u001b[39;49m\u001b[43m]\u001b[49m\u001b[43m)\u001b[49m\n",
      "File \u001b[1;32mc:\\Users\\PC-DELL-CU\\AppData\\Local\\Programs\\Python\\Python311\\Lib\\site-packages\\ccxt\\base\\exchange.py:637\u001b[0m, in \u001b[0;36mExchange.fetch\u001b[1;34m(self, url, method, headers, body)\u001b[0m\n\u001b[0;32m    635\u001b[0m \u001b[38;5;28;01mexcept\u001b[39;00m HTTPError \u001b[38;5;28;01mas\u001b[39;00m e:\n\u001b[0;32m    636\u001b[0m     details \u001b[38;5;241m=\u001b[39m \u001b[38;5;124m'\u001b[39m\u001b[38;5;124m \u001b[39m\u001b[38;5;124m'\u001b[39m\u001b[38;5;241m.\u001b[39mjoin([\u001b[38;5;28mself\u001b[39m\u001b[38;5;241m.\u001b[39mid, method, url])\n\u001b[1;32m--> 637\u001b[0m     skip_further_error_handling \u001b[38;5;241m=\u001b[39m \u001b[38;5;28;43mself\u001b[39;49m\u001b[38;5;241;43m.\u001b[39;49m\u001b[43mhandle_errors\u001b[49m\u001b[43m(\u001b[49m\u001b[43mhttp_status_code\u001b[49m\u001b[43m,\u001b[49m\u001b[43m \u001b[49m\u001b[43mhttp_status_text\u001b[49m\u001b[43m,\u001b[49m\u001b[43m \u001b[49m\u001b[43murl\u001b[49m\u001b[43m,\u001b[49m\u001b[43m \u001b[49m\u001b[43mmethod\u001b[49m\u001b[43m,\u001b[49m\u001b[43m \u001b[49m\u001b[43mheaders\u001b[49m\u001b[43m,\u001b[49m\u001b[43m \u001b[49m\u001b[43mhttp_response\u001b[49m\u001b[43m,\u001b[49m\u001b[43m \u001b[49m\u001b[43mjson_response\u001b[49m\u001b[43m,\u001b[49m\u001b[43m \u001b[49m\u001b[43mrequest_headers\u001b[49m\u001b[43m,\u001b[49m\u001b[43m \u001b[49m\u001b[43mrequest_body\u001b[49m\u001b[43m)\u001b[49m\n\u001b[0;32m    638\u001b[0m     \u001b[38;5;28;01mif\u001b[39;00m \u001b[38;5;129;01mnot\u001b[39;00m skip_further_error_handling:\n\u001b[0;32m    639\u001b[0m         \u001b[38;5;28mself\u001b[39m\u001b[38;5;241m.\u001b[39mhandle_http_status_code(http_status_code, http_status_text, url, method, http_response)\n",
      "File \u001b[1;32mc:\\Users\\PC-DELL-CU\\AppData\\Local\\Programs\\Python\\Python311\\Lib\\site-packages\\ccxt\\binance.py:7980\u001b[0m, in \u001b[0;36mbinance.handle_errors\u001b[1;34m(self, code, reason, url, method, headers, body, response, requestHeaders, requestBody)\u001b[0m\n\u001b[0;32m   7978\u001b[0m message \u001b[38;5;241m=\u001b[39m \u001b[38;5;28mself\u001b[39m\u001b[38;5;241m.\u001b[39msafe_string(response, \u001b[38;5;124m'\u001b[39m\u001b[38;5;124mmsg\u001b[39m\u001b[38;5;124m'\u001b[39m)\n\u001b[0;32m   7979\u001b[0m \u001b[38;5;28;01mif\u001b[39;00m message \u001b[38;5;129;01mis\u001b[39;00m \u001b[38;5;129;01mnot\u001b[39;00m \u001b[38;5;28;01mNone\u001b[39;00m:\n\u001b[1;32m-> 7980\u001b[0m     \u001b[38;5;28;43mself\u001b[39;49m\u001b[38;5;241;43m.\u001b[39;49m\u001b[43mthrow_exactly_matched_exception\u001b[49m\u001b[43m(\u001b[49m\u001b[38;5;28;43mself\u001b[39;49m\u001b[38;5;241;43m.\u001b[39;49m\u001b[43mexceptions\u001b[49m\u001b[43m[\u001b[49m\u001b[38;5;124;43m'\u001b[39;49m\u001b[38;5;124;43mexact\u001b[39;49m\u001b[38;5;124;43m'\u001b[39;49m\u001b[43m]\u001b[49m\u001b[43m,\u001b[49m\u001b[43m \u001b[49m\u001b[43mmessage\u001b[49m\u001b[43m,\u001b[49m\u001b[43m \u001b[49m\u001b[38;5;28;43mself\u001b[39;49m\u001b[38;5;241;43m.\u001b[39;49m\u001b[43mid\u001b[49m\u001b[43m \u001b[49m\u001b[38;5;241;43m+\u001b[39;49m\u001b[43m \u001b[49m\u001b[38;5;124;43m'\u001b[39;49m\u001b[38;5;124;43m \u001b[39;49m\u001b[38;5;124;43m'\u001b[39;49m\u001b[43m \u001b[49m\u001b[38;5;241;43m+\u001b[39;49m\u001b[43m \u001b[49m\u001b[43mmessage\u001b[49m\u001b[43m)\u001b[49m\n\u001b[0;32m   7981\u001b[0m     \u001b[38;5;28mself\u001b[39m\u001b[38;5;241m.\u001b[39mthrow_broadly_matched_exception(\u001b[38;5;28mself\u001b[39m\u001b[38;5;241m.\u001b[39mexceptions[\u001b[38;5;124m'\u001b[39m\u001b[38;5;124mbroad\u001b[39m\u001b[38;5;124m'\u001b[39m], message, \u001b[38;5;28mself\u001b[39m\u001b[38;5;241m.\u001b[39mid \u001b[38;5;241m+\u001b[39m \u001b[38;5;124m'\u001b[39m\u001b[38;5;124m \u001b[39m\u001b[38;5;124m'\u001b[39m \u001b[38;5;241m+\u001b[39m message)\n\u001b[0;32m   7982\u001b[0m \u001b[38;5;66;03m# checks against error codes\u001b[39;00m\n",
      "File \u001b[1;32mc:\\Users\\PC-DELL-CU\\AppData\\Local\\Programs\\Python\\Python311\\Lib\\site-packages\\ccxt\\base\\exchange.py:3673\u001b[0m, in \u001b[0;36mExchange.throw_exactly_matched_exception\u001b[1;34m(self, exact, string, message)\u001b[0m\n\u001b[0;32m   3671\u001b[0m \u001b[38;5;28;01mdef\u001b[39;00m \u001b[38;5;21mthrow_exactly_matched_exception\u001b[39m(\u001b[38;5;28mself\u001b[39m, exact, string, message):\n\u001b[0;32m   3672\u001b[0m     \u001b[38;5;28;01mif\u001b[39;00m string \u001b[38;5;129;01min\u001b[39;00m exact:\n\u001b[1;32m-> 3673\u001b[0m         \u001b[38;5;28;01mraise\u001b[39;00m exact[string](message)\n",
      "\u001b[1;31mInsufficientFunds\u001b[0m: binance Account has insufficient balance for requested action."
     ]
    }
   ],
   "source": [
    "import ccxt\n",
    "\n",
    "# Khởi tạo kết nối với Binance Spot API\n",
    "exchange_spot = ccxt.binance({\n",
    "    'apiKey': api_key,\n",
    "    'secret': secret_key,\n",
    "    'enableRateLimit': True,  # Giới hạn tốc độ gửi yêu cầu\n",
    "})\n",
    "\n",
    "# Thực hiện lệnh mua giá thị trường cho cặp giao dịch BTC/USDT với số lượng 1 BTC\n",
    "symbol_spot = 'BTC/USDT'\n",
    "side_spot = 'buy'  # Mua\n",
    "quantity_spot = 0.0002  # Số lượng BTC mua\n",
    "order_type_spot = 'market'  # Loại lệnh là market order\n",
    "\n",
    "# Thực hiện lệnh mua giá thị trường\n",
    "order_spot = exchange_spot.create_market_buy_order(symbol_spot, quantity_spot)\n",
    "\n",
    "# In thông tin đơn hàng mua giá thị trường\n",
    "print(\"Market Order:\")\n",
    "print(order_spot)"
   ]
  },
  {
   "cell_type": "markdown",
   "metadata": {},
   "source": [
    "# Ban thi truong"
   ]
  },
  {
   "cell_type": "code",
   "execution_count": null,
   "metadata": {},
   "outputs": [
    {
     "name": "stdout",
     "output_type": "stream",
     "text": [
      "Không có BTC trong tài khoản.\n"
     ]
    }
   ],
   "source": [
    "import ccxt\n",
    "\n",
    "# Khởi tạo kết nối với Binance Spot API\n",
    "exchange = ccxt.binance({\n",
    "    'apiKey': api_key,  \n",
    "    'secret': secret_key  \n",
    "})\n",
    "\n",
    "# Chọn cặp giao dịch bạn quan tâm\n",
    "symbol = 'BTC/USDT'\n",
    "\n",
    "# Lấy thông tin tài khoản\n",
    "account_info = exchange.fetch_balance()\n",
    "\n",
    "# Lấy số lượng BTC hiện có trong tài khoản\n",
    "btc_balance = account_info['total']['BTC']\n",
    "\n",
    "# Thực hiện lệnh bán giá thị trường\n",
    "if btc_balance > 0:\n",
    "    order = exchange.create_market_sell_order(symbol, btc_balance)\n",
    "    print(\"Market Sell Order:\")\n",
    "    print(order)\n",
    "else:\n",
    "    print(\"Không có BTC trong tài khoản.\")\n"
   ]
  },
  {
   "cell_type": "markdown",
   "metadata": {},
   "source": [
    "# Kiem tra lich su mua ban"
   ]
  },
  {
   "cell_type": "code",
   "execution_count": 10,
   "metadata": {},
   "outputs": [
    {
     "name": "stdout",
     "output_type": "stream",
     "text": [
      "ID: 558465461, Cặp giao dịch: ETH/USDT, Loại: buy, Giá: 3236.62, Số lượng: 0.05371, Thời gian: 2021-08-11 23:51:58.368000\n",
      "ID: 559262914, Cặp giao dịch: ETH/USDT, Loại: buy, Giá: 3176.84, Số lượng: 0.00065, Thời gian: 2021-08-12 11:57:22.201000\n",
      "ID: 559262915, Cặp giao dịch: ETH/USDT, Loại: buy, Giá: 3176.84, Số lượng: 0.1218, Thời gian: 2021-08-12 11:57:22.201000\n",
      "ID: 1254215935, Cặp giao dịch: ETH/USDT, Loại: buy, Giá: 2249.21, Số lượng: 0.003, Thời gian: 2023-12-16 16:09:39.708000\n",
      "ID: 1254242735, Cặp giao dịch: ETH/USDT, Loại: sell, Giá: 2245.3, Số lượng: 0.003, Thời gian: 2023-12-16 17:22:23.145000\n",
      "ID: 1254270828, Cặp giao dịch: ETH/USDT, Loại: buy, Giá: 2251.72, Số lượng: 0.003, Thời gian: 2023-12-16 18:47:21.065000\n",
      "ID: 1256864114, Cặp giao dịch: ETH/USDT, Loại: buy, Giá: 2219.69, Số lượng: 0.003, Thời gian: 2023-12-20 16:32:12.090000\n",
      "ID: 1257087198, Cặp giao dịch: ETH/USDT, Loại: buy, Giá: 2256.41, Số lượng: 0.003, Thời gian: 2023-12-20 21:41:49.368000\n"
     ]
    }
   ],
   "source": [
    "import ccxt\n",
    "from datetime import datetime\n",
    "\n",
    "# Khởi tạo kết nối với Binance Spot API bằng API Key và Secret Key\n",
    "exchange = ccxt.binance({\n",
    "    'apiKey': api_key,\n",
    "    'secret': secret_key,\n",
    "})\n",
    "\n",
    "symbol = 'ETH/USDT'\n",
    "\n",
    "# Lấy lịch sử giao dịch mua bán\n",
    "trade_history = exchange.fetch_my_trades(symbol)\n",
    "\n",
    "\n",
    "# In lịch sử giao dịch\n",
    "for trade in trade_history:\n",
    "    trade['timestamp'] = datetime.fromtimestamp(trade['timestamp'] / 1000)  # Chia cho 1000 để chuyển từ millisecond thành giây\n",
    "    print(f\"ID: {trade['id']}, Cặp giao dịch: {trade['symbol']}, Loại: {trade['side']}, Giá: {trade['price']}, Số lượng: {trade['amount']}, Thời gian: {trade['timestamp']}\")\n",
    "\n"
   ]
  },
  {
   "cell_type": "code",
   "execution_count": 12,
   "metadata": {},
   "outputs": [
    {
     "name": "stdout",
     "output_type": "stream",
     "text": [
      "[]\n"
     ]
    }
   ],
   "source": [
    "import ccxt\n",
    "from datetime import datetime\n",
    "\n",
    "# Khởi tạo kết nối với Binance USDⓈ-M Futures API\n",
    "exchange = ccxt.binanceusdm({\n",
    "    'apiKey': api_key,\n",
    "    'secret': secret_key,\n",
    "})\n",
    "\n",
    "symbol = 'ETH/USDT'  # Cập nhật symbol cho phù hợp với Futures\n",
    "\n",
    "# Lấy lịch sử giao dịch Futures\n",
    "trade_history = exchange.fetch_my_trades(symbol)\n",
    "\n",
    "# In lịch sử giao dịch\n",
    "for trade in trade_history:\n",
    "    trade['timestamp'] = datetime.fromtimestamp(trade['timestamp'] / 1000)\n",
    "    print(f\"ID: {trade['id']}, Cặp giao dịch: {trade['symbol']}, Loại: {trade['side']}, Giá: {trade['price']}, Số lượng: {trade['amount']}, Thời gian: {trade['timestamp']}\")\n"
   ]
  }
 ],
 "metadata": {
  "kernelspec": {
   "display_name": "Python 3",
   "language": "python",
   "name": "python3"
  },
  "language_info": {
   "codemirror_mode": {
    "name": "ipython",
    "version": 3
   },
   "file_extension": ".py",
   "mimetype": "text/x-python",
   "name": "python",
   "nbconvert_exporter": "python",
   "pygments_lexer": "ipython3",
   "version": "3.11.6"
  }
 },
 "nbformat": 4,
 "nbformat_minor": 2
}
