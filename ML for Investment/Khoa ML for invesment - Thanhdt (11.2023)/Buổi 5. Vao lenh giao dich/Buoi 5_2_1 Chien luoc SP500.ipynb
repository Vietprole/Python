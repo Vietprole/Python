{
 "cells": [
  {
   "cell_type": "markdown",
   "metadata": {},
   "source": [
    "# --------------Chiến lược giao dịch theo chỉ số biến động------------------------------------------"
   ]
  },
  {
   "cell_type": "markdown",
   "metadata": {},
   "source": [
    "# 1. Mã và thời gian: Du lieu cua SPY (S & P 500)"
   ]
  },
  {
   "cell_type": "markdown",
   "metadata": {},
   "source": [
    "# Buoc 1: Load du lieu"
   ]
  },
  {
   "cell_type": "code",
   "execution_count": 15,
   "metadata": {},
   "outputs": [
    {
     "name": "stdout",
     "output_type": "stream",
     "text": [
      "[*********************100%%**********************]  1 of 1 completed\n",
      "[*********************100%%**********************]  1 of 1 completed\n",
      "[*********************100%%**********************]  1 of 1 completed\n",
      "symbol       ACB.VN        ^GSPC   ^VIX\n",
      "date                                   \n",
      "2024-01-02  24450.0  4742.830078  13.20\n",
      "2024-01-03  25000.0  4704.810059  14.04\n",
      "2024-01-04  25300.0  4688.680176  14.13\n",
      "2024-01-05  25450.0  4697.240234  13.35\n",
      "2024-01-08  25350.0  4763.540039  13.08\n",
      "2024-01-09  25000.0  4756.500000  12.76\n",
      "2024-01-10  25250.0  4783.450195  12.69\n",
      "2024-01-11  25250.0          NaN  12.59\n"
     ]
    }
   ],
   "source": [
    "import pandas as pd\n",
    "import yfinance as yf\n",
    "\n",
    "symbols = ['ACB.VN', '^GSPC', '^VIX']  # Danh sách các ký hiệu bạn muốn lấy dữ liệu\n",
    "start_date = \"2024-01-01\"\n",
    "end_date = \"2024-01-12\"\n",
    "\n",
    "data = {}  # Tạo một từ điển để lưu trữ dữ liệu cho mỗi ký hiệu\n",
    "def load_data(symbols, start_date, end_date):\n",
    "    for symbol in symbols:\n",
    "        data[symbol] = yf.download(symbol, start=start_date, end=end_date, interval='1d')\n",
    "        data[symbol]['symbol'] = symbol\n",
    "        data[symbol] = data[symbol].reset_index().rename(columns={'Adj Close': 'value', 'Date': 'date'}).sort_values(by = ['symbol', 'date'])\n",
    "        data[symbol] = data[symbol][['symbol', 'date', 'value']]\n",
    "\n",
    "    # Kết hợp dữ liệu từ các ký hiệu thành một DataFrame lớn\n",
    "    dataAll = pd.concat(data.values(), ignore_index=True)\n",
    "\n",
    "    # Pivot table dữ liệu lại\n",
    "    dataAll = pd.pivot_table(dataAll, columns = 'symbol', index = 'date', values ='value')\n",
    "    return dataAll\n",
    "\n",
    "data = load_data(symbols, start_date, end_date)\n",
    "\n",
    "print(data)"
   ]
  },
  {
   "cell_type": "markdown",
   "metadata": {},
   "source": [
    "# Buoc 2: Viet ham kiem tra dieu kien mua hay ban"
   ]
  },
  {
   "cell_type": "code",
   "execution_count": 4,
   "metadata": {},
   "outputs": [
    {
     "name": "stdout",
     "output_type": "stream",
     "text": [
      "Mua\n"
     ]
    }
   ],
   "source": [
    "import pandas as pd\n",
    "\n",
    "def decide_trade(data, vix_threshold=30):\n",
    "    \"\"\"\n",
    "    Quyết định mua hoặc bán SPY dựa trên giá trị VIX.\n",
    "\n",
    "    :param dataframe: DataFrame chứa giá trị cho SPY, ^GSPC, và ^VIX.\n",
    "    :param vix_threshold: Ngưỡng VIX để xác định biến động cao của thị trường.\n",
    "    :return: Quyết định giao dịch: 'Mua', 'Bán', hoặc 'Giữ'.\n",
    "    \"\"\"\n",
    "    latest_data = data.iloc[-1]  # Lấy dòng dữ liệu mới nhất: Index tu trai sang phai 0 -> len -1; tu ben phai qua -1 =>\n",
    "    current_vix = latest_data['^VIX']\n",
    "\n",
    "    if current_vix > vix_threshold:\n",
    "        return 'Bán'  # Bán nếu VIX cao\n",
    "    else:\n",
    "        return 'Mua'  # Mua nếu VIX thấp\n",
    "\n",
    "# Ví dụ sử dụng hàm\n",
    "decision = decide_trade(data)\n",
    "print(decision)"
   ]
  }
 ],
 "metadata": {
  "kernelspec": {
   "display_name": "Python 3",
   "language": "python",
   "name": "python3"
  },
  "language_info": {
   "codemirror_mode": {
    "name": "ipython",
    "version": 3
   },
   "file_extension": ".py",
   "mimetype": "text/x-python",
   "name": "python",
   "nbconvert_exporter": "python",
   "pygments_lexer": "ipython3",
   "version": "3.11.6"
  },
  "orig_nbformat": 4
 },
 "nbformat": 4,
 "nbformat_minor": 2
}
