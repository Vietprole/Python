{
 "cells": [
  {
   "cell_type": "code",
   "execution_count": 1,
   "metadata": {},
   "outputs": [
    {
     "name": "stdout",
     "output_type": "stream",
     "text": [
      "The stock order history for account 2654251 is {'orderHistories': [{'uniqueID': 'T202309195x4 6549241', 'orderID': '78766555', 'buySell': 'B', 'price': 2990.0, 'quantity': 100, 'filledQty': 100, 'orderStatus': 'FF', 'marketID': 'VN', 'inputTime': '1695094285000', 'modifiedTime': '1695109505000', 'instrumentID': 'QBS', 'orderType': 'ATC', 'cancelQty': 0, 'avgPrice': 2780.0, 'isForcesell': None, 'isShortsell': None, 'rejectReason': ''}, {'uniqueID': 'T202309195x453891468', 'orderID': '78765114', 'buySell': 'B', 'price': 2990.0, 'quantity': 100, 'filledQty': 0, 'orderStatus': 'RJ', 'marketID': 'VN', 'inputTime': '1695094012000', 'modifiedTime': '1695094012000', 'instrumentID': 'QBS', 'orderType': 'ATO', 'cancelQty': 0, 'avgPrice': 0.0, 'isForcesell': None, 'isShortsell': None, 'rejectReason': ''}, {'uniqueID': 'T202309195x497823229', 'orderID': '78764927', 'buySell': 'B', 'price': 2990.0, 'quantity': 100, 'filledQty': 100, 'orderStatus': 'FF', 'marketID': 'VN', 'inputTime': '1695093981000', 'modifiedTime': '1695109505000', 'instrumentID': 'QBS', 'orderType': 'ATC', 'cancelQty': 0, 'avgPrice': 2780.0, 'isForcesell': None, 'isShortsell': None, 'rejectReason': ''}, {'uniqueID': 'T202309195x458805029', 'orderID': '78764858', 'buySell': 'B', 'price': 2990.0, 'quantity': 10, 'filledQty': 0, 'orderStatus': 'RJ', 'marketID': 'VN', 'inputTime': '1695093973000', 'modifiedTime': '1695093973000', 'instrumentID': 'QBS', 'orderType': 'ATC', 'cancelQty': 0, 'avgPrice': 0.0, 'isForcesell': None, 'isShortsell': None, 'rejectReason': ''}, {'uniqueID': 'T202309195x424710448', 'orderID': '78764617', 'buySell': 'B', 'price': 0.0, 'quantity': 100, 'filledQty': 0, 'orderStatus': 'RJ', 'marketID': 'VN', 'inputTime': '1695093931000', 'modifiedTime': '1695093931000', 'instrumentID': 'QBS', 'orderType': 'LO', 'cancelQty': 0, 'avgPrice': 0.0, 'isForcesell': None, 'isShortsell': None, 'rejectReason': ''}, {'uniqueID': 'T202309195x438142917', 'orderID': '78764252', 'buySell': 'B', 'price': 2990.0, 'quantity': 100, 'filledQty': 100, 'orderStatus': 'FF', 'marketID': 'VN', 'inputTime': '1695093878000', 'modifiedTime': '1695109505000', 'instrumentID': 'QBS', 'orderType': 'ATC', 'cancelQty': 0, 'avgPrice': 2780.0, 'isForcesell': None, 'isShortsell': None, 'rejectReason': ''}, {'uniqueID': 'T202309195x443266499', 'orderID': '78763962', 'buySell': 'B', 'price': 2990.0, 'quantity': 10, 'filledQty': 0, 'orderStatus': 'RJ', 'marketID': 'VN', 'inputTime': '1695093858000', 'modifiedTime': '1695093858000', 'instrumentID': 'QBS', 'orderType': 'ATC', 'cancelQty': 0, 'avgPrice': 0.0, 'isForcesell': None, 'isShortsell': None, 'rejectReason': ''}, {'uniqueID': 'T202309195x420285352', 'orderID': '78763600', 'buySell': 'B', 'price': 0.0, 'quantity': 10, 'filledQty': 0, 'orderStatus': 'RJ', 'marketID': 'VN', 'inputTime': '1695093796000', 'modifiedTime': '1695093796000', 'instrumentID': 'QBS', 'orderType': 'LO', 'cancelQty': 0, 'avgPrice': 0.0, 'isForcesell': None, 'isShortsell': None, 'rejectReason': ''}, {'uniqueID': 'T202309195x448415204', 'orderID': '78763403', 'buySell': 'B', 'price': 0.0, 'quantity': 10, 'filledQty': 0, 'orderStatus': 'RJ', 'marketID': 'VN', 'inputTime': '1695093768000', 'modifiedTime': '1695093768000', 'instrumentID': 'DLG', 'orderType': 'LO', 'cancelQty': 0, 'avgPrice': 0.0, 'isForcesell': None, 'isShortsell': None, 'rejectReason': ''}, {'uniqueID': 'T20230919dgd84664141', 'orderID': '78762507', 'buySell': 'B', 'price': 2800.0, 'quantity': 100, 'filledQty': 100, 'orderStatus': 'FF', 'marketID': 'VN', 'inputTime': '1695093631000', 'modifiedTime': '1695093632000', 'instrumentID': 'QBS', 'orderType': 'LO', 'cancelQty': 0, 'avgPrice': 2800.0, 'isForcesell': None, 'isShortsell': None, 'rejectReason': ''}, {'uniqueID': 'T202309195x410600403', 'orderID': '78755816', 'buySell': 'B', 'price': 2800.0, 'quantity': 100, 'filledQty': 0, 'orderStatus': 'CL', 'marketID': 'VN', 'inputTime': '1695092577000', 'modifiedTime': '1695093896000', 'instrumentID': 'DLG', 'orderType': 'ATC', 'cancelQty': 100, 'avgPrice': 0.0, 'isForcesell': None, 'isShortsell': None, 'rejectReason': ''}, {'uniqueID': 'T202309195x454329815', 'orderID': '78755729', 'buySell': 'B', 'price': 2800.0, 'quantity': 100, 'filledQty': 0, 'orderStatus': 'RJ', 'marketID': 'VN', 'inputTime': '1695092549000', 'modifiedTime': '1695092549000', 'instrumentID': 'DLG', 'orderType': 'ATO', 'cancelQty': 0, 'avgPrice': 0.0, 'isForcesell': None, 'isShortsell': None, 'rejectReason': ''}, {'uniqueID': 'T202309195x467874677', 'orderID': '78755320', 'buySell': 'B', 'price': 0.0, 'quantity': 100, 'filledQty': 0, 'orderStatus': 'RJ', 'marketID': 'VN', 'inputTime': '1695092470000', 'modifiedTime': '1695092471000', 'instrumentID': 'QBS', 'orderType': 'LO', 'cancelQty': 0, 'avgPrice': 0.0, 'isForcesell': None, 'isShortsell': None, 'rejectReason': ''}, {'uniqueID': 'T202309195x498215919', 'orderID': '78755113', 'buySell': 'B', 'price': 0.0, 'quantity': 100, 'filledQty': 0, 'orderStatus': 'RJ', 'marketID': 'VN', 'inputTime': '1695092439000', 'modifiedTime': '1695092439000', 'instrumentID': 'QBS', 'orderType': 'LO', 'cancelQty': 0, 'avgPrice': 0.0, 'isForcesell': None, 'isShortsell': None, 'rejectReason': ''}, {'uniqueID': 'T202309195x4 6660973', 'orderID': '78753940', 'buySell': 'B', 'price': 0.0, 'quantity': 100, 'filledQty': 0, 'orderStatus': 'RJ', 'marketID': 'VN', 'inputTime': '1695092204000', 'modifiedTime': '1695092204000', 'instrumentID': 'QBS', 'orderType': 'LO', 'cancelQty': 0, 'avgPrice': 0.0, 'isForcesell': None, 'isShortsell': None, 'rejectReason': ''}, {'uniqueID': 'T202309195x419382496', 'orderID': '78753612', 'buySell': 'B', 'price': 2990.0, 'quantity': 100, 'filledQty': 0, 'orderStatus': 'CL', 'marketID': 'VN', 'inputTime': '1695092149000', 'modifiedTime': '1695093902000', 'instrumentID': 'QBS', 'orderType': 'ATC', 'cancelQty': 100, 'avgPrice': 0.0, 'isForcesell': None, 'isShortsell': None, 'rejectReason': ''}, {'uniqueID': 'T202309195x4 4823218', 'orderID': '78752074', 'buySell': 'B', 'price': 2800.0, 'quantity': 100, 'filledQty': 0, 'orderStatus': 'CL', 'marketID': 'VN', 'inputTime': '1695091899000', 'modifiedTime': '1695093912000', 'instrumentID': 'DLG', 'orderType': 'ATC', 'cancelQty': 100, 'avgPrice': 0.0, 'isForcesell': None, 'isShortsell': None, 'rejectReason': ''}, {'uniqueID': 'T202309195x4 3778122', 'orderID': '78751992', 'buySell': 'B', 'price': 2800.0, 'quantity': 100, 'filledQty': 0, 'orderStatus': 'RJ', 'marketID': 'VN', 'inputTime': '1695091889000', 'modifiedTime': '1695091889000', 'instrumentID': 'DLG', 'orderType': 'ATO', 'cancelQty': 0, 'avgPrice': 0.0, 'isForcesell': None, 'isShortsell': None, 'rejectReason': ''}, {'uniqueID': 'T202309195x463391775', 'orderID': '78742204', 'buySell': 'B', 'price': 2800.0, 'quantity': 100, 'filledQty': 0, 'orderStatus': 'RJ', 'marketID': 'VN', 'inputTime': '1695090621000', 'modifiedTime': '1695090621000', 'instrumentID': 'DLG', 'orderType': 'ATO', 'cancelQty': 0, 'avgPrice': 0.0, 'isForcesell': None, 'isShortsell': None, 'rejectReason': ''}, {'uniqueID': 'T202309185x442174463', 'orderID': '78673740', 'buySell': 'B', 'price': 2800.0, 'quantity': 100, 'filledQty': 100, 'orderStatus': 'FF', 'marketID': 'VN', 'inputTime': '1695010657000', 'modifiedTime': '1695023101000', 'instrumentID': 'DLG', 'orderType': 'ATC', 'cancelQty': 0, 'avgPrice': 2620.0, 'isForcesell': None, 'isShortsell': None, 'rejectReason': ''}, {'uniqueID': 'T202309185x445766376', 'orderID': '78660030', 'buySell': 'B', 'price': 2800.0, 'quantity': 100, 'filledQty': 100, 'orderStatus': 'FF', 'marketID': 'VN', 'inputTime': '1695007531000', 'modifiedTime': '1695023101000', 'instrumentID': 'DLG', 'orderType': 'ATC', 'cancelQty': 0, 'avgPrice': 2620.0, 'isForcesell': None, 'isShortsell': None, 'rejectReason': ''}, {'uniqueID': 'T202309185x440593955', 'orderID': '78659137', 'buySell': 'B', 'price': 12650.0, 'quantity': 100, 'filledQty': 0, 'orderStatus': 'RJ', 'marketID': 'VN', 'inputTime': '1695007382000', 'modifiedTime': '1695007382000', 'instrumentID': 'DLG', 'orderType': 'LO', 'cancelQty': 0, 'avgPrice': 0.0, 'isForcesell': None, 'isShortsell': None, 'rejectReason': ''}, {'uniqueID': 'T20230918dgd75650886', 'orderID': '78624439', 'buySell': 'S', 'price': 11350.0, 'quantity': 100, 'filledQty': 100, 'orderStatus': 'FF', 'marketID': 'VN', 'inputTime': '1695003045000', 'modifiedTime': '1695003303000', 'instrumentID': 'SHB', 'orderType': 'LO', 'cancelQty': 0, 'avgPrice': 12250.0, 'isForcesell': None, 'isShortsell': None, 'rejectReason': ''}], 'account': '2654251'}\n"
     ]
    }
   ],
   "source": [
    "import requests\n",
    "\n",
    "url = \"http://127.0.0.1:8000/orderHistory?account=2654251&startDate=18/09/2023&endDate=20/09/2023\"\n",
    "\n",
    "response = requests.get(url)\n",
    "\n",
    "if response.status_code == 200:\n",
    "    data = response.json()[\"data\"]\n",
    "    print(f\"The stock order history for account 2654251 is {data}\")\n",
    "else:\n",
    "    print(f\"Error connecting to API: {response.status_code}\")"
   ]
  }
 ],
 "metadata": {
  "kernelspec": {
   "display_name": "Python 3",
   "language": "python",
   "name": "python3"
  },
  "language_info": {
   "codemirror_mode": {
    "name": "ipython",
    "version": 3
   },
   "file_extension": ".py",
   "mimetype": "text/x-python",
   "name": "python",
   "nbconvert_exporter": "python",
   "pygments_lexer": "ipython3",
   "version": "3.11.6"
  },
  "orig_nbformat": 4
 },
 "nbformat": 4,
 "nbformat_minor": 2
}
