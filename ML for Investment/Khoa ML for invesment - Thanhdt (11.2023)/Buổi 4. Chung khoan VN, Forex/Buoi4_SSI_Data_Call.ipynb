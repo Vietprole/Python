{
 "cells": [
  {
   "cell_type": "code",
   "execution_count": null,
   "metadata": {},
   "outputs": [],
   "source": [
    "# import ssi_fc_trading\n",
    "from ssi_fc_data import fc_md_client , model\n",
    "import configDataSSL\n",
    "\n",
    "client = fc_md_client.MarketDataClient(configDataSSL)\n",
    "def md_access_token():\n",
    "\tprint(client.access_token(model.accessToken(configDataSSL.consumerID, configDataSSL.consumerSecret)))\n",
    "\n",
    "def md_get_securities_list():\n",
    "    req = model.securities('HNX', 1,100)\n",
    "    print(client.securities(configDataSSL, req))\n",
    "\n",
    "def md_get_securities_details():\n",
    "    req = model.securities_details('HNX', 'ACB', 1, 100)\n",
    "    print(client.securities_details(configDataSSL, req))\n",
    "\n",
    "def md_get_index_components():\n",
    "\tprint(client.index_components(configDataSSL, model.index_components('vn100', 1, 100)))\n",
    "\n",
    "def md_get_index_list():\n",
    "\tprint(client.index_list(configDataSSL, model.index_list('hnx', 1, 100)))\n",
    "\n",
    "def md_get_daily_OHLC():\n",
    "\tprint(client.daily_ohlc(configDataSSL, model.daily_ohlc('ssi', '15/10/2020', '15/10/2020', 1, 100, True)))\n",
    "\n",
    "def md_get_intraday_OHLC():\n",
    "\tprint(client.intraday_ohlc(configDataSSL, model.intraday_ohlc('fpt', '15/10/2020', '15/10/2020', 1, 100, True, 1)))\n",
    "\n",
    "def md_get_daily_index():\n",
    "\tprint(client.daily_index(configDataSSL, model.daily_index( '123', 'VN100', '15/10/2020', '15/10/2020', 1, 100, '', '')))\n",
    "\n",
    "def md_get_stock_price():\n",
    "\tprint(client.daily_stock_price(configDataSSL, model.daily_stock_price ('fpt', '15/10/2020', '15/10/2020', 1, 100, 'hose')))\n",
    "\n",
    "def main():\n",
    "    \n",
    "    while True:\n",
    "        print('11  - Securities List')\n",
    "        print('12  - Securities Details')\n",
    "        print('13  - Index Components')\n",
    "        print('14  - Index List')\n",
    "        print('15  - Daily OHLC')\n",
    "        print('16  - Intraday OHLC')\n",
    "        print('17  - Daily index')\n",
    "        print('18  - Stock price')\n",
    "        value = input('Enter your choice: ')\n",
    "\n",
    "        if value == '11':\n",
    "            md_get_securities_list()\n",
    "        elif value == '12':\n",
    "            md_get_securities_details()\n",
    "        elif value == '13':\n",
    "            md_get_index_components()\n",
    "        elif value == '14':\n",
    "            md_get_index_list()\n",
    "        elif value == '15':\n",
    "            md_get_daily_OHLC()\n",
    "        elif value == '16':\n",
    "            md_get_intraday_OHLC()\n",
    "        elif value == '17':\n",
    "            md_get_daily_index()\n",
    "        elif value == '18':\n",
    "            md_get_stock_price()\n",
    "\n",
    "if __name__ == '__main__':\n",
    "\tmain()"
   ]
  },
  {
   "cell_type": "markdown",
   "metadata": {},
   "source": [
    "# Customize lai"
   ]
  },
  {
   "cell_type": "code",
   "execution_count": 1,
   "metadata": {},
   "outputs": [
    {
     "name": "stdout",
     "output_type": "stream",
     "text": [
      "{'message': 'Success', 'status': 200, 'data': {'accessToken': 'eyJhbGciOiJSUzI1NiIsInR5cCI6IkpXVCJ9.ewogICJhdWQiOiAiNjVlYzBiYzFjNjJjNGM0MTg4MTM1MzE5NTU5NTM4YzIiLAogICJpYXQiOiAxNzA0ODA3MDE0LAogICJleHAiOiAxNzA0ODM1ODE0LAogICJzY29wZSI6IHsKICAgICJJcCI6IHsKICAgICAgIklwQWRyZXNzIjogIiIsCiAgICAgICJJc1ZhbGlkIjogdHJ1ZQogICAgfSwKICAgICJUYXJnZXQiOiBbCiAgICAgIHsKICAgICAgICAiVGFyZ2V0SWQiOiAiMGMyZTRhN2JlZDYxNDdiMzllZTdmM2UyZTcyNGNiMzIiLAogICAgICAgICJUYXJnZXRVcmwiOiAiaHR0cHM6Ly9mYy10cmFkZWFwaS5zc2kuY29tLnZuIiwKICAgICAgICAiQ29ubmVjdGlvbk5hbWUiOiAiRkNUcmFkaW5nIgogICAgICB9LAogICAgICB7CiAgICAgICAgIlRhcmdldElkIjogIjVkMWI4OWNiZDc3YTQ1ZTQ5MzkyOWFhMTZlZWM5N2M1IiwKICAgICAgICAiVGFyZ2V0VXJsIjogImh0dHBzOi8vZmMtZGF0YS5zc2kuY29tLnZuIiwKICAgICAgICAiQ29ubmVjdGlvbk5hbWUiOiAiRkNEYXRhIgogICAgICB9CiAgICBdCiAgfSwKICAiY2xpIjogIlVzZXJBcHAyNjU0MjUiLAogICJzdWIiOiAiMjY1NDI1Igp9.Ezk7QWhqMSMDa0DurcFObRkBw7FmMf1t1L_OvLXdryLVm0ysjpqKBJ3qevy4162LZ61vAHEQcY-tU262d4bAxJHVATH--Q_Qh1YB__UPSRMcia0b4csVyR_0Qfoh3NYbe6dRloXDDQaawG_QNi9UOAU2VG-O0A7zQz9g0lPthwHObXGva3DbGYgdxoLqGsaOiQCWji1GRHJVewqKs-bJiS8Fgy9v0ReL7Qpq0tSwt3yVjZL5bYmgCdTpqgidjuTj9ALPs5KWOPP9fF5rroeBOFTP4Ssj52RK50G0hHe_y0ndOhPA4jxrUKUSNJSR3mF8ZeZgca52rzp3DhSWLz_Dag'}}\n"
     ]
    }
   ],
   "source": [
    "# import ssi_fc_trading\n",
    "from ssi_fc_data import fc_md_client , model\n",
    "import configDataSSL\n",
    "\n",
    "client = fc_md_client.MarketDataClient(configDataSSL)\n",
    "def md_access_token():\n",
    "\tprint(client.access_token(model.accessToken(configDataSSL.consumerID, configDataSSL.consumerSecret)))\n",
    "\n",
    "md_access_token()"
   ]
  },
  {
   "cell_type": "code",
   "execution_count": 1,
   "metadata": {},
   "outputs": [
    {
     "name": "stdout",
     "output_type": "stream",
     "text": [
      "Empty DataFrame\n",
      "Columns: []\n",
      "Index: []\n"
     ]
    }
   ],
   "source": [
    "# Import necessary modules\n",
    "from ssi_fc_data import fc_md_client, model\n",
    "import pandas as pd  # Import Pandas for DataFrame handling\n",
    "import json\n",
    "import configDataSSL\n",
    "\n",
    "# Create a Market Data Client\n",
    "client = fc_md_client.MarketDataClient(configDataSSL)\n",
    "\n",
    "# Create a request for daily stock price data\n",
    "req = model.daily_stock_price('VCB', \"09/01/2023\", \"09/01/2023\") # Lay 1 ngay\n",
    "\n",
    "# Request daily stock price data using the Market Data Client\n",
    "data_dict = client.daily_stock_price(configDataSSL, req)\n",
    "\n",
    "# Access the list of dictionaries in the \"data\" field\n",
    "data_list = data_dict['data']\n",
    "\n",
    "# Convert the list of dictionaries into a DataFrame\n",
    "df = pd.DataFrame(data_list)\n",
    "\n",
    "# Print or work with the DataFrame\n",
    "print(df)\n"
   ]
  },
  {
   "cell_type": "code",
   "execution_count": 10,
   "metadata": {},
   "outputs": [
    {
     "name": "stdout",
     "output_type": "stream",
     "text": [
      "   Symbol Market TradingDate  Time   Open   High    Low  Close   Volume  \\\n",
      "0     VCB   HOSE  05/09/2023  None  89100  90700  89100  90100  1942200   \n",
      "1     VCB   HOSE  06/09/2023  None  90200  90200  89700  90200  2017600   \n",
      "2     VCB   HOSE  07/09/2023  None  90000  90800  89500  89500  1765300   \n",
      "3     VCB   HOSE  08/09/2023  None  89500  89500  89100  89500  1341900   \n",
      "4     VCB   HOSE  11/09/2023  None  89600  90000  88000  88500  1649500   \n",
      "5     VCB   HOSE  12/09/2023  None  89000  90000  88900  89900  1572100   \n",
      "6     VCB   HOSE  13/09/2023  None  90000  90000  88900  89100  1582000   \n",
      "7     VCB   HOSE  14/09/2023  None  89000  89500  88100  89100  1512600   \n",
      "8     VCB   HOSE  15/09/2023  None  88900  89800  88600  89800  2142400   \n",
      "9     VCB   HOSE  18/09/2023  None  89500  89700  88300  88800   718100   \n",
      "10    VCB   HOSE  19/09/2023  None  88800  89200  86000  88100  1117200   \n",
      "\n",
      "                Value  \n",
      "0        174726890000  \n",
      "1   181566640000.0010  \n",
      "2        158928000000  \n",
      "3   119997800000.0010  \n",
      "4   147118400000.0010  \n",
      "5   140505139999.9990  \n",
      "6        141534340000  \n",
      "7        134027750000  \n",
      "8   191698079999.9990  \n",
      "9    63680829999.9995  \n",
      "10   97884730000.0004  \n"
     ]
    }
   ],
   "source": [
    "# Import necessary modules\n",
    "from ssi_fc_data import fc_md_client, model\n",
    "import pandas as pd  # Import Pandas for DataFrame handling\n",
    "import json\n",
    "import configDataSSL\n",
    "\n",
    "# Create a Market Data Client\n",
    "client = fc_md_client.MarketDataClient(configDataSSL)\n",
    "\n",
    "req = model.daily_ohlc('VCB', \"01/09/2023\", \"19/09/2023\")\n",
    "\n",
    "data_dict = client.daily_ohlc(configDataSSL, req)\n",
    "# Access the list of dictionaries in the \"data\" field\n",
    "data_list = data_dict['data']\n",
    "\n",
    "# Convert the list of dictionaries into a DataFrame\n",
    "df = pd.DataFrame(data_list)\n",
    "\n",
    "# Print or work with the DataFrame\n",
    "print(df)"
   ]
  },
  {
   "cell_type": "code",
   "execution_count": 11,
   "metadata": {},
   "outputs": [
    {
     "name": "stdout",
     "output_type": "stream",
     "text": [
      "   Symbol  Value TradingDate      Time   Open   High    Low  Close Volume\n",
      "0     VCB  84600  27/10/2023  09:15:59  84600  84600  84600  84600   9600\n",
      "1     VCB  84600  27/10/2023  09:16:43  84600  84600  84600  84600    400\n",
      "2     VCB  84500  27/10/2023  09:17:59  84600  84600  84500  84500   6500\n",
      "3     VCB  84500  27/10/2023  09:18:53  84500  84500  84500  84500    200\n",
      "4     VCB  84600  27/10/2023  09:19:27  84500  84600  84500  84600    200\n",
      "..    ...    ...         ...       ...    ...    ...    ...    ...    ...\n",
      "95    VCB  84100  27/10/2023  10:50:45  84100  84100  84100  84100    400\n",
      "96    VCB  84100  27/10/2023  10:51:55  84100  84100  84100  84100    600\n",
      "97    VCB  84100  27/10/2023  10:52:30  84200  84200  84100  84100    700\n",
      "98    VCB  84100  27/10/2023  10:53:46  84100  84100  84100  84100    700\n",
      "99    VCB  84100  27/10/2023  10:54:59  84100  84100  84100  84100   1500\n",
      "\n",
      "[100 rows x 9 columns]\n"
     ]
    }
   ],
   "source": [
    "# Import necessary modules\n",
    "from ssi_fc_data import fc_md_client, model\n",
    "import pandas as pd  # Import Pandas for DataFrame handling\n",
    "import json\n",
    "import configDataSSL\n",
    "\n",
    "# Create a Market Data Client\n",
    "client = fc_md_client.MarketDataClient(configDataSSL)\n",
    "\n",
    "req = model.intraday_ohlc('VCB', '27/10/2023', '27/10/2023')\n",
    "\n",
    "data_dict = client.intraday_ohlc(configDataSSL, req)\n",
    "# Access the list of dictionaries in the \"data\" field\n",
    "data_list = data_dict['data']\n",
    "\n",
    "# Convert the list of dictionaries into a DataFrame\n",
    "df = pd.DataFrame(data_list)\n",
    "\n",
    "# Print or work with the DataFrame\n",
    "print(df)"
   ]
  },
  {
   "cell_type": "markdown",
   "metadata": {},
   "source": [
    "# Lay nguyen 1 nam"
   ]
  },
  {
   "cell_type": "code",
   "execution_count": 1,
   "metadata": {},
   "outputs": [],
   "source": [
    "import sys\n",
    "sys.path.append('../Common/')\n",
    "\n",
    "import CommonSSI"
   ]
  },
  {
   "cell_type": "code",
   "execution_count": 2,
   "metadata": {},
   "outputs": [
    {
     "name": "stderr",
     "output_type": "stream",
     "text": [
      "g:\\My Drive\\0. Day ben ngoai (___)\\Day Cole\\Khoa ML for invesment - Thanhdt (11.2023)\\Buổi 4. Chung khoan VN, Forex\\../Common\\CommonSSI.py:80: FutureWarning: The frame.append method is deprecated and will be removed from pandas in a future version. Use pandas.concat instead.\n",
      "  data = data.append(pd.DataFrame(data_list), ignore_index=True)\n",
      "g:\\My Drive\\0. Day ben ngoai (___)\\Day Cole\\Khoa ML for invesment - Thanhdt (11.2023)\\Buổi 4. Chung khoan VN, Forex\\../Common\\CommonSSI.py:80: FutureWarning: The frame.append method is deprecated and will be removed from pandas in a future version. Use pandas.concat instead.\n",
      "  data = data.append(pd.DataFrame(data_list), ignore_index=True)\n",
      "g:\\My Drive\\0. Day ben ngoai (___)\\Day Cole\\Khoa ML for invesment - Thanhdt (11.2023)\\Buổi 4. Chung khoan VN, Forex\\../Common\\CommonSSI.py:80: FutureWarning: The frame.append method is deprecated and will be removed from pandas in a future version. Use pandas.concat instead.\n",
      "  data = data.append(pd.DataFrame(data_list), ignore_index=True)\n",
      "g:\\My Drive\\0. Day ben ngoai (___)\\Day Cole\\Khoa ML for invesment - Thanhdt (11.2023)\\Buổi 4. Chung khoan VN, Forex\\../Common\\CommonSSI.py:80: FutureWarning: The frame.append method is deprecated and will be removed from pandas in a future version. Use pandas.concat instead.\n",
      "  data = data.append(pd.DataFrame(data_list), ignore_index=True)\n"
     ]
    },
    {
     "name": "stdout",
     "output_type": "stream",
     "text": [
      "       Datetime   Open   High    Low  Close    Volume\n",
      "0    03/01/2023  17125  18184  17125  18184  18046200\n",
      "1    04/01/2023  18472  18761  18232  18280  10680500\n",
      "2    05/01/2023  18424  18617  17991  18569  13309500\n",
      "3    06/01/2023  18569  18857  18184  18184  13143700\n",
      "4    09/01/2023  18376  18617  18136  18280   9711500\n",
      "..          ...    ...    ...    ...    ...       ...\n",
      "247  26/12/2023  32600  32900  32500  32750  14005700\n",
      "248  27/12/2023  32950  33150  32800  32800  16101500\n",
      "249  27/12/2023  32950  33150  32800  32800  16101500\n",
      "250  28/12/2023  32850  33150  32650  33000  10895900\n",
      "251  29/12/2023  32950  33100  32750  32800  12790300\n",
      "\n",
      "[252 rows x 6 columns]\n"
     ]
    },
    {
     "name": "stderr",
     "output_type": "stream",
     "text": [
      "g:\\My Drive\\0. Day ben ngoai (___)\\Day Cole\\Khoa ML for invesment - Thanhdt (11.2023)\\Buổi 4. Chung khoan VN, Forex\\../Common\\CommonSSI.py:80: FutureWarning: The frame.append method is deprecated and will be removed from pandas in a future version. Use pandas.concat instead.\n",
      "  data = data.append(pd.DataFrame(data_list), ignore_index=True)\n"
     ]
    }
   ],
   "source": [
    "# Ví dụ: Gọi hàm để lấy dữ liệu từ '2023-01-01' đến '2023-12-31'\n",
    "symbol = \"SSI\"\n",
    "from_date = \"2023-01-01\"\n",
    "to_date = \"2023-12-31\"\n",
    "data = CommonSSI.CommonSSI.loaddataSSI_Ext(symbol, from_date, to_date)\n",
    "print(data)"
   ]
  }
 ],
 "metadata": {
  "kernelspec": {
   "display_name": "Python 3",
   "language": "python",
   "name": "python3"
  },
  "language_info": {
   "codemirror_mode": {
    "name": "ipython",
    "version": 3
   },
   "file_extension": ".py",
   "mimetype": "text/x-python",
   "name": "python",
   "nbconvert_exporter": "python",
   "pygments_lexer": "ipython3",
   "version": "3.11.6"
  },
  "orig_nbformat": 4
 },
 "nbformat": 4,
 "nbformat_minor": 2
}
