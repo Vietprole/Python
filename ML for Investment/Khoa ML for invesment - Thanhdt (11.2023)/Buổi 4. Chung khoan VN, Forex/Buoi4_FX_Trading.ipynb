{
 "cells": [
  {
   "cell_type": "markdown",
   "metadata": {},
   "source": [
    "# Dat lenh buy"
   ]
  },
  {
   "cell_type": "code",
   "execution_count": 1,
   "metadata": {},
   "outputs": [
    {
     "name": "stdout",
     "output_type": "stream",
     "text": [
      "Order placed BUY successfully!\n",
      "OrderSendResult(retcode=10009, deal=2203205985, order=2210332825, volume=0.01, price=146.147, bid=0.0, ask=0.0, comment='Request executed', request_id=565648836, retcode_external=0, request=TradeRequest(action=1, magic=234000, order=0, symbol='USDJPYc', volume=0.01, price=146.147, stoplimit=0.0, sl=145.74699999999999, tp=146.34699999999998, deviation=20, type=0, type_filling=0, type_time=0, expiration=0, comment='thanhdt', position=0, position_by=0))\n"
     ]
    }
   ],
   "source": [
    "# Hàm để đặt một lệnh mua\n",
    "import MetaTrader5 as mt5\n",
    "  \n",
    "if not mt5.initialize(login=45572613, password='G8ndxL&E', server='HFMarketsGlobal-Live1'): # Hotforex Real\n",
    "    print(\"Initialize() failed, error code =\", mt5.last_error())\n",
    "    quit()\n",
    "else:\n",
    "    symbol = 'USDJPYc'\n",
    "    lot = 0.01  # Số lượng lô mà bạn muốn mua\n",
    "    if not mt5.symbol_select(symbol, True): # \n",
    "        print(f\"Failed to select {symbol}, error code =\", mt5.last_error())\n",
    "        quit()\n",
    "\n",
    "    symbol_info = mt5.symbol_info(symbol)\n",
    "    if symbol_info is None:\n",
    "        print(f\"{symbol} not found\")        \n",
    "\n",
    "    point = symbol_info.point\n",
    "    price = mt5.symbol_info_tick(symbol).ask\n",
    "    deviation = 20  # Độ lệch giá cho phép\n",
    "\n",
    "    request = {\n",
    "        \"action\": mt5.TRADE_ACTION_DEAL,\n",
    "        \"symbol\": symbol,\n",
    "        \"volume\": lot,\n",
    "        \"type\": mt5.ORDER_TYPE_BUY,\n",
    "        \"price\": price,\n",
    "        \"sl\": price - 400 * point,  # Lệnh dừng lỗ (Stop Loss)\n",
    "        \"tp\": price + 200 * point,  # Lệnh chốt lời (Take Profit)\n",
    "        \"deviation\": deviation,\n",
    "        \"magic\": 234000,\n",
    "        \"comment\": \"thanhdt\",\n",
    "        \"type_time\": mt5.ORDER_TIME_GTC,\n",
    "        # \"type_filling\": mt5.ORDER_FILLING_IOC,\n",
    "        \"type_filling\": mt5.ORDER_FILLING_FOK,        \n",
    "    }\n",
    "\n",
    "    result = mt5.order_send(request)\n",
    "    if result.retcode != mt5.TRADE_RETCODE_DONE:\n",
    "        print(\"Failed to send order :\", result.retcode, result._asdict())\n",
    "    else:\n",
    "        print(\"Order placed BUY successfully!\")\n",
    "        print(result)\n",
    "\n",
    "    # Đóng kết nối với MT5\n",
    "    mt5.shutdown()"
   ]
  },
  {
   "cell_type": "markdown",
   "metadata": {},
   "source": [
    "# Dat lenh sell"
   ]
  },
  {
   "cell_type": "code",
   "execution_count": null,
   "metadata": {},
   "outputs": [],
   "source": [
    "# Hàm để đặt một lệnh bán\n",
    "import MetaTrader5 as mt5\n",
    "  \n",
    "if not mt5.initialize(login=45572613, password='G8ndxL&E', server='mt5-europe1.dcglobalfarm.com:1951'): # Hotforex Real\n",
    "    print(\"Initialize() failed, error code =\", mt5.last_error())\n",
    "    quit()\n",
    "else:\n",
    "    lot = 0.05  # Số lượng lô mà bạn muốn mua\n",
    "    if not mt5.symbol_select(symbol, True): # \n",
    "        print(f\"Failed to select {symbol}, error code =\", mt5.last_error())\n",
    "        quit()\n",
    "\n",
    "    symbol_info = mt5.symbol_info(symbol)\n",
    "    if symbol_info is None:\n",
    "        print(f\"{symbol} not found\")           \n",
    "   \n",
    "    point = symbol_info.point\n",
    "    price = mt5.symbol_info_tick(symbol).bid  # Sử dụng giá bid cho lệnh bán\n",
    "    deviation = 20  # Độ lệch giá cho phép\n",
    "\n",
    "    request = {\n",
    "        \"action\": mt5.TRADE_ACTION_DEAL,\n",
    "        \"symbol\": symbol,\n",
    "        \"volume\": lot,\n",
    "        \"type\": mt5.ORDER_TYPE_SELL,\n",
    "        \"price\": price,\n",
    "        \"sl\": price + 400 * point,  # Lệnh dừng lỗ (Stop Loss) cho lệnh bán\n",
    "        \"tp\": price - 200 * point,  # Lệnh chốt lời (Take Profit) cho lệnh bán\n",
    "        \"deviation\": deviation,\n",
    "        \"magic\": 234000,\n",
    "        \"comment\": \"ABC\",\n",
    "        \"type_time\": mt5.ORDER_TIME_GTC,\n",
    "        # \"type_filling\": mt5.ORDER_FILLING_IOC,\n",
    "        \"type_filling\": mt5.ORDER_FILLING_FOK,\n",
    "        # ORDER_FILLING_RETURN \n",
    "    }\n",
    "\n",
    "    result = mt5.order_send(request)\n",
    "    if result.retcode != mt5.TRADE_RETCODE_DONE:\n",
    "        print(\"Failed to send order :\", result.retcode, result._asdict())\n",
    "    else:\n",
    "        print(\"Order placed SELL successfully!\")\n",
    "        print(result)\n",
    "\n",
    "    # Đóng kết nối với MT5\n",
    "    mt5.shutdown()"
   ]
  }
 ],
 "metadata": {
  "kernelspec": {
   "display_name": "Python 3",
   "language": "python",
   "name": "python3"
  },
  "language_info": {
   "codemirror_mode": {
    "name": "ipython",
    "version": 3
   },
   "file_extension": ".py",
   "mimetype": "text/x-python",
   "name": "python",
   "nbconvert_exporter": "python",
   "pygments_lexer": "ipython3",
   "version": "3.11.6"
  }
 },
 "nbformat": 4,
 "nbformat_minor": 2
}
