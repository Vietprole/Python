{
 "cells": [
  {
   "cell_type": "markdown",
   "metadata": {},
   "source": [
    "# Login lay token"
   ]
  },
  {
   "cell_type": "code",
   "execution_count": 1,
   "metadata": {},
   "outputs": [
    {
     "name": "stdout",
     "output_type": "stream",
     "text": [
      "Login successful. Your access token is: eyJ0eXAiOiJKV1QiLCJhbGciOiJSUzI1NiJ9.eyJzdWIiOiIxMDAwNzY2NTcxIiwiYXV0aFNvdXJjZSI6bnVsbCwicm9sZXMiOlsiaW52ZXN0b3IiXSwiaXNzIjoiRE5TRSIsImludmVzdG9ySWQiOiIxMDAwNzY2NTcxIiwiZnVsbE5hbWUiOiLEkOG6t25nIFRyw60gVGhhbmgiLCJzZXNzaW9uSWQiOiJiNjgxNDgwNi00MDUzLTRiZDctOTRkMC1iMTA5NTI1ZThiZDMiLCJ1c2VySWQiOiJmYTZmNTk2ZS1iYWMyLTQxYmYtYWE3Ni03N2U2NTFlMDhlOGIiLCJhdWQiOlsiYXVkaWVuY2UiXSwiY3VzdG9tZXJFbWFpbCI6InRoYW5oZHQ5Mjc5QGdtYWlsLmNvbSIsImN1c3RvZHlDb2RlIjoiMDY0QzExNjc4OCIsImN1c3RvbWVySWQiOiIwMDAxNjA1MDk1IiwiZXhwIjoxNzA2ODY5ODg5LCJjdXN0b21lck1vYmlsZSI6IjA5MDMwMTY3ODgiLCJpYXQiOjE3MDY4NDEwODksInVzZXJuYW1lIjoiMDY0QzExNjc4OCIsInN0YXR1cyI6IkFDVElWRSJ9.CH0B_BoPjwVBeA3kRE_jW1qhEyLzEpYWriPyo3IuWJMPnQ-iyHt1n6pZH5oeUq1SFURPTI5ArjDDSs8EzDEGnslBhDQtAQD6s6Gy-lTjrcuDXmREl5v9muJTDvL813qXwbVPha9ecQVrY38PmufQd-PKmXQuPeR_9lPuWYfpwCs\n"
     ]
    }
   ],
   "source": [
    "import requests\n",
    "\n",
    "# URL for the login endpoint\n",
    "login_url = 'https://services.entrade.com.vn/dnse-auth-service/login'\n",
    "\n",
    "# Your credentials (replace with your actual username and password)\n",
    "username = 'thanhdt9279@gmail.com'\n",
    "password = '123456Qaz1!'\n",
    "\n",
    "# The data to send with the POST request\n",
    "login_data = {\n",
    "    'username': username,\n",
    "    'password': password\n",
    "}\n",
    "\n",
    "# Make the POST request to the login endpoint\n",
    "response = requests.post(login_url, json=login_data)\n",
    "token = ''\n",
    "# Check if the response is successful\n",
    "if response.status_code == 200:\n",
    "    # Extract the token from the response\n",
    "    token = response.json().get('token')\n",
    "    print('Login successful. Your access token is:', token)\n",
    "else:\n",
    "    print('Login failed with status code:', response, response.status_code)\n"
   ]
  },
  {
   "cell_type": "markdown",
   "metadata": {},
   "source": [
    "# Lay thong tin tai khoan"
   ]
  },
  {
   "cell_type": "code",
   "execution_count": 2,
   "metadata": {},
   "outputs": [
    {
     "name": "stdout",
     "output_type": "stream",
     "text": [
      "{'id': '1000766571', 'investorId': '1000766571', 'name': 'Đặng Trí Thanh', 'custodyCode': '064C116788', 'email': 'thanhdt9279@gmail.com', 'unverifiedEmail': 'thanhdt9279@gmail.com', 'mobile': '0903016788', 'status': 'ACTIVE', 'createdDate': '2023-09-02T04:03:11.678Z', 'modifiedDate': '2024-01-31T05:40:38.198Z', 'enId': 'fa6f596e-bac2-41bf-aa76-77e651e08e8b', 'identificationCode': '086083004687', 'identificationDate': '2022-01-12T00:00:00Z', 'identificationExpiredDate': '2043-07-02T00:00:00Z', 'identificationPlace': 'Cục CS QLHC về TTXH', 'birthday': '1983-07-02T00:00:00Z', 'address': 'Ấp Tường Nghĩa, Xã Thới Hoà, Huyện Trà Ôn, Tỉnh Vĩnh Long', 'gender': 'MALE', 'flexCustomerId': '0001605095', 'smartOtpRegistrationId': '31e0105', 'userApproveType': 'AUTO_APPROVED', 'referralCode': '116788', 'referralUrl': 'https://s.dnse.vn/0z5lSQ', 'avatarUrl': 'https://lh3.googleusercontent.com/X6AbOGnOt3X4uvqiQ6rp_JHiocLzTXxiziKbBVjl5rvisXOQtNiKQy6Y9d1ijm0T5WBLsGGmom-BfsdRTt2B_CgtZHk7URHl91BEv2vCzA', 'registeredSmartOtp': True, 'needToChangePassword': False, 'isEmailVerified': True}\n"
     ]
    }
   ],
   "source": [
    "import requests\n",
    "\n",
    "# Replace 'your_actual_jwt_token_here' with your actual JWT token received from the login API.\n",
    "jwt_token = token\n",
    "\n",
    "# The headers for the GET request\n",
    "headers = {\n",
    "    'Content-Type': 'application/json',\n",
    "    'Authorization': f'Bearer {jwt_token}'\n",
    "}\n",
    "\n",
    "# The URL for the GET request to retrieve user information\n",
    "url = 'https://services.entrade.com.vn/dnse-user-service/api/me'\n",
    "\n",
    "# Make the GET request\n",
    "response = requests.get(url, headers=headers)\n",
    "\n",
    "# Check the response status code\n",
    "if response.status_code == 200:\n",
    "    # If the response is OK, print the content\n",
    "    print(response.json())\n",
    "else:\n",
    "    # If the response is not OK, print the status code\n",
    "    print(f'Failed to retrieve data: {response.status_code}')\n"
   ]
  },
  {
   "cell_type": "markdown",
   "metadata": {},
   "source": [
    "# Lay thong tin tieu khoan"
   ]
  },
  {
   "cell_type": "code",
   "execution_count": 3,
   "metadata": {},
   "outputs": [
    {
     "name": "stdout",
     "output_type": "stream",
     "text": [
      "0001622025\n",
      "{'default': {'id': '0001622025', 'custodyCode': '064C116788', 'investorId': '1000766571', 'name': 'Đặng Trí Thanh', 'accountType': '0449', 'currency': 'VND', 'accountTypeName': 'SpaceX', 'accountTypeBriefName': 'Loại hình: Giao dịch theo DEAL; Phí giao dịch không vay: miễn phí', 'marginAccount': True, 'dealAccount': True, 'derivativeAccount': True, 'derivative': {'status': 'ACTIVE'}, 'properties': {'Loại hình': 'Giao dịch theo DEAL', 'Phí giao dịch không vay': 'miễn phí'}}, 'accounts': [{'id': '0001622025', 'custodyCode': '064C116788', 'investorId': '1000766571', 'name': 'Đặng Trí Thanh', 'accountType': '0449', 'currency': 'VND', 'accountTypeName': 'SpaceX', 'accountTypeBriefName': 'Loại hình: Giao dịch theo DEAL; Phí giao dịch không vay: miễn phí', 'marginAccount': True, 'dealAccount': True, 'derivativeAccount': True, 'derivative': {'status': 'ACTIVE'}, 'properties': {'Loại hình': 'Giao dịch theo DEAL', 'Phí giao dịch không vay': 'miễn phí'}}]}\n"
     ]
    }
   ],
   "source": [
    "import requests\n",
    "\n",
    "# Replace with your actual JWT token\n",
    "jwt_token = token\n",
    "\n",
    "# The headers to be sent with the request\n",
    "headers = {\n",
    "    'Content-Type': 'application/json',\n",
    "    'Authorization': f'Bearer {jwt_token}'\n",
    "}\n",
    "\n",
    "# The URL for the GET request\n",
    "url = 'https://services.entrade.com.vn/dnse-order-service/accounts'\n",
    "\n",
    "# Perform the GET request\n",
    "response = requests.get(url, headers=headers)\n",
    "\n",
    "tieukhoan = ''\n",
    "\n",
    "# Check the status code to see if the request was successful\n",
    "if response.status_code == 200:\n",
    "    # If the request was successful, print the returned data\n",
    "    tieukhoan = response.json()['default']['id']\n",
    "    print(tieukhoan)\n",
    "    print(response.json())\n",
    "else:\n",
    "    # If the request failed, print the status code\n",
    "    print(f'Failed to retrieve accounts. Status code: {response.status_code}')\n"
   ]
  },
  {
   "cell_type": "markdown",
   "metadata": {},
   "source": [
    "# Lay thong tin tien"
   ]
  },
  {
   "cell_type": "code",
   "execution_count": 4,
   "metadata": {},
   "outputs": [
    {
     "name": "stdout",
     "output_type": "stream",
     "text": [
      "{'investorId': '1000766571', 'custodyCode': '064C116788', 'investorAccountId': '0001622025', 'totalCash': 0, 'availableCash': 0, 'termDeposit': 0, 'depositInterest': 0, 'stockValue': 0, 'marginableAmount': 0, 'nonMarginableAmount': 0, 'totalDebt': 0, 'netAssetValue': 0, 'receivingAmount': 0, 'secureAmount': 0, 'depositFeeAmount': 0, 'maxLoanLimit': 20000000000, 'withdrawableCash': 0, 'collateralValue': 0, 'orderSecured': 0, 'purchasingPower': 0, 'cashDividendReceiving': 0, 'marginDebt': 0.0, 'marginRate': 10000000.0, 'ppWithdraw': 0, 'blockMoney': 0, 'totalRemainDebt': 0.0, 'totalUnrealizedDebt': 0.0, 'id': '0001622025'}\n"
     ]
    }
   ],
   "source": [
    "import requests\n",
    "\n",
    "# Replace with your actual account information and JWT token\n",
    "account = tieukhoan\n",
    "jwt_token = token\n",
    "\n",
    "# Set up the headers with the content type and the authorization token\n",
    "headers = {\n",
    "    'Content-Type': 'application/json',\n",
    "    'Authorization': f'Bearer {jwt_token}'\n",
    "}\n",
    "\n",
    "# The URL for the GET request\n",
    "url = f'https://services.entrade.com.vn/dnse-order-service/account-balances/{account}'\n",
    "\n",
    "# Perform the GET request\n",
    "response = requests.get(url, headers=headers)\n",
    "\n",
    "# Check if the request was successful\n",
    "if response.status_code == 200:\n",
    "    # Print the response content if successful\n",
    "    print(response.json())\n",
    "else:\n",
    "    # Print an error message if not successful\n",
    "    print(f'Failed to retrieve data with status code: {response.status_code}')\n"
   ]
  },
  {
   "cell_type": "markdown",
   "metadata": {},
   "source": [
    "# Giao dich: B1: Lay OTP ; B2: Lay tradingToken ; B3: Lay thong tin khoan vay ; B4: Giao dich"
   ]
  },
  {
   "cell_type": "markdown",
   "metadata": {},
   "source": [
    "OTP"
   ]
  },
  {
   "cell_type": "code",
   "execution_count": 4,
   "metadata": {},
   "outputs": [
    {
     "name": "stdout",
     "output_type": "stream",
     "text": [
      "Lay OTP tren Email ra\n"
     ]
    }
   ],
   "source": [
    "import requests\n",
    "\n",
    "# Your JWT token obtained from the login API\n",
    "jwt_token = token\n",
    "\n",
    "# The URL for the email OTP API\n",
    "url = 'https://services.entrade.com.vn/dnse-auth-service/api/email-otp'\n",
    "\n",
    "# The headers including the authorization token\n",
    "headers = {\n",
    "    'Authorization': f'Bearer {jwt_token}',\n",
    "    'Content-Type': 'application/json'\n",
    "}\n",
    "\n",
    "# Make the GET request\n",
    "response = requests.get(url, headers=headers)\n",
    "\n",
    "# Check if the response is successful\n",
    "if response.status_code == 200:\n",
    "    # Print the response data if successful\n",
    "    print('Lay OTP tren Email ra')\n",
    "    # print(response.json())\n",
    "else:\n",
    "    # Print an error message if the request failed\n",
    "    print(f'Failed to get email OTP. Status code: {response.status_code}')\n",
    "    print(response.text)\n"
   ]
  },
  {
   "cell_type": "markdown",
   "metadata": {},
   "source": [
    "Trading Token"
   ]
  },
  {
   "cell_type": "code",
   "execution_count": 5,
   "metadata": {},
   "outputs": [
    {
     "name": "stdout",
     "output_type": "stream",
     "text": [
      "{'tradingToken': '56e49074-504e-42ad-a2d0-3e32ab4ae0d0'}\n"
     ]
    }
   ],
   "source": [
    "import requests\n",
    "\n",
    "# Your JWT token obtained from the login API\n",
    "jwt_token = token\n",
    "\n",
    "# The OTP from your email\n",
    "otp_from_email = '725247'\n",
    "\n",
    "# The URL for the trading token API\n",
    "url = 'https://services.entrade.com.vn/dnse-order-service/trading-token'\n",
    "\n",
    "# The headers including the authorization token and OTP\n",
    "headers = {\n",
    "    'Authorization': f'Bearer {jwt_token}',\n",
    "    'Content-Type': 'application/json',\n",
    "    'otp': otp_from_email\n",
    "}\n",
    "\n",
    "# The payload is empty as per the curl command\n",
    "payload = {}\n",
    "\n",
    "# Make the POST request\n",
    "response = requests.post(url, headers=headers, json=payload)\n",
    "\n",
    "# Check if the response is successful\n",
    "tradingToken = ''\n",
    "if response.status_code == 200:\n",
    "    # Print the response data if successful\n",
    "    tradingToken = response.json()['tradingToken']\n",
    "    print(response.json())\n",
    "else:\n",
    "    # Print an error message if the request failed\n",
    "    print(f'Failed to get trading token. Status code: {response.status_code}')\n",
    "    print(response.text)\n"
   ]
  },
  {
   "cell_type": "markdown",
   "metadata": {},
   "source": [
    "Khoan vay"
   ]
  },
  {
   "cell_type": "code",
   "execution_count": 14,
   "metadata": {},
   "outputs": [
    {
     "name": "stdout",
     "output_type": "stream",
     "text": [
      "{'loanPackages': [{'id': 1037, 'name': 'RocketX KQ 50%', 'type': 'M', 'initialRate': 0.5, 'initialRateForWithdraw': 0.0, 'maintenanceRate': 0.4, 'liquidRate': 0.3, 'interestRate': 0.115, 'preferentialPeriod': 0, 'preferentialInterestRate': 0.0, 'term': 180, 'allowExtendLoanTerm': True, 'allowEarlyPayment': True, 'brokerFirmBuyingFeeRate': 0.00045, 'brokerFirmSellingFeeRate': 0.00045, 'transferFee': 0.3, 'description': 'Lãi suất 13% áp dụng cho các khoản giải ngân trước ngày 23.10.2023', 'symbols': ['AAA', 'ACB', 'AGR', 'ANV', 'BFC', 'BID', 'BMI', 'BMP', 'BVH', 'BVS', 'BWE', 'CII', 'CSC', 'CSV', 'CTD', 'CTG', 'D2D', 'DBC', 'DCM', 'DGC', 'DGW', 'DHA', 'DHC', 'DPM', 'DPR', 'DRC', 'EIB', 'FCN', 'FMC', 'FPT', 'FTS', 'GEX', 'GMD', 'GVR', 'HAH', 'HCM', 'HDB', 'HDC', 'HDG', 'IDC', 'IJC', 'KBC', 'KDH', 'KSB', 'LPB', 'MBS', 'MIG', 'MSB', 'MSN', 'NLG', 'NT2', 'NTL', 'OCB', 'ORS', 'PAN', 'PC1', 'PET', 'PHR', 'PLX', 'PNJ', 'POW', 'PTB', 'PVD', 'PVI', 'PVS', 'PVT', 'REE', 'SAB', 'SBT', 'SHB', 'SHS', 'SKG', 'STK', 'SZC', 'TCH', 'TDM', 'TLG', 'TNG', 'TPB', 'TV2', 'VCB', 'VCG', 'VCI', 'VCS', 'VGC', 'VHC', 'VHM', 'VIB', 'VIX', 'VPB', 'VRE', 'VSC'], 'basketId': 1040}, {'id': 1041, 'name': 'Rocket 10 ngày KQ 50%', 'type': 'M', 'initialRate': 0.5, 'initialRateForWithdraw': 0.0, 'maintenanceRate': 0.4, 'liquidRate': 0.3, 'interestRate': 0.15, 'preferentialPeriod': 10, 'preferentialInterestRate': 0.0, 'term': 90, 'allowExtendLoanTerm': True, 'allowEarlyPayment': True, 'brokerFirmBuyingFeeRate': 0.00045, 'brokerFirmSellingFeeRate': 0.00045, 'transferFee': 0.3, 'description': '', 'symbols': ['AAA', 'ACB', 'AGR', 'ANV', 'BFC', 'BID', 'BMI', 'BMP', 'BVH', 'BVS', 'BWE', 'CII', 'CSC', 'CSV', 'CTD', 'CTG', 'D2D', 'DBC', 'DCM', 'DGC', 'DGW', 'DHA', 'DHC', 'DPM', 'DPR', 'DRC', 'EIB', 'FCN', 'FMC', 'FPT', 'FTS', 'GAS', 'GEX', 'GMD', 'GVR', 'HAH', 'HCM', 'HDB', 'HDC', 'HDG', 'HPG', 'IDC', 'IJC', 'KBC', 'KDH', 'KSB', 'LPB', 'MBB', 'MBS', 'MIG', 'MSB', 'MSN', 'MWG', 'NLG', 'NT2', 'NTL', 'OCB', 'ORS', 'PAN', 'PC1', 'PET', 'PHR', 'PLX', 'PNJ', 'POW', 'PTB', 'PVD', 'PVI', 'PVS', 'PVT', 'REE', 'SAB', 'SBT', 'SHB', 'SHS', 'SKG', 'SSI', 'STB', 'STK', 'SZC', 'TCB', 'TCH', 'TDM', 'TLG', 'TNG', 'TPB', 'TV2', 'VCB', 'VCG', 'VCI', 'VCS', 'VGC', 'VHC', 'VHM', 'VIB', 'VIC', 'VIX', 'VND', 'VNM', 'VPB', 'VRE', 'VSC'], 'basketId': 1485}, {'id': 1442, 'name': 'Rocket 10 ngày KQ 90%', 'type': 'M', 'initialRate': 0.9, 'initialRateForWithdraw': 0.0, 'maintenanceRate': 0.8, 'liquidRate': 0.7, 'interestRate': 0.15, 'preferentialPeriod': 10, 'preferentialInterestRate': 0.0, 'term': 90, 'allowExtendLoanTerm': True, 'allowEarlyPayment': True, 'brokerFirmBuyingFeeRate': 0.00045, 'brokerFirmSellingFeeRate': 0.00045, 'transferFee': 0.3, 'description': '', 'symbols': ['CMG', 'CTF', 'DVM', 'HSL', 'KDC', 'TVD', 'VOS'], 'basketId': 1484}, {'id': 1085, 'name': 'Rocket 10 ngày KQ 60%', 'type': 'M', 'initialRate': 0.6, 'initialRateForWithdraw': 0.0, 'maintenanceRate': 0.5, 'liquidRate': 0.4, 'interestRate': 0.15, 'preferentialPeriod': 10, 'preferentialInterestRate': 0.0, 'term': 90, 'allowExtendLoanTerm': True, 'allowEarlyPayment': True, 'brokerFirmBuyingFeeRate': 0.00045, 'brokerFirmSellingFeeRate': 0.00045, 'transferFee': 0.3, 'description': '', 'symbols': ['AGG', 'BAF', 'BCG', 'BCM', 'BIC', 'C32', 'CMX', 'CNG', 'CRE', 'CTI', 'CTS', 'CVT', 'DBD', 'DHG', 'DIG', 'DPG', 'FIT', 'GEG', 'HHV', 'HSG', 'HVH', 'L18', 'LCG', 'NKG', 'PDR', 'PLC', 'PVC', 'PVP', 'RAL', 'SCR', 'SCS', 'SSB', 'TCD', 'TIP', 'TNH', 'VGS', 'VIP', 'VNR', 'VPI', 'VTO'], 'basketId': 1084}, {'id': 1117, 'name': 'Rocket 10 ngày KQ 70%', 'type': 'M', 'initialRate': 0.7, 'initialRateForWithdraw': 0.0, 'maintenanceRate': 0.6, 'liquidRate': 0.5, 'interestRate': 0.15, 'preferentialPeriod': 10, 'preferentialInterestRate': 0.0, 'term': 90, 'allowExtendLoanTerm': True, 'allowEarlyPayment': True, 'brokerFirmBuyingFeeRate': 0.00045, 'brokerFirmSellingFeeRate': 0.00045, 'transferFee': 0.3, 'description': '', 'symbols': ['ADS', 'ASM', 'BSI', 'C47', 'CCL', 'CEO', 'CTR', 'DCL', 'DTD', 'DXG', 'DXP', 'EVE', 'GSP', 'HAX', 'HHP', 'IDI', 'IPA', 'ITC', 'KHG', 'LAS', 'LHG', 'LSS', 'MSH', 'NAF', 'NBB', 'NCT', 'NHA', 'S99', 'SAM', 'SJD', 'SLS', 'TCL', 'TCM', 'TDT', 'THG', 'TIG', 'VDS', 'VJC', 'VNE', 'VPG', 'YEG'], 'basketId': 1486}, {'id': 1436, 'name': 'RocketX KQ 80%', 'type': 'M', 'initialRate': 0.8, 'initialRateForWithdraw': 0.0, 'maintenanceRate': 0.7, 'liquidRate': 0.6, 'interestRate': 0.115, 'preferentialPeriod': 0, 'preferentialInterestRate': 0.0, 'term': 180, 'allowExtendLoanTerm': True, 'allowEarlyPayment': True, 'brokerFirmBuyingFeeRate': 0.00045, 'brokerFirmSellingFeeRate': 0.00045, 'transferFee': 0.3, 'description': 'Lãi suất 13% áp dụng cho các khoản giải ngân trước ngày 23.10.2023', 'symbols': ['ACG', 'BNA', 'DHT', 'DVP', 'ELC', 'EVF', 'GDT', 'HHS', 'HTN', 'HUB', 'HUT', 'IDV', 'IMP', 'NBC', 'NHH', 'NSC', 'NTP', 'PGC', 'PVG', 'SAV', 'SGN', 'TDN', 'TRA', 'TTA', 'TVS'], 'basketId': 1434}, {'id': 1077, 'name': 'RocketX KQ 60%', 'type': 'M', 'initialRate': 0.6, 'initialRateForWithdraw': 0.0, 'maintenanceRate': 0.5, 'liquidRate': 0.4, 'interestRate': 0.115, 'preferentialPeriod': 0, 'preferentialInterestRate': 0.0, 'term': 180, 'allowExtendLoanTerm': True, 'allowEarlyPayment': True, 'brokerFirmBuyingFeeRate': 0.00045, 'brokerFirmSellingFeeRate': 0.00045, 'transferFee': 0.3, 'description': 'Lãi suất 13% áp dụng cho các khoản giải ngân trước ngày 23.10.2023', 'symbols': ['AGG', 'BAF', 'BCG', 'BCM', 'BIC', 'C32', 'CMX', 'CNG', 'CRE', 'CTI', 'CTS', 'CVT', 'DBD', 'DHG', 'DIG', 'DPG', 'FIT', 'GEG', 'HHV', 'HSG', 'HVH', 'L18', 'LCG', 'NKG', 'PDR', 'PLC', 'PVC', 'PVP', 'RAL', 'SCR', 'SCS', 'SSB', 'TCD', 'TIP', 'TNH', 'VGS', 'VIP', 'VNR', 'VPI', 'VTO'], 'basketId': 1074}, {'id': 1440, 'name': 'RocketX KQ 90%', 'type': 'M', 'initialRate': 0.9, 'initialRateForWithdraw': 0.0, 'maintenanceRate': 0.8, 'liquidRate': 0.7, 'interestRate': 0.115, 'preferentialPeriod': 0, 'preferentialInterestRate': 0.0, 'term': 180, 'allowExtendLoanTerm': True, 'allowEarlyPayment': True, 'brokerFirmBuyingFeeRate': 0.00045, 'brokerFirmSellingFeeRate': 0.00045, 'transferFee': 0.3, 'description': 'Lãi suất 13% áp dụng cho các khoản giải ngân trước ngày 23.10.2023', 'symbols': ['CMG', 'CTF', 'DVM', 'HSL', 'KDC', 'TVD', 'VOS'], 'basketId': 1435}, {'id': 1130, 'name': 'RocketX KQ 50% (*)', 'type': 'M', 'initialRate': 0.5, 'initialRateForWithdraw': 0.0, 'maintenanceRate': 0.4, 'liquidRate': 0.3, 'interestRate': 0.115, 'preferentialPeriod': 0, 'preferentialInterestRate': 0.0, 'term': 180, 'allowExtendLoanTerm': True, 'allowEarlyPayment': True, 'brokerFirmBuyingFeeRate': 0.00045, 'brokerFirmSellingFeeRate': 0.00045, 'transferFee': 0.3, 'description': 'Lãi suất 13% áp dụng cho các khoản giải ngân trước ngày 23.10.2023', 'symbols': ['DCM', 'DPM', 'GEX', 'GMD', 'PNJ', 'PVS', 'VCI', 'VHM', 'VPB'], 'basketId': 1129}, {'id': 1494, 'name': 'RocketX KQ 50% - LS 5.99%', 'type': 'M', 'initialRate': 0.5, 'initialRateForWithdraw': 0.0, 'maintenanceRate': 0.4, 'liquidRate': 0.3, 'interestRate': 0.0599, 'preferentialPeriod': 0, 'preferentialInterestRate': 0.0, 'term': 180, 'allowExtendLoanTerm': True, 'allowEarlyPayment': True, 'brokerFirmBuyingFeeRate': 0.00045, 'brokerFirmSellingFeeRate': 0.00045, 'transferFee': 0.3, 'description': '', 'symbols': ['GAS', 'HPG', 'MBB', 'MWG', 'SSI', 'STB', 'TCB', 'VIC', 'VND', 'VNM'], 'basketId': 1493}, {'id': 1081, 'name': 'RocketX KQ 70%', 'type': 'M', 'initialRate': 0.7, 'initialRateForWithdraw': 0.0, 'maintenanceRate': 0.6, 'liquidRate': 0.5, 'interestRate': 0.115, 'preferentialPeriod': 0, 'preferentialInterestRate': 0.0, 'term': 180, 'allowExtendLoanTerm': True, 'allowEarlyPayment': True, 'brokerFirmBuyingFeeRate': 0.00045, 'brokerFirmSellingFeeRate': 0.00045, 'transferFee': 0.3, 'description': 'Lãi suất 13% áp dụng cho các khoản giải ngân trước ngày 23.10.2023', 'symbols': ['ADS', 'ASM', 'BSI', 'C47', 'CCL', 'CEO', 'CTR', 'DCL', 'DTD', 'DXG', 'DXP', 'EVE', 'GSP', 'HAX', 'HHP', 'IDI', 'IPA', 'ITC', 'KHG', 'LAS', 'LHG', 'LSS', 'MSH', 'NAF', 'NBB', 'NCT', 'NHA', 'S99', 'SAM', 'SJD', 'SLS', 'TCL', 'TCM', 'TDT', 'THG', 'TIG', 'VDS', 'VJC', 'VNE', 'VPG', 'YEG'], 'basketId': 1075}, {'id': 1164, 'name': 'RocketX KQ 50% (*)', 'type': 'M', 'initialRate': 0.5, 'initialRateForWithdraw': 0.0, 'maintenanceRate': 0.4, 'liquidRate': 0.3, 'interestRate': 0.115, 'preferentialPeriod': 0, 'preferentialInterestRate': 0.0, 'term': 180, 'allowExtendLoanTerm': True, 'allowEarlyPayment': True, 'brokerFirmBuyingFeeRate': 0.00045, 'brokerFirmSellingFeeRate': 0.00045, 'transferFee': 0.3, 'description': 'Lãi suất 13% áp dụng cho các khoản giải ngân trước ngày 23.10.2023', 'symbols': ['POW'], 'basketId': 1163}, {'id': 1438, 'name': 'Rocket 10 ngày KQ 80%', 'type': 'M', 'initialRate': 0.8, 'initialRateForWithdraw': 0.0, 'maintenanceRate': 0.7, 'liquidRate': 0.6, 'interestRate': 0.15, 'preferentialPeriod': 10, 'preferentialInterestRate': 0.0, 'term': 90, 'allowExtendLoanTerm': True, 'allowEarlyPayment': True, 'brokerFirmBuyingFeeRate': 0.00045, 'brokerFirmSellingFeeRate': 0.00045, 'transferFee': 0.3, 'description': '', 'symbols': ['ACG', 'BNA', 'DHT', 'DVP', 'ELC', 'EVF', 'GDT', 'HHS', 'HTN', 'HUB', 'HUT', 'IDV', 'IMP', 'NBC', 'NHH', 'NSC', 'NTP', 'PGC', 'PVG', 'SAV', 'SGN', 'TDN', 'TRA', 'TTA', 'TVS'], 'basketId': 1483}, {'id': 1036, 'name': 'GD tiền mặt', 'type': 'N', 'initialRate': 1.0, 'initialRateForWithdraw': 0.0, 'maintenanceRate': 0.0, 'liquidRate': 0.0, 'interestRate': 0.0, 'preferentialPeriod': 0, 'preferentialInterestRate': 0.0, 'term': 0, 'allowExtendLoanTerm': False, 'allowEarlyPayment': False, 'brokerFirmBuyingFeeRate': 0.0, 'brokerFirmSellingFeeRate': 0.0, 'transferFee': 0.3, 'description': '', 'symbols': [], 'basketId': 1033}, {'id': 1190, 'name': 'RocketX KQ 100%', 'type': 'M', 'initialRate': 1.0, 'initialRateForWithdraw': 0.0, 'maintenanceRate': 0.5, 'liquidRate': 0.4, 'interestRate': 0.115, 'preferentialPeriod': 0, 'preferentialInterestRate': 0.0, 'term': 180, 'allowExtendLoanTerm': True, 'allowEarlyPayment': True, 'brokerFirmBuyingFeeRate': 0.0, 'brokerFirmSellingFeeRate': 0.0, 'transferFee': 0.3, 'description': '', 'symbols': ['AGG', 'BAF', 'BCG', 'BCM', 'BIC', 'C32', 'CMX', 'CNG', 'CRE', 'CTI', 'CTS', 'CVT', 'DBD', 'DHG', 'DIG', 'DPG', 'FIT', 'GEG', 'HHV', 'HSG', 'HVH', 'L18', 'LCG', 'NKG', 'PDR', 'PLC', 'PVC', 'PVP', 'RAL', 'SCR', 'SCS', 'SSB', 'TCD', 'TIP', 'TNH', 'VGS', 'VIP', 'VNR', 'VPI', 'VTO'], 'basketId': 1074}, {'id': 1191, 'name': 'RocketX KQ 100%', 'type': 'M', 'initialRate': 1.0, 'initialRateForWithdraw': 0.0, 'maintenanceRate': 0.6, 'liquidRate': 0.5, 'interestRate': 0.115, 'preferentialPeriod': 0, 'preferentialInterestRate': 0.0, 'term': 180, 'allowExtendLoanTerm': True, 'allowEarlyPayment': True, 'brokerFirmBuyingFeeRate': 0.0, 'brokerFirmSellingFeeRate': 0.0, 'transferFee': 0.3, 'description': '', 'symbols': ['ADS', 'ASM', 'BSI', 'C47', 'CCL', 'CEO', 'CTR', 'DCL', 'DTD', 'DXG', 'DXP', 'EVE', 'GSP', 'HAX', 'HHP', 'IDI', 'IPA', 'ITC', 'KHG', 'LAS', 'LHG', 'LSS', 'MSH', 'NAF', 'NBB', 'NCT', 'NHA', 'S99', 'SAM', 'SJD', 'SLS', 'TCL', 'TCM', 'TDT', 'THG', 'TIG', 'VDS', 'VJC', 'VNE', 'VPG', 'YEG'], 'basketId': 1075}, {'id': 1495, 'name': 'RocketX KQ 100%', 'type': 'M', 'initialRate': 1.0, 'initialRateForWithdraw': 0.0, 'maintenanceRate': 0.4, 'liquidRate': 0.3, 'interestRate': 0.0599, 'preferentialPeriod': 0, 'preferentialInterestRate': 0.0, 'term': 180, 'allowExtendLoanTerm': True, 'allowEarlyPayment': True, 'brokerFirmBuyingFeeRate': 0.0, 'brokerFirmSellingFeeRate': 0.0, 'transferFee': 0.3, 'description': '', 'symbols': ['GAS', 'HPG', 'MBB', 'MWG', 'SSI', 'STB', 'TCB', 'VIC', 'VND', 'VNM'], 'basketId': 1493}, {'id': 1197, 'name': 'RocketX KQ 100%', 'type': 'M', 'initialRate': 1.0, 'initialRateForWithdraw': 0.0, 'maintenanceRate': 0.4, 'liquidRate': 0.3, 'interestRate': 0.115, 'preferentialPeriod': 0, 'preferentialInterestRate': 0.0, 'term': 180, 'allowExtendLoanTerm': True, 'allowEarlyPayment': True, 'brokerFirmBuyingFeeRate': 0.0, 'brokerFirmSellingFeeRate': 0.0, 'transferFee': 0.3, 'description': '', 'symbols': ['DCM', 'DPM', 'GEX', 'GMD', 'PNJ', 'PVS', 'VCI', 'VHM', 'VPB'], 'basketId': 1129}, {'id': 1189, 'name': 'RocketX KQ 100%', 'type': 'M', 'initialRate': 1.0, 'initialRateForWithdraw': 0.0, 'maintenanceRate': 0.4, 'liquidRate': 0.3, 'interestRate': 0.115, 'preferentialPeriod': 0, 'preferentialInterestRate': 0.0, 'term': 180, 'allowExtendLoanTerm': True, 'allowEarlyPayment': True, 'brokerFirmBuyingFeeRate': 0.0, 'brokerFirmSellingFeeRate': 0.0, 'transferFee': 0.3, 'description': '', 'symbols': ['AAA', 'ACB', 'AGR', 'ANV', 'BFC', 'BID', 'BMI', 'BMP', 'BVH', 'BVS', 'BWE', 'CII', 'CSC', 'CSV', 'CTD', 'CTG', 'D2D', 'DBC', 'DGC', 'DGW', 'DHA', 'DHC', 'DPR', 'DRC', 'EIB', 'FCN', 'FMC', 'FPT', 'FTS', 'GVR', 'HAH', 'HCM', 'HDB', 'HDC', 'HDG', 'IDC', 'IJC', 'KBC', 'KDH', 'KSB', 'LPB', 'MBS', 'MIG', 'MSB', 'MSN', 'NLG', 'NT2', 'NTL', 'OCB', 'ORS', 'PAN', 'PC1', 'PET', 'PHR', 'PLX', 'PTB', 'PVD', 'PVI', 'PVT', 'REE', 'SAB', 'SBT', 'SHB', 'SHS', 'SKG', 'STK', 'SZC', 'TCH', 'TDM', 'TLG', 'TNG', 'TPB', 'TV2', 'VCB', 'VCG', 'VCS', 'VGC', 'VHC', 'VIB', 'VIX', 'VRE', 'VSC'], 'basketId': 1033}, {'id': 1445, 'name': 'RocketX KQ 100%', 'type': 'M', 'initialRate': 1.0, 'initialRateForWithdraw': 0.0, 'maintenanceRate': 0.7, 'liquidRate': 0.6, 'interestRate': 0.115, 'preferentialPeriod': 0, 'preferentialInterestRate': 0.0, 'term': 180, 'allowExtendLoanTerm': True, 'allowEarlyPayment': True, 'brokerFirmBuyingFeeRate': 0.0, 'brokerFirmSellingFeeRate': 0.0, 'transferFee': 0.3, 'description': '', 'symbols': ['ACG', 'BNA', 'DHT', 'DVP', 'ELC', 'EVF', 'GDT', 'HHS', 'HTN', 'HUB', 'HUT', 'IDV', 'IMP', 'NBC', 'NHH', 'NSC', 'NTP', 'PGC', 'PVG', 'SAV', 'SGN', 'TDN', 'TRA', 'TTA', 'TVS'], 'basketId': 1434}, {'id': 1198, 'name': 'RocketX KQ 100%', 'type': 'M', 'initialRate': 1.0, 'initialRateForWithdraw': 0.0, 'maintenanceRate': 0.4, 'liquidRate': 0.3, 'interestRate': 0.115, 'preferentialPeriod': 0, 'preferentialInterestRate': 0.0, 'term': 180, 'allowExtendLoanTerm': True, 'allowEarlyPayment': True, 'brokerFirmBuyingFeeRate': 0.0, 'brokerFirmSellingFeeRate': 0.0, 'transferFee': 0.3, 'description': '', 'symbols': ['POW'], 'basketId': 1163}, {'id': 1447, 'name': 'RocketX KQ 100%', 'type': 'M', 'initialRate': 1.0, 'initialRateForWithdraw': 0.0, 'maintenanceRate': 0.8, 'liquidRate': 0.7, 'interestRate': 0.115, 'preferentialPeriod': 0, 'preferentialInterestRate': 0.0, 'term': 180, 'allowExtendLoanTerm': True, 'allowEarlyPayment': True, 'brokerFirmBuyingFeeRate': 0.0, 'brokerFirmSellingFeeRate': 0.0, 'transferFee': 0.3, 'description': '', 'symbols': ['CMG', 'CTF', 'DVM', 'HSL', 'KDC', 'TVD', 'VOS'], 'basketId': 1435}]}\n",
      "Loan Package ID: 1037\n"
     ]
    }
   ],
   "source": [
    "import requests\n",
    "\n",
    "# Thông tin cần thiết để thực hiện request\n",
    "account_id = tieukhoan  # Thay thế bằng mã tài khoản thực tế của bạn\n",
    "jwt_token = token  # Thay thế bằng JWT token hợp lệ của bạn\n",
    "\n",
    "# URL của API\n",
    "url = f'https://services.entrade.com.vn/dnse-order-service/accounts/{account_id}/loan-packages'\n",
    "\n",
    "# Thiết lập header với JWT token\n",
    "headers = {\n",
    "    'Authorization': f'Bearer {jwt_token}'\n",
    "}\n",
    "\n",
    "# Thực hiện GET request để lấy thông tin gói vay\n",
    "response = requests.get(url, headers=headers)\n",
    "\n",
    "loanPackageId = 1037\n",
    "\n",
    "# Kiểm tra phản hồi\n",
    "if response.status_code == 200:\n",
    "    # Nếu request thành công, in ra thông tin gói vay\n",
    "    loan_packages = response.json()\n",
    "    print(loan_packages)\n",
    "    \n",
    "    # Giả sử loan_packages là một mảng và chúng ta muốn lấy ID của gói vay đầu tiên\n",
    "    if loan_packages and 'loanPackages' in loan_packages:\n",
    "        loanPackageId = loan_packages['loanPackages'][0]['id']\n",
    "        print('Loan Package ID:', loanPackageId)\n",
    "    else:\n",
    "        print('Loan package data is not in the expected format.')\n",
    "\n",
    "else:\n",
    "    # Nếu có lỗi, in ra mã lỗi và thông báo\n",
    "    print(f'Failed to get loan packages. Status code: {response.status_code}')\n",
    "    print(response.text)"
   ]
  },
  {
   "cell_type": "markdown",
   "metadata": {},
   "source": [
    "Dat lenh giao dich"
   ]
  },
  {
   "cell_type": "code",
   "execution_count": 13,
   "metadata": {},
   "outputs": [
    {
     "name": "stdout",
     "output_type": "stream",
     "text": [
      "{'id': 26941, 'side': 'NB', 'accountNo': '0001622025', 'investorId': '1000766571', 'symbol': 'ACB', 'price': 100000.0, 'quantity': 100, 'orderType': 'ATC', 'orderStatus': 'Pending', 'fillQuantity': 0, 'lastQuantity': 0, 'lastPrice': 0.0, 'averagePrice': 0.0, 'transDate': '2024-02-02', 'createdDate': '2024-02-02T02:35:29.298603923Z', 'modifiedDate': '2024-02-02T02:35:29.298604273Z', 'reports': [], 'taxRate': 0.0, 'exchangeFeeRate': 0.0, 'feeRate': 0.0, 'leaveQuantity': 100, 'canceledQuantity': 0, 'priceSecure': 27800.0, 'custody': '064C116788', 'execType': 'A', 'maker': '1000766571', 'channel': 'B', 'loanPackageId': 1037, 'initialRate': 0.0, 'extraInfo': {'ip': '14.187.203.255', 'maker': '1000766571'}}\n"
     ]
    }
   ],
   "source": [
    "import requests\n",
    "import json\n",
    "\n",
    "# Replace these variables with your actual details\n",
    "jwt_token = token\n",
    "trading_token = tradingToken\n",
    "# /dnse-order-serivce/v2/orders\n",
    "url = 'https://services.entrade.com.vn/dnse-order-service/v2/orders'\n",
    "\n",
    "# Construct the headers with the required authentication tokens\n",
    "headers = {\n",
    "    'Authorization': f'Bearer {jwt_token}',\n",
    "    'Content-Type': 'application/json',\n",
    "    'Trading-Token': trading_token\n",
    "}\n",
    "\n",
    "# Construct the data payload as a dictionary\n",
    "# Replace the placeholders with your actual order details\n",
    "data = {\n",
    "    \"symbol\": \"ACB\",\n",
    "    \"side\": \"NB\",\n",
    "    \"orderType\": \"ATC\",\n",
    "    \"price\": 100000,  # Should be a number, not a string\n",
    "    \"quantity\": 100,  # Should be a number, not a string\n",
    "    \"loanPackageId\": loanPackageId,  # Should be a number or null, not a string\n",
    "    \"accountNo\": tieukhoan\n",
    "}\n",
    "\n",
    "# Make the POST request\n",
    "response = requests.post(url, headers=headers, data=json.dumps(data))\n",
    "\n",
    "# Check the status code to see if the request was successful\n",
    "if response.status_code == 200 or response.status_code == 201:\n",
    "    # If the request was successful, print the returned data\n",
    "    print(response.json())\n",
    "else:\n",
    "    # If the request failed, print the status code and response\n",
    "    print(f'Failed to place order. Status code: {response.status_code}')\n",
    "    print(response.text)\n"
   ]
  }
 ],
 "metadata": {
  "kernelspec": {
   "display_name": "Python 3",
   "language": "python",
   "name": "python3"
  },
  "language_info": {
   "codemirror_mode": {
    "name": "ipython",
    "version": 3
   },
   "file_extension": ".py",
   "mimetype": "text/x-python",
   "name": "python",
   "nbconvert_exporter": "python",
   "pygments_lexer": "ipython3",
   "version": "3.11.6"
  }
 },
 "nbformat": 4,
 "nbformat_minor": 2
}
