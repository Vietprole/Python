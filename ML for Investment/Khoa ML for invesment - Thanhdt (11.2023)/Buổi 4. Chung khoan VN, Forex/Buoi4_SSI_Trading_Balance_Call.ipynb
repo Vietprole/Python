{
 "cells": [
  {
   "cell_type": "markdown",
   "metadata": {},
   "source": [
    "# PARSE JSON"
   ]
  },
  {
   "cell_type": "code",
   "execution_count": 1,
   "metadata": {},
   "outputs": [
    {
     "name": "stdout",
     "output_type": "stream",
     "text": [
      "The stock account balance for account 2654251 is 410678\n"
     ]
    }
   ],
   "source": [
    "import requests\n",
    "\n",
    "url = \"http://127.0.0.1:8000/stockAccountBalance?account=2654251\"\n",
    "\n",
    "response = requests.get(url)\n",
    "\n",
    "if response.status_code == 200: # 200: Thang cong\n",
    "    balance = response.json()[\"data\"][\"cashBal\"]\n",
    "    print(f\"The stock account balance for account 2654251 is {balance}\")\n",
    "else:\n",
    "    print(f\"Error connecting to API: {response.status_code}\")\n"
   ]
  },
  {
   "cell_type": "code",
   "execution_count": 2,
   "metadata": {},
   "outputs": [
    {
     "name": "stdout",
     "output_type": "stream",
     "text": [
      "Message: Success\n",
      "Status: 200\n",
      "Account: 2654251\n",
      "Cash Balance: 410678\n"
     ]
    }
   ],
   "source": [
    "import requests\n",
    "\n",
    "# Define the URL\n",
    "url = \"http://127.0.0.1:8000/stockAccountBalance\"\n",
    "\n",
    "# Define query parameters\n",
    "params = {\"account\": \"2654251\"}\n",
    "\n",
    "try:\n",
    "    # Make a GET request to the API\n",
    "    response = requests.get(url, params=params)\n",
    "\n",
    "    # Check if the request was successful (status code 200)\n",
    "    if response.status_code == 200:\n",
    "        # Parse the JSON response\n",
    "        data = response.json()\n",
    "\n",
    "        # Access the data fields\n",
    "        message = data[\"message\"]\n",
    "        status = data[\"status\"]\n",
    "        account = data[\"data\"][\"account\"]\n",
    "        cashBal = data[\"data\"][\"cashBal\"]\n",
    "        # ... and so on for other fields\n",
    "\n",
    "        # Print the values\n",
    "        print(\"Message:\", message)\n",
    "        print(\"Status:\", status)\n",
    "        print(\"Account:\", account)\n",
    "        print(\"Cash Balance:\", cashBal)\n",
    "        # ... and so on for other fields\n",
    "\n",
    "    else:\n",
    "        print(f\"Request failed with status code {response.status_code}\")\n",
    "\n",
    "except requests.exceptions.RequestException as e:\n",
    "    print(f\"Request error: {e}\")\n"
   ]
  },
  {
   "cell_type": "markdown",
   "metadata": {},
   "source": [
    "# JSON"
   ]
  },
  {
   "cell_type": "code",
   "execution_count": 3,
   "metadata": {},
   "outputs": [
    {
     "name": "stdout",
     "output_type": "stream",
     "text": [
      "{'message': 'Success', 'status': 200, 'data': {'account': '2654251', 'cashBal': 410678, 'cashOnHold': 0, 'secureAmount': 0, 'withdrawable': 410622, 'receivingCashT1': 0, 'receivingCashT2': 0, 'matchedBuyVolume': 0, 'matchedSellVolume': 0, 'debt': 56, 'unMatchedBuyVolume': 0, 'unMatchedSellVolume': 0, 'paidCashT1': 0, 'paidCashT2': 0, 'cia': 0, 'purchasingPower': 410622, 'totalAssets': 2744678}}\n"
     ]
    }
   ],
   "source": [
    "import requests\n",
    "\n",
    "# Define the URL\n",
    "url = \"http://127.0.0.1:8000/stockAccountBalance\"\n",
    "\n",
    "# Define query parameters\n",
    "params = {\"account\": \"2654251\"}\n",
    "\n",
    "try:\n",
    "    # Make a GET request to the API\n",
    "    response = requests.get(url, params=params)\n",
    "\n",
    "    # Check if the request was successful (status code 200)\n",
    "    if response.status_code == 200:\n",
    "        # Parse the JSON response if it's JSON\n",
    "        data = response.json()\n",
    "        print(data)  # This will print the response data\n",
    "\n",
    "    else:\n",
    "        print(f\"Request failed with status code {response.status_code}\")\n",
    "\n",
    "except requests.exceptions.RequestException as e:\n",
    "    print(f\"Request error: {e}\")\n"
   ]
  }
 ],
 "metadata": {
  "kernelspec": {
   "display_name": "Python 3",
   "language": "python",
   "name": "python3"
  },
  "language_info": {
   "codemirror_mode": {
    "name": "ipython",
    "version": 3
   },
   "file_extension": ".py",
   "mimetype": "text/x-python",
   "name": "python",
   "nbconvert_exporter": "python",
   "pygments_lexer": "ipython3",
   "version": "3.11.6"
  },
  "orig_nbformat": 4
 },
 "nbformat": 4,
 "nbformat_minor": 2
}
