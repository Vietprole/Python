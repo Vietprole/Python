{
 "cells": [
  {
   "cell_type": "code",
   "execution_count": null,
   "metadata": {},
   "outputs": [],
   "source": [
    "import requests\n",
    "\n",
    "url = \"http://127.0.0.1:8000/getOtp\"\n",
    "\n",
    "response = requests.get(url)\n",
    "\n",
    "if response.status_code == 200:\n",
    "    data = response.json()\n",
    "    print(f\"Verify code for account 2654251 is {data}\")\n",
    "else:\n",
    "    print(f\"Error connecting to API: {response.status_code}\")"
   ]
  },
  {
   "cell_type": "code",
   "execution_count": null,
   "metadata": {},
   "outputs": [],
   "source": [
    "import requests\n",
    "\n",
    "url = \"http://127.0.0.1:8000/verifyCode?code=106908\"\n",
    "\n",
    "response = requests.get(url)\n",
    "\n",
    "if response.status_code == 200:\n",
    "    data = response.json()\n",
    "    print(f\"Verify code for account 2654251 is {data}\")\n",
    "else:\n",
    "    print(f\"Error connecting to API: {response.status_code}\")"
   ]
  },
  {
   "cell_type": "code",
   "execution_count": null,
   "metadata": {},
   "outputs": [],
   "source": [
    "import requests\n",
    "\n",
    "url = \"http://127.0.0.1:8000/newOrder?\" \\\n",
    "      \"stopOrder=false&stopPrice=0&stopStep=0&lossStep=0&profitStep=0\" \\\n",
    "      \"&deviceId=Local%20Area%20Connection%2A%2011%3A18-CC-18-C9-CB-6B%7CLocal Area%20Connection%2A%2012%3A1A-CC-18-C9-CB-6A%7CWi-Fi%202%3A18-CC-18-C9-CB-6A%7CBluetooth%20Network%20Connection%202%3A18-CC-18-C9-CB-6E&userAgent=Python%2F3.11.4%28Windows-10-10.0.19044-SP0%29%3B%20ssi-fctrading%2F2.4.2\"\n",
    "\n",
    "params = {\"instrumentID\": \"QBS\", \"market\": \"VN\", \"buySell\": \"B\", \"orderType\": \"ATC\", \"price\": 0, \"quantity\": 100,\n",
    "          \"account\":2654251}\n",
    "\n",
    "response = requests.get(url, params=params)\n",
    "\n",
    "print(response)\n",
    "\n",
    "if response.status_code == 200:\n",
    "    data = response.json()[\"data\"]\n",
    "    print(f\"The stock order new for account 2654251 is {data}\")\n",
    "else:\n",
    "    print(f\"Error connecting to API: {response.status_code}\")"
   ]
  },
  {
   "cell_type": "code",
   "execution_count": null,
   "metadata": {},
   "outputs": [],
   "source": [
    "import requests\n",
    "\n",
    "# Base URL for the API\n",
    "base_url = \"http://127.0.0.1:8000/newOrder\"\n",
    "\n",
    "# Parameters for the API request\n",
    "params = {\n",
    "    \"instrumentID\": \"QBS\",\n",
    "    \"market\": \"VN\",\n",
    "    \"buySell\": \"B\",\n",
    "    \"orderType\": \"ATC\",\n",
    "    \"price\": 0,\n",
    "    \"quantity\": 100,\n",
    "    \"account\": 2654251,\n",
    "    \"stopOrder\": \"false\",\n",
    "    \"stopPrice\": 0,\n",
    "    \"stopStep\": 0,\n",
    "    \"lossStep\": 0,\n",
    "    \"profitStep\": 0,\n",
    "    \"deviceId\": \"Local Area Connection 2:00-FF-D6-53-51-3D|Ethernet:A4-4C-C8-1F-0A-34|HotspotShield Network Adapter:00-FF-1B-37-F1-B2|Local Area Connection* 1:F8-34-41-52-B6-98|Local Area Connection* 10:FA-34-41-52-B6-97|Ethernet 2:00-09-0F-FE-00-01|Wi-Fi:F8-34-41-52-B6-97|Bluetooth Network Connection:F8-34-41-52-B6-9B\",\n",
    "    \"userAgent\": \"Python/3.11.6(Windows-10-10.0.17763-SP0); ssi-fctrading/2.4.2\"\n",
    "}\n",
    "\n",
    "# Sending the GET request to the API\n",
    "response = requests.get(base_url, params=params)\n",
    "\n",
    "# Print the raw response\n",
    "print(response)\n",
    "\n",
    "# Handling the response\n",
    "if response.status_code == 200:\n",
    "    data = response.json()[\"data\"]\n",
    "    print(f\"The stock order for account 2654251 is {data}\")\n",
    "else:\n",
    "    print(f\"Error connecting to API: {response.status_code}\")\n"
   ]
  },
  {
   "cell_type": "code",
   "execution_count": null,
   "metadata": {},
   "outputs": [],
   "source": [
    "import redis\n",
    "\n",
    "def getAllDataFromRedis():\n",
    "    # Kết nối đến Redis\n",
    "    r = redis.StrictRedis(host='desktop-fpmqfsh', port=6379, db=0)\n",
    "\n",
    "    hash_key = \"H_CHECK_MA_ATR\"\n",
    "\n",
    "    # Lấy toàn bộ dữ liệu từ hash\n",
    "    data = r.hgetall(hash_key)\n",
    "\n",
    "    return data"
   ]
  },
  {
   "cell_type": "code",
   "execution_count": null,
   "metadata": {},
   "outputs": [],
   "source": [
    "def deleteHashFromRedis(hash_key):\n",
    "    # Kết nối đến Redis\n",
    "    r = redis.StrictRedis(host='desktop-fpmqfsh', port=6379, db=0)\n",
    "\n",
    "    # Xóa hash\n",
    "    r.delete(hash_key)"
   ]
  },
  {
   "cell_type": "code",
   "execution_count": null,
   "metadata": {},
   "outputs": [],
   "source": [
    "import requests\n",
    "\n",
    "while(True):\n",
    "    \n",
    "    data = getAllDataFromRedis()\n",
    "    if len(data) > 0:\n",
    "        symbol = 'QBS'\n",
    "        url = \"http://127.0.0.1:8000/newOrder?\" \\\n",
    "            \"stopOrder=false&stopPrice=0&stopStep=0&lossStep=0&profitStep=0\" \\\n",
    "            \"&deviceId=Local%20Area%20Connection%2A%2011%3A18-CC-18-C9-CB-6B%7CLocal Area%20Connection%2A%2012%3A1A-CC-18-C9-CB-6A%7CWi-Fi%202%3A18-CC-18-C9-CB-6A%7CBluetooth%20Network%20Connection%202%3A18-CC-18-C9-CB-6E&userAgent=Python%2F3.11.4%28Windows-10-10.0.19044-SP0%29%3B%20ssi-fctrading%2F2.4.2\"\n",
    "\n",
    "        params = {\"instrumentID\": symbol, \"market\": \"VN\", \"buySell\": \"B\", \"orderType\": \"ATC\", \"price\": 0, \"quantity\": 100,\n",
    "                \"account\":2654251}\n",
    "\n",
    "        response = requests.get(url, params=params)\n",
    "\n",
    "        if response.status_code == 200:\n",
    "            data = response.json()[\"data\"]\n",
    "            print(f\"The stock order new for account 2654251 is {data}\")\n",
    "        else:\n",
    "            print(f\"Error connecting to API: {response.status_code}\")\n",
    "\n",
    "    deleteHashFromRedis('H_CHECK_MA_ATR')\n"
   ]
  }
 ],
 "metadata": {
  "kernelspec": {
   "display_name": "Python 3",
   "language": "python",
   "name": "python3"
  },
  "language_info": {
   "codemirror_mode": {
    "name": "ipython",
    "version": 3
   },
   "file_extension": ".py",
   "mimetype": "text/x-python",
   "name": "python",
   "nbconvert_exporter": "python",
   "pygments_lexer": "ipython3",
   "version": "3.11.6"
  },
  "orig_nbformat": 4
 },
 "nbformat": 4,
 "nbformat_minor": 2
}
