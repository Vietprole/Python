{
 "cells": [
  {
   "cell_type": "code",
   "execution_count": 2,
   "metadata": {},
   "outputs": [],
   "source": [
    "import pandas as pd\n",
    "import numpy as np\n",
    "from sklearn import linear_model\n",
    "import matplotlib.pyplot as plt"
   ]
  },
  {
   "cell_type": "code",
   "execution_count": 11,
   "metadata": {},
   "outputs": [
    {
     "name": "stdout",
     "output_type": "stream",
     "text": [
      "   area    price  predict_price  percent_predict_price\n",
      "0  2600   550000  473390.410959             -13.929016\n",
      "1  3000   565000  595513.698630               5.400655\n",
      "2  3200   610000  656575.342466               7.635302\n",
      "3  3600   680000  778698.630137              14.514504\n",
      "4  4000  1000000  900821.917808              -9.917808\n"
     ]
    }
   ],
   "source": [
    "# Buoc 1: Load du lieu len DF\n",
    "df = pd.read_csv('homeprices.csv')\n",
    "\n",
    "# Buoc 2: Huan luyen\n",
    "new_df = df.drop('price', axis='columns')\n",
    "new_df\n",
    "price = df.price\n",
    "price\n",
    "model = linear_model.LinearRegression()\n",
    "model.fit(new_df,price)\n",
    "\n",
    "# Buoc 3: Du doan\n",
    "predict_price = model.predict(new_df)\n",
    "\n",
    "# Buoc 4: Them 1 cot vao\n",
    "df['predict_price'] = predict_price\n",
    "\n",
    "# Buoc 5: Them 1 cot vao, cot phan tram\n",
    "df['percent_predict_price'] = (df['predict_price'] - df['price']) * 100/ df['price']\n",
    "\n",
    "print(df)"
   ]
  }
 ],
 "metadata": {
  "kernelspec": {
   "display_name": "Python 3",
   "language": "python",
   "name": "python3"
  },
  "language_info": {
   "codemirror_mode": {
    "name": "ipython",
    "version": 3
   },
   "file_extension": ".py",
   "mimetype": "text/x-python",
   "name": "python",
   "nbconvert_exporter": "python",
   "pygments_lexer": "ipython3",
   "version": "3.11.6"
  }
 },
 "nbformat": 4,
 "nbformat_minor": 2
}
