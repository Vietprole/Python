{
 "cells": [
  {
   "cell_type": "markdown",
   "metadata": {},
   "source": [
    "# OHLCV MT5"
   ]
  },
  {
   "cell_type": "code",
   "execution_count": null,
   "metadata": {},
   "outputs": [],
   "source": [
    "# !pip install MetaTrader5"
   ]
  },
  {
   "cell_type": "code",
   "execution_count": 1,
   "metadata": {},
   "outputs": [
    {
     "name": "stdout",
     "output_type": "stream",
     "text": [
      "           time     open     high      low    close  tick_volume  spread  \\\n",
      "0    2010-01-04  1.43259  1.44543  1.42569  1.44111        45505      10   \n",
      "1    2010-01-05  1.44107  1.44830  1.43467  1.43624        46686      10   \n",
      "2    2010-01-06  1.43632  1.44338  1.42831  1.43998        45435       9   \n",
      "3    2010-01-07  1.44001  1.44456  1.42994  1.43041        44298      10   \n",
      "4    2010-01-08  1.43039  1.44263  1.42634  1.44085        34425       9   \n",
      "...         ...      ...      ...      ...      ...          ...     ...   \n",
      "3649 2024-01-23  1.08813  1.09154  1.08207  1.08530        72804      15   \n",
      "3650 2024-01-24  1.08535  1.09315  1.08463  1.08831        84648      15   \n",
      "3651 2024-01-25  1.08817  1.09011  1.08208  1.08447        87941      15   \n",
      "3652 2024-01-26  1.08396  1.08848  1.08121  1.08497        73749      15   \n",
      "3653 2024-01-29  1.08403  1.08493  1.07951  1.08313        62194      15   \n",
      "\n",
      "      real_volume  \n",
      "0               0  \n",
      "1               0  \n",
      "2               0  \n",
      "3               0  \n",
      "4               0  \n",
      "...           ...  \n",
      "3649            0  \n",
      "3650            0  \n",
      "3651            0  \n",
      "3652            0  \n",
      "3653            0  \n",
      "\n",
      "[3654 rows x 8 columns]\n"
     ]
    }
   ],
   "source": [
    "import MetaTrader5 as mt5\n",
    "from datetime import datetime\n",
    "import pandas as pd \n",
    "\n",
    "# Kết nối tới MetaTrader 5\n",
    "if not mt5.initialize():\n",
    "    print(\"Khởi tạo MT5 không thành công\")\n",
    "    mt5.shutdown()\n",
    "\n",
    "# Xác định thời gian bắt đầu và kết thúc để lấy dữ liệu\n",
    "start_date = datetime(2010, 1, 1)\n",
    "end_date = datetime(2024, 1, 30)\n",
    "\n",
    "# Lấy dữ liệu OHLC cho cặp tiền EURUSD trong khoảng thời gian đã xác định\n",
    "ohlc_data = mt5.copy_rates_range(\"EURUSD\", mt5.TIMEFRAME_D1, start_date, end_date)\n",
    "\n",
    "# Ngắt kết nối với MT5\n",
    "mt5.shutdown()\n",
    "\n",
    "# Chuyển dữ liệu nhận được thành DataFrame và hiển thị\n",
    "ohlc_df = pd.DataFrame(ohlc_data)\n",
    "ohlc_df['time'] = pd.to_datetime(ohlc_df['time'], unit='s')\n",
    "print(ohlc_df)"
   ]
  },
  {
   "cell_type": "code",
   "execution_count": 4,
   "metadata": {},
   "outputs": [],
   "source": [
    "ohlc_df.to_csv('ohlc_df.csv')"
   ]
  },
  {
   "cell_type": "markdown",
   "metadata": {},
   "source": [
    "# Bai tap: Day OHLC cua MT5 vao Database (Datetime, Open, High, Low, Close, Volume)"
   ]
  },
  {
   "cell_type": "code",
   "execution_count": null,
   "metadata": {},
   "outputs": [],
   "source": [
    "OHLC MT5 => Day vao 6 cot ben duoi\n",
    "DWH: Datetime, Open, High, Low, Close, Volume\n",
    "\n",
    "- Lay du lieu\n",
    "- View len csv/ print \n",
    "- Neu ten cot ko phai Datetime => Rename tu ten cot cu thanh Datetime \n",
    "- Gan nhu chinh xac Open, High, Low, Close, Volume (doi tu tick_volume thanh Volume)\n",
    "- Khoi tao ket noi den SQL Server va insert vao \n",
    "\n",
    "=> Hieu ve dataframe: Rename field, xuat csv, insert DB"
   ]
  },
  {
   "cell_type": "markdown",
   "metadata": {},
   "source": [
    "# Lay OHTC theo timeframe"
   ]
  },
  {
   "cell_type": "code",
   "execution_count": 17,
   "metadata": {},
   "outputs": [
    {
     "name": "stdout",
     "output_type": "stream",
     "text": [
      "                     time     open     high      low    close  tick_volume\n",
      "0     2023-05-22 15:06:00  1.08040  1.08044  1.08025  1.08036          102\n",
      "1     2023-05-22 15:08:00  1.08037  1.08039  1.08022  1.08031          121\n",
      "2     2023-05-22 15:10:00  1.08032  1.08032  1.08015  1.08021          103\n",
      "3     2023-05-22 15:12:00  1.08021  1.08027  1.07993  1.07999          133\n",
      "4     2023-05-22 15:14:00  1.07998  1.07999  1.07970  1.07970          133\n",
      "...                   ...      ...      ...      ...      ...          ...\n",
      "99994 2023-12-01 14:44:00  1.08539  1.08541  1.08508  1.08523          215\n",
      "99995 2023-12-01 14:46:00  1.08523  1.08532  1.08498  1.08514          271\n",
      "99996 2023-12-01 14:48:00  1.08514  1.08519  1.08462  1.08497          359\n",
      "99997 2023-12-01 14:50:00  1.08497  1.08507  1.08425  1.08448          386\n",
      "99998 2023-12-01 14:52:00  1.08447  1.08462  1.08434  1.08457          206\n",
      "\n",
      "[99999 rows x 6 columns]\n"
     ]
    }
   ],
   "source": [
    "import MetaTrader5 as mt5\n",
    "import pandas as pd\n",
    "\n",
    "# Kết nối đến MetaTrader 5 Server\n",
    "mt5.initialize()\n",
    "\n",
    "# Chọn công cụ (symbol) và khung thời gian (timeframe)\n",
    "symbol = \"EURUSD\"\n",
    "timeframe = mt5.TIMEFRAME_M2  # Đối với OHLC, bạn cần chọn một khung thời gian cụ thể\n",
    "\n",
    "# Lấy dữ liệu OHLC\n",
    "ohlcv = mt5.copy_rates_from_pos(symbol, timeframe, 0, 99999)  # Lấy 1000 cây nến gần nhất, maximum duoc 100.000 => DWH\n",
    "\n",
    "# Đóng kết nối với MetaTrader 5 Server\n",
    "mt5.shutdown()\n",
    "\n",
    "# Chuyển đổi dữ liệu thành DataFrame\n",
    "df = pd.DataFrame(ohlcv)\n",
    "df['time'] = pd.to_datetime(df['time'], unit='s')  # Chuyển đổi thời gian thành định dạng datetime\n",
    "\n",
    "# In ra dữ liệu OHLC\n",
    "print(df[['time', 'open', 'high', 'low', 'close', 'tick_volume']])\n"
   ]
  },
  {
   "cell_type": "markdown",
   "metadata": {},
   "source": [
    "# Viet rename cac cot lai thanh Datetime, Open, High, Low, Close, Volume va day vao Forex_Data trong DWH tren SQL"
   ]
  },
  {
   "cell_type": "code",
   "execution_count": null,
   "metadata": {},
   "outputs": [],
   "source": []
  },
  {
   "cell_type": "markdown",
   "metadata": {},
   "source": [
    "# Lay theo khung M45"
   ]
  },
  {
   "cell_type": "code",
   "execution_count": 3,
   "metadata": {},
   "outputs": [
    {
     "name": "stdout",
     "output_type": "stream",
     "text": [
      "                  time     open     high      low    close  tick_volume\n",
      "0  2024-01-30 00:34:00  1.08290  1.08312  1.08284  1.08289           83\n",
      "1  2024-01-30 00:54:00  1.08289  1.08323  1.08286  1.08321          164\n",
      "2  2024-01-30 01:14:00  1.08321  1.08351  1.08319  1.08334          197\n",
      "3  2024-01-30 01:34:00  1.08335  1.08360  1.08334  1.08355          318\n",
      "4  2024-01-30 01:54:00  1.08356  1.08359  1.08337  1.08338          314\n",
      "5  2024-01-30 02:14:00  1.08338  1.08358  1.08326  1.08343          604\n",
      "6  2024-01-30 02:34:00  1.08344  1.08373  1.08339  1.08366          425\n",
      "7  2024-01-30 02:54:00  1.08367  1.08414  1.08361  1.08407          724\n",
      "8  2024-01-30 03:14:00  1.08407  1.08413  1.08331  1.08362          775\n",
      "9  2024-01-30 03:34:00  1.08362  1.08368  1.08319  1.08342          791\n",
      "10 2024-01-30 03:54:00  1.08343  1.08367  1.08316  1.08352         1155\n",
      "11 2024-01-30 04:14:00  1.08351  1.08352  1.08294  1.08305          934\n",
      "12 2024-01-30 04:34:00  1.08305  1.08318  1.08291  1.08300          602\n",
      "13 2024-01-30 04:54:00  1.08297  1.08353  1.08293  1.08340          371\n",
      "14 2024-01-30 05:14:00  1.08341  1.08342  1.08308  1.08310          611\n",
      "15 2024-01-30 05:34:00  1.08309  1.08322  1.08300  1.08322          438\n",
      "16 2024-01-30 05:54:00  1.08322  1.08333  1.08309  1.08318          220\n",
      "17 2024-01-30 06:14:00  1.08317  1.08327  1.08294  1.08322          381\n",
      "18 2024-01-30 06:34:00  1.08322  1.08327  1.08296  1.08321          338\n",
      "19 2024-01-30 06:54:00  1.08319  1.08322  1.08238  1.08241          622\n",
      "20 2024-01-30 07:14:00  1.08240  1.08250  1.08224  1.08246          582\n",
      "21 2024-01-30 07:34:00  1.08245  1.08281  1.08245  1.08265          586\n",
      "22 2024-01-30 07:54:00  1.08266  1.08276  1.08218  1.08225          390\n",
      "23 2024-01-30 08:14:00  1.08224  1.08241  1.08210  1.08240          835\n",
      "24 2024-01-30 08:34:00  1.08241  1.08251  1.08195  1.08205          731\n",
      "25 2024-01-30 08:54:00  1.08206  1.08222  1.08141  1.08156          892\n",
      "26 2024-01-30 09:14:00  1.08157  1.08159  1.08111  1.08131         1094\n",
      "27 2024-01-30 09:34:00  1.08130  1.08178  1.08119  1.08130          916\n",
      "28 2024-01-30 09:54:00  1.08129  1.08230  1.08124  1.08212         1195\n",
      "29 2024-01-30 10:14:00  1.08211  1.08314  1.08206  1.08245         2120\n",
      "30 2024-01-30 10:34:00  1.08244  1.08261  1.08159  1.08164         1631\n",
      "31 2024-01-30 10:54:00  1.08163  1.08266  1.08154  1.08217         1437\n",
      "32 2024-01-30 11:14:00  1.08217  1.08232  1.08168  1.08191         1449\n",
      "33 2024-01-30 11:34:00  1.08190  1.08267  1.08171  1.08260         1076\n",
      "34 2024-01-30 11:54:00  1.08258  1.08264  1.08227  1.08250         1385\n",
      "35 2024-01-30 12:14:00  1.08251  1.08284  1.08221  1.08257         1287\n",
      "36 2024-01-30 12:34:00  1.08256  1.08340  1.08247  1.08335         1185\n",
      "37 2024-01-30 12:54:00  1.08335  1.08397  1.08327  1.08369          962\n",
      "38 2024-01-30 13:14:00  1.08368  1.08393  1.08355  1.08369         1202\n",
      "39 2024-01-30 13:34:00  1.08369  1.08445  1.08362  1.08393         1025\n",
      "40 2024-01-30 13:54:00  1.08394  1.08472  1.08383  1.08449          763\n",
      "41 2024-01-30 14:14:00  1.08449  1.08450  1.08394  1.08408          782\n",
      "42 2024-01-30 14:34:00  1.08409  1.08437  1.08367  1.08394         1027\n",
      "43 2024-01-30 14:54:00  1.08395  1.08450  1.08359  1.08441         1073\n",
      "44 2024-01-30 15:14:00  1.08444  1.08491  1.08389  1.08399         1636\n",
      "45 2024-01-30 15:34:00  1.08403  1.08429  1.08373  1.08394         1569\n",
      "46 2024-01-30 15:54:00  1.08393  1.08444  1.08348  1.08349         2228\n",
      "47 2024-01-30 16:14:00  1.08349  1.08441  1.08289  1.08428         2076\n",
      "48 2024-01-30 16:34:00  1.08429  1.08552  1.08418  1.08535         1889\n",
      "49 2024-01-30 16:54:00  1.08535  1.08565  1.08448  1.08527         2499\n"
     ]
    }
   ],
   "source": [
    "import MetaTrader5 as mt5\n",
    "import pandas as pd\n",
    "\n",
    "# Kết nối đến MetaTrader 5 Server\n",
    "mt5.initialize()\n",
    "\n",
    "# Chọn công cụ (symbol) và khung thời gian (timeframe)\n",
    "symbol = \"EURUSD\"\n",
    "custom_timeframe = 45  # Đặt một giá trị tự định nghĩa, ví dụ: 45 phút\n",
    "\n",
    "# Lấy dữ liệu OHLC\n",
    "ohlcv = mt5.copy_rates_from_pos(symbol, mt5.TIMEFRAME_M1, 0, 900)  # Lấy 900 cây nến M1 gần nhất\n",
    "\n",
    "# Chuyển đổi dữ liệu thành DataFrame\n",
    "df = pd.DataFrame(ohlcv)\n",
    "\n",
    "# Chia nhỏ dữ liệu thành các khung thời gian 45 phút\n",
    "df['custom_timeframe'] = df.index // (custom_timeframe / 1)  # Tính toán số cụm 45 phút\n",
    "\n",
    "df_grouped = df.groupby('custom_timeframe', as_index=False).agg({\n",
    "    'time': 'last',\n",
    "    'open': 'first',\n",
    "    'high': 'max',\n",
    "    'low': 'min',\n",
    "    'close': 'last',\n",
    "    'tick_volume': 'sum'\n",
    "})\n",
    "\n",
    "# Đóng kết nối với MetaTrader 5 Server\n",
    "mt5.shutdown()\n",
    "\n",
    "# Chuyển đổi thời gian thành định dạng datetime\n",
    "df_grouped['time'] = pd.to_datetime(df_grouped['time'], unit='s')\n",
    "\n",
    "# In ra dữ liệu OHLC\n",
    "print(df_grouped[['time', 'open', 'high', 'low', 'close', 'tick_volume']])\n"
   ]
  }
 ],
 "metadata": {
  "kernelspec": {
   "display_name": "Python 3",
   "language": "python",
   "name": "python3"
  },
  "language_info": {
   "codemirror_mode": {
    "name": "ipython",
    "version": 3
   },
   "file_extension": ".py",
   "mimetype": "text/x-python",
   "name": "python",
   "nbconvert_exporter": "python",
   "pygments_lexer": "ipython3",
   "version": "3.11.6"
  }
 },
 "nbformat": 4,
 "nbformat_minor": 2
}
