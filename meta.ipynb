{
 "cells": [
  {
   "cell_type": "code",
   "execution_count": 1,
   "metadata": {},
   "outputs": [
    {
     "name": "stdout",
     "output_type": "stream",
     "text": [
      "    Unnamed: 0  Ban  Pick  Ban rate  Pick rate  Win   Win rate  Counter   \n",
      "0         Airi  0.0   0.0       0.0        0.0   0.0       0.0      NaN  \\\n",
      "1       Allain  0.0   0.0       0.0        0.0   0.0       0.0      NaN   \n",
      "2     Aleister  0.0   0.0       0.0        0.0   0.0       0.0      NaN   \n",
      "3        Alice  0.0   0.0       0.0        0.0   0.0       0.0      NaN   \n",
      "4          Aoi  0.0   1.0       0.0        0.0   0.0       0.0      NaN   \n",
      "..         ...  ...   ...       ...        ...   ...       ...      ...   \n",
      "113     Zephys  0.0   0.0       0.0        0.0   0.0       0.0      NaN   \n",
      "114        Zip  0.0   0.0       0.0        0.0   0.0       0.0      NaN   \n",
      "115       Zill  1.0   0.0       0.0        0.0   0.0       0.0      NaN   \n",
      "116       Zuka  0.0   0.0       0.0        0.0   0.0       0.0      NaN   \n",
      "117      Total  8.0   8.0       0.0        0.0   0.0       0.0      0.0   \n",
      "\n",
      "     Countered by  \n",
      "0             NaN  \n",
      "1             NaN  \n",
      "2             NaN  \n",
      "3             NaN  \n",
      "4             NaN  \n",
      "..            ...  \n",
      "113           NaN  \n",
      "114           NaN  \n",
      "115           NaN  \n",
      "116           NaN  \n",
      "117           0.0  \n",
      "\n",
      "[118 rows x 9 columns]\n"
     ]
    }
   ],
   "source": [
    "import pandas as pd\n",
    "import numpy as np\n",
    "\n",
    "# Load the data\n",
    "df = pd.read_csv('Meta.csv')\n",
    "\n",
    "# Print the first 5 rows of the dataframe\n",
    "print(df)"
   ]
  },
  {
   "cell_type": "markdown",
   "metadata": {},
   "source": [
    "Set all cell to 0"
   ]
  },
  {
   "cell_type": "code",
   "execution_count": 3,
   "metadata": {},
   "outputs": [],
   "source": [
    "import pandas as pd\n",
    "\n",
    "# Read the CSV file\n",
    "df = pd.read_csv('Meta-Viet.csv', index_col=0)\n",
    "\n",
    "# Set all cells of columns \"Ban\", \"Pick\", \"Win\" to 0\n",
    "df[['Ban', 'Pick', 'Win', 'Ban rate', 'Pick rate', 'Win rate']] = 0.0\n",
    "\n",
    "# Write the DataFrame back to the CSV file\n",
    "df.to_csv('Meta-Viet.csv')"
   ]
  },
  {
   "cell_type": "markdown",
   "metadata": {},
   "source": [
    "Sum"
   ]
  },
  {
   "cell_type": "code",
   "execution_count": 3,
   "metadata": {},
   "outputs": [],
   "source": [
    "import pandas as pd\n",
    "\n",
    "# Read the CSV file\n",
    "df = pd.read_csv('Meta.csv', index_col=0)\n",
    "# Add a new row with index name \"Total\" to store the sum of each column\n",
    "df.loc['Total'] = df.iloc[:-1].sum()\n",
    "\n",
    "# Write the DataFrame back to the CSV file\n",
    "#df.to_csv('Meta.csv')"
   ]
  },
  {
   "cell_type": "markdown",
   "metadata": {},
   "source": [
    "Delete Win column"
   ]
  },
  {
   "cell_type": "code",
   "execution_count": 2,
   "metadata": {},
   "outputs": [],
   "source": [
    "import pandas as pd\n",
    "df = pd.read_csv('Meta.csv', index_col=0)\n",
    "\n",
    "# Drop the rightmost column\n",
    "df = df.drop(columns=\"Win\")\n",
    "\n",
    "# Write the DataFrame back to the CSV file\n",
    "#df.to_csv('Meta.csv')"
   ]
  }
 ],
 "metadata": {
  "kernelspec": {
   "display_name": "Python 3",
   "language": "python",
   "name": "python3"
  },
  "language_info": {
   "codemirror_mode": {
    "name": "ipython",
    "version": 3
   },
   "file_extension": ".py",
   "mimetype": "text/x-python",
   "name": "python",
   "nbconvert_exporter": "python",
   "pygments_lexer": "ipython3",
   "version": "3.11.1"
  }
 },
 "nbformat": 4,
 "nbformat_minor": 2
}
