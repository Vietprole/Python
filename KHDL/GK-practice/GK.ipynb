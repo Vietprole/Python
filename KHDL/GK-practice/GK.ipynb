{
 "cells": [
  {
   "cell_type": "code",
   "execution_count": 14,
   "metadata": {},
   "outputs": [
    {
     "name": "stdout",
     "output_type": "stream",
     "text": [
      "-0.9899924966004431\n"
     ]
    }
   ],
   "source": [
    "import math\n",
    "\n",
    "class Sum:\n",
    "    def __init__(self, x):\n",
    "        self.x = x\n",
    "\n",
    "    def calculate_S(self):\n",
    "        result = 0\n",
    "        for n in range(1001):\n",
    "            sign = (-1) ** n\n",
    "            log_numerator = 2 * n * math.log(self.x)\n",
    "            log_denominator = math.lgamma(2 * n + 1)  # lgamma(n) = log((n-1)!)\n",
    "            term = sign * math.exp(log_numerator - log_denominator)\n",
    "            result += term\n",
    "        return result\n",
    "\n",
    "# example\n",
    "s = Sum(3)\n",
    "print(s.calculate_S())"
   ]
  }
 ],
 "metadata": {
  "kernelspec": {
   "display_name": "Python 3",
   "language": "python",
   "name": "python3"
  },
  "language_info": {
   "codemirror_mode": {
    "name": "ipython",
    "version": 3
   },
   "file_extension": ".py",
   "mimetype": "text/x-python",
   "name": "python",
   "nbconvert_exporter": "python",
   "pygments_lexer": "ipython3",
   "version": "3.11.1"
  }
 },
 "nbformat": 4,
 "nbformat_minor": 2
}
