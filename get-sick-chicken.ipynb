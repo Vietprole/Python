{
 "cells": [
  {
   "cell_type": "markdown",
   "metadata": {},
   "source": [
    "#### Get sick chicken"
   ]
  },
  {
   "cell_type": "code",
   "execution_count": 5,
   "metadata": {},
   "outputs": [],
   "source": [
    "import os\n",
    "import shutil\n",
    "\n",
    "def get_sick_chicken(folder_path, save_path, data_usage):\n",
    "    folder_path = folder_path + data_usage + \"/labels\"\n",
    "    image_path = folder_path.replace(\"labels\", \"images\")\n",
    "    save_path = save_path + data_usage + \"/labels\"\n",
    "    image_save_path = save_path.replace(\"labels\", \"images\")\n",
    "    count = 0\n",
    "    # Iterate over each file in the folder\n",
    "    for filename in os.listdir(folder_path):\n",
    "        file_path = os.path.join(folder_path, filename)\n",
    "        with open(file_path, 'r') as file:\n",
    "            lines = file.readlines()\n",
    "            if lines:\n",
    "                for line in lines:\n",
    "                    columns = line.split()\n",
    "                    if columns[0] == '1':\n",
    "                        shutil.copy(file_path, save_path + \"/\" + filename)  # Copy the label file\n",
    "                        if os.path.isfile(image_path + \"/\" + filename.replace(\"txt\", \"jpg\")):\n",
    "                            shutil.copy(image_path + \"/\" + filename.replace(\"txt\", \"jpg\"), image_save_path + \"/\" + filename.replace(\"txt\", \"jpg\"))  # Copy the image file\n",
    "                        else:\n",
    "                            shutil.copy(image_path + \"/\" + filename.replace(\"txt\", \"jpeg\"), image_save_path + \"/\" + filename.replace(\"txt\", \"jpeg\"))\n",
    "                        count += 1\n",
    "                        break\n",
    "\n",
    "    print(\"Total sick chicken images: \", count)\n",
    "    return count"
   ]
  },
  {
   "cell_type": "code",
   "execution_count": null,
   "metadata": {},
   "outputs": [
    {
     "name": "stdout",
     "output_type": "stream",
     "text": [
      "Total sick chicken images:  28\n"
     ]
    },
    {
     "data": {
      "text/plain": [
       "28"
      ]
     },
     "metadata": {},
     "output_type": "display_data"
    }
   ],
   "source": [
    "folder_path = \"E:/Downloads/OfficalDataset-fixed/OfficalDataset\"\n",
    "save_path = \"E:/Downloads/OfficalDataset-fixed/SickChickenDataset\"\n",
    "data_usage = \"/test\"\n",
    "\n",
    "get_sick_chicken(folder_path, save_path, data_usage)"
   ]
  },
  {
   "cell_type": "code",
   "execution_count": null,
   "metadata": {},
   "outputs": [
    {
     "ename": "IndexError",
     "evalue": "list index out of range",
     "output_type": "error",
     "traceback": [
      "\u001b[1;31m---------------------------------------------------------------------------\u001b[0m\n",
      "\u001b[1;31mIndexError\u001b[0m                                Traceback (most recent call last)\n",
      "Cell \u001b[1;32mIn[7], line 2\u001b[0m\n",
      "\u001b[0;32m      1\u001b[0m data_usage \u001b[38;5;241m=\u001b[39m \u001b[38;5;124m\"\u001b[39m\u001b[38;5;124m/train\u001b[39m\u001b[38;5;124m\"\u001b[39m\n",
      "\u001b[1;32m----> 2\u001b[0m \u001b[43mget_sick_chicken\u001b[49m\u001b[43m(\u001b[49m\u001b[43mfolder_path\u001b[49m\u001b[43m,\u001b[49m\u001b[43m \u001b[49m\u001b[43msave_path\u001b[49m\u001b[43m,\u001b[49m\u001b[43m \u001b[49m\u001b[43mdata_usage\u001b[49m\u001b[43m)\u001b[49m\n",
      "\n",
      "Cell \u001b[1;32mIn[5], line 18\u001b[0m, in \u001b[0;36mget_sick_chicken\u001b[1;34m(folder_path, save_path, data_usage)\u001b[0m\n",
      "\u001b[0;32m     16\u001b[0m \u001b[38;5;28;01mfor\u001b[39;00m line \u001b[38;5;129;01min\u001b[39;00m lines:\n",
      "\u001b[0;32m     17\u001b[0m     columns \u001b[38;5;241m=\u001b[39m line\u001b[38;5;241m.\u001b[39msplit()\n",
      "\u001b[1;32m---> 18\u001b[0m     \u001b[38;5;28;01mif\u001b[39;00m \u001b[43mcolumns\u001b[49m\u001b[43m[\u001b[49m\u001b[38;5;241;43m0\u001b[39;49m\u001b[43m]\u001b[49m \u001b[38;5;241m==\u001b[39m \u001b[38;5;124m'\u001b[39m\u001b[38;5;124m1\u001b[39m\u001b[38;5;124m'\u001b[39m:\n",
      "\u001b[0;32m     19\u001b[0m         shutil\u001b[38;5;241m.\u001b[39mcopy(file_path, save_path \u001b[38;5;241m+\u001b[39m \u001b[38;5;124m\"\u001b[39m\u001b[38;5;124m/\u001b[39m\u001b[38;5;124m\"\u001b[39m \u001b[38;5;241m+\u001b[39m filename)  \u001b[38;5;66;03m# Copy the label file\u001b[39;00m\n",
      "\u001b[0;32m     20\u001b[0m         \u001b[38;5;28;01mif\u001b[39;00m os\u001b[38;5;241m.\u001b[39mpath\u001b[38;5;241m.\u001b[39misfile(image_path \u001b[38;5;241m+\u001b[39m \u001b[38;5;124m\"\u001b[39m\u001b[38;5;124m/\u001b[39m\u001b[38;5;124m\"\u001b[39m \u001b[38;5;241m+\u001b[39m filename\u001b[38;5;241m.\u001b[39mreplace(\u001b[38;5;124m\"\u001b[39m\u001b[38;5;124mtxt\u001b[39m\u001b[38;5;124m\"\u001b[39m, \u001b[38;5;124m\"\u001b[39m\u001b[38;5;124mjpg\u001b[39m\u001b[38;5;124m\"\u001b[39m)):\n",
      "\n",
      "\u001b[1;31mIndexError\u001b[0m: list index out of range"
     ]
    }
   ],
   "source": [
    "data_usage = \"/train\"\n",
    "get_sick_chicken(folder_path, save_path, data_usage)"
   ]
  },
  {
   "cell_type": "code",
   "execution_count": null,
   "metadata": {},
   "outputs": [
    {
     "name": "stdout",
     "output_type": "stream",
     "text": [
      "Total sick chicken images:  4\n"
     ]
    },
    {
     "data": {
      "text/plain": [
       "4"
      ]
     },
     "metadata": {},
     "output_type": "display_data"
    }
   ],
   "source": [
    "data_usage = \"/val\"\n",
    "get_sick_chicken(folder_path, save_path, data_usage)"
   ]
  },
  {
   "cell_type": "code",
   "execution_count": null,
   "metadata": {},
   "outputs": [
    {
     "name": "stdout",
     "output_type": "stream",
     "text": [
      "Total sick chicken images:  919\n"
     ]
    },
    {
     "data": {
      "text/plain": [
       "919"
      ]
     },
     "metadata": {},
     "output_type": "display_data"
    }
   ],
   "source": [
    "folder_path = \"E:/Downloads/Chicken Combs.v3i.yolov7pytorch\"\n",
    "save_path = \"E:/Downloads/Chicken Combs.v3i.yolov7pytorch/sick-chicken\"\n",
    "data_usage = \"/train\"\n",
    "\n",
    "get_sick_chicken(folder_path, save_path, data_usage)"
   ]
  },
  {
   "cell_type": "code",
   "execution_count": null,
   "metadata": {},
   "outputs": [
    {
     "name": "stdout",
     "output_type": "stream",
     "text": [
      "Total sick chicken images:  115\n"
     ]
    },
    {
     "data": {
      "text/plain": [
       "115"
      ]
     },
     "metadata": {},
     "output_type": "display_data"
    }
   ],
   "source": [
    "folder_path = \"E:/Downloads/Chicken Combs.v3i.yolov7pytorch\"\n",
    "save_path = \"E:/Downloads/Chicken Combs.v3i.yolov7pytorch/sick-chicken\"\n",
    "data_usage = \"/test\"\n",
    "\n",
    "get_sick_chicken(folder_path, save_path, data_usage)"
   ]
  },
  {
   "cell_type": "markdown",
   "metadata": {},
   "source": [
    "#### Get n chicken"
   ]
  },
  {
   "cell_type": "code",
   "execution_count": 2,
   "metadata": {},
   "outputs": [],
   "source": [
    "import os\n",
    "import shutil\n",
    "\n",
    "def get_n_chicken(folder_path, save_path, data_usage, from_number, to_number):\n",
    "    folder_path = folder_path + data_usage + \"/labels\"\n",
    "    image_path = folder_path.replace(\"labels\", \"images\")\n",
    "    save_path = save_path + data_usage + \"/labels\"\n",
    "    image_save_path = save_path.replace(\"labels\", \"images\")\n",
    "    count = 0\n",
    "    # Iterate over each file in the folder\n",
    "    for filename in os.listdir(folder_path):\n",
    "        file_path = os.path.join(folder_path, filename)\n",
    "        with open(file_path, 'r') as file:\n",
    "            lines = file.readlines()\n",
    "            num_lines = len(lines)\n",
    "            if from_number <= num_lines <= to_number:\n",
    "                shutil.copy(file_path, save_path + \"/\" + filename)  # Copy the label file\n",
    "                if os.path.isfile(image_path + \"/\" + filename.replace(\"txt\", \"jpg\")):\n",
    "                    shutil.copy(image_path + \"/\" + filename.replace(\"txt\", \"jpg\"), image_save_path + \"/\" + filename.replace(\"txt\", \"jpg\"))  # Copy the image file\n",
    "                else:\n",
    "                    shutil.copy(image_path + \"/\" + filename.replace(\"txt\", \"jpeg\"), image_save_path + \"/\" + filename.replace(\"txt\", \"jpeg\"))\n",
    "                count += 1\n",
    "    print(f\"Total {to_number} chicken images: \", count)\n",
    "    return count"
   ]
  },
  {
   "cell_type": "code",
   "execution_count": 13,
   "metadata": {},
   "outputs": [
    {
     "name": "stdout",
     "output_type": "stream",
     "text": [
      "Total 6 chicken images:  847\n"
     ]
    },
    {
     "data": {
      "text/plain": [
       "847"
      ]
     },
     "execution_count": 13,
     "metadata": {},
     "output_type": "execute_result"
    }
   ],
   "source": [
    "folder_path = \"E:/Downloads/OfficalDataset-fixed/OfficalDataset\"\n",
    "save_path = \"E:/Downloads/OfficalDataset-fixed/6-chicken\"\n",
    "data_usage = \"/test\"\n",
    "\n",
    "get_n_chicken(folder_path, save_path, data_usage, 1, 6)"
   ]
  },
  {
   "cell_type": "code",
   "execution_count": 14,
   "metadata": {},
   "outputs": [
    {
     "name": "stdout",
     "output_type": "stream",
     "text": [
      "Total 6 chicken images:  7524\n"
     ]
    },
    {
     "data": {
      "text/plain": [
       "7524"
      ]
     },
     "execution_count": 14,
     "metadata": {},
     "output_type": "execute_result"
    }
   ],
   "source": [
    "folder_path = \"E:/Downloads/OfficalDataset-fixed/OfficalDataset\"\n",
    "save_path = \"E:/Downloads/OfficalDataset-fixed/6-chicken\"\n",
    "data_usage = \"/train\"\n",
    "\n",
    "get_n_chicken(folder_path, save_path, data_usage, 1, 6)"
   ]
  },
  {
   "cell_type": "code",
   "execution_count": 15,
   "metadata": {},
   "outputs": [
    {
     "name": "stdout",
     "output_type": "stream",
     "text": [
      "Total 6 chicken images:  2320\n"
     ]
    },
    {
     "data": {
      "text/plain": [
       "2320"
      ]
     },
     "execution_count": 15,
     "metadata": {},
     "output_type": "execute_result"
    }
   ],
   "source": [
    "folder_path = \"E:/Downloads/OfficalDataset-fixed/OfficalDataset\"\n",
    "save_path = \"E:/Downloads/OfficalDataset-fixed/6-chicken\"\n",
    "data_usage = \"/val\"\n",
    "\n",
    "get_n_chicken(folder_path, save_path, data_usage, 1, 6)"
   ]
  },
  {
   "cell_type": "code",
   "execution_count": 16,
   "metadata": {},
   "outputs": [
    {
     "name": "stdout",
     "output_type": "stream",
     "text": [
      "Total 15 chicken images:  191\n"
     ]
    },
    {
     "data": {
      "text/plain": [
       "191"
      ]
     },
     "execution_count": 16,
     "metadata": {},
     "output_type": "execute_result"
    }
   ],
   "source": [
    "folder_path = \"E:/Downloads/OfficalDataset-fixed/OfficalDataset\"\n",
    "save_path = \"E:/Downloads/OfficalDataset-fixed/7-to-15-chicken\"\n",
    "data_usage = \"/test\"\n",
    "\n",
    "get_n_chicken(folder_path, save_path, data_usage, 7, 15)"
   ]
  },
  {
   "cell_type": "code",
   "execution_count": 17,
   "metadata": {},
   "outputs": [
    {
     "name": "stdout",
     "output_type": "stream",
     "text": [
      "Total 15 chicken images:  1641\n"
     ]
    },
    {
     "data": {
      "text/plain": [
       "1641"
      ]
     },
     "execution_count": 17,
     "metadata": {},
     "output_type": "execute_result"
    }
   ],
   "source": [
    "folder_path = \"E:/Downloads/OfficalDataset-fixed/OfficalDataset\"\n",
    "save_path = \"E:/Downloads/OfficalDataset-fixed/7-to-15-chicken\"\n",
    "data_usage = \"/train\"\n",
    "\n",
    "get_n_chicken(folder_path, save_path, data_usage, 7, 15)"
   ]
  },
  {
   "cell_type": "code",
   "execution_count": 18,
   "metadata": {},
   "outputs": [
    {
     "name": "stdout",
     "output_type": "stream",
     "text": [
      "Total 15 chicken images:  102\n"
     ]
    },
    {
     "data": {
      "text/plain": [
       "102"
      ]
     },
     "execution_count": 18,
     "metadata": {},
     "output_type": "execute_result"
    }
   ],
   "source": [
    "folder_path = \"E:/Downloads/OfficalDataset-fixed/OfficalDataset\"\n",
    "save_path = \"E:/Downloads/OfficalDataset-fixed/7-to-15-chicken\"\n",
    "data_usage = \"/val\"\n",
    "\n",
    "get_n_chicken(folder_path, save_path, data_usage, 7, 15)"
   ]
  },
  {
   "cell_type": "code",
   "execution_count": 4,
   "metadata": {},
   "outputs": [
    {
     "name": "stdout",
     "output_type": "stream",
     "text": [
      "Total 1 chicken images:  1791\n"
     ]
    },
    {
     "data": {
      "text/plain": [
       "1791"
      ]
     },
     "execution_count": 4,
     "metadata": {},
     "output_type": "execute_result"
    }
   ],
   "source": [
    "folder_path = \"E:/Downloads/mickey finder.v1i.yolov8\"\n",
    "save_path = \"E:/Downloads/mickey finder.v1i.yolov8/500\"\n",
    "data_usage = \"/train\"\n",
    "\n",
    "get_n_chicken(folder_path, save_path, data_usage, 0, 1)"
   ]
  },
  {
   "cell_type": "markdown",
   "metadata": {},
   "source": [
    "#### Extract high resolution images"
   ]
  },
  {
   "cell_type": "code",
   "execution_count": 27,
   "metadata": {},
   "outputs": [
    {
     "name": "stdout",
     "output_type": "stream",
     "text": [
      "Total high res images:  476\n"
     ]
    }
   ],
   "source": [
    "import os\n",
    "import cv2\n",
    "\n",
    "folder_path = \"E:/Downloads/OfficalDataset-fixed/6-chicken\"\n",
    "save_path = \"E:/Downloads/OfficalDataset-fixed/7-to-15-chicken\"\n",
    "data_usage = \"/test\"\n",
    "\n",
    "folder_path = folder_path + data_usage + \"/labels\"\n",
    "image_path = folder_path.replace(\"labels\", \"images\")\n",
    "save_path = save_path + data_usage + \"/labels\"\n",
    "image_save_path = save_path.replace(\"labels\", \"images\")\n",
    "count = 0\n",
    "\n",
    "def count_high_res(image_path, threshold):\n",
    "    temp = []\n",
    "    # Iterate over each file in the folder\n",
    "    for filename in os.listdir(folder_path):\n",
    "        file_path = os.path.join(folder_path, filename)\n",
    "        image_file = image_path + \"/\" + filename.replace('txt', 'jpg')\n",
    "        if os.path.isfile(image_file):\n",
    "            # Load an image\n",
    "            img = cv2.imread(image_file)\n",
    "            # Get the height and width of the image\n",
    "            height, width = img.shape[:2]\n",
    "            temp.append((height, width))\n",
    "    result = [(h, w) for h, w in temp if h * w >= threshold]\n",
    "    return len(result)\n",
    "\n",
    "print(\"Total high res images: \", count_high_res(image_path, 512*512 + 128*128))"
   ]
  },
  {
   "cell_type": "code",
   "execution_count": 13,
   "metadata": {},
   "outputs": [
    {
     "name": "stdout",
     "output_type": "stream",
     "text": [
      "Total low res images:  7524\n"
     ]
    }
   ],
   "source": [
    "import os\n",
    "import cv2\n",
    "\n",
    "folder_path = \"E:/Downloads/OfficalDataset-fixed/6-chicken\"\n",
    "save_path = \"E:/Downloads/OfficalDataset-fixed/filtered-6-chicken\"\n",
    "data_usage = \"/train\"\n",
    "\n",
    "folder_path = folder_path + data_usage + \"/labels\"\n",
    "image_path = folder_path.replace(\"labels\", \"images\")\n",
    "save_path = save_path + data_usage + \"/labels\"\n",
    "image_save_path = save_path.replace(\"labels\", \"images\")\n",
    "count = 0\n",
    "\n",
    "def extract_high_res(image_path, save_path, threshold):\n",
    "    label_path = image_path.replace(\"images\", \"labels\")\n",
    "    label_save_path = save_path + \"/labels\"\n",
    "    image_save_path = save_path + \"/images\"\n",
    "    # Iterate over each file in the folder\n",
    "    for filename in os.listdir(image_path):\n",
    "        # file_path = os.path.join(folder_path, filename)\n",
    "        image_file = image_path + \"/\" + filename\n",
    "        if os.path.isfile(image_file):\n",
    "            # Load an image\n",
    "            img = cv2.imread(image_file)\n",
    "            # Get the height and width of the image\n",
    "            height, width = img.shape[:2]\n",
    "            if height*width >= threshold:\n",
    "                shutil.copy(label_path + \"/\" + os.path.splitext(filename) + \".txt\", label_save_path + \"/\" + os.path.splitext(filename) + \".txt\")  # Copy the label file\n",
    "                shutil.copy(image_file, image_save_path + \"/\" + filename)  # Copy the image file\n",
    "                count += 1\n",
    "    return count\n",
    "\n",
    "print(\"Extracted high res images: \", extract_high_res(image_path, 1024*768))"
   ]
  },
  {
   "cell_type": "code",
   "execution_count": 5,
   "metadata": {},
   "outputs": [
    {
     "name": "stdout",
     "output_type": "stream",
     "text": [
      "train = 2560\n",
      "test = 800\n",
      "val = 640\n",
      "train_15 = 256.0\n",
      "test_15 = 80.0\n",
      "val_15 = 64.0\n"
     ]
    }
   ],
   "source": [
    "total = 4000\n",
    "total_15 = 400\n",
    "test = 800\n",
    "val = 640\n",
    "train = 4000 - test - val\n",
    "test_15 = test/total * total_15\n",
    "train_15 = train/total * total_15\n",
    "val_15 = val/total * total_15\n",
    "\n",
    "print(f'train = {train}')\n",
    "print(f'test = {test}')\n",
    "print(f'val = {val}')\n",
    "\n",
    "print(f'train_15 = {train_15}')\n",
    "print(f'test_15 = {test_15}')\n",
    "print(f'val_15 = {val_15}')"
   ]
  },
  {
   "cell_type": "code",
   "execution_count": 23,
   "metadata": {},
   "outputs": [
    {
     "ename": "KeyboardInterrupt",
     "evalue": "",
     "output_type": "error",
     "traceback": [
      "\u001b[1;31m---------------------------------------------------------------------------\u001b[0m",
      "\u001b[1;31mKeyboardInterrupt\u001b[0m                         Traceback (most recent call last)",
      "Cell \u001b[1;32mIn[23], line 2\u001b[0m\n\u001b[0;32m      1\u001b[0m \u001b[38;5;28;01mfor\u001b[39;00m threshold \u001b[38;5;129;01min\u001b[39;00m \u001b[38;5;28mrange\u001b[39m(\u001b[38;5;241m512\u001b[39m\u001b[38;5;241m*\u001b[39m\u001b[38;5;241m512\u001b[39m, \u001b[38;5;241m1024\u001b[39m\u001b[38;5;241m*\u001b[39m\u001b[38;5;241m768\u001b[39m, \u001b[38;5;241m1024\u001b[39m):\n\u001b[1;32m----> 2\u001b[0m     n \u001b[38;5;241m=\u001b[39m \u001b[43mcount_high_res\u001b[49m\u001b[43m(\u001b[49m\u001b[38;5;124;43m\"\u001b[39;49m\u001b[38;5;124;43mE:/Downloads/OfficalDataset-fixed/6-chicken/train/images\u001b[39;49m\u001b[38;5;124;43m\"\u001b[39;49m\u001b[43m,\u001b[49m\u001b[43m \u001b[49m\u001b[43mthreshold\u001b[49m\u001b[43m)\u001b[49m\n\u001b[0;32m      3\u001b[0m     \u001b[38;5;28;01mif\u001b[39;00m n \u001b[38;5;241m<\u001b[39m\u001b[38;5;241m=\u001b[39m \u001b[38;5;241m2560\u001b[39m:\n\u001b[0;32m      4\u001b[0m         \u001b[38;5;28;01mbreak\u001b[39;00m\n",
      "Cell \u001b[1;32mIn[22], line 22\u001b[0m, in \u001b[0;36mcount_high_res\u001b[1;34m(image_path, threshold)\u001b[0m\n\u001b[0;32m     19\u001b[0m image_file \u001b[38;5;241m=\u001b[39m image_path \u001b[38;5;241m+\u001b[39m \u001b[38;5;124m\"\u001b[39m\u001b[38;5;124m/\u001b[39m\u001b[38;5;124m\"\u001b[39m \u001b[38;5;241m+\u001b[39m filename\u001b[38;5;241m.\u001b[39mreplace(\u001b[38;5;124m'\u001b[39m\u001b[38;5;124mtxt\u001b[39m\u001b[38;5;124m'\u001b[39m, \u001b[38;5;124m'\u001b[39m\u001b[38;5;124mjpg\u001b[39m\u001b[38;5;124m'\u001b[39m)\n\u001b[0;32m     20\u001b[0m \u001b[38;5;28;01mif\u001b[39;00m os\u001b[38;5;241m.\u001b[39mpath\u001b[38;5;241m.\u001b[39misfile(image_file):\n\u001b[0;32m     21\u001b[0m     \u001b[38;5;66;03m# Load an image\u001b[39;00m\n\u001b[1;32m---> 22\u001b[0m     img \u001b[38;5;241m=\u001b[39m \u001b[43mcv2\u001b[49m\u001b[38;5;241;43m.\u001b[39;49m\u001b[43mimread\u001b[49m\u001b[43m(\u001b[49m\u001b[43mimage_file\u001b[49m\u001b[43m)\u001b[49m\n\u001b[0;32m     23\u001b[0m     \u001b[38;5;66;03m# Get the height and width of the image\u001b[39;00m\n\u001b[0;32m     24\u001b[0m     height, width \u001b[38;5;241m=\u001b[39m img\u001b[38;5;241m.\u001b[39mshape[:\u001b[38;5;241m2\u001b[39m]\n",
      "\u001b[1;31mKeyboardInterrupt\u001b[0m: "
     ]
    }
   ],
   "source": [
    "for threshold in range(512*512, 1024*768, 128*128):\n",
    "    n = count_high_res(\"E:/Downloads/OfficalDataset-fixed/6-chicken/train/images\", threshold)\n",
    "    if n <= 2560:\n",
    "        break\n",
    "print(threshold)"
   ]
  },
  {
   "cell_type": "code",
   "execution_count": 31,
   "metadata": {},
   "outputs": [
    {
     "name": "stdout",
     "output_type": "stream",
     "text": [
      "20480 732\n",
      "732\n"
     ]
    }
   ],
   "source": [
    "for threshold in range(512*512, 128*128, -64*64):\n",
    "    n = count_high_res(\"E:/Downloads/OfficalDataset-fixed/6-chicken/test/images\", threshold)\n",
    "    if n >= 800:\n",
    "        break\n",
    "print(threshold, n)\n",
    "print(count_high_res(\"E:/Downloads/OfficalDataset-fixed/6-chicken/test/images\", threshold - 64*64))"
   ]
  },
  {
   "cell_type": "code",
   "execution_count": null,
   "metadata": {},
   "outputs": [],
   "source": [
    "for threshold in range(512*512, 1024*768, 128*128):\n",
    "    n = count_high_res(\"E:/Downloads/OfficalDataset-fixed/6-chicken/val/images\", threshold)\n",
    "    if n <= 640:\n",
    "        break\n",
    "print(threshold)"
   ]
  }
 ],
 "metadata": {
  "kernelspec": {
   "display_name": "Python 3",
   "language": "python",
   "name": "python3"
  },
  "language_info": {
   "codemirror_mode": {
    "name": "ipython",
    "version": 3
   },
   "file_extension": ".py",
   "mimetype": "text/x-python",
   "name": "python",
   "nbconvert_exporter": "python",
   "pygments_lexer": "ipython3",
   "version": "3.11.1"
  }
 },
 "nbformat": 4,
 "nbformat_minor": 2
}
