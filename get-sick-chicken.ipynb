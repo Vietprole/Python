{
 "cells": [
  {
   "cell_type": "code",
   "execution_count": 26,
   "metadata": {},
   "outputs": [],
   "source": [
    "import os\n",
    "import shutil\n",
    "\n",
    "def get_sick_chicken(folder_path, save_path, data_usage):\n",
    "    folder_path = folder_path + data_usage + \"/labels\"\n",
    "    image_path = folder_path.replace(\"labels\", \"images\")\n",
    "    save_path = save_path + data_usage + \"/labels\"\n",
    "    image_save_path = save_path.replace(\"labels\", \"images\")\n",
    "    count = 0\n",
    "    # Iterate over each file in the folder\n",
    "    for filename in os.listdir(folder_path):\n",
    "        file_path = os.path.join(folder_path, filename)\n",
    "        with open(file_path, 'r') as file:\n",
    "            lines = file.readlines()\n",
    "            if lines:\n",
    "                for line in lines:\n",
    "                    columns = line.split()\n",
    "                if columns[0] == '1':\n",
    "                    shutil.copy(file_path, save_path + \"/\" + filename)  # Copy the label file\n",
    "                    if os.path.isfile(image_path + \"/\" + filename.replace(\"txt\", \"jpg\")):\n",
    "                        shutil.copy(image_path + \"/\" + filename.replace(\"txt\", \"jpg\"), image_save_path + \"/\" + filename.replace(\"txt\", \"jpg\"))  # Copy the image file\n",
    "                    else:\n",
    "                        shutil.copy(image_path + \"/\" + filename.replace(\"txt\", \"jpeg\"), image_save_path + \"/\" + filename.replace(\"txt\", \"jpeg\"))\n",
    "                    count += 1\n",
    "                    break\n",
    "\n",
    "    print(\"Total sick chicken images: \", count)\n",
    "    return count"
   ]
  },
  {
   "cell_type": "code",
   "execution_count": 27,
   "metadata": {},
   "outputs": [
    {
     "name": "stdout",
     "output_type": "stream",
     "text": [
      "Total sick chicken images:  1\n"
     ]
    },
    {
     "data": {
      "text/plain": [
       "1"
      ]
     },
     "execution_count": 27,
     "metadata": {},
     "output_type": "execute_result"
    }
   ],
   "source": [
    "folder_path = \"E:/Downloads/OfficalDataset-fixed/OfficalDataset\"\n",
    "save_path = \"E:/Downloads/OfficalDataset-fixed/SickChickenDataset\"\n",
    "data_usage = \"/test\"\n",
    "\n",
    "get_sick_chicken(folder_path, save_path, data_usage)"
   ]
  },
  {
   "cell_type": "code",
   "execution_count": 28,
   "metadata": {},
   "outputs": [
    {
     "name": "stdout",
     "output_type": "stream",
     "text": [
      "Total sick chicken images:  1\n"
     ]
    },
    {
     "data": {
      "text/plain": [
       "1"
      ]
     },
     "execution_count": 28,
     "metadata": {},
     "output_type": "execute_result"
    }
   ],
   "source": [
    "data_usage = \"/train\"\n",
    "get_sick_chicken(folder_path, save_path, data_usage)"
   ]
  },
  {
   "cell_type": "code",
   "execution_count": 29,
   "metadata": {},
   "outputs": [
    {
     "ename": "FileNotFoundError",
     "evalue": "[WinError 3] The system cannot find the path specified: 'E:/Downloads/OfficalDataset-fixed/OfficalDataset/valid/labels'",
     "output_type": "error",
     "traceback": [
      "\u001b[1;31m---------------------------------------------------------------------------\u001b[0m",
      "\u001b[1;31mFileNotFoundError\u001b[0m                         Traceback (most recent call last)",
      "Cell \u001b[1;32mIn[29], line 2\u001b[0m\n\u001b[0;32m      1\u001b[0m data_usage \u001b[38;5;241m=\u001b[39m \u001b[38;5;124m\"\u001b[39m\u001b[38;5;124m/valid\u001b[39m\u001b[38;5;124m\"\u001b[39m\n\u001b[1;32m----> 2\u001b[0m \u001b[43mget_sick_chicken\u001b[49m\u001b[43m(\u001b[49m\u001b[43mfolder_path\u001b[49m\u001b[43m,\u001b[49m\u001b[43m \u001b[49m\u001b[43msave_path\u001b[49m\u001b[43m,\u001b[49m\u001b[43m \u001b[49m\u001b[43mdata_usage\u001b[49m\u001b[43m)\u001b[49m\n",
      "Cell \u001b[1;32mIn[26], line 11\u001b[0m, in \u001b[0;36mget_sick_chicken\u001b[1;34m(folder_path, save_path, data_usage)\u001b[0m\n\u001b[0;32m      9\u001b[0m count \u001b[38;5;241m=\u001b[39m \u001b[38;5;241m0\u001b[39m\n\u001b[0;32m     10\u001b[0m \u001b[38;5;66;03m# Iterate over each file in the folder\u001b[39;00m\n\u001b[1;32m---> 11\u001b[0m \u001b[38;5;28;01mfor\u001b[39;00m filename \u001b[38;5;129;01min\u001b[39;00m os\u001b[38;5;241m.\u001b[39mlistdir(folder_path):\n\u001b[0;32m     12\u001b[0m     file_path \u001b[38;5;241m=\u001b[39m os\u001b[38;5;241m.\u001b[39mpath\u001b[38;5;241m.\u001b[39mjoin(folder_path, filename)\n\u001b[0;32m     13\u001b[0m     \u001b[38;5;28;01mwith\u001b[39;00m \u001b[38;5;28mopen\u001b[39m(file_path, \u001b[38;5;124m'\u001b[39m\u001b[38;5;124mr\u001b[39m\u001b[38;5;124m'\u001b[39m) \u001b[38;5;28;01mas\u001b[39;00m file:\n",
      "\u001b[1;31mFileNotFoundError\u001b[0m: [WinError 3] The system cannot find the path specified: 'E:/Downloads/OfficalDataset-fixed/OfficalDataset/valid/labels'"
     ]
    }
   ],
   "source": [
    "data_usage = \"/val\"\n",
    "get_sick_chicken(folder_path, save_path, data_usage)"
   ]
  }
 ],
 "metadata": {
  "kernelspec": {
   "display_name": "Python 3",
   "language": "python",
   "name": "python3"
  },
  "language_info": {
   "codemirror_mode": {
    "name": "ipython",
    "version": 3
   },
   "file_extension": ".py",
   "mimetype": "text/x-python",
   "name": "python",
   "nbconvert_exporter": "python",
   "pygments_lexer": "ipython3",
   "version": "3.11.1"
  }
 },
 "nbformat": 4,
 "nbformat_minor": 2
}
