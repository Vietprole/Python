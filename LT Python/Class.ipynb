{
 "cells": [
  {
   "cell_type": "code",
   "execution_count": 1,
   "metadata": {},
   "outputs": [
    {
     "name": "stdout",
     "output_type": "stream",
     "text": [
      "2759824008656\n",
      "2759824013520\n",
      "John is 36\n",
      "Bob is 36\n",
      "Bob is 36\n"
     ]
    }
   ],
   "source": [
    "class Person:\n",
    "    def __init__(self, name, age):\n",
    "        self.name = name\n",
    "        self.age = age\n",
    "    def __str__(self):\n",
    "        return self.name + ' is ' + str(self.age)\n",
    "        \n",
    "p1 = Person(\"John\", 36)\n",
    "p2 = Person(\"Phoebe\", 45)\n",
    "print(id(p1))\n",
    "print(id(p2))\n",
    "\n",
    "print(p1.name, 'is', p1.age) # John is 36\n",
    "p1.name = 'Bob'\n",
    "print(p1.name, 'is', p1.age) # Bob is 36\n",
    "\n",
    "print(p1)\n"
   ]
  },
  {
   "cell_type": "code",
   "execution_count": 3,
   "metadata": {},
   "outputs": [],
   "source": [
    "class Person:\n",
    "    \"\"\" An example class to hold a persons name and age\"\"\"\n",
    "    def __init__(self, name, age):\n",
    "        self.name = name\n",
    "        self.age = age\n",
    "    def __str__(self):\n",
    "        return self.name + ' is ' + str(self.age)\n",
    "    def birthday(self):\n",
    "        print('Happy birthday you were', self.age)\n",
    "        self.age += 1\n",
    "        print('You are now', self.age)"
   ]
  }
 ],
 "metadata": {
  "kernelspec": {
   "display_name": "Python 3",
   "language": "python",
   "name": "python3"
  },
  "language_info": {
   "codemirror_mode": {
    "name": "ipython",
    "version": 3
   },
   "file_extension": ".py",
   "mimetype": "text/x-python",
   "name": "python",
   "nbconvert_exporter": "python",
   "pygments_lexer": "ipython3",
   "version": "3.11.1"
  }
 },
 "nbformat": 4,
 "nbformat_minor": 2
}
