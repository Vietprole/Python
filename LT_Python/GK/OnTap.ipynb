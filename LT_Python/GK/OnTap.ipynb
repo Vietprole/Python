{
 "cells": [
  {
   "cell_type": "markdown",
   "metadata": {},
   "source": [
    "## Bai 1"
   ]
  },
  {
   "cell_type": "code",
   "execution_count": 8,
   "metadata": {},
   "outputs": [],
   "source": [
    "countAm = 0\n",
    "countDuong = 0\n",
    "sumAm = 0\n",
    "sumDuong = 0\n",
    "\n",
    "with open('E:/Viet/Python/LT_Python/GK/InpAvg.txt', 'r') as file:\n",
    "    line = file.readlines()\n",
    "    for i in range(0, len(line)):\n",
    "        if(int(line[i]) < 0):\n",
    "            countAm += 1\n",
    "            sumAm += int(line[i])\n",
    "        else:\n",
    "            countDuong += 1\n",
    "            sumDuong += int(line[i])\n",
    "AvgAm = int(sumAm / countAm) if countAm != 0 else 0\n",
    "AvgDuong = int(sumDuong / countDuong) if countDuong != 0 else 0\n",
    "\n",
    "with open('E:/Viet/Python/LT_Python/GK/OutAvg.txt', 'w') as file:\n",
    "    file.write(str(AvgAm) + \" \" + str(AvgDuong))"
   ]
  },
  {
   "cell_type": "markdown",
   "metadata": {},
   "source": [
    "## Bai 2"
   ]
  },
  {
   "cell_type": "code",
   "execution_count": 9,
   "metadata": {},
   "outputs": [],
   "source": [
    "M = 0\n",
    "N = 0\n",
    "matrix = []\n",
    "column_list = []\n",
    "with open('E:/Viet/Python/LT_Python/GK/InpSortColumn.txt', 'r') as file:\n",
    "    line = file.readlines()\n",
    "    M,N = line[0].split()\n",
    "    for i in range(1, len(line)): \n",
    "        row = list(map(int, line[i].split())) \n",
    "        matrix.append(row) \n",
    "\n",
    "for j in range(0, int(N)):\n",
    "    column = [row[j] for row in matrix]\n",
    "    sorted_column = sorted(column)\n",
    "    column_list.append(sorted_column)\n",
    "\n",
    "with open('E:/Viet/Python/LT_Python/GK/OutSortColumn.txt', 'w') as file:\n",
    "    for k in range(0, int(M)):\n",
    "        line = ' '.join(str(column[k]) for column in column_list)\n",
    "        file.write(line + \"\\n\")"
   ]
  },
  {
   "cell_type": "markdown",
   "metadata": {},
   "source": [
    "## Bai 3"
   ]
  },
  {
   "cell_type": "code",
   "execution_count": 10,
   "metadata": {},
   "outputs": [],
   "source": [
    "N = 0\n",
    "M = 0\n",
    "K = []\n",
    "array = []\n",
    "result = []\n",
    "with open('E:/Viet/Python/LT_Python/GK/inpLN.txt', 'r') as file:\n",
    "    line = file.readlines()\n",
    "    N = int(line[0])  \n",
    "    array = list(map(int, line[1].split()))\n",
    "    M = int(line[2])\n",
    "    for i in range(3, len(line)):\n",
    "        element = int(line[i])\n",
    "        K.append(element)\n",
    "\n",
    "for element in K:\n",
    "    largest_negative = max((x for x in array if x < element), default=None)\n",
    "    if largest_negative is None:\n",
    "        result.append(-1)\n",
    "    else:\n",
    "        index = array.index(largest_negative)\n",
    "        result.append(array[index])\n",
    "        \n",
    "with open('E:/Viet/Python/LT_Python/GK/outLN.txt', 'w') as file:\n",
    "    for j in result:\n",
    "        file.write(str(j) + \"\\n\")"
   ]
  },
  {
   "cell_type": "markdown",
   "metadata": {},
   "source": [
    "## Bai 4"
   ]
  },
  {
   "cell_type": "code",
   "execution_count": 11,
   "metadata": {},
   "outputs": [
    {
     "name": "stdout",
     "output_type": "stream",
     "text": [
      "1\n",
      "2\n",
      "4\n",
      "5\n"
     ]
    }
   ],
   "source": [
    "N = 0\n",
    "M = 0\n",
    "Q = 0\n",
    "array = []\n",
    "temp_list = []\n",
    "\n",
    "with open('E:/Viet/Python/LT_Python/GK/inpTB.txt', 'r') as file:\n",
    "    line = file.readlines()\n",
    "    N = int(line[0])  \n",
    "    array = list(map(int, line[1].split()))\n",
    "    M = int(line[2])\n",
    "    array = sorted(array)\n",
    "    for i in range(3, len(line)):\n",
    "        Q = int(line[i])\n",
    "        if Q == -1:\n",
    "            print(array[0])\n",
    "            temp_list.append(array[0])\n",
    "            array.pop(0)\n",
    "        if Q >= 0:\n",
    "            array.append(Q)\n",
    "            array = sorted(array)\n",
    "\n",
    "with open('E:/Viet/Python/LT_Python/GK/outTB.txt', 'w') as file:\n",
    "    for j in temp_list:\n",
    "        file.write(str(j) + \"\\n\")"
   ]
  }
 ],
 "metadata": {
  "kernelspec": {
   "display_name": "Python 3",
   "language": "python",
   "name": "python3"
  },
  "language_info": {
   "codemirror_mode": {
    "name": "ipython",
    "version": 3
   },
   "file_extension": ".py",
   "mimetype": "text/x-python",
   "name": "python",
   "nbconvert_exporter": "python",
   "pygments_lexer": "ipython3",
   "version": "3.11.1"
  }
 },
 "nbformat": 4,
 "nbformat_minor": 2
}
