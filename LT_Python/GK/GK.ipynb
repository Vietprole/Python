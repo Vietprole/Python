{
 "cells": [
  {
   "cell_type": "markdown",
   "metadata": {},
   "source": [
    "### Bai 1"
   ]
  },
  {
   "cell_type": "code",
   "execution_count": 4,
   "metadata": {},
   "outputs": [
    {
     "name": "stdout",
     "output_type": "stream",
     "text": [
      "True\n"
     ]
    }
   ],
   "source": [
    "import re\n",
    "\n",
    "def is_valid_student_id(student_id):\n",
    "    pattern = r'^102(1[7-9]|20|21)(0[0-9]{2}[0-9]|[1-9][0-9]{2})$'\n",
    "    return bool(re.match(pattern, student_id))\n",
    "\n",
    "N = int(input())\n",
    "for _ in range(N):\n",
    "    student_id = input()\n",
    "    print(is_valid_student_id(student_id))"
   ]
  },
  {
   "cell_type": "markdown",
   "metadata": {},
   "source": [
    "### Bai 2"
   ]
  },
  {
   "cell_type": "code",
   "execution_count": 12,
   "metadata": {},
   "outputs": [
    {
     "name": "stdout",
     "output_type": "stream",
     "text": [
      "Account[123] - John, current = 10.05\n",
      "Account[345] - John, savings = 23.55\n",
      "Account[567] - Phoebe, investment = 12.45\n",
      "Account[789] - Phoebe, investment = -33.67\n",
      "balance: 2.8799999999999955\n"
     ]
    }
   ],
   "source": [
    "class Account:\n",
    "    def __init__(self, account_number, account_holder, opening_balance, type_of_account):\n",
    "        self.account_number = account_number\n",
    "        self.account_holder = account_holder\n",
    "        self.balance = opening_balance\n",
    "        self.type_of_account = type_of_account\n",
    "\n",
    "    def deposit(self, amount):\n",
    "        self.balance += amount\n",
    "\n",
    "    def withdraw(self, amount):\n",
    "        if amount <= self.balance:\n",
    "            self.balance -= amount\n",
    "        else:\n",
    "            print(\"Insufficient balance.\")\n",
    "\n",
    "    def get_balance(self):\n",
    "        return self.balance\n",
    "    def __str__(self):\n",
    "        return f\"Account[{self.account_number}] - {self.account_holder}, {self.type_of_account} = {self.balance:.2f}\"\n",
    "# Simple test\n",
    "acc1 = Account('123', 'John', 10.05, 'current')\n",
    "acc2 = Account('345', 'John', 23.55, 'savings')\n",
    "acc3 = Account('567', 'Phoebe', 12.45, 'investment')\n",
    "acc4 = Account('789', 'Phoebe', -33.67, 'investment')\n",
    "\n",
    "print(acc1)\n",
    "print(acc2)\n",
    "print(acc3)\n",
    "print(acc4)\n",
    "\n",
    "acc1.deposit(23.45)\n",
    "acc1.withdraw(12.33)\n",
    "acc4.deposit(-23.45)\n",
    "acc4.withdraw(-60)\n",
    "print('balance:', acc4.get_balance())"
   ]
  },
  {
   "cell_type": "code",
   "execution_count": 14,
   "metadata": {},
   "outputs": [
    {
     "name": "stdout",
     "output_type": "stream",
     "text": [
      "5\n"
     ]
    }
   ],
   "source": [
    "from collections import deque\n",
    "\n",
    "def min_moves(maze, m, n):\n",
    "    queue = deque([(0, 0, 0)])\n",
    "    visited = set((0, 0))\n",
    "    directions = [(0, 1), (0, -1), (1, 0), (-1, 0)]\n",
    "\n",
    "    while queue:\n",
    "        x, y, steps = queue.popleft()\n",
    "        if x == m - 1 and y == n - 1:\n",
    "            return steps\n",
    "        for dx, dy in directions:\n",
    "            nx, ny = x + dx, y + dy\n",
    "            if 0 <= nx < m and 0 <= ny < n and maze[nx][ny] == '.' and (nx, ny) not in visited:\n",
    "                queue.append((nx, ny, steps + 1))\n",
    "                visited.add((nx, ny))\n",
    "    return -1\n",
    "\n",
    "m, n = map(int, input().split())\n",
    "maze = [list(input()) for _ in range(m)]\n",
    "print(min_moves(maze, m, n))"
   ]
  },
  {
   "cell_type": "code",
   "execution_count": 19,
   "metadata": {},
   "outputs": [
    {
     "name": "stdout",
     "output_type": "stream",
     "text": [
      "-25\n"
     ]
    }
   ],
   "source": [
    "def min_cost(v1, v2):\n",
    "    v1.sort()\n",
    "    v2.sort(reverse=True)\n",
    "    return sum(a * b for a, b in zip(v1, v2))\n",
    "\n",
    "n = int(input())\n",
    "v1 = list(map(int, input().split()))\n",
    "v2 = list(map(int, input().split()))\n",
    "print(min_cost(v1, v2))"
   ]
  }
 ],
 "metadata": {
  "kernelspec": {
   "display_name": "Python 3",
   "language": "python",
   "name": "python3"
  },
  "language_info": {
   "codemirror_mode": {
    "name": "ipython",
    "version": 3
   },
   "file_extension": ".py",
   "mimetype": "text/x-python",
   "name": "python",
   "nbconvert_exporter": "python",
   "pygments_lexer": "ipython3",
   "version": "3.11.1"
  }
 },
 "nbformat": 4,
 "nbformat_minor": 2
}
