{
 "cells": [
  {
   "cell_type": "code",
   "execution_count": 3,
   "metadata": {},
   "outputs": [
    {
     "name": "stdout",
     "output_type": "stream",
     "text": [
      "S =  1.7182818282861687\n"
     ]
    }
   ],
   "source": [
    "while True:\n",
    "    N = int(input(\"Nhap so nguyen duong N: \"))\n",
    "    if N > 0:\n",
    "        break\n",
    "    else:\n",
    "        print(\"N phai la so nguyen duong. Vui long nhap lai.\")\n",
    "\n",
    "#cal S = 1/1 + 1/2! + ... + 1/N!\n",
    "S = 0\n",
    "i = 1\n",
    "GiaiThua = 1\n",
    "while i <= N:\n",
    "    GiaiThua *= i\n",
    "    S += 1/GiaiThua\n",
    "    i += 1\n",
    "print(\"S = \", S)"
   ]
  },
  {
   "cell_type": "code",
   "execution_count": 7,
   "metadata": {},
   "outputs": [
    {
     "name": "stdout",
     "output_type": "stream",
     "text": [
      "1 2 3\n"
     ]
    }
   ],
   "source": [
    "x, y, z = map(int, input().split())\n",
    "print(x, y, z)"
   ]
  },
  {
   "cell_type": "code",
   "execution_count": 4,
   "metadata": {},
   "outputs": [
    {
     "name": "stdout",
     "output_type": "stream",
     "text": [
      "1.7182818282861687\n"
     ]
    }
   ],
   "source": [
    "print(S)"
   ]
  },
  {
   "cell_type": "markdown",
   "metadata": {},
   "source": [
    "Số nguyên tố <=N"
   ]
  },
  {
   "cell_type": "code",
   "execution_count": 4,
   "metadata": {},
   "outputs": [
    {
     "name": "stdout",
     "output_type": "stream",
     "text": [
      "Cac so nguyen to la:  [2, 3, 5, 7, 11, 13, 17, 19, 23, 29, 31, 37, 41, 43, 47]\n"
     ]
    }
   ],
   "source": [
    "while True:\n",
    "    N = int(input(\"Nhap so nguyen duong N: \"))\n",
    "    if N > 0:\n",
    "        break\n",
    "    else:\n",
    "        print(\"N phai la so nguyen duong. Vui long nhap lai.\")\n",
    "\n",
    "#in so nguyen to khong lon hon N\n",
    "i = 2\n",
    "list1 = []\n",
    "while i <= N:\n",
    "    j = 2\n",
    "    while j <= i/j:\n",
    "        if i % j == 0:\n",
    "            break\n",
    "        j += 1\n",
    "    if j > i/j:\n",
    "        list1.append(i)\n",
    "    i += 1\n",
    "print(\"Cac so nguyen to la: \", list1)"
   ]
  },
  {
   "cell_type": "code",
   "execution_count": 15,
   "metadata": {},
   "outputs": [
    {
     "name": "stdout",
     "output_type": "stream",
     "text": [
      "F5 =  5\n"
     ]
    }
   ],
   "source": [
    "while True:\n",
    "    N = int(input(\"Nhap so nguyen duong N: \"))\n",
    "    if N >= 1:\n",
    "        break\n",
    "    else:\n",
    "        print(\"N phai >=1. Vui long nhap lai.\")\n",
    "\n",
    "#fibonaci derive explicit formula nth term\n",
    "import math\n",
    "a = 1/math.sqrt(5)*((1+math.sqrt(5))/2)**N - 1/math.sqrt(5)*((1-math.sqrt(5))/2)**N\n",
    "print(f\"F{N} = \", int(a))\n"
   ]
  },
  {
   "cell_type": "code",
   "execution_count": 20,
   "metadata": {},
   "outputs": [
    {
     "name": "stdout",
     "output_type": "stream",
     "text": [
      "Nhap ban kinh R:\n",
      "P(0,0) nam trong duong tron C(0,1) ban kinh R = 2\n"
     ]
    }
   ],
   "source": [
    "x, y = map(int, input(\"Nhap toa do C:\").split())\n",
    "x1, y1 = map(int, input(\"Nhap toa do P:\").split())\n",
    "print(\"Nhap ban kinh R:\")\n",
    "R = int(input())\n",
    "if (x1-x)**2 + (y1-y)**2 < R**2:\n",
    "    print(f\"P({x},{y}) nam trong duong tron C({x1},{y1}) ban kinh R = {R}\")\n",
    "else: \n",
    "    print(f\"P({x},{y}) nam ngoai duong tron C({x1},{y1}) ban kinh R = {R}\")\n"
   ]
  },
  {
   "cell_type": "code",
   "execution_count": 1,
   "metadata": {},
   "outputs": [],
   "source": [
    "countAm = 0\n",
    "countDuong = 0\n",
    "sumAm = 0\n",
    "sumDuong = 0\n",
    "\n",
    "with open('E:/Viet/Python/LT_Python/InpAvg.txt', 'r') as file:\n",
    "    line = file.readlines()\n",
    "    for i in range(0, len(line)):\n",
    "        if(int(line[i]) < 0):\n",
    "            countAm += 1\n",
    "            sumAm += int(line[i])\n",
    "        else:\n",
    "            countDuong += 1\n",
    "            sumDuong += int(line[i])\n",
    "AvgAm = int(sumAm / countAm) if countAm != 0 else 0\n",
    "AvgDuong = int(sumDuong / countDuong) if countDuong != 0 else 0\n",
    "\n",
    "with open('E:/Viet/Python/LT_Python/OutAvg.txt', 'w') as file:\n",
    "    file.write(str(AvgAm) + \" \" + str(AvgDuong))\n",
    "    "
   ]
  }
 ],
 "metadata": {
  "kernelspec": {
   "display_name": ".venv",
   "language": "python",
   "name": "python3"
  },
  "language_info": {
   "codemirror_mode": {
    "name": "ipython",
    "version": 3
   },
   "file_extension": ".py",
   "mimetype": "text/x-python",
   "name": "python",
   "nbconvert_exporter": "python",
   "pygments_lexer": "ipython3",
   "version": "3.11.1"
  }
 },
 "nbformat": 4,
 "nbformat_minor": 2
}
