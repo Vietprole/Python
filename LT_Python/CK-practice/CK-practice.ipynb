{
 "cells": [
  {
   "cell_type": "markdown",
   "metadata": {},
   "source": [
    "# Python overview"
   ]
  },
  {
   "cell_type": "code",
   "execution_count": null,
   "metadata": {},
   "outputs": [],
   "source": [
    "import sys\n",
    "\n",
    "print(1, 2, 3, 4, sep='*', end=' END\\n', file=sys.stdout, flush=True)\n",
    "# change sys.stdout to file object to write to file"
   ]
  },
  {
   "cell_type": "code",
   "execution_count": 10,
   "metadata": {},
   "outputs": [
    {
     "name": "stdout",
     "output_type": "stream",
     "text": [
      "Value of a: None Type: <class 'NoneType'>\n",
      "Value of x: 10 Type: <class 'int'>\n",
      "Value of y: 20.5 Type: <class 'float'>\n",
      "Value of z: (2+1j) Type: <class 'complex'>\n",
      "Value of complex(): 0j Type: <class 'complex'>\n",
      "Value of complex('3-4j): (3-4j) Type: <class 'complex'>\n",
      "Value of is_true: True Type: <class 'bool'>\n",
      "Value of s: Hello, world! Type: <class 'str'>\n",
      "Value of list1: [1, 2, 3, 4, 5] Type: <class 'list'> Length: 5\n",
      "Value of tuple1: (1, 2, 3, 4, 5) Type: <class 'tuple'> Length: 5\n",
      "Value of r: range(1, 10) Type: <class 'range'>\n",
      "Value of dict1: {'name': 'John', 'age': 30} Type: <class 'dict'>\n",
      "Value of set1: {1, 2, 3, 4, 5} Type: <class 'set'> Length: 5\n",
      "Value of fs: frozenset({1, 2, 3, 4, 5}) Type: <class 'frozenset'>\n"
     ]
    }
   ],
   "source": [
    "# None Type\n",
    "# None\n",
    "a = None\n",
    "print(\"Value of a:\", a, \"Type:\", type(a))\n",
    "\n",
    "# Numeric Types\n",
    "# Integer\n",
    "x = 10\n",
    "print(\"Value of x:\", x, \"Type:\", type(x))\n",
    "\n",
    "# Float\n",
    "y = 20.5\n",
    "print(\"Value of y:\", y, \"Type:\", type(y))\n",
    "\n",
    "# Complex\n",
    "z = 2 + 1j\n",
    "print(\"Value of z:\", z, \"Type:\", type(z))\n",
    "print(\"Value of complex():\", complex(), \"Type:\", type(complex()))\n",
    "print(\"Value of complex('3-4j):\", complex('3-4j'), \"Type:\", type(complex(complex('3-4j'))))\n",
    "# print(\"Value of complex('5 + 6j'):\", complex('5 + 6j'), \"Type:\", type(complex('5 + 6j'))) # ValueError\n",
    "\n",
    "# Boolean\n",
    "is_true = True\n",
    "print(\"Value of is_true:\", is_true, \"Type:\", type(is_true))\n",
    "\n",
    "# Sequence Types\n",
    "# String (immutable) -> create new string when modified\n",
    "s = \"Hello, world!\"\n",
    "print(\"Value of s:\", s, \"Type:\", type(s))\n",
    "\n",
    "# List \n",
    "list1 = [1, 2, 3, 4, 5]\n",
    "print(\"Value of list1:\", list1, \"Type:\", type(list1), \"Length:\", len(list1))\n",
    "\n",
    "# Tuple (immutable list)\n",
    "tuple1 = (1, 2, 3, 4, 5)\n",
    "print(\"Value of tuple1:\", tuple1, \"Type:\", type(tuple1), \"Length:\", len(tuple1))\n",
    "\n",
    "# Range (immutable list of integers)\n",
    "r = range(1, 10)\n",
    "print(\"Value of r:\", r, \"Type:\", type(r))\n",
    "\n",
    "# Mapping Types\n",
    "# Dictionary \n",
    "dict1 = {\"name\": \"John\", \"age\": 30}\n",
    "print(\"Value of dict1:\", dict1, \"Type:\", type(dict1))\n",
    "\n",
    "# Set \n",
    "set1 = {1, 2, 3, 4, 5}\n",
    "print(\"Value of set1:\", set1, \"Type:\", type(set1), \"Length:\", len(set1))\n",
    "\n",
    "# Frozenset (immutable set)\n",
    "fs = frozenset([1, 2, 3, 4, 5])\n",
    "print(\"Value of fs:\", fs, \"Type:\", type(fs))"
   ]
  },
  {
   "cell_type": "code",
   "execution_count": 11,
   "metadata": {},
   "outputs": [
    {
     "name": "stdout",
     "output_type": "stream",
     "text": [
      "8\n",
      "Hello World\n",
      "2\n",
      "15\n",
      "Hello Hello Hello \n",
      "1.6666666666666667\n",
      "1\n",
      "2\n",
      "125\n",
      "8\n",
      "24\n",
      "4\n",
      "64\n"
     ]
    }
   ],
   "source": [
    "# addition or concatenation\n",
    "a = 5 + 3  # a is 8\n",
    "print(a)\n",
    "b = \"Hello \" + \"World\"  # b is \"Hello World\"\n",
    "print(b)\n",
    "\n",
    "# subtraction\n",
    "a = 5 - 3  # a is 2\n",
    "print(a)\n",
    "\n",
    "# multiplication or repetition\n",
    "a = 5 * 3  # a is 15\n",
    "print(a)\n",
    "b = \"Hello \" * 3  # b is \"Hello Hello Hello \"\n",
    "print(b)\n",
    "\n",
    "# division\n",
    "a = 5 / 3  # a is approximately 1.66667\n",
    "print(a)\n",
    "\n",
    "# floor division\n",
    "a = 5 // 3  # a is 1\n",
    "print(a)\n",
    "\n",
    "# modulus\n",
    "a = 5 % 3  # a is 2\n",
    "print(a)\n",
    "\n",
    "# exponentiation\n",
    "a = 5 ** 3  # a is 125\n",
    "print(a)\n",
    "\n",
    "# compound assignment\n",
    "a = 5\n",
    "a += 3  # a is 8\n",
    "print(a)\n",
    "a*=3  # a is 24\n",
    "print(a)\n",
    "a//=5  # a is 4\n",
    "print(a)\n",
    "a**=3  # a is 64\n",
    "print(a)"
   ]
  },
  {
   "cell_type": "code",
   "execution_count": 17,
   "metadata": {},
   "outputs": [
    {
     "name": "stdout",
     "output_type": "stream",
     "text": [
      "8.0\n",
      "1.6666666666666667\n",
      "(4.666666666666667+4j)\n",
      "(8+10.780000000000001j)\n"
     ]
    }
   ],
   "source": [
    "# Implicit cast between numeric types\n",
    "a = 5\n",
    "b = 3.0\n",
    "c = a + b  # c is 8.0\n",
    "print(c)\n",
    "d = a / b  # d is 1.66667\n",
    "print(d)\n",
    "e = 3 + 4j\n",
    "f = e + d  # f is 4.66667 + 4j\n",
    "print(f)\n",
    "g = 5 + 6.78j\n",
    "h = e + g  # h is 8 + 10.78j\n",
    "print(h)\n"
   ]
  },
  {
   "cell_type": "code",
   "execution_count": 19,
   "metadata": {},
   "outputs": [
    {
     "name": "stdout",
     "output_type": "stream",
     "text": [
      "Tôi18tuổi\n"
     ]
    }
   ],
   "source": [
    "# Other datatype requires explicit cast\n",
    "age = 18\n",
    "print(\"Tôi\" + str(age) + \"tuổi\")"
   ]
  },
  {
   "cell_type": "code",
   "execution_count": 13,
   "metadata": {},
   "outputs": [
    {
     "name": "stdout",
     "output_type": "stream",
     "text": [
      "3 4 5\n",
      "6 7 8\n"
     ]
    }
   ],
   "source": [
    "x, y, z = map(int, input().split()) # default separator is space\n",
    "print(x, y, z)\n",
    "\n",
    "a, b, c = map(int, input().split(',')) # separator is comma\n",
    "print(a, b, c)"
   ]
  },
  {
   "cell_type": "code",
   "execution_count": 2,
   "metadata": {},
   "outputs": [
    {
     "name": "stdout",
     "output_type": "stream",
     "text": [
      "teenager\n"
     ]
    }
   ],
   "source": [
    "age = 15\n",
    "status = ('teenager' if age > 12 and age < 20 else 'not teenager')\n",
    "print(status)"
   ]
  },
  {
   "cell_type": "code",
   "execution_count": 3,
   "metadata": {},
   "outputs": [
    {
     "name": "stdout",
     "output_type": "stream",
     "text": [
      "Bitwise AND: 12\n",
      "Bitwise OR: 61\n",
      "Bitwise XOR: 49\n",
      "Bitwise NOT: -61\n",
      "Bitwise Left Shift: 240\n",
      "Bitwise Right Shift: 15\n"
     ]
    }
   ],
   "source": [
    "# example of bitwise operators\n",
    "a = 60            # 60 = 0011 1100\n",
    "b = 13            # 13 = 0000 1101\n",
    "\n",
    "# Bitwise AND\n",
    "c = a & b        # 12 = 0000 1100\n",
    "print(\"Bitwise AND:\", c)\n",
    "\n",
    "# Bitwise OR\n",
    "c = a | b        # 61 = 0011 1101\n",
    "print(\"Bitwise OR:\", c)\n",
    "\n",
    "# Bitwise XOR (diff = 1, no diff = 0)\n",
    "c = a ^ b        # 49 = 0011 0001\n",
    "print(\"Bitwise XOR:\", c)\n",
    "\n",
    "# Bitwise NOT\n",
    "c = ~a           # -61 = 1100 0011\n",
    "print(\"Bitwise NOT:\", c)\n",
    "\n",
    "# Bitwise Left Shift\n",
    "c = a << 2       # 240 = 1111 0000\n",
    "print(\"Bitwise Left Shift:\", c)\n",
    "\n",
    "# Bitwise Right Shift\n",
    "c = a >> 2       # 15 = 0000 1111\n",
    "print(\"Bitwise Right Shift:\", c)"
   ]
  },
  {
   "cell_type": "code",
   "execution_count": 1,
   "metadata": {},
   "outputs": [
    {
     "name": "stdout",
     "output_type": "stream",
     "text": [
      "200.99999999999997\n"
     ]
    }
   ],
   "source": [
    "x = 2.01\n",
    "print(x*100)"
   ]
  },
  {
   "cell_type": "code",
   "execution_count": 9,
   "metadata": {},
   "outputs": [
    {
     "name": "stdout",
     "output_type": "stream",
     "text": [
      ".\n",
      ".\n",
      ".\n",
      ".\n",
      ".\n"
     ]
    }
   ],
   "source": [
    "for _ in range(0, 10, 2): # range(start, stop, step) just like list slice [start:stop:step], stop is not reached\n",
    "    print('.', end='')\n",
    "    print()"
   ]
  },
  {
   "cell_type": "code",
   "execution_count": 8,
   "metadata": {},
   "outputs": [
    {
     "name": "stdout",
     "output_type": "stream",
     "text": [
      "0  1  2  3  4  5  \n",
      "All iterations successful\n"
     ]
    }
   ],
   "source": [
    "num = int(input('Enter a number to check for: '))\n",
    "for i in range(0, 6):\n",
    "    print(i, ' ', end='')\n",
    "else: # else block is executed when loop is not terminated by break\n",
    "    print()\n",
    "    print('All iterations successful')"
   ]
  },
  {
   "cell_type": "code",
   "execution_count": 12,
   "metadata": {},
   "outputs": [
    {
     "name": "stdout",
     "output_type": "stream",
     "text": [
      "1234\n",
      "56789\n",
      "01234\n",
      "5678\n",
      "\n",
      "9876\n"
     ]
    }
   ],
   "source": [
    "str1 = '0123456789'\n",
    "print(str1[1:5]) # 01234, default step = 1\n",
    "print(str1[5:]) # 56789\n",
    "print(str1[:5]) # 01234\n",
    "print(str1[5:-1]) # 5678\n",
    "print(str1[-1:-5]) # empty string\n",
    "print(str1[-1:-5:-1]) # 9876, step = -1 means reverse"
   ]
  },
  {
   "cell_type": "code",
   "execution_count": 18,
   "metadata": {},
   "outputs": [
    {
     "name": "stdout",
     "output_type": "stream",
     "text": [
      "Tháp mười đẹp nhất bông sen\n",
      " Việt Nam đẹp nhất có tên Bác Hồ\n",
      "Trà năm nay 18 tuổi. Hỏi bạn trai của Trà bao nhiêu tuổi?\n",
      "Trà năm nay 18 tuổi. Hỏi bạn trai của Trà bao nhiêu tuổi?\n",
      "3.14\n",
      "3.14\n",
      "3.14\n"
     ]
    }
   ],
   "source": [
    "print(\"\"\"Tháp mười đẹp nhất bông sen\n",
    " Việt Nam đẹp nhất có tên Bác Hồ\"\"\")\n",
    "\n",
    "name = \"Trà\"\n",
    "age = 18\n",
    "print(f\"{name} năm nay {age} tuổi. Hỏi bạn trai của {name} bao nhiêu tuổi?\")\n",
    "print(\"{0} năm nay {1} tuổi. Hỏi bạn trai của {0} bao nhiêu tuổi?\".format(name, age))\n",
    "x = 3.14159\n",
    "print('%.2f' % x)\n",
    "print(\"{:.2f}\".format(x)) \n",
    "print(f\"{x:.2f}\")"
   ]
  },
  {
   "cell_type": "code",
   "execution_count": 22,
   "metadata": {},
   "outputs": [
    {
     "name": "stdout",
     "output_type": "stream",
     "text": [
      "HELLO WORLD\n",
      "hello world\n",
      "heLLo worLd\n",
      "['hello', 'world']\n",
      "3\n",
      "2\n",
      "97\n",
      "a\n"
     ]
    }
   ],
   "source": [
    "#examples of common string methods\n",
    "s = \"hello world\"\n",
    "print(s.upper())\n",
    "print(s.lower())\n",
    "print(s.replace('l', 'L'))\n",
    "print(s.split(' '))\n",
    "print(s.count('l'))\n",
    "print(s.find('l')) # return index of first occurence, -1 if not found\n",
    "print(ord('a')) # 97\n",
    "print(chr(97)) # a"
   ]
  },
  {
   "cell_type": "code",
   "execution_count": 29,
   "metadata": {},
   "outputs": [
    {
     "name": "stdout",
     "output_type": "stream",
     "text": [
      "[1, 6, 7, 8, 9, 10, 4, 5]\n",
      "[1, 8, 9, 10, 4, 5]\n",
      "['Chôm chôm', 'Nho', 'Lê']\n",
      "['Chôm chôm', 'Nho', 'Lê']\n",
      "['Táo', 'Nho', 'Lê']\n",
      "[1, 9, 25, 49, 81]\n"
     ]
    }
   ],
   "source": [
    "list1 = [1, 2, 3, 4, 5]\n",
    "list1[1:3] = [6, 7, 8, 9, 10] # replace 2, 3 by 6, 7, 8\n",
    "print(list1)\n",
    "del list1[1:3] # delete 6, 7\n",
    "print(list1)\n",
    "\n",
    "fruits = [\"Táo\", \"Nho\", \"Lê\"]\n",
    "fruits_copy = fruits\n",
    "fruits_clone = fruits[:] \n",
    "fruits_copy[0] = \"Chôm chôm\"\n",
    "print(fruits)           \n",
    "print(fruits_copy) \n",
    "print(fruits_clone)\n",
    "\n",
    "odd_square = [x ** 2 for x in range(1, 11) if x % 2 == 1]\n",
    "print (odd_square)"
   ]
  },
  {
   "cell_type": "code",
   "execution_count": 36,
   "metadata": {},
   "outputs": [
    {
     "name": "stdout",
     "output_type": "stream",
     "text": [
      "101\n",
      "101\n",
      "inner: nonlocal\n",
      "outer: nonlocal\n"
     ]
    }
   ],
   "source": [
    "max = 100\n",
    "def print_max():\n",
    "    global max\n",
    "    max = max + 1\n",
    "    print(max)\n",
    "print_max()\n",
    "print(max)\n",
    "\n",
    "def outer():\n",
    "    x = \"local\"\n",
    "    \n",
    "    def inner():\n",
    "        nonlocal x\n",
    "        x = \"nonlocal\"\n",
    "        print(\"inner:\", x)\n",
    "    \n",
    "    inner()\n",
    "    print(\"outer:\", x)\n",
    "\n",
    "outer()"
   ]
  },
  {
   "cell_type": "code",
   "execution_count": 1,
   "metadata": {},
   "outputs": [
    {
     "ename": "SyntaxError",
     "evalue": "invalid decimal literal (3382225073.py, line 3)",
     "output_type": "error",
     "traceback": [
      "\u001b[1;36m  Cell \u001b[1;32mIn[1], line 3\u001b[1;36m\u001b[0m\n\u001b[1;33m    1a = 13\u001b[0m\n\u001b[1;37m    ^\u001b[0m\n\u001b[1;31mSyntaxError\u001b[0m\u001b[1;31m:\u001b[0m invalid decimal literal\n"
     ]
    }
   ],
   "source": [
    "_abc = 12\n",
    "print(_abc)\n",
    "1a = 13 # count 1a as a number -> error\n",
    "print(1a)"
   ]
  },
  {
   "cell_type": "code",
   "execution_count": 3,
   "metadata": {},
   "outputs": [
    {
     "name": "stdout",
     "output_type": "stream",
     "text": [
      "1*2*3*4 END\n"
     ]
    }
   ],
   "source": [
    "import sys\n",
    "\n",
    "print(1, 2, 3, 4, sep='*', end=' END\\n', file=sys.stdout, flush=True)\n",
    "# change sys.stdout to file object to write to file"
   ]
  },
  {
   "cell_type": "code",
   "execution_count": 6,
   "metadata": {},
   "outputs": [
    {
     "name": "stdout",
     "output_type": "stream",
     "text": [
      "[2, 3, 4]\n"
     ]
    }
   ],
   "source": [
    "numbers = [2, 3, 4]\n",
    "print(numbers)"
   ]
  },
  {
   "cell_type": "code",
   "execution_count": 8,
   "metadata": {},
   "outputs": [
    {
     "ename": "TypeError",
     "evalue": "'float' object cannot be interpreted as an integer",
     "output_type": "error",
     "traceback": [
      "\u001b[1;31m---------------------------------------------------------------------------\u001b[0m",
      "\u001b[1;31mTypeError\u001b[0m                                 Traceback (most recent call last)",
      "Cell \u001b[1;32mIn[8], line 1\u001b[0m\n\u001b[1;32m----> 1\u001b[0m \u001b[38;5;28;01mfor\u001b[39;00m x \u001b[38;5;129;01min\u001b[39;00m \u001b[38;5;28;43mrange\u001b[39;49m\u001b[43m(\u001b[49m\u001b[38;5;241;43m0.5\u001b[39;49m\u001b[43m,\u001b[49m\u001b[43m \u001b[49m\u001b[38;5;241;43m5.5\u001b[39;49m\u001b[43m,\u001b[49m\u001b[43m \u001b[49m\u001b[38;5;241;43m0.5\u001b[39;49m\u001b[43m)\u001b[49m:\n\u001b[0;32m      2\u001b[0m     \u001b[38;5;28mprint\u001b[39m(x)\n",
      "\u001b[1;31mTypeError\u001b[0m: 'float' object cannot be interpreted as an integer"
     ]
    }
   ],
   "source": [
    "for x in range(0.5, 5.5, 0.5): # only range of integers\n",
    "    print(x)"
   ]
  },
  {
   "cell_type": "code",
   "execution_count": 9,
   "metadata": {},
   "outputs": [
    {
     "ename": "TypeError",
     "evalue": "list.append() takes exactly one argument (2 given)",
     "output_type": "error",
     "traceback": [
      "\u001b[1;31m---------------------------------------------------------------------------\u001b[0m",
      "\u001b[1;31mTypeError\u001b[0m                                 Traceback (most recent call last)",
      "Cell \u001b[1;32mIn[9], line 2\u001b[0m\n\u001b[0;32m      1\u001b[0m sampleList \u001b[38;5;241m=\u001b[39m [\u001b[38;5;124m\"\u001b[39m\u001b[38;5;124mJon\u001b[39m\u001b[38;5;124m\"\u001b[39m, \u001b[38;5;124m\"\u001b[39m\u001b[38;5;124mKelly\u001b[39m\u001b[38;5;124m\"\u001b[39m, \u001b[38;5;124m\"\u001b[39m\u001b[38;5;124mJessa\u001b[39m\u001b[38;5;124m\"\u001b[39m]\n\u001b[1;32m----> 2\u001b[0m \u001b[43msampleList\u001b[49m\u001b[38;5;241;43m.\u001b[39;49m\u001b[43mappend\u001b[49m\u001b[43m(\u001b[49m\u001b[38;5;241;43m2\u001b[39;49m\u001b[43m,\u001b[49m\u001b[43m \u001b[49m\u001b[38;5;124;43m\"\u001b[39;49m\u001b[38;5;124;43mScott\u001b[39;49m\u001b[38;5;124;43m\"\u001b[39;49m\u001b[43m)\u001b[49m\n\u001b[0;32m      3\u001b[0m \u001b[38;5;28mprint\u001b[39m(sampleList)\n",
      "\u001b[1;31mTypeError\u001b[0m: list.append() takes exactly one argument (2 given)"
     ]
    }
   ],
   "source": [
    "sampleList = [\"Jon\", \"Kelly\", \"Jessa\"]\n",
    "sampleList.append(2, \"Scott\") # append takes only one argument\n",
    "print(sampleList)"
   ]
  },
  {
   "cell_type": "code",
   "execution_count": 12,
   "metadata": {},
   "outputs": [
    {
     "name": "stdout",
     "output_type": "stream",
     "text": [
      "True\n",
      "False\n"
     ]
    }
   ],
   "source": [
    "listOne = [20, 40, 60, 80]\n",
    "listTwo = [20, 40, 60, 80]\n",
    "\n",
    "print(listOne == listTwo)\n",
    "print(listOne is listTwo)"
   ]
  },
  {
   "cell_type": "code",
   "execution_count": 14,
   "metadata": {},
   "outputs": [
    {
     "name": "stdout",
     "output_type": "stream",
     "text": [
      "Hello\n"
     ]
    }
   ],
   "source": [
    "def printHello():\n",
    "    print(\"Hello\") \n",
    "    \n",
    "a = printHello()\n",
    "# print(a)"
   ]
  },
  {
   "cell_type": "code",
   "execution_count": 17,
   "metadata": {},
   "outputs": [
    {
     "name": "stdout",
     "output_type": "stream",
     "text": [
      "2 3 white\n"
     ]
    }
   ],
   "source": [
    "class Point:\n",
    "    def __init__(self, x = 0, y = 0):\n",
    "        self.x = x+1\n",
    "        self.y = y+1\n",
    "\n",
    "class ColorPoint(Point): # subclass of Point\n",
    "    def __init__(self, x = 0, y = 0, color = \"black\"):\n",
    "        super().__init__(x, y)\n",
    "        self.color = color\n",
    "\n",
    "cp = ColorPoint(1, 2, 'white')\n",
    "print(cp.x, cp.y, cp.color)"
   ]
  },
  {
   "cell_type": "code",
   "execution_count": null,
   "metadata": {},
   "outputs": [],
   "source": [
    "class Foo:\n",
    "    pass # use pass to create an empty class without error\n",
    "class Hoo(Foo): # class Hoo inherits from class Foo\n",
    "    pass # use pass to create an empty class without error"
   ]
  },
  {
   "cell_type": "code",
   "execution_count": 22,
   "metadata": {},
   "outputs": [
    {
     "name": "stdout",
     "output_type": "stream",
     "text": [
      "45\n",
      "45\n"
     ]
    }
   ],
   "source": [
    "class A:\n",
    "    def __init__(self):\n",
    "        self.a = 1\n",
    "        self._b = 1\n",
    "    def getB(self):\n",
    "        return self._b\n",
    "\n",
    "obj = A()\n",
    "obj.a = 45\n",
    "obj._b = 45\n",
    "print(obj.a)\n",
    "print(obj._b)"
   ]
  },
  {
   "cell_type": "code",
   "execution_count": 18,
   "metadata": {},
   "outputs": [
    {
     "name": "stdout",
     "output_type": "stream",
     "text": [
      "Divided by zero!\n",
      "This is always executed.\n"
     ]
    }
   ],
   "source": [
    "try:\n",
    "    # some code that might raise an exception\n",
    "    x = 1 / 0\n",
    "except ZeroDivisionError:\n",
    "    print(\"Divided by zero!\")\n",
    "finally:\n",
    "    print(\"This is always executed.\")"
   ]
  },
  {
   "cell_type": "code",
   "execution_count": null,
   "metadata": {},
   "outputs": [],
   "source": [
    "with open('myfile.txt', 'a') as f: # 'a' is for append - write only, \"with\" has exception handling\n",
    "    f.read()\n",
    "    f.write('Hello, World!\\n')"
   ]
  },
  {
   "cell_type": "code",
   "execution_count": 27,
   "metadata": {},
   "outputs": [
    {
     "data": {
      "text/plain": [
       "['CK-practice.ipynb']"
      ]
     },
     "execution_count": 27,
     "metadata": {},
     "output_type": "execute_result"
    }
   ],
   "source": [
    "import os\n",
    "os.listdir() # list all files and folders in the current directory, not child directories"
   ]
  },
  {
   "cell_type": "markdown",
   "metadata": {},
   "source": [
    "In Python, the open function can be used with several modes:\n",
    "\n",
    "- 'r': Read - Default - If not exist ->FileNotFoundError\n",
    "- 'w': Write - If file exists, all existing data will be deleted - Create if not exist\n",
    "- 'a': Append - Write to the end of the file without deleting any existing data - Create if not exist\n",
    "- 'x': Exclusive creation mode - Allows you to create a new file - If file already exists, opening it in this mode will raise a FileExistsError.\n",
    "- 'b': Binary - Allows you to read/write binary data\n",
    "- 't': Text - Default - Allows you to read/write string data."
   ]
  },
  {
   "cell_type": "code",
   "execution_count": 31,
   "metadata": {},
   "outputs": [
    {
     "name": "stdout",
     "output_type": "stream",
     "text": [
      "Hello\n"
     ]
    }
   ],
   "source": [
    "def printHello():\n",
    "    print(\"Hello\")\n",
    "a = printHello()"
   ]
  },
  {
   "cell_type": "code",
   "execution_count": 32,
   "metadata": {},
   "outputs": [
    {
     "name": "stdout",
     "output_type": "stream",
     "text": [
      "a = None\n",
      "a = 20\n"
     ]
    }
   ],
   "source": [
    "def outerFunction(): #12\n",
    "    global a\n",
    "    a = 20\n",
    "def innerFunction():\n",
    "    global a\n",
    "    a = 30\n",
    "print('a =', a)\n",
    "a = 10\n",
    "outerFunction()\n",
    "print('a =', a)"
   ]
  },
  {
   "cell_type": "code",
   "execution_count": 35,
   "metadata": {},
   "outputs": [
    {
     "data": {
      "text/plain": [
       "'sa;sadhf sdj'"
      ]
     },
     "execution_count": 35,
     "metadata": {},
     "output_type": "execute_result"
    }
   ],
   "source": [
    "f = open('test.txt', 'r', encoding = 'utf-8')\n",
    "f.read(12)"
   ]
  },
  {
   "cell_type": "markdown",
   "metadata": {},
   "source": [
    "- Exception is error occured in runtime (Runtime Error)\n",
    "- So, RuntimeError is a type of exception that is raised when an error is detected that doesn’t fall in any of the other categories."
   ]
  },
  {
   "cell_type": "code",
   "execution_count": 38,
   "metadata": {},
   "outputs": [
    {
     "name": "stdout",
     "output_type": "stream",
     "text": [
      "1\n"
     ]
    }
   ],
   "source": [
    "myList = [1, 5, 5, 5, 5, 1]\n",
    "max = myList[0]\n",
    "indexOfMax = 0\n",
    "for i in range(1, len(myList)):\n",
    "    if myList[i] > max: \n",
    "        max = myList[i]\n",
    "        indexOfMax = i\n",
    "print(indexOfMax)"
   ]
  },
  {
   "cell_type": "code",
   "execution_count": 39,
   "metadata": {},
   "outputs": [
    {
     "name": "stdout",
     "output_type": "stream",
     "text": [
      "50\n"
     ]
    }
   ],
   "source": [
    "x = 100\n",
    "y = 50\n",
    "z = 69\n",
    "print(x and z and y)"
   ]
  },
  {
   "cell_type": "code",
   "execution_count": null,
   "metadata": {},
   "outputs": [],
   "source": [
    "for i in range(10):\n",
    "    if i == 5:\n",
    "        break\n",
    "    else:\n",
    "        print(i)\n",
    "print(\"Here\")\n"
   ]
  },
  {
   "cell_type": "code",
   "execution_count": 41,
   "metadata": {},
   "outputs": [
    {
     "name": "stdout",
     "output_type": "stream",
     "text": [
      "m, y,  , n, a, m, e,  , i, s,  , x, "
     ]
    }
   ],
   "source": [
    "string = \"my name is x\"\n",
    "for i in string:\n",
    "    print (i, end=\", \")"
   ]
  },
  {
   "cell_type": "code",
   "execution_count": 42,
   "metadata": {},
   "outputs": [
    {
     "name": "stdout",
     "output_type": "stream",
     "text": [
      "5\n"
     ]
    }
   ],
   "source": [
    "i = 0\n",
    "x = 0 \n",
    "while i < 10:\n",
    "    if i % 2 == 0:\n",
    "        x += 1\n",
    "    i += 1\n",
    "print(x)"
   ]
  },
  {
   "cell_type": "code",
   "execution_count": null,
   "metadata": {},
   "outputs": [],
   "source": [
    "def f(value): \n",
    "    while True:\n",
    "        value = (yield value)\n",
    "\n",
    "a = f(10)\n",
    "print(next(a))\n",
    "print(next(a))\n",
    "print(a.send(20))"
   ]
  },
  {
   "cell_type": "code",
   "execution_count": 43,
   "metadata": {},
   "outputs": [
    {
     "name": "stdout",
     "output_type": "stream",
     "text": [
      "4\n"
     ]
    }
   ],
   "source": [
    "x = 1\n",
    "y = \"2\"\n",
    "z = 3\n",
    "sum = 0\n",
    "for i in (x, y, z):\n",
    "    if isinstance(i, int):\n",
    "        sum += i\n",
    "print(sum)"
   ]
  },
  {
   "cell_type": "code",
   "execution_count": 47,
   "metadata": {},
   "outputs": [
    {
     "name": "stdout",
     "output_type": "stream",
     "text": [
      "5\n",
      "4.58\n",
      "4.576\n"
     ]
    }
   ],
   "source": [
    "print(round(4.576))\n",
    "print(round(4.576, 2))\n",
    "print(round(4.576, 3))"
   ]
  },
  {
   "cell_type": "code",
   "execution_count": 48,
   "metadata": {},
   "outputs": [
    {
     "data": {
      "text/plain": [
       "0"
      ]
     },
     "execution_count": 48,
     "metadata": {},
     "output_type": "execute_result"
    }
   ],
   "source": [
    "pow(2, 3, 4)"
   ]
  },
  {
   "cell_type": "code",
   "execution_count": 51,
   "metadata": {},
   "outputs": [
    {
     "name": "stdout",
     "output_type": "stream",
     "text": [
      "False\n"
     ]
    },
    {
     "ename": "TypeError",
     "evalue": "all() takes exactly one argument (3 given)",
     "output_type": "error",
     "traceback": [
      "\u001b[1;31m---------------------------------------------------------------------------\u001b[0m",
      "\u001b[1;31mTypeError\u001b[0m                                 Traceback (most recent call last)",
      "Cell \u001b[1;32mIn[51], line 2\u001b[0m\n\u001b[0;32m      1\u001b[0m \u001b[38;5;28mprint\u001b[39m(\u001b[38;5;28mall\u001b[39m([\u001b[38;5;241m2\u001b[39m,\u001b[38;5;241m4\u001b[39m,\u001b[38;5;241m0\u001b[39m,\u001b[38;5;241m6\u001b[39m]))\n\u001b[1;32m----> 2\u001b[0m \u001b[38;5;28mprint\u001b[39m(\u001b[38;5;28;43mall\u001b[39;49m\u001b[43m(\u001b[49m\u001b[38;5;241;43m3\u001b[39;49m\u001b[43m,\u001b[49m\u001b[38;5;241;43m0\u001b[39;49m\u001b[43m,\u001b[49m\u001b[38;5;241;43m4.2\u001b[39;49m\u001b[43m)\u001b[49m)\n\u001b[0;32m      3\u001b[0m \u001b[38;5;28mprint\u001b[39m(\u001b[38;5;28many\u001b[39m([\u001b[38;5;241m2\u001b[39m\u001b[38;5;241m>\u001b[39m\u001b[38;5;241m8\u001b[39m, \u001b[38;5;241m4\u001b[39m\u001b[38;5;241m>\u001b[39m\u001b[38;5;241m2\u001b[39m, \u001b[38;5;241m1\u001b[39m\u001b[38;5;241m>\u001b[39m\u001b[38;5;241m2\u001b[39m]))\n",
      "\u001b[1;31mTypeError\u001b[0m: all() takes exactly one argument (3 given)"
     ]
    }
   ],
   "source": [
    "print(all([2,4,0,6]))\n",
    "print(any([2>8, 4>2, 1>2]))"
   ]
  },
  {
   "cell_type": "code",
   "execution_count": null,
   "metadata": {},
   "outputs": [],
   "source": [
    "print(all(3,0,4.2))"
   ]
  },
  {
   "cell_type": "code",
   "execution_count": null,
   "metadata": {},
   "outputs": [],
   "source": [
    "sum(2,4,6)\n",
    "sum([1,2,3])"
   ]
  },
  {
   "cell_type": "code",
   "execution_count": 52,
   "metadata": {},
   "outputs": [
    {
     "ename": "TypeError",
     "evalue": "'int' object is not callable",
     "output_type": "error",
     "traceback": [
      "\u001b[1;31m---------------------------------------------------------------------------\u001b[0m",
      "\u001b[1;31mTypeError\u001b[0m                                 Traceback (most recent call last)",
      "Cell \u001b[1;32mIn[52], line 1\u001b[0m\n\u001b[1;32m----> 1\u001b[0m \u001b[38;5;28mmin\u001b[39m(\u001b[38;5;28;43mmax\u001b[39;49m\u001b[43m(\u001b[49m\u001b[38;5;28;43;01mFalse\u001b[39;49;00m\u001b[43m,\u001b[49m\u001b[38;5;241;43m-\u001b[39;49m\u001b[38;5;241;43m3\u001b[39;49m\u001b[43m,\u001b[49m\u001b[38;5;241;43m-\u001b[39;49m\u001b[38;5;241;43m4\u001b[39;49m\u001b[43m)\u001b[49m, \u001b[38;5;241m2\u001b[39m,\u001b[38;5;241m7\u001b[39m)\n",
      "\u001b[1;31mTypeError\u001b[0m: 'int' object is not callable"
     ]
    }
   ],
   "source": [
    "min(max(False,-3,-4), 2,7)"
   ]
  },
  {
   "cell_type": "code",
   "execution_count": 53,
   "metadata": {},
   "outputs": [
    {
     "data": {
      "text/plain": [
       "0j"
      ]
     },
     "execution_count": 53,
     "metadata": {},
     "output_type": "execute_result"
    }
   ],
   "source": [
    "complex()\n",
    "complex(‘2-3j’) là hợp lệ còn complex(‘2 – 3j’) sai cú pháp"
   ]
  },
  {
   "cell_type": "code",
   "execution_count": 54,
   "metadata": {},
   "outputs": [
    {
     "data": {
      "text/plain": [
       "(1, 2)"
      ]
     },
     "execution_count": 54,
     "metadata": {},
     "output_type": "execute_result"
    }
   ],
   "source": [
    "divmod(5,3)\n",
    "divmod(10.5,5)\n",
    "divmod(2.4,1.2)"
   ]
  },
  {
   "cell_type": "code",
   "execution_count": null,
   "metadata": {},
   "outputs": [],
   "source": [
    "list(enumerate([2, 3]))"
   ]
  },
  {
   "cell_type": "code",
   "execution_count": 55,
   "metadata": {},
   "outputs": [
    {
     "data": {
      "text/plain": [
       "[4, 3, 2]"
      ]
     },
     "execution_count": 55,
     "metadata": {},
     "output_type": "execute_result"
    }
   ],
   "source": [
    "list(reversed([2, 3, 4]))"
   ]
  },
  {
   "cell_type": "code",
   "execution_count": 56,
   "metadata": {},
   "outputs": [
    {
     "data": {
      "text/plain": [
       "-12345.0"
      ]
     },
     "execution_count": 56,
     "metadata": {},
     "output_type": "execute_result"
    }
   ],
   "source": [
    "float(' -12345\\n')\n",
    "float('-infinity')\n",
    "float('inf')"
   ]
  },
  {
   "cell_type": "code",
   "execution_count": 58,
   "metadata": {},
   "outputs": [
    {
     "ename": "TypeError",
     "evalue": "ord() expected string of length 1, but int found",
     "output_type": "error",
     "traceback": [
      "\u001b[1;31m---------------------------------------------------------------------------\u001b[0m",
      "\u001b[1;31mTypeError\u001b[0m                                 Traceback (most recent call last)",
      "Cell \u001b[1;32mIn[58], line 1\u001b[0m\n\u001b[1;32m----> 1\u001b[0m \u001b[38;5;28;43mord\u001b[39;49m\u001b[43m(\u001b[49m\u001b[38;5;241;43m65\u001b[39;49m\u001b[43m)\u001b[49m\n\u001b[0;32m      2\u001b[0m \u001b[38;5;28mord\u001b[39m(\u001b[38;5;124m'\u001b[39m\u001b[38;5;124mA\u001b[39m\u001b[38;5;124m'\u001b[39m)\n",
      "\u001b[1;31mTypeError\u001b[0m: ord() expected string of length 1, but int found"
     ]
    }
   ],
   "source": [
    "ord(65)\n",
    "ord('A')"
   ]
  },
  {
   "cell_type": "code",
   "execution_count": 59,
   "metadata": {},
   "outputs": [
    {
     "data": {
      "text/plain": [
       "'0xf'"
      ]
     },
     "execution_count": 59,
     "metadata": {},
     "output_type": "execute_result"
    }
   ],
   "source": [
    "hex(15)"
   ]
  },
  {
   "cell_type": "code",
   "execution_count": null,
   "metadata": {},
   "outputs": [],
   "source": [
    "oct(7)\n",
    "oct('7')"
   ]
  },
  {
   "cell_type": "code",
   "execution_count": 61,
   "metadata": {},
   "outputs": [
    {
     "name": "stdout",
     "output_type": "stream",
     "text": [
      "Giá trị của x được thay đổi thành 50\n",
      "Giá trị của x là 50\n",
      "Giá trị hiện tại của x là 50\n"
     ]
    }
   ],
   "source": [
    "x = 50\n",
    "def func(x):\n",
    "    print('Giá trị của x là', x)\n",
    "    x = 2\n",
    "print('Giá trị của x được thay đổi thành', x)\n",
    "func(x)\n",
    "print('Giá trị hiện tại của x là', x)"
   ]
  },
  {
   "cell_type": "code",
   "execution_count": 64,
   "metadata": {},
   "outputs": [
    {
     "name": "stdout",
     "output_type": "stream",
     "text": [
      "Giá trị của x được thay đổi thành 50\n",
      "Giá trị của x là 50\n",
      "Giá trị hiện tại của x là 2\n"
     ]
    }
   ],
   "source": [
    "x = 50\n",
    "def func():\n",
    "    global x\n",
    "    print('Giá trị của x là', x)\n",
    "    x = 2\n",
    "print('Giá trị của x được thay đổi thành', x)\n",
    "func()\n",
    "print('Giá trị hiện tại của x là', x)"
   ]
  },
  {
   "cell_type": "code",
   "execution_count": null,
   "metadata": {},
   "outputs": [],
   "source": [
    "# python docstring\n",
    "def add_numbers(a, b):\n",
    "    \"\"\"\n",
    "    This function adds two numbers and returns the result.\n",
    "\n",
    "    Parameters:\n",
    "    a (int): The first number\n",
    "    b (int): The second number\n",
    "\n",
    "    Returns:\n",
    "    int: The sum of a and b\n",
    "    \"\"\"\n",
    "    return a + b"
   ]
  },
  {
   "cell_type": "code",
   "execution_count": 68,
   "metadata": {},
   "outputs": [
    {
     "data": {
      "text/plain": [
       "str"
      ]
     },
     "execution_count": 68,
     "metadata": {},
     "output_type": "execute_result"
    }
   ],
   "source": [
    "L = \"[5:2,10:[1,2]\"\n",
    "type(L)"
   ]
  },
  {
   "cell_type": "markdown",
   "metadata": {},
   "source": [
    "# Logger"
   ]
  },
  {
   "cell_type": "code",
   "execution_count": null,
   "metadata": {},
   "outputs": [],
   "source": [
    "import logging\n",
    "logging.basicConfig(format='%(asctime)s %(message)s',\n",
    "level=logging.DEBUG)\n",
    "logger = logging.getLogger(__name__)\n",
    "\n",
    "logger.debug('This is to help with debugging') \n",
    "logger.info('This is just for information') \n",
    "logger.warning('This is a warning!') \n",
    "logger.error('This should be used with something unexpected') \n",
    "logger.critical('Something serious') "
   ]
  },
  {
   "cell_type": "markdown",
   "metadata": {},
   "source": [
    "# Numpy"
   ]
  },
  {
   "cell_type": "code",
   "execution_count": 40,
   "metadata": {},
   "outputs": [
    {
     "name": "stdout",
     "output_type": "stream",
     "text": [
      "3x3 matrix:\n",
      " [[1 2 3]\n",
      " [4 5 6]\n",
      " [7 8 9]]\n",
      "[[2 3]\n",
      " [5 6]]\n"
     ]
    }
   ],
   "source": [
    "import numpy as np\n",
    "\n",
    "# 3x3 matrix\n",
    "arr = np.array([[1, 2, 3], [4, 5, 6], [7, 8, 9]])\n",
    "print(\"3x3 matrix:\\n\", arr)\n",
    "\n",
    "print(arr[:2, 1:]) # arr[row, column]"
   ]
  }
 ],
 "metadata": {
  "kernelspec": {
   "display_name": "Python 3",
   "language": "python",
   "name": "python3"
  },
  "language_info": {
   "codemirror_mode": {
    "name": "ipython",
    "version": 3
   },
   "file_extension": ".py",
   "mimetype": "text/x-python",
   "name": "python",
   "nbconvert_exporter": "python",
   "pygments_lexer": "ipython3",
   "version": "3.11.1"
  }
 },
 "nbformat": 4,
 "nbformat_minor": 2
}
