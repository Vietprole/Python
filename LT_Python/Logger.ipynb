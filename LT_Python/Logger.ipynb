{
 "cells": [
  {
   "cell_type": "code",
   "execution_count": 1,
   "metadata": {},
   "outputs": [
    {
     "name": "stderr",
     "output_type": "stream",
     "text": [
      "This should be used with something unexpected\n"
     ]
    }
   ],
   "source": [
    "import logging\n",
    "logger = logging.getLogger()\n",
    "logger.error('This should be used with something unexpected')"
   ]
  },
  {
   "cell_type": "code",
   "execution_count": 3,
   "metadata": {},
   "outputs": [
    {
     "name": "stderr",
     "output_type": "stream",
     "text": [
      "This is a warning!\n",
      "This should be used with something unexpected\n",
      "Something serious\n"
     ]
    }
   ],
   "source": [
    "import logging\n",
    "logger = logging.getLogger()\n",
    "logger.debug('This is to help with debugging') \n",
    "logger.info('This is just for information') \n",
    "logger.warning('This is a warning!') \n",
    "logger.error('This should be used with something unexpected') \n",
    "logger.critical('Something serious')"
   ]
  },
  {
   "cell_type": "code",
   "execution_count": 5,
   "metadata": {},
   "outputs": [
    {
     "name": "stderr",
     "output_type": "stream",
     "text": [
      "an exception message\n",
      "Traceback (most recent call last):\n",
      "  File \"C:\\Users\\OS\\AppData\\Local\\Temp\\ipykernel_3128\\3757440834.py\", line 5, in <module>\n",
      "    x = 1 / 0\n",
      "        ~~^~~\n",
      "ZeroDivisionError: division by zero\n"
     ]
    },
    {
     "name": "stdout",
     "output_type": "stream",
     "text": [
      "starting\n",
      "Done\n"
     ]
    }
   ],
   "source": [
    "import logging\n",
    "logger = logging.getLogger()\n",
    "try:\n",
    "    print('starting')\n",
    "    x = 1 / 0\n",
    "    print(x)\n",
    "except:\n",
    "    logger.exception('an exception message')\n",
    "print('Done')\n"
   ]
  },
  {
   "cell_type": "code",
   "execution_count": 6,
   "metadata": {},
   "outputs": [
    {
     "name": "stdout",
     "output_type": "stream",
     "text": [
      "Root logger: <RootLogger root (WARNING)>\n",
      "Named logger: <Logger my logger (WARNING)>\n",
      "Module logger: <Logger __main__ (WARNING)>\n"
     ]
    }
   ],
   "source": [
    "logger = logging.getLogger()\n",
    "print('Root logger:', logger)\n",
    "logger1 = logging.getLogger('my logger')\n",
    "print('Named logger:', logger1)\n",
    "logger2 = logging.getLogger(__name__)\n",
    "print('Module logger:', logger2)"
   ]
  },
  {
   "cell_type": "code",
   "execution_count": 8,
   "metadata": {},
   "outputs": [
    {
     "name": "stderr",
     "output_type": "stream",
     "text": [
      "2024-03-11 07:39:39,619 This is to help with debugging\n",
      "2024-03-11 07:39:39,619 This is just for information\n",
      "2024-03-11 07:39:39,619 This is a warning!\n",
      "2024-03-11 07:39:39,619 This should be used with something unexpected\n",
      "2024-03-11 07:39:39,619 Something serious\n"
     ]
    }
   ],
   "source": [
    "import logging\n",
    "logging.basicConfig(format='%(asctime)s %(message)s',\n",
    "level=logging.DEBUG)\n",
    "logger = logging.getLogger(__name__)\n",
    "\n",
    "def do_something():\n",
    "    logger.debug('This is to help with debugging') \n",
    "    logger.info('This is just for information') \n",
    "    logger.warning('This is a warning!') \n",
    "    logger.error('This should be used with something unexpected') \n",
    "    logger.critical('Something serious')\n",
    "do_something()"
   ]
  }
 ],
 "metadata": {
  "kernelspec": {
   "display_name": "Python 3",
   "language": "python",
   "name": "python3"
  },
  "language_info": {
   "codemirror_mode": {
    "name": "ipython",
    "version": 3
   },
   "file_extension": ".py",
   "mimetype": "text/x-python",
   "name": "python",
   "nbconvert_exporter": "python",
   "pygments_lexer": "ipython3",
   "version": "3.11.1"
  }
 },
 "nbformat": 4,
 "nbformat_minor": 2
}
